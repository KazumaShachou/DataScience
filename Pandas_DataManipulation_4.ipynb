{
  "nbformat": 4,
  "nbformat_minor": 0,
  "metadata": {
    "colab": {
      "name": "Pandas_DataManipulation_4.ipynb",
      "provenance": [],
      "collapsed_sections": [],
      "authorship_tag": "ABX9TyMptyYAGzF6XpXD7ZVv39nS",
      "include_colab_link": true
    },
    "kernelspec": {
      "name": "python3",
      "display_name": "Python 3"
    }
  },
  "cells": [
    {
      "cell_type": "markdown",
      "metadata": {
        "id": "view-in-github",
        "colab_type": "text"
      },
      "source": [
        "<a href=\"https://colab.research.google.com/github/KazumaShachou/DataScience/blob/master/Pandas_DataManipulation_4.ipynb\" target=\"_parent\"><img src=\"https://colab.research.google.com/assets/colab-badge.svg\" alt=\"Open In Colab\"/></a>"
      ]
    },
    {
      "cell_type": "markdown",
      "metadata": {
        "id": "lmO3Gfbhlw-0"
      },
      "source": [
        "##Vectorized String Operations"
      ]
    },
    {
      "cell_type": "code",
      "metadata": {
        "id": "6H-66WuwlB2u"
      },
      "source": [
        "import pandas as pd\n",
        "import numpy as np"
      ],
      "execution_count": 2,
      "outputs": []
    },
    {
      "cell_type": "code",
      "metadata": {
        "id": "04o8WkfapD-e",
        "outputId": "a1b87e98-848e-4e9d-fc5d-62fde50b17dc",
        "colab": {
          "base_uri": "https://localhost:8080/",
          "height": 35
        }
      },
      "source": [
        "x = np.array([2, 5, 6, 7, 3, 12])\n",
        "x * 2"
      ],
      "execution_count": 3,
      "outputs": [
        {
          "output_type": "execute_result",
          "data": {
            "text/plain": [
              "array([ 4, 10, 12, 14,  6, 24])"
            ]
          },
          "metadata": {
            "tags": []
          },
          "execution_count": 3
        }
      ]
    },
    {
      "cell_type": "code",
      "metadata": {
        "id": "m8HjaRdvpSVo",
        "outputId": "6495887e-846d-459f-d5e6-8c6cc29360e3",
        "colab": {
          "base_uri": "https://localhost:8080/",
          "height": 35
        }
      },
      "source": [
        "#vectorization , it' works\n",
        "data = ['Pekora', 'Watame', 'Rushia', 'Okayuu']\n",
        "[s.capitalize() for s  in data]"
      ],
      "execution_count": 5,
      "outputs": [
        {
          "output_type": "execute_result",
          "data": {
            "text/plain": [
              "['Pekora', 'Watame', 'Rushia', 'Okayuu']"
            ]
          },
          "metadata": {
            "tags": []
          },
          "execution_count": 5
        }
      ]
    },
    {
      "cell_type": "code",
      "metadata": {
        "id": "Ic4YnEAkrsGK"
      },
      "source": [
        "#but in this case not work\n",
        "data = ['Pekora','Watame',None , 'Rushia', 'Okayuu']\n",
        "[s.capitalize() for s in data]\n",
        "#this work just if I use the command  \"data\" "
      ],
      "execution_count": null,
      "outputs": []
    },
    {
      "cell_type": "code",
      "metadata": {
        "id": "wbOaZoU2vJAj",
        "outputId": "f25efec2-f4ca-4b57-c575-da15cc90a8d8",
        "colab": {
          "base_uri": "https://localhost:8080/",
          "height": 126
        }
      },
      "source": [
        "#use pandas \n",
        "names =   pd.Series(data)\n",
        "names"
      ],
      "execution_count": 10,
      "outputs": [
        {
          "output_type": "execute_result",
          "data": {
            "text/plain": [
              "0    Pekora\n",
              "1    Watame\n",
              "2      None\n",
              "3    Rushia\n",
              "4    Okayuu\n",
              "dtype: object"
            ]
          },
          "metadata": {
            "tags": []
          },
          "execution_count": 10
        }
      ]
    },
    {
      "cell_type": "code",
      "metadata": {
        "id": "CJouTz9Cvfmr",
        "outputId": "e20bbd7d-7ce4-4be1-c1b8-b8da4eaf2f8d",
        "colab": {
          "base_uri": "https://localhost:8080/",
          "height": 126
        }
      },
      "source": [
        "names.str.capitalize()"
      ],
      "execution_count": 11,
      "outputs": [
        {
          "output_type": "execute_result",
          "data": {
            "text/plain": [
              "0    Pekora\n",
              "1    Watame\n",
              "2      None\n",
              "3    Rushia\n",
              "4    Okayuu\n",
              "dtype: object"
            ]
          },
          "metadata": {
            "tags": []
          },
          "execution_count": 11
        }
      ]
    },
    {
      "cell_type": "code",
      "metadata": {
        "id": "6o-BnLTuvze5",
        "outputId": "f9f64c96-7103-47de-9d86-081f0b49fe6e",
        "colab": {
          "base_uri": "https://localhost:8080/",
          "height": 145
        }
      },
      "source": [
        "#Tables of Pandas String Methods\n",
        "\n",
        "vtubers = pd.Series(['Usada Pekora', 'Nekomata Okayuu', 'Inukami Korone', ' Murasaki Shion', 'Uruha Rushia', 'Sakura Miko'])\n",
        "vtubers"
      ],
      "execution_count": 14,
      "outputs": [
        {
          "output_type": "execute_result",
          "data": {
            "text/plain": [
              "0       Usada Pekora\n",
              "1    Nekomata Okayuu\n",
              "2     Inukami Korone\n",
              "3     Murasaki Shion\n",
              "4       Uruha Rushia\n",
              "5        Sakura Miko\n",
              "dtype: object"
            ]
          },
          "metadata": {
            "tags": []
          },
          "execution_count": 14
        }
      ]
    },
    {
      "cell_type": "code",
      "metadata": {
        "id": "0AgiREq8_53c",
        "outputId": "6118203c-7281-4344-f24e-485209402a66",
        "colab": {
          "base_uri": "https://localhost:8080/",
          "height": 145
        }
      },
      "source": [
        "vtubers.str.lower()"
      ],
      "execution_count": 16,
      "outputs": [
        {
          "output_type": "execute_result",
          "data": {
            "text/plain": [
              "0       usada pekora\n",
              "1    nekomata okayuu\n",
              "2     inukami korone\n",
              "3     murasaki shion\n",
              "4       uruha rushia\n",
              "5        sakura miko\n",
              "dtype: object"
            ]
          },
          "metadata": {
            "tags": []
          },
          "execution_count": 16
        }
      ]
    },
    {
      "cell_type": "code",
      "metadata": {
        "id": "UiYzEM48APkp",
        "outputId": "719dcc26-b55b-4789-fe0e-7d2a534abb28",
        "colab": {
          "base_uri": "https://localhost:8080/",
          "height": 35
        }
      },
      "source": [
        "vtubers.str.cat()"
      ],
      "execution_count": 20,
      "outputs": [
        {
          "output_type": "execute_result",
          "data": {
            "application/vnd.google.colaboratory.intrinsic+json": {
              "type": "string"
            },
            "text/plain": [
              "'Usada PekoraNekomata OkayuuInukami Korone Murasaki ShionUruha RushiaSakura Miko'"
            ]
          },
          "metadata": {
            "tags": []
          },
          "execution_count": 20
        }
      ]
    },
    {
      "cell_type": "code",
      "metadata": {
        "id": "QKKu_iqlAlfv",
        "outputId": "9ff071c8-208c-4d8d-b522-867ef45a207c",
        "colab": {
          "base_uri": "https://localhost:8080/",
          "height": 145
        }
      },
      "source": [
        "vtubers.str.len()"
      ],
      "execution_count": 21,
      "outputs": [
        {
          "output_type": "execute_result",
          "data": {
            "text/plain": [
              "0    12\n",
              "1    15\n",
              "2    14\n",
              "3    15\n",
              "4    12\n",
              "5    11\n",
              "dtype: int64"
            ]
          },
          "metadata": {
            "tags": []
          },
          "execution_count": 21
        }
      ]
    },
    {
      "cell_type": "code",
      "metadata": {
        "id": "RCc9dM_MA3jr",
        "outputId": "a742818d-99be-4d9c-dc2f-cfa7c69d9f38",
        "colab": {
          "base_uri": "https://localhost:8080/",
          "height": 145
        }
      },
      "source": [
        "vtubers.str.title()"
      ],
      "execution_count": 22,
      "outputs": [
        {
          "output_type": "execute_result",
          "data": {
            "text/plain": [
              "0       Usada Pekora\n",
              "1    Nekomata Okayuu\n",
              "2     Inukami Korone\n",
              "3     Murasaki Shion\n",
              "4       Uruha Rushia\n",
              "5        Sakura Miko\n",
              "dtype: object"
            ]
          },
          "metadata": {
            "tags": []
          },
          "execution_count": 22
        }
      ]
    },
    {
      "cell_type": "code",
      "metadata": {
        "id": "6U7rR3Z3BIYa",
        "outputId": "223fd595-7583-4b0b-d62f-9be5b35df20c",
        "colab": {
          "base_uri": "https://localhost:8080/",
          "height": 145
        }
      },
      "source": [
        "vtubers.str.capitalize()"
      ],
      "execution_count": 25,
      "outputs": [
        {
          "output_type": "execute_result",
          "data": {
            "text/plain": [
              "0       Usada pekora\n",
              "1    Nekomata okayuu\n",
              "2     Inukami korone\n",
              "3     murasaki shion\n",
              "4       Uruha rushia\n",
              "5        Sakura miko\n",
              "dtype: object"
            ]
          },
          "metadata": {
            "tags": []
          },
          "execution_count": 25
        }
      ]
    },
    {
      "cell_type": "code",
      "metadata": {
        "id": "qNZlFjLNBXtS",
        "outputId": "a1da98bd-8c60-4a98-d7f4-6789b0a26e01",
        "colab": {
          "base_uri": "https://localhost:8080/",
          "height": 145
        }
      },
      "source": [
        "vtubers.str.startswith('U')"
      ],
      "execution_count": 26,
      "outputs": [
        {
          "output_type": "execute_result",
          "data": {
            "text/plain": [
              "0     True\n",
              "1    False\n",
              "2    False\n",
              "3    False\n",
              "4     True\n",
              "5    False\n",
              "dtype: bool"
            ]
          },
          "metadata": {
            "tags": []
          },
          "execution_count": 26
        }
      ]
    },
    {
      "cell_type": "code",
      "metadata": {
        "id": "sh4bhvAwBtEK",
        "outputId": "3e970bf2-43a2-4fb1-e2d3-1efe43d6b80f",
        "colab": {
          "base_uri": "https://localhost:8080/",
          "height": 145
        }
      },
      "source": [
        "vtubers.str.split()"
      ],
      "execution_count": 27,
      "outputs": [
        {
          "output_type": "execute_result",
          "data": {
            "text/plain": [
              "0       [Usada, Pekora]\n",
              "1    [Nekomata, Okayuu]\n",
              "2     [Inukami, Korone]\n",
              "3     [Murasaki, Shion]\n",
              "4       [Uruha, Rushia]\n",
              "5        [Sakura, Miko]\n",
              "dtype: object"
            ]
          },
          "metadata": {
            "tags": []
          },
          "execution_count": 27
        }
      ]
    },
    {
      "cell_type": "code",
      "metadata": {
        "id": "XEqHoruQB2oh",
        "outputId": "e97605be-ec46-4fb4-e1d8-548b9207c928",
        "colab": {
          "base_uri": "https://localhost:8080/",
          "height": 228
        }
      },
      "source": [
        "#extract the first name\n",
        "vtubers.str.extract('([A-Za-z]+)')"
      ],
      "execution_count": 28,
      "outputs": [
        {
          "output_type": "execute_result",
          "data": {
            "text/html": [
              "<div>\n",
              "<style scoped>\n",
              "    .dataframe tbody tr th:only-of-type {\n",
              "        vertical-align: middle;\n",
              "    }\n",
              "\n",
              "    .dataframe tbody tr th {\n",
              "        vertical-align: top;\n",
              "    }\n",
              "\n",
              "    .dataframe thead th {\n",
              "        text-align: right;\n",
              "    }\n",
              "</style>\n",
              "<table border=\"1\" class=\"dataframe\">\n",
              "  <thead>\n",
              "    <tr style=\"text-align: right;\">\n",
              "      <th></th>\n",
              "      <th>0</th>\n",
              "    </tr>\n",
              "  </thead>\n",
              "  <tbody>\n",
              "    <tr>\n",
              "      <th>0</th>\n",
              "      <td>Usada</td>\n",
              "    </tr>\n",
              "    <tr>\n",
              "      <th>1</th>\n",
              "      <td>Nekomata</td>\n",
              "    </tr>\n",
              "    <tr>\n",
              "      <th>2</th>\n",
              "      <td>Inukami</td>\n",
              "    </tr>\n",
              "    <tr>\n",
              "      <th>3</th>\n",
              "      <td>Murasaki</td>\n",
              "    </tr>\n",
              "    <tr>\n",
              "      <th>4</th>\n",
              "      <td>Uruha</td>\n",
              "    </tr>\n",
              "    <tr>\n",
              "      <th>5</th>\n",
              "      <td>Sakura</td>\n",
              "    </tr>\n",
              "  </tbody>\n",
              "</table>\n",
              "</div>"
            ],
            "text/plain": [
              "          0\n",
              "0     Usada\n",
              "1  Nekomata\n",
              "2   Inukami\n",
              "3  Murasaki\n",
              "4     Uruha\n",
              "5    Sakura"
            ]
          },
          "metadata": {
            "tags": []
          },
          "execution_count": 28
        }
      ]
    },
    {
      "cell_type": "code",
      "metadata": {
        "id": "ep2zGXYJCO9R",
        "outputId": "dffcaeb4-4924-4a26-ae30-58676c2acbd2",
        "colab": {
          "base_uri": "https://localhost:8080/",
          "height": 145
        }
      },
      "source": [
        "#all names that start and end with a consonant\n",
        "vtubers.str.findall(r'^[^AEIOU].*[^aiueo]$')"
      ],
      "execution_count": 38,
      "outputs": [
        {
          "output_type": "execute_result",
          "data": {
            "text/plain": [
              "0                   []\n",
              "1                   []\n",
              "2                   []\n",
              "3    [ Murasaki Shion]\n",
              "4                   []\n",
              "5                   []\n",
              "dtype: object"
            ]
          },
          "metadata": {
            "tags": []
          },
          "execution_count": 38
        }
      ]
    },
    {
      "cell_type": "code",
      "metadata": {
        "id": "RavrbQLgGkuV",
        "outputId": "ca6db3e6-4327-485b-8ad9-3a34e94fdcd2",
        "colab": {
          "base_uri": "https://localhost:8080/",
          "height": 145
        }
      },
      "source": [
        "#all names that start with consonant and end with vogal\n",
        "vtubers.str.findall(r'^[^AEIOU].*[aiueo]$')\n"
      ],
      "execution_count": 43,
      "outputs": [
        {
          "output_type": "execute_result",
          "data": {
            "text/plain": [
              "0                   []\n",
              "1    [Nekomata Okayuu]\n",
              "2                   []\n",
              "3                   []\n",
              "4                   []\n",
              "5        [Sakura Miko]\n",
              "dtype: object"
            ]
          },
          "metadata": {
            "tags": []
          },
          "execution_count": 43
        }
      ]
    },
    {
      "cell_type": "code",
      "metadata": {
        "id": "hbnq7iqrPXuF",
        "outputId": "82ea9246-952a-4ef8-cc85-4ca1ed90d147",
        "colab": {
          "base_uri": "https://localhost:8080/",
          "height": 145
        }
      },
      "source": [
        "#all names that start and end with vogal\n",
        "vtubers.str.findall(r'^[AEIOU].*[aiueo]$')"
      ],
      "execution_count": 47,
      "outputs": [
        {
          "output_type": "execute_result",
          "data": {
            "text/plain": [
              "0      [Usada Pekora]\n",
              "1                  []\n",
              "2    [Inukami Korone]\n",
              "3                  []\n",
              "4      [Uruha Rushia]\n",
              "5                  []\n",
              "dtype: object"
            ]
          },
          "metadata": {
            "tags": []
          },
          "execution_count": 47
        }
      ]
    },
    {
      "cell_type": "code",
      "metadata": {
        "id": "svs7B_24P5bb",
        "outputId": "919c9f90-5188-46b0-d308-950ffc785234",
        "colab": {
          "base_uri": "https://localhost:8080/",
          "height": 145
        }
      },
      "source": [
        "#Vectorized item access and slicing\n",
        "vtubers.str[0:3]"
      ],
      "execution_count": 48,
      "outputs": [
        {
          "output_type": "execute_result",
          "data": {
            "text/plain": [
              "0    Usa\n",
              "1    Nek\n",
              "2    Inu\n",
              "3     Mu\n",
              "4    Uru\n",
              "5    Sak\n",
              "dtype: object"
            ]
          },
          "metadata": {
            "tags": []
          },
          "execution_count": 48
        }
      ]
    },
    {
      "cell_type": "code",
      "metadata": {
        "id": "qlM1zFhXQ1Bl",
        "outputId": "da30f185-1c31-400e-c512-419a2a2f0156",
        "colab": {
          "base_uri": "https://localhost:8080/",
          "height": 145
        }
      },
      "source": [
        "#extract the last name of each entry\n",
        "vtubers.str.split().str.get(-1)"
      ],
      "execution_count": 54,
      "outputs": [
        {
          "output_type": "execute_result",
          "data": {
            "text/plain": [
              "0    Pekora\n",
              "1    Okayuu\n",
              "2    Korone\n",
              "3     Shion\n",
              "4    Rushia\n",
              "5      Miko\n",
              "dtype: object"
            ]
          },
          "metadata": {
            "tags": []
          },
          "execution_count": 54
        }
      ]
    },
    {
      "cell_type": "code",
      "metadata": {
        "id": "XWUYBbMfQ5NK",
        "outputId": "026cfef6-e5fc-4192-a949-70e67cd1024a",
        "colab": {
          "base_uri": "https://localhost:8080/",
          "height": 145
        }
      },
      "source": [
        "vtubers.str.get(-)"
      ],
      "execution_count": 61,
      "outputs": [
        {
          "output_type": "execute_result",
          "data": {
            "text/plain": [
              "0    a\n",
              "1    u\n",
              "2    e\n",
              "3    n\n",
              "4    a\n",
              "5    o\n",
              "dtype: object"
            ]
          },
          "metadata": {
            "tags": []
          },
          "execution_count": 61
        }
      ]
    },
    {
      "cell_type": "code",
      "metadata": {
        "id": "ocNttCk2RZnr",
        "outputId": "881fabde-4564-4957-b545-ef8d9157a5cb",
        "colab": {
          "base_uri": "https://localhost:8080/",
          "height": 228
        }
      },
      "source": [
        "full_vtubers = pd.DataFrame({'name': vtubers,\n",
        "'info': ['Comedian | nice person', 'Kind | nice voice', 'crazy  funny', 'funny | lazy', 'Yandere | kawaii',\n",
        "'Elite | Elite']})\n",
        "\n",
        "full_vtubers"
      ],
      "execution_count": 65,
      "outputs": [
        {
          "output_type": "execute_result",
          "data": {
            "text/html": [
              "<div>\n",
              "<style scoped>\n",
              "    .dataframe tbody tr th:only-of-type {\n",
              "        vertical-align: middle;\n",
              "    }\n",
              "\n",
              "    .dataframe tbody tr th {\n",
              "        vertical-align: top;\n",
              "    }\n",
              "\n",
              "    .dataframe thead th {\n",
              "        text-align: right;\n",
              "    }\n",
              "</style>\n",
              "<table border=\"1\" class=\"dataframe\">\n",
              "  <thead>\n",
              "    <tr style=\"text-align: right;\">\n",
              "      <th></th>\n",
              "      <th>name</th>\n",
              "      <th>info</th>\n",
              "    </tr>\n",
              "  </thead>\n",
              "  <tbody>\n",
              "    <tr>\n",
              "      <th>0</th>\n",
              "      <td>Usada Pekora</td>\n",
              "      <td>Comedian | nice person</td>\n",
              "    </tr>\n",
              "    <tr>\n",
              "      <th>1</th>\n",
              "      <td>Nekomata Okayuu</td>\n",
              "      <td>Kind | nice voice</td>\n",
              "    </tr>\n",
              "    <tr>\n",
              "      <th>2</th>\n",
              "      <td>Inukami Korone</td>\n",
              "      <td>crazy  funny</td>\n",
              "    </tr>\n",
              "    <tr>\n",
              "      <th>3</th>\n",
              "      <td>Murasaki Shion</td>\n",
              "      <td>funny | lazy</td>\n",
              "    </tr>\n",
              "    <tr>\n",
              "      <th>4</th>\n",
              "      <td>Uruha Rushia</td>\n",
              "      <td>Yandere | kawaii</td>\n",
              "    </tr>\n",
              "    <tr>\n",
              "      <th>5</th>\n",
              "      <td>Sakura Miko</td>\n",
              "      <td>Elite | Elite</td>\n",
              "    </tr>\n",
              "  </tbody>\n",
              "</table>\n",
              "</div>"
            ],
            "text/plain": [
              "              name                    info\n",
              "0     Usada Pekora  Comedian | nice person\n",
              "1  Nekomata Okayuu       Kind | nice voice\n",
              "2   Inukami Korone            crazy  funny\n",
              "3   Murasaki Shion            funny | lazy\n",
              "4     Uruha Rushia        Yandere | kawaii\n",
              "5      Sakura Miko           Elite | Elite"
            ]
          },
          "metadata": {
            "tags": []
          },
          "execution_count": 65
        }
      ]
    },
    {
      "cell_type": "code",
      "metadata": {
        "id": "B_-CtAFASGPc",
        "outputId": "73ef1f54-a370-4f10-af01-fc7a895abfb7",
        "colab": {
          "base_uri": "https://localhost:8080/",
          "height": 228
        }
      },
      "source": [
        "# bin where 0 true and 1 is false\n",
        "full_vtubers['info'].str.get_dummies('|')"
      ],
      "execution_count": 67,
      "outputs": [
        {
          "output_type": "execute_result",
          "data": {
            "text/html": [
              "<div>\n",
              "<style scoped>\n",
              "    .dataframe tbody tr th:only-of-type {\n",
              "        vertical-align: middle;\n",
              "    }\n",
              "\n",
              "    .dataframe tbody tr th {\n",
              "        vertical-align: top;\n",
              "    }\n",
              "\n",
              "    .dataframe thead th {\n",
              "        text-align: right;\n",
              "    }\n",
              "</style>\n",
              "<table border=\"1\" class=\"dataframe\">\n",
              "  <thead>\n",
              "    <tr style=\"text-align: right;\">\n",
              "      <th></th>\n",
              "      <th>Elite</th>\n",
              "      <th>kawaii</th>\n",
              "      <th>lazy</th>\n",
              "      <th>nice person</th>\n",
              "      <th>nice voice</th>\n",
              "      <th>Comedian</th>\n",
              "      <th>Elite</th>\n",
              "      <th>Kind</th>\n",
              "      <th>Yandere</th>\n",
              "      <th>crazy  funny</th>\n",
              "      <th>funny</th>\n",
              "    </tr>\n",
              "  </thead>\n",
              "  <tbody>\n",
              "    <tr>\n",
              "      <th>0</th>\n",
              "      <td>0</td>\n",
              "      <td>0</td>\n",
              "      <td>0</td>\n",
              "      <td>1</td>\n",
              "      <td>0</td>\n",
              "      <td>1</td>\n",
              "      <td>0</td>\n",
              "      <td>0</td>\n",
              "      <td>0</td>\n",
              "      <td>0</td>\n",
              "      <td>0</td>\n",
              "    </tr>\n",
              "    <tr>\n",
              "      <th>1</th>\n",
              "      <td>0</td>\n",
              "      <td>0</td>\n",
              "      <td>0</td>\n",
              "      <td>0</td>\n",
              "      <td>1</td>\n",
              "      <td>0</td>\n",
              "      <td>0</td>\n",
              "      <td>1</td>\n",
              "      <td>0</td>\n",
              "      <td>0</td>\n",
              "      <td>0</td>\n",
              "    </tr>\n",
              "    <tr>\n",
              "      <th>2</th>\n",
              "      <td>0</td>\n",
              "      <td>0</td>\n",
              "      <td>0</td>\n",
              "      <td>0</td>\n",
              "      <td>0</td>\n",
              "      <td>0</td>\n",
              "      <td>0</td>\n",
              "      <td>0</td>\n",
              "      <td>0</td>\n",
              "      <td>1</td>\n",
              "      <td>0</td>\n",
              "    </tr>\n",
              "    <tr>\n",
              "      <th>3</th>\n",
              "      <td>0</td>\n",
              "      <td>0</td>\n",
              "      <td>1</td>\n",
              "      <td>0</td>\n",
              "      <td>0</td>\n",
              "      <td>0</td>\n",
              "      <td>0</td>\n",
              "      <td>0</td>\n",
              "      <td>0</td>\n",
              "      <td>0</td>\n",
              "      <td>1</td>\n",
              "    </tr>\n",
              "    <tr>\n",
              "      <th>4</th>\n",
              "      <td>0</td>\n",
              "      <td>1</td>\n",
              "      <td>0</td>\n",
              "      <td>0</td>\n",
              "      <td>0</td>\n",
              "      <td>0</td>\n",
              "      <td>0</td>\n",
              "      <td>0</td>\n",
              "      <td>1</td>\n",
              "      <td>0</td>\n",
              "      <td>0</td>\n",
              "    </tr>\n",
              "    <tr>\n",
              "      <th>5</th>\n",
              "      <td>1</td>\n",
              "      <td>0</td>\n",
              "      <td>0</td>\n",
              "      <td>0</td>\n",
              "      <td>0</td>\n",
              "      <td>0</td>\n",
              "      <td>1</td>\n",
              "      <td>0</td>\n",
              "      <td>0</td>\n",
              "      <td>0</td>\n",
              "      <td>0</td>\n",
              "    </tr>\n",
              "  </tbody>\n",
              "</table>\n",
              "</div>"
            ],
            "text/plain": [
              "    Elite   kawaii   lazy   nice person  ...  Kind   Yandere   crazy  funny  funny \n",
              "0       0        0      0             1  ...      0         0             0       0\n",
              "1       0        0      0             0  ...      1         0             0       0\n",
              "2       0        0      0             0  ...      0         0             1       0\n",
              "3       0        0      1             0  ...      0         0             0       1\n",
              "4       0        1      0             0  ...      0         1             0       0\n",
              "5       1        0      0             0  ...      0         0             0       0\n",
              "\n",
              "[6 rows x 11 columns]"
            ]
          },
          "metadata": {
            "tags": []
          },
          "execution_count": 67
        }
      ]
    },
    {
      "cell_type": "code",
      "metadata": {
        "id": "Otc2jvMwTDLq"
      },
      "source": [
        ""
      ],
      "execution_count": null,
      "outputs": []
    }
  ]
}