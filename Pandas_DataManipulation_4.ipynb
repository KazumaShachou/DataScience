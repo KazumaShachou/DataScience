{
  "nbformat": 4,
  "nbformat_minor": 0,
  "metadata": {
    "colab": {
      "name": "Pandas_DataManipulation_4.ipynb",
      "provenance": [],
      "collapsed_sections": [],
      "authorship_tag": "ABX9TyP1d87jZHqugT7i+eCZdKOS",
      "include_colab_link": true
    },
    "kernelspec": {
      "name": "python3",
      "display_name": "Python 3"
    }
  },
  "cells": [
    {
      "cell_type": "markdown",
      "metadata": {
        "id": "view-in-github",
        "colab_type": "text"
      },
      "source": [
        "<a href=\"https://colab.research.google.com/github/KazumaShachou/DataScience/blob/master/Pandas_DataManipulation_4.ipynb\" target=\"_parent\"><img src=\"https://colab.research.google.com/assets/colab-badge.svg\" alt=\"Open In Colab\"/></a>"
      ]
    },
    {
      "cell_type": "markdown",
      "metadata": {
        "id": "lmO3Gfbhlw-0"
      },
      "source": [
        "##Vectorized String Operations"
      ]
    },
    {
      "cell_type": "code",
      "metadata": {
        "id": "6H-66WuwlB2u"
      },
      "source": [
        "import pandas as pd\n",
        "import numpy as np"
      ],
      "execution_count": 165,
      "outputs": []
    },
    {
      "cell_type": "code",
      "metadata": {
        "id": "04o8WkfapD-e",
        "outputId": "165793b0-d166-4f43-e094-8df40a01ea1b",
        "colab": {
          "base_uri": "https://localhost:8080/",
          "height": 35
        }
      },
      "source": [
        "x = np.array([2, 5, 6, 7, 3, 12])\n",
        "x * 2"
      ],
      "execution_count": 166,
      "outputs": [
        {
          "output_type": "execute_result",
          "data": {
            "text/plain": [
              "array([ 4, 10, 12, 14,  6, 24])"
            ]
          },
          "metadata": {
            "tags": []
          },
          "execution_count": 166
        }
      ]
    },
    {
      "cell_type": "code",
      "metadata": {
        "id": "m8HjaRdvpSVo",
        "outputId": "de6029bb-1e1c-427b-f2a5-2e64d424f356",
        "colab": {
          "base_uri": "https://localhost:8080/",
          "height": 35
        }
      },
      "source": [
        "#vectorization , it' works\n",
        "data = ['Pekora', 'Watame', 'Rushia', 'Okayuu']\n",
        "[s.capitalize() for s  in data]"
      ],
      "execution_count": 167,
      "outputs": [
        {
          "output_type": "execute_result",
          "data": {
            "text/plain": [
              "['Pekora', 'Watame', 'Rushia', 'Okayuu']"
            ]
          },
          "metadata": {
            "tags": []
          },
          "execution_count": 167
        }
      ]
    },
    {
      "cell_type": "code",
      "metadata": {
        "id": "Ic4YnEAkrsGK"
      },
      "source": [
        "#but in this case not work\n",
        "#data = ['Pekora','Watame',None , 'Rushia', 'Okayuu']\n",
        "#[s.capitalize() for s in data]\n",
        "#this work just if I use the command  \"data\" "
      ],
      "execution_count": 168,
      "outputs": []
    },
    {
      "cell_type": "code",
      "metadata": {
        "id": "wbOaZoU2vJAj",
        "outputId": "a1013600-ab06-4844-8161-9025823a3ad5",
        "colab": {
          "base_uri": "https://localhost:8080/",
          "height": 108
        }
      },
      "source": [
        "#use pandas \n",
        "names =   pd.Series(data)\n",
        "names"
      ],
      "execution_count": 169,
      "outputs": [
        {
          "output_type": "execute_result",
          "data": {
            "text/plain": [
              "0    Pekora\n",
              "1    Watame\n",
              "2    Rushia\n",
              "3    Okayuu\n",
              "dtype: object"
            ]
          },
          "metadata": {
            "tags": []
          },
          "execution_count": 169
        }
      ]
    },
    {
      "cell_type": "code",
      "metadata": {
        "id": "CJouTz9Cvfmr",
        "outputId": "43ff6583-6842-4a1d-a9ba-df5de894ed4c",
        "colab": {
          "base_uri": "https://localhost:8080/",
          "height": 108
        }
      },
      "source": [
        "names.str.capitalize()"
      ],
      "execution_count": 170,
      "outputs": [
        {
          "output_type": "execute_result",
          "data": {
            "text/plain": [
              "0    Pekora\n",
              "1    Watame\n",
              "2    Rushia\n",
              "3    Okayuu\n",
              "dtype: object"
            ]
          },
          "metadata": {
            "tags": []
          },
          "execution_count": 170
        }
      ]
    },
    {
      "cell_type": "code",
      "metadata": {
        "id": "6o-BnLTuvze5",
        "outputId": "52f448b0-cb0b-48e6-dd20-6f02f4ba1e61",
        "colab": {
          "base_uri": "https://localhost:8080/",
          "height": 145
        }
      },
      "source": [
        "#Tables of Pandas String Methods\n",
        "\n",
        "vtubers = pd.Series(['Usada Pekora', 'Nekomata Okayuu', 'Inukami Korone', ' Murasaki Shion', 'Uruha Rushia', 'Sakura Miko'])\n",
        "vtubers"
      ],
      "execution_count": 171,
      "outputs": [
        {
          "output_type": "execute_result",
          "data": {
            "text/plain": [
              "0       Usada Pekora\n",
              "1    Nekomata Okayuu\n",
              "2     Inukami Korone\n",
              "3     Murasaki Shion\n",
              "4       Uruha Rushia\n",
              "5        Sakura Miko\n",
              "dtype: object"
            ]
          },
          "metadata": {
            "tags": []
          },
          "execution_count": 171
        }
      ]
    },
    {
      "cell_type": "code",
      "metadata": {
        "id": "0AgiREq8_53c",
        "outputId": "d3cada8d-cb8c-40d0-c10d-b0b683c069a7",
        "colab": {
          "base_uri": "https://localhost:8080/",
          "height": 145
        }
      },
      "source": [
        "vtubers.str.lower()"
      ],
      "execution_count": 172,
      "outputs": [
        {
          "output_type": "execute_result",
          "data": {
            "text/plain": [
              "0       usada pekora\n",
              "1    nekomata okayuu\n",
              "2     inukami korone\n",
              "3     murasaki shion\n",
              "4       uruha rushia\n",
              "5        sakura miko\n",
              "dtype: object"
            ]
          },
          "metadata": {
            "tags": []
          },
          "execution_count": 172
        }
      ]
    },
    {
      "cell_type": "code",
      "metadata": {
        "id": "UiYzEM48APkp",
        "outputId": "352d459c-6a29-4890-b22c-a9696a2bcb79",
        "colab": {
          "base_uri": "https://localhost:8080/",
          "height": 35
        }
      },
      "source": [
        "vtubers.str.cat()"
      ],
      "execution_count": 173,
      "outputs": [
        {
          "output_type": "execute_result",
          "data": {
            "application/vnd.google.colaboratory.intrinsic+json": {
              "type": "string"
            },
            "text/plain": [
              "'Usada PekoraNekomata OkayuuInukami Korone Murasaki ShionUruha RushiaSakura Miko'"
            ]
          },
          "metadata": {
            "tags": []
          },
          "execution_count": 173
        }
      ]
    },
    {
      "cell_type": "code",
      "metadata": {
        "id": "QKKu_iqlAlfv",
        "outputId": "f5cf4b6f-9b27-444f-edc9-923338c1840c",
        "colab": {
          "base_uri": "https://localhost:8080/",
          "height": 145
        }
      },
      "source": [
        "vtubers.str.len()"
      ],
      "execution_count": 174,
      "outputs": [
        {
          "output_type": "execute_result",
          "data": {
            "text/plain": [
              "0    12\n",
              "1    15\n",
              "2    14\n",
              "3    15\n",
              "4    12\n",
              "5    11\n",
              "dtype: int64"
            ]
          },
          "metadata": {
            "tags": []
          },
          "execution_count": 174
        }
      ]
    },
    {
      "cell_type": "code",
      "metadata": {
        "id": "RCc9dM_MA3jr",
        "outputId": "c378047a-2cfd-457d-ee91-85e6b771a743",
        "colab": {
          "base_uri": "https://localhost:8080/",
          "height": 145
        }
      },
      "source": [
        "vtubers.str.title()"
      ],
      "execution_count": 175,
      "outputs": [
        {
          "output_type": "execute_result",
          "data": {
            "text/plain": [
              "0       Usada Pekora\n",
              "1    Nekomata Okayuu\n",
              "2     Inukami Korone\n",
              "3     Murasaki Shion\n",
              "4       Uruha Rushia\n",
              "5        Sakura Miko\n",
              "dtype: object"
            ]
          },
          "metadata": {
            "tags": []
          },
          "execution_count": 175
        }
      ]
    },
    {
      "cell_type": "code",
      "metadata": {
        "id": "6U7rR3Z3BIYa",
        "outputId": "7e166a6d-4f0c-4612-ac8c-e5611b1acfd6",
        "colab": {
          "base_uri": "https://localhost:8080/",
          "height": 145
        }
      },
      "source": [
        "vtubers.str.capitalize()"
      ],
      "execution_count": 176,
      "outputs": [
        {
          "output_type": "execute_result",
          "data": {
            "text/plain": [
              "0       Usada pekora\n",
              "1    Nekomata okayuu\n",
              "2     Inukami korone\n",
              "3     murasaki shion\n",
              "4       Uruha rushia\n",
              "5        Sakura miko\n",
              "dtype: object"
            ]
          },
          "metadata": {
            "tags": []
          },
          "execution_count": 176
        }
      ]
    },
    {
      "cell_type": "code",
      "metadata": {
        "id": "qNZlFjLNBXtS",
        "outputId": "0f63fada-fc48-4b44-942b-7e2ac21c5d9b",
        "colab": {
          "base_uri": "https://localhost:8080/",
          "height": 145
        }
      },
      "source": [
        "vtubers.str.startswith('U')"
      ],
      "execution_count": 177,
      "outputs": [
        {
          "output_type": "execute_result",
          "data": {
            "text/plain": [
              "0     True\n",
              "1    False\n",
              "2    False\n",
              "3    False\n",
              "4     True\n",
              "5    False\n",
              "dtype: bool"
            ]
          },
          "metadata": {
            "tags": []
          },
          "execution_count": 177
        }
      ]
    },
    {
      "cell_type": "code",
      "metadata": {
        "id": "sh4bhvAwBtEK",
        "outputId": "a0dad0cc-d716-432e-9e5e-093825944f50",
        "colab": {
          "base_uri": "https://localhost:8080/",
          "height": 145
        }
      },
      "source": [
        "vtubers.str.split()"
      ],
      "execution_count": 178,
      "outputs": [
        {
          "output_type": "execute_result",
          "data": {
            "text/plain": [
              "0       [Usada, Pekora]\n",
              "1    [Nekomata, Okayuu]\n",
              "2     [Inukami, Korone]\n",
              "3     [Murasaki, Shion]\n",
              "4       [Uruha, Rushia]\n",
              "5        [Sakura, Miko]\n",
              "dtype: object"
            ]
          },
          "metadata": {
            "tags": []
          },
          "execution_count": 178
        }
      ]
    },
    {
      "cell_type": "code",
      "metadata": {
        "id": "XEqHoruQB2oh",
        "outputId": "8da5d7b9-dd1b-4d9a-ae70-1b65e0ad04ba",
        "colab": {
          "base_uri": "https://localhost:8080/",
          "height": 228
        }
      },
      "source": [
        "#extract the first name\n",
        "vtubers.str.extract('([A-Za-z]+)')"
      ],
      "execution_count": 179,
      "outputs": [
        {
          "output_type": "execute_result",
          "data": {
            "text/html": [
              "<div>\n",
              "<style scoped>\n",
              "    .dataframe tbody tr th:only-of-type {\n",
              "        vertical-align: middle;\n",
              "    }\n",
              "\n",
              "    .dataframe tbody tr th {\n",
              "        vertical-align: top;\n",
              "    }\n",
              "\n",
              "    .dataframe thead th {\n",
              "        text-align: right;\n",
              "    }\n",
              "</style>\n",
              "<table border=\"1\" class=\"dataframe\">\n",
              "  <thead>\n",
              "    <tr style=\"text-align: right;\">\n",
              "      <th></th>\n",
              "      <th>0</th>\n",
              "    </tr>\n",
              "  </thead>\n",
              "  <tbody>\n",
              "    <tr>\n",
              "      <th>0</th>\n",
              "      <td>Usada</td>\n",
              "    </tr>\n",
              "    <tr>\n",
              "      <th>1</th>\n",
              "      <td>Nekomata</td>\n",
              "    </tr>\n",
              "    <tr>\n",
              "      <th>2</th>\n",
              "      <td>Inukami</td>\n",
              "    </tr>\n",
              "    <tr>\n",
              "      <th>3</th>\n",
              "      <td>Murasaki</td>\n",
              "    </tr>\n",
              "    <tr>\n",
              "      <th>4</th>\n",
              "      <td>Uruha</td>\n",
              "    </tr>\n",
              "    <tr>\n",
              "      <th>5</th>\n",
              "      <td>Sakura</td>\n",
              "    </tr>\n",
              "  </tbody>\n",
              "</table>\n",
              "</div>"
            ],
            "text/plain": [
              "          0\n",
              "0     Usada\n",
              "1  Nekomata\n",
              "2   Inukami\n",
              "3  Murasaki\n",
              "4     Uruha\n",
              "5    Sakura"
            ]
          },
          "metadata": {
            "tags": []
          },
          "execution_count": 179
        }
      ]
    },
    {
      "cell_type": "code",
      "metadata": {
        "id": "ep2zGXYJCO9R",
        "outputId": "f16ac066-b469-4191-85ae-e1234258fcae",
        "colab": {
          "base_uri": "https://localhost:8080/",
          "height": 145
        }
      },
      "source": [
        "#all names that start and end with a consonant\n",
        "vtubers.str.findall(r'^[^AEIOU].*[^aiueo]$')"
      ],
      "execution_count": 180,
      "outputs": [
        {
          "output_type": "execute_result",
          "data": {
            "text/plain": [
              "0                   []\n",
              "1                   []\n",
              "2                   []\n",
              "3    [ Murasaki Shion]\n",
              "4                   []\n",
              "5                   []\n",
              "dtype: object"
            ]
          },
          "metadata": {
            "tags": []
          },
          "execution_count": 180
        }
      ]
    },
    {
      "cell_type": "code",
      "metadata": {
        "id": "RavrbQLgGkuV",
        "outputId": "717ca3fd-1cc4-4ce0-b543-a3a90ec200e3",
        "colab": {
          "base_uri": "https://localhost:8080/",
          "height": 145
        }
      },
      "source": [
        "#all names that start with consonant and end with vogal\n",
        "vtubers.str.findall(r'^[^AEIOU].*[aiueo]$')\n"
      ],
      "execution_count": 181,
      "outputs": [
        {
          "output_type": "execute_result",
          "data": {
            "text/plain": [
              "0                   []\n",
              "1    [Nekomata Okayuu]\n",
              "2                   []\n",
              "3                   []\n",
              "4                   []\n",
              "5        [Sakura Miko]\n",
              "dtype: object"
            ]
          },
          "metadata": {
            "tags": []
          },
          "execution_count": 181
        }
      ]
    },
    {
      "cell_type": "code",
      "metadata": {
        "id": "hbnq7iqrPXuF",
        "outputId": "39601c29-be56-49d8-8012-2b393b7c4d4d",
        "colab": {
          "base_uri": "https://localhost:8080/",
          "height": 145
        }
      },
      "source": [
        "#all names that start and end with vogal\n",
        "vtubers.str.findall(r'^[AEIOU].*[aiueo]$')"
      ],
      "execution_count": 182,
      "outputs": [
        {
          "output_type": "execute_result",
          "data": {
            "text/plain": [
              "0      [Usada Pekora]\n",
              "1                  []\n",
              "2    [Inukami Korone]\n",
              "3                  []\n",
              "4      [Uruha Rushia]\n",
              "5                  []\n",
              "dtype: object"
            ]
          },
          "metadata": {
            "tags": []
          },
          "execution_count": 182
        }
      ]
    },
    {
      "cell_type": "code",
      "metadata": {
        "id": "svs7B_24P5bb",
        "outputId": "1feb4ce1-6f70-4088-bdb1-a32fb0635319",
        "colab": {
          "base_uri": "https://localhost:8080/",
          "height": 145
        }
      },
      "source": [
        "#Vectorized item access and slicing\n",
        "vtubers.str[0:3]"
      ],
      "execution_count": 183,
      "outputs": [
        {
          "output_type": "execute_result",
          "data": {
            "text/plain": [
              "0    Usa\n",
              "1    Nek\n",
              "2    Inu\n",
              "3     Mu\n",
              "4    Uru\n",
              "5    Sak\n",
              "dtype: object"
            ]
          },
          "metadata": {
            "tags": []
          },
          "execution_count": 183
        }
      ]
    },
    {
      "cell_type": "code",
      "metadata": {
        "id": "qlM1zFhXQ1Bl",
        "outputId": "20501dc1-306f-4ba6-be4b-ce241ed6d751",
        "colab": {
          "base_uri": "https://localhost:8080/",
          "height": 145
        }
      },
      "source": [
        "#extract the last name of each entry\n",
        "vtubers.str.split().str.get(-1)"
      ],
      "execution_count": 184,
      "outputs": [
        {
          "output_type": "execute_result",
          "data": {
            "text/plain": [
              "0    Pekora\n",
              "1    Okayuu\n",
              "2    Korone\n",
              "3     Shion\n",
              "4    Rushia\n",
              "5      Miko\n",
              "dtype: object"
            ]
          },
          "metadata": {
            "tags": []
          },
          "execution_count": 184
        }
      ]
    },
    {
      "cell_type": "code",
      "metadata": {
        "id": "XWUYBbMfQ5NK",
        "outputId": "14ab3262-c1c9-4dc1-c13e-b84fe99c33c2",
        "colab": {
          "base_uri": "https://localhost:8080/",
          "height": 145
        }
      },
      "source": [
        "vtubers.str.get(-1)"
      ],
      "execution_count": 185,
      "outputs": [
        {
          "output_type": "execute_result",
          "data": {
            "text/plain": [
              "0    a\n",
              "1    u\n",
              "2    e\n",
              "3    n\n",
              "4    a\n",
              "5    o\n",
              "dtype: object"
            ]
          },
          "metadata": {
            "tags": []
          },
          "execution_count": 185
        }
      ]
    },
    {
      "cell_type": "code",
      "metadata": {
        "id": "ocNttCk2RZnr",
        "outputId": "03a114de-3f10-46dd-b2f6-b11c0d8d71d6",
        "colab": {
          "base_uri": "https://localhost:8080/",
          "height": 228
        }
      },
      "source": [
        "full_vtubers = pd.DataFrame({'name': vtubers,\n",
        "'info': ['Comedian | nice person', 'Kind | nice voice', 'crazy  funny', 'funny | lazy', 'Yandere | kawaii',\n",
        "'Elite | Elite']})\n",
        "\n",
        "full_vtubers"
      ],
      "execution_count": 186,
      "outputs": [
        {
          "output_type": "execute_result",
          "data": {
            "text/html": [
              "<div>\n",
              "<style scoped>\n",
              "    .dataframe tbody tr th:only-of-type {\n",
              "        vertical-align: middle;\n",
              "    }\n",
              "\n",
              "    .dataframe tbody tr th {\n",
              "        vertical-align: top;\n",
              "    }\n",
              "\n",
              "    .dataframe thead th {\n",
              "        text-align: right;\n",
              "    }\n",
              "</style>\n",
              "<table border=\"1\" class=\"dataframe\">\n",
              "  <thead>\n",
              "    <tr style=\"text-align: right;\">\n",
              "      <th></th>\n",
              "      <th>name</th>\n",
              "      <th>info</th>\n",
              "    </tr>\n",
              "  </thead>\n",
              "  <tbody>\n",
              "    <tr>\n",
              "      <th>0</th>\n",
              "      <td>Usada Pekora</td>\n",
              "      <td>Comedian | nice person</td>\n",
              "    </tr>\n",
              "    <tr>\n",
              "      <th>1</th>\n",
              "      <td>Nekomata Okayuu</td>\n",
              "      <td>Kind | nice voice</td>\n",
              "    </tr>\n",
              "    <tr>\n",
              "      <th>2</th>\n",
              "      <td>Inukami Korone</td>\n",
              "      <td>crazy  funny</td>\n",
              "    </tr>\n",
              "    <tr>\n",
              "      <th>3</th>\n",
              "      <td>Murasaki Shion</td>\n",
              "      <td>funny | lazy</td>\n",
              "    </tr>\n",
              "    <tr>\n",
              "      <th>4</th>\n",
              "      <td>Uruha Rushia</td>\n",
              "      <td>Yandere | kawaii</td>\n",
              "    </tr>\n",
              "    <tr>\n",
              "      <th>5</th>\n",
              "      <td>Sakura Miko</td>\n",
              "      <td>Elite | Elite</td>\n",
              "    </tr>\n",
              "  </tbody>\n",
              "</table>\n",
              "</div>"
            ],
            "text/plain": [
              "              name                    info\n",
              "0     Usada Pekora  Comedian | nice person\n",
              "1  Nekomata Okayuu       Kind | nice voice\n",
              "2   Inukami Korone            crazy  funny\n",
              "3   Murasaki Shion            funny | lazy\n",
              "4     Uruha Rushia        Yandere | kawaii\n",
              "5      Sakura Miko           Elite | Elite"
            ]
          },
          "metadata": {
            "tags": []
          },
          "execution_count": 186
        }
      ]
    },
    {
      "cell_type": "code",
      "metadata": {
        "id": "B_-CtAFASGPc",
        "outputId": "67b4b273-6dad-4d44-a633-21c6e2c02a93",
        "colab": {
          "base_uri": "https://localhost:8080/",
          "height": 228
        }
      },
      "source": [
        "# bin where 0 true and 1 is false\n",
        "full_vtubers['info'].str.get_dummies('|')"
      ],
      "execution_count": 187,
      "outputs": [
        {
          "output_type": "execute_result",
          "data": {
            "text/html": [
              "<div>\n",
              "<style scoped>\n",
              "    .dataframe tbody tr th:only-of-type {\n",
              "        vertical-align: middle;\n",
              "    }\n",
              "\n",
              "    .dataframe tbody tr th {\n",
              "        vertical-align: top;\n",
              "    }\n",
              "\n",
              "    .dataframe thead th {\n",
              "        text-align: right;\n",
              "    }\n",
              "</style>\n",
              "<table border=\"1\" class=\"dataframe\">\n",
              "  <thead>\n",
              "    <tr style=\"text-align: right;\">\n",
              "      <th></th>\n",
              "      <th>Elite</th>\n",
              "      <th>kawaii</th>\n",
              "      <th>lazy</th>\n",
              "      <th>nice person</th>\n",
              "      <th>nice voice</th>\n",
              "      <th>Comedian</th>\n",
              "      <th>Elite</th>\n",
              "      <th>Kind</th>\n",
              "      <th>Yandere</th>\n",
              "      <th>crazy  funny</th>\n",
              "      <th>funny</th>\n",
              "    </tr>\n",
              "  </thead>\n",
              "  <tbody>\n",
              "    <tr>\n",
              "      <th>0</th>\n",
              "      <td>0</td>\n",
              "      <td>0</td>\n",
              "      <td>0</td>\n",
              "      <td>1</td>\n",
              "      <td>0</td>\n",
              "      <td>1</td>\n",
              "      <td>0</td>\n",
              "      <td>0</td>\n",
              "      <td>0</td>\n",
              "      <td>0</td>\n",
              "      <td>0</td>\n",
              "    </tr>\n",
              "    <tr>\n",
              "      <th>1</th>\n",
              "      <td>0</td>\n",
              "      <td>0</td>\n",
              "      <td>0</td>\n",
              "      <td>0</td>\n",
              "      <td>1</td>\n",
              "      <td>0</td>\n",
              "      <td>0</td>\n",
              "      <td>1</td>\n",
              "      <td>0</td>\n",
              "      <td>0</td>\n",
              "      <td>0</td>\n",
              "    </tr>\n",
              "    <tr>\n",
              "      <th>2</th>\n",
              "      <td>0</td>\n",
              "      <td>0</td>\n",
              "      <td>0</td>\n",
              "      <td>0</td>\n",
              "      <td>0</td>\n",
              "      <td>0</td>\n",
              "      <td>0</td>\n",
              "      <td>0</td>\n",
              "      <td>0</td>\n",
              "      <td>1</td>\n",
              "      <td>0</td>\n",
              "    </tr>\n",
              "    <tr>\n",
              "      <th>3</th>\n",
              "      <td>0</td>\n",
              "      <td>0</td>\n",
              "      <td>1</td>\n",
              "      <td>0</td>\n",
              "      <td>0</td>\n",
              "      <td>0</td>\n",
              "      <td>0</td>\n",
              "      <td>0</td>\n",
              "      <td>0</td>\n",
              "      <td>0</td>\n",
              "      <td>1</td>\n",
              "    </tr>\n",
              "    <tr>\n",
              "      <th>4</th>\n",
              "      <td>0</td>\n",
              "      <td>1</td>\n",
              "      <td>0</td>\n",
              "      <td>0</td>\n",
              "      <td>0</td>\n",
              "      <td>0</td>\n",
              "      <td>0</td>\n",
              "      <td>0</td>\n",
              "      <td>1</td>\n",
              "      <td>0</td>\n",
              "      <td>0</td>\n",
              "    </tr>\n",
              "    <tr>\n",
              "      <th>5</th>\n",
              "      <td>1</td>\n",
              "      <td>0</td>\n",
              "      <td>0</td>\n",
              "      <td>0</td>\n",
              "      <td>0</td>\n",
              "      <td>0</td>\n",
              "      <td>1</td>\n",
              "      <td>0</td>\n",
              "      <td>0</td>\n",
              "      <td>0</td>\n",
              "      <td>0</td>\n",
              "    </tr>\n",
              "  </tbody>\n",
              "</table>\n",
              "</div>"
            ],
            "text/plain": [
              "    Elite   kawaii   lazy   nice person  ...  Kind   Yandere   crazy  funny  funny \n",
              "0       0        0      0             1  ...      0         0             0       0\n",
              "1       0        0      0             0  ...      1         0             0       0\n",
              "2       0        0      0             0  ...      0         0             1       0\n",
              "3       0        0      1             0  ...      0         0             0       1\n",
              "4       0        1      0             0  ...      0         1             0       0\n",
              "5       1        0      0             0  ...      0         0             0       0\n",
              "\n",
              "[6 rows x 11 columns]"
            ]
          },
          "metadata": {
            "tags": []
          },
          "execution_count": 187
        }
      ]
    },
    {
      "cell_type": "markdown",
      "metadata": {
        "id": "ZVCoUFII6WIx"
      },
      "source": [
        "## Working with Time Series"
      ]
    },
    {
      "cell_type": "code",
      "metadata": {
        "id": "iY0jkXUw5kXH",
        "outputId": "f4025873-7f04-41f4-98be-e08e28d261d6",
        "colab": {
          "base_uri": "https://localhost:8080/",
          "height": 35
        }
      },
      "source": [
        "from datetime import datetime\n",
        "import pandas as pd\n",
        "date = datetime(year = 2020, month = 11, day = 1)\n",
        "date"
      ],
      "execution_count": 188,
      "outputs": [
        {
          "output_type": "execute_result",
          "data": {
            "text/plain": [
              "datetime.datetime(2020, 11, 1, 0, 0)"
            ]
          },
          "metadata": {
            "tags": []
          },
          "execution_count": 188
        }
      ]
    },
    {
      "cell_type": "code",
      "metadata": {
        "id": "TXXE3Heb7B2m",
        "outputId": "c9309c30-85ff-4f14-ed6e-e4f2c2c4684b",
        "colab": {
          "base_uri": "https://localhost:8080/",
          "height": 35
        }
      },
      "source": [
        "date.strftime('%A')"
      ],
      "execution_count": 189,
      "outputs": [
        {
          "output_type": "execute_result",
          "data": {
            "application/vnd.google.colaboratory.intrinsic+json": {
              "type": "string"
            },
            "text/plain": [
              "'Sunday'"
            ]
          },
          "metadata": {
            "tags": []
          },
          "execution_count": 189
        }
      ]
    },
    {
      "cell_type": "code",
      "metadata": {
        "id": "ZkGRbWHv7Sis",
        "outputId": "e106be69-ad2b-438b-da71-12ad63f04b0d",
        "colab": {
          "base_uri": "https://localhost:8080/",
          "height": 35
        }
      },
      "source": [
        "import numpy as np\n",
        "date = np.array('2020-11-01', dtype = np.datetime64)\n",
        "date"
      ],
      "execution_count": 190,
      "outputs": [
        {
          "output_type": "execute_result",
          "data": {
            "text/plain": [
              "array('2020-11-01', dtype='datetime64[D]')"
            ]
          },
          "metadata": {
            "tags": []
          },
          "execution_count": 190
        }
      ]
    },
    {
      "cell_type": "code",
      "metadata": {
        "id": "ltdxN8NJ9I5B",
        "outputId": "e6308808-5fe6-48b5-dc75-efcafe9914bd",
        "colab": {
          "base_uri": "https://localhost:8080/",
          "height": 90
        }
      },
      "source": [
        "#vectorized operations\n",
        "date + np.arange(12)"
      ],
      "execution_count": 191,
      "outputs": [
        {
          "output_type": "execute_result",
          "data": {
            "text/plain": [
              "array(['2020-11-01', '2020-11-02', '2020-11-03', '2020-11-04',\n",
              "       '2020-11-05', '2020-11-06', '2020-11-07', '2020-11-08',\n",
              "       '2020-11-09', '2020-11-10', '2020-11-11', '2020-11-12'],\n",
              "      dtype='datetime64[D]')"
            ]
          },
          "metadata": {
            "tags": []
          },
          "execution_count": 191
        }
      ]
    },
    {
      "cell_type": "code",
      "metadata": {
        "id": "KCGHBnia-a3t",
        "outputId": "8f81bbd5-f52a-418f-d99c-e7a466da657e",
        "colab": {
          "base_uri": "https://localhost:8080/",
          "height": 35
        }
      },
      "source": [
        "np.datetime64('2015-07-04 12:00')"
      ],
      "execution_count": 192,
      "outputs": [
        {
          "output_type": "execute_result",
          "data": {
            "text/plain": [
              "numpy.datetime64('2015-07-04T12:00')"
            ]
          },
          "metadata": {
            "tags": []
          },
          "execution_count": 192
        }
      ]
    },
    {
      "cell_type": "code",
      "metadata": {
        "id": "vLcvJdd5H4Gy",
        "outputId": "b3587cf7-e73b-4faa-b592-66c1eecdcda4",
        "colab": {
          "base_uri": "https://localhost:8080/",
          "height": 35
        }
      },
      "source": [
        "np.datetime64('2015-07-04 12:00', 'ns')"
      ],
      "execution_count": 193,
      "outputs": [
        {
          "output_type": "execute_result",
          "data": {
            "text/plain": [
              "numpy.datetime64('2015-07-04T12:00:00.000000000')"
            ]
          },
          "metadata": {
            "tags": []
          },
          "execution_count": 193
        }
      ]
    },
    {
      "cell_type": "code",
      "metadata": {
        "id": "ZPp7gnn_UAan",
        "outputId": "a0f36c3b-1bac-4928-b6fa-f15c8356f447",
        "colab": {
          "base_uri": "https://localhost:8080/",
          "height": 108
        }
      },
      "source": [
        "#Pandas Time Series: Indexing by Time\n",
        "import pandas as pd\n",
        "index = pd.DatetimeIndex(['2015-09-11', '2015-10-12',\n",
        "                          '2015-07-04', '2015-08-04'])\n",
        "data = pd.Series([0,1,2,3], index = index)\n",
        "data"
      ],
      "execution_count": 194,
      "outputs": [
        {
          "output_type": "execute_result",
          "data": {
            "text/plain": [
              "2015-09-11    0\n",
              "2015-10-12    1\n",
              "2015-07-04    2\n",
              "2015-08-04    3\n",
              "dtype: int64"
            ]
          },
          "metadata": {
            "tags": []
          },
          "execution_count": 194
        }
      ]
    },
    {
      "cell_type": "code",
      "metadata": {
        "id": "SIpdTENLVr35",
        "outputId": "1751a2f8-2dd9-46d8-95a2-0ea0474761c2",
        "colab": {
          "base_uri": "https://localhost:8080/",
          "height": 35
        }
      },
      "source": [
        "data['2015-09-11' : '2015-07-04']"
      ],
      "execution_count": 195,
      "outputs": [
        {
          "output_type": "execute_result",
          "data": {
            "text/plain": [
              "Series([], dtype: int64)"
            ]
          },
          "metadata": {
            "tags": []
          },
          "execution_count": 195
        }
      ]
    },
    {
      "cell_type": "code",
      "metadata": {
        "id": "jEW6ezsfWXzv",
        "outputId": "8429528a-e621-4abd-868c-de95e2db611b",
        "colab": {
          "base_uri": "https://localhost:8080/",
          "height": 108
        }
      },
      "source": [
        "data['2015']"
      ],
      "execution_count": 196,
      "outputs": [
        {
          "output_type": "execute_result",
          "data": {
            "text/plain": [
              "2015-09-11    0\n",
              "2015-10-12    1\n",
              "2015-07-04    2\n",
              "2015-08-04    3\n",
              "dtype: int64"
            ]
          },
          "metadata": {
            "tags": []
          },
          "execution_count": 196
        }
      ]
    },
    {
      "cell_type": "code",
      "metadata": {
        "id": "SZXGY-2pW9cl",
        "outputId": "48e2062c-445d-4d10-fae5-298c2b33ed59",
        "colab": {
          "base_uri": "https://localhost:8080/",
          "height": 72
        }
      },
      "source": [
        "dates = pd.to_datetime([datetime(2015,7,3), '4 of July, 2015',\n",
        "                        '2015-Jul-6', '07-07-2015', '20150708'])\n",
        "dates"
      ],
      "execution_count": 197,
      "outputs": [
        {
          "output_type": "execute_result",
          "data": {
            "text/plain": [
              "DatetimeIndex(['2015-07-03', '2015-07-04', '2015-07-06', '2015-07-07',\n",
              "               '2015-07-08'],\n",
              "              dtype='datetime64[ns]', freq=None)"
            ]
          },
          "metadata": {
            "tags": []
          },
          "execution_count": 197
        }
      ]
    },
    {
      "cell_type": "code",
      "metadata": {
        "id": "Ew8WGD-8X_F9",
        "outputId": "e5edab79-a059-4a77-9da4-42c82f83d65c",
        "colab": {
          "base_uri": "https://localhost:8080/",
          "height": 72
        }
      },
      "source": [
        "#indicate daily frequency\n",
        "\n",
        "dates.to_period('D')"
      ],
      "execution_count": 198,
      "outputs": [
        {
          "output_type": "execute_result",
          "data": {
            "text/plain": [
              "PeriodIndex(['2015-07-03', '2015-07-04', '2015-07-06', '2015-07-07',\n",
              "             '2015-07-08'],\n",
              "            dtype='period[D]', freq='D')"
            ]
          },
          "metadata": {
            "tags": []
          },
          "execution_count": 198
        }
      ]
    },
    {
      "cell_type": "code",
      "metadata": {
        "id": "FdtSuzxRafbw",
        "outputId": "d9ef1676-c398-4a2d-8720-a986e3280516",
        "colab": {
          "base_uri": "https://localhost:8080/",
          "height": 35
        }
      },
      "source": [
        "dates - dates[0]"
      ],
      "execution_count": 199,
      "outputs": [
        {
          "output_type": "execute_result",
          "data": {
            "text/plain": [
              "TimedeltaIndex(['0 days', '1 days', '3 days', '4 days', '5 days'], dtype='timedelta64[ns]', freq=None)"
            ]
          },
          "metadata": {
            "tags": []
          },
          "execution_count": 199
        }
      ]
    },
    {
      "cell_type": "code",
      "metadata": {
        "id": "NvfHcJCCarM8",
        "outputId": "0142e637-2df4-4f5b-e441-82d9f3c9d553",
        "colab": {
          "base_uri": "https://localhost:8080/",
          "height": 108
        }
      },
      "source": [
        "#pd.date_range() accepts a start date, an end date\n",
        "pd.date_range('2015-07-03', '2015-07-15')"
      ],
      "execution_count": 200,
      "outputs": [
        {
          "output_type": "execute_result",
          "data": {
            "text/plain": [
              "DatetimeIndex(['2015-07-03', '2015-07-04', '2015-07-05', '2015-07-06',\n",
              "               '2015-07-07', '2015-07-08', '2015-07-09', '2015-07-10',\n",
              "               '2015-07-11', '2015-07-12', '2015-07-13', '2015-07-14',\n",
              "               '2015-07-15'],\n",
              "              dtype='datetime64[ns]', freq='D')"
            ]
          },
          "metadata": {
            "tags": []
          },
          "execution_count": 200
        }
      ]
    },
    {
      "cell_type": "code",
      "metadata": {
        "id": "ZM0Joz3nbJuV",
        "outputId": "2b104357-9b6a-4cb5-c182-f7b1026769c8",
        "colab": {
          "base_uri": "https://localhost:8080/",
          "height": 90
        }
      },
      "source": [
        "pd.date_range('2015-07-03', periods = 10)"
      ],
      "execution_count": 201,
      "outputs": [
        {
          "output_type": "execute_result",
          "data": {
            "text/plain": [
              "DatetimeIndex(['2015-07-03', '2015-07-04', '2015-07-05', '2015-07-06',\n",
              "               '2015-07-07', '2015-07-08', '2015-07-09', '2015-07-10',\n",
              "               '2015-07-11', '2015-07-12'],\n",
              "              dtype='datetime64[ns]', freq='D')"
            ]
          },
          "metadata": {
            "tags": []
          },
          "execution_count": 201
        }
      ]
    },
    {
      "cell_type": "code",
      "metadata": {
        "id": "c3us1Woebhgl",
        "outputId": "0a4c76a1-c179-45b0-f0f6-f1bf09d2084d",
        "colab": {
          "base_uri": "https://localhost:8080/",
          "height": 145
        }
      },
      "source": [
        "#freque in hours \n",
        "pd.date_range('2015-07-03', periods = 12, freq='H')"
      ],
      "execution_count": 202,
      "outputs": [
        {
          "output_type": "execute_result",
          "data": {
            "text/plain": [
              "DatetimeIndex(['2015-07-03 00:00:00', '2015-07-03 01:00:00',\n",
              "               '2015-07-03 02:00:00', '2015-07-03 03:00:00',\n",
              "               '2015-07-03 04:00:00', '2015-07-03 05:00:00',\n",
              "               '2015-07-03 06:00:00', '2015-07-03 07:00:00',\n",
              "               '2015-07-03 08:00:00', '2015-07-03 09:00:00',\n",
              "               '2015-07-03 10:00:00', '2015-07-03 11:00:00'],\n",
              "              dtype='datetime64[ns]', freq='H')"
            ]
          },
          "metadata": {
            "tags": []
          },
          "execution_count": 202
        }
      ]
    },
    {
      "cell_type": "code",
      "metadata": {
        "id": "l_Ondxv6bxW0",
        "outputId": "ea915f3e-7231-4e65-a52f-491a5965f4b5",
        "colab": {
          "base_uri": "https://localhost:8080/",
          "height": 72
        }
      },
      "source": [
        "#months\n",
        "pd.date_range('2015-07-03', periods = 6, freq= 'M' )"
      ],
      "execution_count": 203,
      "outputs": [
        {
          "output_type": "execute_result",
          "data": {
            "text/plain": [
              "DatetimeIndex(['2015-07-31', '2015-08-31', '2015-09-30', '2015-10-31',\n",
              "               '2015-11-30', '2015-12-31'],\n",
              "              dtype='datetime64[ns]', freq='M')"
            ]
          },
          "metadata": {
            "tags": []
          },
          "execution_count": 203
        }
      ]
    },
    {
      "cell_type": "code",
      "metadata": {
        "id": "dycVhBzkcflH",
        "outputId": "a470aa48-1aee-4e01-ed4d-53da7c0ba4f5",
        "colab": {
          "base_uri": "https://localhost:8080/",
          "height": 108
        }
      },
      "source": [
        "#in hours using delta\n",
        "pd.timedelta_range(0, periods = 12, freq= 'H')"
      ],
      "execution_count": 204,
      "outputs": [
        {
          "output_type": "execute_result",
          "data": {
            "text/plain": [
              "TimedeltaIndex(['0 days 00:00:00', '0 days 01:00:00', '0 days 02:00:00',\n",
              "                '0 days 03:00:00', '0 days 04:00:00', '0 days 05:00:00',\n",
              "                '0 days 06:00:00', '0 days 07:00:00', '0 days 08:00:00',\n",
              "                '0 days 09:00:00', '0 days 10:00:00', '0 days 11:00:00'],\n",
              "               dtype='timedelta64[ns]', freq='H')"
            ]
          },
          "metadata": {
            "tags": []
          },
          "execution_count": 204
        }
      ]
    },
    {
      "cell_type": "code",
      "metadata": {
        "id": "I6wVM8nvdBq1",
        "outputId": "f3919b23-5bf0-4273-88e0-2d115421ecb7",
        "colab": {
          "base_uri": "https://localhost:8080/",
          "height": 90
        }
      },
      "source": [
        "pd.timedelta_range(0, periods=9, freq=\"2H30T\")"
      ],
      "execution_count": 205,
      "outputs": [
        {
          "output_type": "execute_result",
          "data": {
            "text/plain": [
              "TimedeltaIndex(['0 days 00:00:00', '0 days 02:30:00', '0 days 05:00:00',\n",
              "                '0 days 07:30:00', '0 days 10:00:00', '0 days 12:30:00',\n",
              "                '0 days 15:00:00', '0 days 17:30:00', '0 days 20:00:00'],\n",
              "               dtype='timedelta64[ns]', freq='150T')"
            ]
          },
          "metadata": {
            "tags": []
          },
          "execution_count": 205
        }
      ]
    },
    {
      "cell_type": "code",
      "metadata": {
        "id": "aHz_9eID1Kpp"
      },
      "source": [
        ""
      ],
      "execution_count": null,
      "outputs": []
    }
  ]
}