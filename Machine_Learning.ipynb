{
  "nbformat": 4,
  "nbformat_minor": 0,
  "metadata": {
    "colab": {
      "name": "Machine Learning.ipynb",
      "provenance": [],
      "authorship_tag": "ABX9TyO4WpWcDT6QtEPkLs3mDUAN",
      "include_colab_link": true
    },
    "kernelspec": {
      "name": "python3",
      "display_name": "Python 3"
    }
  },
  "cells": [
    {
      "cell_type": "markdown",
      "metadata": {
        "id": "view-in-github",
        "colab_type": "text"
      },
      "source": [
        "<a href=\"https://colab.research.google.com/github/KazumaShachou/DataScience/blob/master/Machine_Learning.ipynb\" target=\"_parent\"><img src=\"https://colab.research.google.com/assets/colab-badge.svg\" alt=\"Open In Colab\"/></a>"
      ]
    },
    {
      "cell_type": "markdown",
      "metadata": {
        "id": "mTak8uepe3OK"
      },
      "source": [
        "I'm studying Machine Learning using the book : using the book :** Python Data Science Handbook From Jake VanderPlas **"
      ]
    },
    {
      "cell_type": "markdown",
      "metadata": {
        "id": "0y_iFJqPg1Bz"
      },
      "source": [
        "## Machine learning? What is ?\n",
        "\n",
        "Machine Learning for data science as a means building models of data\n",
        "Machine learning involves building mathematics models to understand datas, this models can be trained with \"tuneables parameters\" and after this , they are used to predict and understand aspects of datas.\n",
        "It's like a human brain, where you learn training with the datas.\n",
        "\n",
        "Machine Learning can be categorized how supervized learning where we are measured features of data and labels associate with data,  unsupervized learning , don't have reference of any label and let dataset speak for itself, there is too semi-supervized learning when only incomplete labels are avaliable.\n"
      ]
    },
    {
      "cell_type": "code",
      "metadata": {
        "id": "v29rrtcHlY3M"
      },
      "source": [
        ""
      ],
      "execution_count": null,
      "outputs": []
    }
  ]
}