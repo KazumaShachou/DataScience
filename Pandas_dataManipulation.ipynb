{
  "nbformat": 4,
  "nbformat_minor": 0,
  "metadata": {
    "colab": {
      "name": "Pandas_dataManipulation.ipynb",
      "provenance": [],
      "authorship_tag": "ABX9TyOINcrtIR5qmpzcpa4gvtOv",
      "include_colab_link": true
    },
    "kernelspec": {
      "name": "python3",
      "display_name": "Python 3"
    }
  },
  "cells": [
    {
      "cell_type": "markdown",
      "metadata": {
        "id": "view-in-github",
        "colab_type": "text"
      },
      "source": [
        "<a href=\"https://colab.research.google.com/github/KazumaShachou/DataScience/blob/master/Pandas_dataManipulation.ipynb\" target=\"_parent\"><img src=\"https://colab.research.google.com/assets/colab-badge.svg\" alt=\"Open In Colab\"/></a>"
      ]
    },
    {
      "cell_type": "markdown",
      "metadata": {
        "id": "uP9YGuejvuq1"
      },
      "source": [
        "# Studying and apply Pandas using the book : Python Data Science Handbook From Jake VanderPlas"
      ]
    },
    {
      "cell_type": "code",
      "metadata": {
        "id": "9Z4Fp0OfvTcx"
      },
      "source": [
        ""
      ],
      "execution_count": null,
      "outputs": []
    }
  ]
}