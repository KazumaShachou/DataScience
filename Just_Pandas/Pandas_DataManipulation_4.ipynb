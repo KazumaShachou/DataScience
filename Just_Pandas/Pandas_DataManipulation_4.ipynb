{
  "nbformat": 4,
  "nbformat_minor": 0,
  "metadata": {
    "colab": {
      "name": "Pandas_DataManipulation_4.ipynb",
      "provenance": [],
      "collapsed_sections": []
    },
    "kernelspec": {
      "name": "python3",
      "display_name": "Python 3"
    }
  },
  "cells": [
    {
      "cell_type": "markdown",
      "metadata": {
        "id": "lmO3Gfbhlw-0"
      },
      "source": [
        "##Vectorized String Operations"
      ]
    },
    {
      "cell_type": "code",
      "metadata": {
        "id": "6H-66WuwlB2u"
      },
      "source": [
        "import pandas as pd\n",
        "import numpy as np"
      ],
      "execution_count": 1,
      "outputs": []
    },
    {
      "cell_type": "code",
      "metadata": {
        "id": "04o8WkfapD-e",
        "outputId": "5c77cc7f-9894-41b9-c7fe-e296be222ac1",
        "colab": {
          "base_uri": "https://localhost:8080/",
          "height": 35
        }
      },
      "source": [
        "x = np.array([2, 5, 6, 7, 3, 12])\n",
        "x * 2"
      ],
      "execution_count": 2,
      "outputs": [
        {
          "output_type": "execute_result",
          "data": {
            "text/plain": [
              "array([ 4, 10, 12, 14,  6, 24])"
            ]
          },
          "metadata": {
            "tags": []
          },
          "execution_count": 2
        }
      ]
    },
    {
      "cell_type": "code",
      "metadata": {
        "id": "m8HjaRdvpSVo",
        "outputId": "249b64e2-becc-400a-d691-8150377aae0e",
        "colab": {
          "base_uri": "https://localhost:8080/",
          "height": 35
        }
      },
      "source": [
        "#vectorization , it' works\n",
        "data = ['Pekora', 'Watame', 'Rushia', 'Okayuu']\n",
        "[s.capitalize() for s  in data]"
      ],
      "execution_count": 3,
      "outputs": [
        {
          "output_type": "execute_result",
          "data": {
            "text/plain": [
              "['Pekora', 'Watame', 'Rushia', 'Okayuu']"
            ]
          },
          "metadata": {
            "tags": []
          },
          "execution_count": 3
        }
      ]
    },
    {
      "cell_type": "code",
      "metadata": {
        "id": "Ic4YnEAkrsGK"
      },
      "source": [
        "#but in this case not work\n",
        "#data = ['Pekora','Watame',None , 'Rushia', 'Okayuu']\n",
        "#[s.capitalize() for s in data]\n",
        "#this work just if I use the command  \"data\" "
      ],
      "execution_count": 4,
      "outputs": []
    },
    {
      "cell_type": "code",
      "metadata": {
        "id": "wbOaZoU2vJAj",
        "outputId": "0fcdf321-ae32-4cef-bee2-22a5ec3dd309",
        "colab": {
          "base_uri": "https://localhost:8080/",
          "height": 108
        }
      },
      "source": [
        "#use pandas \n",
        "names =   pd.Series(data)\n",
        "names"
      ],
      "execution_count": 5,
      "outputs": [
        {
          "output_type": "execute_result",
          "data": {
            "text/plain": [
              "0    Pekora\n",
              "1    Watame\n",
              "2    Rushia\n",
              "3    Okayuu\n",
              "dtype: object"
            ]
          },
          "metadata": {
            "tags": []
          },
          "execution_count": 5
        }
      ]
    },
    {
      "cell_type": "code",
      "metadata": {
        "id": "CJouTz9Cvfmr",
        "outputId": "341b4bbd-45ce-4427-c5b1-72b559785b9b",
        "colab": {
          "base_uri": "https://localhost:8080/",
          "height": 108
        }
      },
      "source": [
        "names.str.capitalize()"
      ],
      "execution_count": 6,
      "outputs": [
        {
          "output_type": "execute_result",
          "data": {
            "text/plain": [
              "0    Pekora\n",
              "1    Watame\n",
              "2    Rushia\n",
              "3    Okayuu\n",
              "dtype: object"
            ]
          },
          "metadata": {
            "tags": []
          },
          "execution_count": 6
        }
      ]
    },
    {
      "cell_type": "code",
      "metadata": {
        "id": "6o-BnLTuvze5",
        "outputId": "145e9287-1cda-493a-ddb9-6d349d03549d",
        "colab": {
          "base_uri": "https://localhost:8080/",
          "height": 145
        }
      },
      "source": [
        "#Tables of Pandas String Methods\n",
        "\n",
        "vtubers = pd.Series(['Usada Pekora', 'Nekomata Okayuu', 'Inukami Korone', ' Murasaki Shion', 'Uruha Rushia', 'Sakura Miko'])\n",
        "vtubers"
      ],
      "execution_count": 7,
      "outputs": [
        {
          "output_type": "execute_result",
          "data": {
            "text/plain": [
              "0       Usada Pekora\n",
              "1    Nekomata Okayuu\n",
              "2     Inukami Korone\n",
              "3     Murasaki Shion\n",
              "4       Uruha Rushia\n",
              "5        Sakura Miko\n",
              "dtype: object"
            ]
          },
          "metadata": {
            "tags": []
          },
          "execution_count": 7
        }
      ]
    },
    {
      "cell_type": "code",
      "metadata": {
        "id": "0AgiREq8_53c",
        "outputId": "9bca1b00-9bc9-4a6e-be83-df55b9b9c084",
        "colab": {
          "base_uri": "https://localhost:8080/",
          "height": 145
        }
      },
      "source": [
        "vtubers.str.lower()"
      ],
      "execution_count": 8,
      "outputs": [
        {
          "output_type": "execute_result",
          "data": {
            "text/plain": [
              "0       usada pekora\n",
              "1    nekomata okayuu\n",
              "2     inukami korone\n",
              "3     murasaki shion\n",
              "4       uruha rushia\n",
              "5        sakura miko\n",
              "dtype: object"
            ]
          },
          "metadata": {
            "tags": []
          },
          "execution_count": 8
        }
      ]
    },
    {
      "cell_type": "code",
      "metadata": {
        "id": "UiYzEM48APkp",
        "outputId": "0a174f7c-f851-4c24-9ac2-7dc29f556761",
        "colab": {
          "base_uri": "https://localhost:8080/",
          "height": 35
        }
      },
      "source": [
        "vtubers.str.cat()"
      ],
      "execution_count": 9,
      "outputs": [
        {
          "output_type": "execute_result",
          "data": {
            "application/vnd.google.colaboratory.intrinsic+json": {
              "type": "string"
            },
            "text/plain": [
              "'Usada PekoraNekomata OkayuuInukami Korone Murasaki ShionUruha RushiaSakura Miko'"
            ]
          },
          "metadata": {
            "tags": []
          },
          "execution_count": 9
        }
      ]
    },
    {
      "cell_type": "code",
      "metadata": {
        "id": "QKKu_iqlAlfv",
        "outputId": "db4bd495-1c7c-4f6d-8719-6eab17a68d7a",
        "colab": {
          "base_uri": "https://localhost:8080/",
          "height": 145
        }
      },
      "source": [
        "vtubers.str.len()"
      ],
      "execution_count": 10,
      "outputs": [
        {
          "output_type": "execute_result",
          "data": {
            "text/plain": [
              "0    12\n",
              "1    15\n",
              "2    14\n",
              "3    15\n",
              "4    12\n",
              "5    11\n",
              "dtype: int64"
            ]
          },
          "metadata": {
            "tags": []
          },
          "execution_count": 10
        }
      ]
    },
    {
      "cell_type": "code",
      "metadata": {
        "id": "RCc9dM_MA3jr",
        "outputId": "aa61abd3-e026-4900-ab8a-4d723558f9a1",
        "colab": {
          "base_uri": "https://localhost:8080/",
          "height": 145
        }
      },
      "source": [
        "vtubers.str.title()"
      ],
      "execution_count": 11,
      "outputs": [
        {
          "output_type": "execute_result",
          "data": {
            "text/plain": [
              "0       Usada Pekora\n",
              "1    Nekomata Okayuu\n",
              "2     Inukami Korone\n",
              "3     Murasaki Shion\n",
              "4       Uruha Rushia\n",
              "5        Sakura Miko\n",
              "dtype: object"
            ]
          },
          "metadata": {
            "tags": []
          },
          "execution_count": 11
        }
      ]
    },
    {
      "cell_type": "code",
      "metadata": {
        "id": "6U7rR3Z3BIYa",
        "outputId": "c3ce5aea-69c8-45bc-914d-8b97dd686453",
        "colab": {
          "base_uri": "https://localhost:8080/",
          "height": 145
        }
      },
      "source": [
        "vtubers.str.capitalize()"
      ],
      "execution_count": 12,
      "outputs": [
        {
          "output_type": "execute_result",
          "data": {
            "text/plain": [
              "0       Usada pekora\n",
              "1    Nekomata okayuu\n",
              "2     Inukami korone\n",
              "3     murasaki shion\n",
              "4       Uruha rushia\n",
              "5        Sakura miko\n",
              "dtype: object"
            ]
          },
          "metadata": {
            "tags": []
          },
          "execution_count": 12
        }
      ]
    },
    {
      "cell_type": "code",
      "metadata": {
        "id": "qNZlFjLNBXtS",
        "outputId": "cd07fe78-58e2-430d-959c-f61501f1989a",
        "colab": {
          "base_uri": "https://localhost:8080/",
          "height": 145
        }
      },
      "source": [
        "vtubers.str.startswith('U')"
      ],
      "execution_count": 13,
      "outputs": [
        {
          "output_type": "execute_result",
          "data": {
            "text/plain": [
              "0     True\n",
              "1    False\n",
              "2    False\n",
              "3    False\n",
              "4     True\n",
              "5    False\n",
              "dtype: bool"
            ]
          },
          "metadata": {
            "tags": []
          },
          "execution_count": 13
        }
      ]
    },
    {
      "cell_type": "code",
      "metadata": {
        "id": "sh4bhvAwBtEK",
        "outputId": "3bb10524-135c-4ad1-806c-172f3e2803b2",
        "colab": {
          "base_uri": "https://localhost:8080/",
          "height": 145
        }
      },
      "source": [
        "vtubers.str.split()"
      ],
      "execution_count": 14,
      "outputs": [
        {
          "output_type": "execute_result",
          "data": {
            "text/plain": [
              "0       [Usada, Pekora]\n",
              "1    [Nekomata, Okayuu]\n",
              "2     [Inukami, Korone]\n",
              "3     [Murasaki, Shion]\n",
              "4       [Uruha, Rushia]\n",
              "5        [Sakura, Miko]\n",
              "dtype: object"
            ]
          },
          "metadata": {
            "tags": []
          },
          "execution_count": 14
        }
      ]
    },
    {
      "cell_type": "code",
      "metadata": {
        "id": "XEqHoruQB2oh",
        "outputId": "7ea58f28-bef3-439e-a483-947a7678565d",
        "colab": {
          "base_uri": "https://localhost:8080/",
          "height": 228
        }
      },
      "source": [
        "#extract the first name\n",
        "vtubers.str.extract('([A-Za-z]+)')"
      ],
      "execution_count": 15,
      "outputs": [
        {
          "output_type": "execute_result",
          "data": {
            "text/html": [
              "<div>\n",
              "<style scoped>\n",
              "    .dataframe tbody tr th:only-of-type {\n",
              "        vertical-align: middle;\n",
              "    }\n",
              "\n",
              "    .dataframe tbody tr th {\n",
              "        vertical-align: top;\n",
              "    }\n",
              "\n",
              "    .dataframe thead th {\n",
              "        text-align: right;\n",
              "    }\n",
              "</style>\n",
              "<table border=\"1\" class=\"dataframe\">\n",
              "  <thead>\n",
              "    <tr style=\"text-align: right;\">\n",
              "      <th></th>\n",
              "      <th>0</th>\n",
              "    </tr>\n",
              "  </thead>\n",
              "  <tbody>\n",
              "    <tr>\n",
              "      <th>0</th>\n",
              "      <td>Usada</td>\n",
              "    </tr>\n",
              "    <tr>\n",
              "      <th>1</th>\n",
              "      <td>Nekomata</td>\n",
              "    </tr>\n",
              "    <tr>\n",
              "      <th>2</th>\n",
              "      <td>Inukami</td>\n",
              "    </tr>\n",
              "    <tr>\n",
              "      <th>3</th>\n",
              "      <td>Murasaki</td>\n",
              "    </tr>\n",
              "    <tr>\n",
              "      <th>4</th>\n",
              "      <td>Uruha</td>\n",
              "    </tr>\n",
              "    <tr>\n",
              "      <th>5</th>\n",
              "      <td>Sakura</td>\n",
              "    </tr>\n",
              "  </tbody>\n",
              "</table>\n",
              "</div>"
            ],
            "text/plain": [
              "          0\n",
              "0     Usada\n",
              "1  Nekomata\n",
              "2   Inukami\n",
              "3  Murasaki\n",
              "4     Uruha\n",
              "5    Sakura"
            ]
          },
          "metadata": {
            "tags": []
          },
          "execution_count": 15
        }
      ]
    },
    {
      "cell_type": "code",
      "metadata": {
        "id": "ep2zGXYJCO9R",
        "outputId": "c6d9ba54-9521-4a1f-b650-0945fc7f7d3f",
        "colab": {
          "base_uri": "https://localhost:8080/",
          "height": 145
        }
      },
      "source": [
        "#all names that start and end with a consonant\n",
        "vtubers.str.findall(r'^[^AEIOU].*[^aiueo]$')"
      ],
      "execution_count": 16,
      "outputs": [
        {
          "output_type": "execute_result",
          "data": {
            "text/plain": [
              "0                   []\n",
              "1                   []\n",
              "2                   []\n",
              "3    [ Murasaki Shion]\n",
              "4                   []\n",
              "5                   []\n",
              "dtype: object"
            ]
          },
          "metadata": {
            "tags": []
          },
          "execution_count": 16
        }
      ]
    },
    {
      "cell_type": "code",
      "metadata": {
        "id": "RavrbQLgGkuV",
        "outputId": "6fc99343-e8b5-47a7-8a8b-22d1b13736a3",
        "colab": {
          "base_uri": "https://localhost:8080/",
          "height": 145
        }
      },
      "source": [
        "#all names that start with consonant and end with vogal\n",
        "vtubers.str.findall(r'^[^AEIOU].*[aiueo]$')\n"
      ],
      "execution_count": 17,
      "outputs": [
        {
          "output_type": "execute_result",
          "data": {
            "text/plain": [
              "0                   []\n",
              "1    [Nekomata Okayuu]\n",
              "2                   []\n",
              "3                   []\n",
              "4                   []\n",
              "5        [Sakura Miko]\n",
              "dtype: object"
            ]
          },
          "metadata": {
            "tags": []
          },
          "execution_count": 17
        }
      ]
    },
    {
      "cell_type": "code",
      "metadata": {
        "id": "hbnq7iqrPXuF",
        "outputId": "9fb401bd-45ae-4a87-b9bb-8877ee409648",
        "colab": {
          "base_uri": "https://localhost:8080/",
          "height": 145
        }
      },
      "source": [
        "#all names that start and end with vogal\n",
        "vtubers.str.findall(r'^[AEIOU].*[aiueo]$')"
      ],
      "execution_count": 18,
      "outputs": [
        {
          "output_type": "execute_result",
          "data": {
            "text/plain": [
              "0      [Usada Pekora]\n",
              "1                  []\n",
              "2    [Inukami Korone]\n",
              "3                  []\n",
              "4      [Uruha Rushia]\n",
              "5                  []\n",
              "dtype: object"
            ]
          },
          "metadata": {
            "tags": []
          },
          "execution_count": 18
        }
      ]
    },
    {
      "cell_type": "code",
      "metadata": {
        "id": "svs7B_24P5bb",
        "outputId": "60d37373-7f39-4fcc-e3ae-59f9c683376c",
        "colab": {
          "base_uri": "https://localhost:8080/",
          "height": 145
        }
      },
      "source": [
        "#Vectorized item access and slicing\n",
        "vtubers.str[0:3]"
      ],
      "execution_count": 19,
      "outputs": [
        {
          "output_type": "execute_result",
          "data": {
            "text/plain": [
              "0    Usa\n",
              "1    Nek\n",
              "2    Inu\n",
              "3     Mu\n",
              "4    Uru\n",
              "5    Sak\n",
              "dtype: object"
            ]
          },
          "metadata": {
            "tags": []
          },
          "execution_count": 19
        }
      ]
    },
    {
      "cell_type": "code",
      "metadata": {
        "id": "qlM1zFhXQ1Bl",
        "outputId": "642eeadc-32e1-415d-e7b5-17cd5a641fd5",
        "colab": {
          "base_uri": "https://localhost:8080/",
          "height": 145
        }
      },
      "source": [
        "#extract the last name of each entry\n",
        "vtubers.str.split().str.get(-1)"
      ],
      "execution_count": 20,
      "outputs": [
        {
          "output_type": "execute_result",
          "data": {
            "text/plain": [
              "0    Pekora\n",
              "1    Okayuu\n",
              "2    Korone\n",
              "3     Shion\n",
              "4    Rushia\n",
              "5      Miko\n",
              "dtype: object"
            ]
          },
          "metadata": {
            "tags": []
          },
          "execution_count": 20
        }
      ]
    },
    {
      "cell_type": "code",
      "metadata": {
        "id": "XWUYBbMfQ5NK",
        "outputId": "17b22342-e045-40cb-e089-d4913c3de39a",
        "colab": {
          "base_uri": "https://localhost:8080/",
          "height": 145
        }
      },
      "source": [
        "vtubers.str.get(-1)"
      ],
      "execution_count": 21,
      "outputs": [
        {
          "output_type": "execute_result",
          "data": {
            "text/plain": [
              "0    a\n",
              "1    u\n",
              "2    e\n",
              "3    n\n",
              "4    a\n",
              "5    o\n",
              "dtype: object"
            ]
          },
          "metadata": {
            "tags": []
          },
          "execution_count": 21
        }
      ]
    },
    {
      "cell_type": "code",
      "metadata": {
        "id": "ocNttCk2RZnr",
        "outputId": "9428e6ee-1028-45d8-b1f5-722d388261ce",
        "colab": {
          "base_uri": "https://localhost:8080/",
          "height": 228
        }
      },
      "source": [
        "full_vtubers = pd.DataFrame({'name': vtubers,\n",
        "'info': ['Comedian | nice person', 'Kind | nice voice', 'crazy  funny', 'funny | lazy', 'Yandere | kawaii',\n",
        "'Elite | Elite']})\n",
        "\n",
        "full_vtubers"
      ],
      "execution_count": 22,
      "outputs": [
        {
          "output_type": "execute_result",
          "data": {
            "text/html": [
              "<div>\n",
              "<style scoped>\n",
              "    .dataframe tbody tr th:only-of-type {\n",
              "        vertical-align: middle;\n",
              "    }\n",
              "\n",
              "    .dataframe tbody tr th {\n",
              "        vertical-align: top;\n",
              "    }\n",
              "\n",
              "    .dataframe thead th {\n",
              "        text-align: right;\n",
              "    }\n",
              "</style>\n",
              "<table border=\"1\" class=\"dataframe\">\n",
              "  <thead>\n",
              "    <tr style=\"text-align: right;\">\n",
              "      <th></th>\n",
              "      <th>name</th>\n",
              "      <th>info</th>\n",
              "    </tr>\n",
              "  </thead>\n",
              "  <tbody>\n",
              "    <tr>\n",
              "      <th>0</th>\n",
              "      <td>Usada Pekora</td>\n",
              "      <td>Comedian | nice person</td>\n",
              "    </tr>\n",
              "    <tr>\n",
              "      <th>1</th>\n",
              "      <td>Nekomata Okayuu</td>\n",
              "      <td>Kind | nice voice</td>\n",
              "    </tr>\n",
              "    <tr>\n",
              "      <th>2</th>\n",
              "      <td>Inukami Korone</td>\n",
              "      <td>crazy  funny</td>\n",
              "    </tr>\n",
              "    <tr>\n",
              "      <th>3</th>\n",
              "      <td>Murasaki Shion</td>\n",
              "      <td>funny | lazy</td>\n",
              "    </tr>\n",
              "    <tr>\n",
              "      <th>4</th>\n",
              "      <td>Uruha Rushia</td>\n",
              "      <td>Yandere | kawaii</td>\n",
              "    </tr>\n",
              "    <tr>\n",
              "      <th>5</th>\n",
              "      <td>Sakura Miko</td>\n",
              "      <td>Elite | Elite</td>\n",
              "    </tr>\n",
              "  </tbody>\n",
              "</table>\n",
              "</div>"
            ],
            "text/plain": [
              "              name                    info\n",
              "0     Usada Pekora  Comedian | nice person\n",
              "1  Nekomata Okayuu       Kind | nice voice\n",
              "2   Inukami Korone            crazy  funny\n",
              "3   Murasaki Shion            funny | lazy\n",
              "4     Uruha Rushia        Yandere | kawaii\n",
              "5      Sakura Miko           Elite | Elite"
            ]
          },
          "metadata": {
            "tags": []
          },
          "execution_count": 22
        }
      ]
    },
    {
      "cell_type": "code",
      "metadata": {
        "id": "B_-CtAFASGPc",
        "outputId": "f16a73b6-2c5a-44a4-9522-2b2b2aa5d999",
        "colab": {
          "base_uri": "https://localhost:8080/",
          "height": 228
        }
      },
      "source": [
        "# bin where 0 true and 1 is false\n",
        "full_vtubers['info'].str.get_dummies('|')"
      ],
      "execution_count": 23,
      "outputs": [
        {
          "output_type": "execute_result",
          "data": {
            "text/html": [
              "<div>\n",
              "<style scoped>\n",
              "    .dataframe tbody tr th:only-of-type {\n",
              "        vertical-align: middle;\n",
              "    }\n",
              "\n",
              "    .dataframe tbody tr th {\n",
              "        vertical-align: top;\n",
              "    }\n",
              "\n",
              "    .dataframe thead th {\n",
              "        text-align: right;\n",
              "    }\n",
              "</style>\n",
              "<table border=\"1\" class=\"dataframe\">\n",
              "  <thead>\n",
              "    <tr style=\"text-align: right;\">\n",
              "      <th></th>\n",
              "      <th>Elite</th>\n",
              "      <th>kawaii</th>\n",
              "      <th>lazy</th>\n",
              "      <th>nice person</th>\n",
              "      <th>nice voice</th>\n",
              "      <th>Comedian</th>\n",
              "      <th>Elite</th>\n",
              "      <th>Kind</th>\n",
              "      <th>Yandere</th>\n",
              "      <th>crazy  funny</th>\n",
              "      <th>funny</th>\n",
              "    </tr>\n",
              "  </thead>\n",
              "  <tbody>\n",
              "    <tr>\n",
              "      <th>0</th>\n",
              "      <td>0</td>\n",
              "      <td>0</td>\n",
              "      <td>0</td>\n",
              "      <td>1</td>\n",
              "      <td>0</td>\n",
              "      <td>1</td>\n",
              "      <td>0</td>\n",
              "      <td>0</td>\n",
              "      <td>0</td>\n",
              "      <td>0</td>\n",
              "      <td>0</td>\n",
              "    </tr>\n",
              "    <tr>\n",
              "      <th>1</th>\n",
              "      <td>0</td>\n",
              "      <td>0</td>\n",
              "      <td>0</td>\n",
              "      <td>0</td>\n",
              "      <td>1</td>\n",
              "      <td>0</td>\n",
              "      <td>0</td>\n",
              "      <td>1</td>\n",
              "      <td>0</td>\n",
              "      <td>0</td>\n",
              "      <td>0</td>\n",
              "    </tr>\n",
              "    <tr>\n",
              "      <th>2</th>\n",
              "      <td>0</td>\n",
              "      <td>0</td>\n",
              "      <td>0</td>\n",
              "      <td>0</td>\n",
              "      <td>0</td>\n",
              "      <td>0</td>\n",
              "      <td>0</td>\n",
              "      <td>0</td>\n",
              "      <td>0</td>\n",
              "      <td>1</td>\n",
              "      <td>0</td>\n",
              "    </tr>\n",
              "    <tr>\n",
              "      <th>3</th>\n",
              "      <td>0</td>\n",
              "      <td>0</td>\n",
              "      <td>1</td>\n",
              "      <td>0</td>\n",
              "      <td>0</td>\n",
              "      <td>0</td>\n",
              "      <td>0</td>\n",
              "      <td>0</td>\n",
              "      <td>0</td>\n",
              "      <td>0</td>\n",
              "      <td>1</td>\n",
              "    </tr>\n",
              "    <tr>\n",
              "      <th>4</th>\n",
              "      <td>0</td>\n",
              "      <td>1</td>\n",
              "      <td>0</td>\n",
              "      <td>0</td>\n",
              "      <td>0</td>\n",
              "      <td>0</td>\n",
              "      <td>0</td>\n",
              "      <td>0</td>\n",
              "      <td>1</td>\n",
              "      <td>0</td>\n",
              "      <td>0</td>\n",
              "    </tr>\n",
              "    <tr>\n",
              "      <th>5</th>\n",
              "      <td>1</td>\n",
              "      <td>0</td>\n",
              "      <td>0</td>\n",
              "      <td>0</td>\n",
              "      <td>0</td>\n",
              "      <td>0</td>\n",
              "      <td>1</td>\n",
              "      <td>0</td>\n",
              "      <td>0</td>\n",
              "      <td>0</td>\n",
              "      <td>0</td>\n",
              "    </tr>\n",
              "  </tbody>\n",
              "</table>\n",
              "</div>"
            ],
            "text/plain": [
              "    Elite   kawaii   lazy   nice person  ...  Kind   Yandere   crazy  funny  funny \n",
              "0       0        0      0             1  ...      0         0             0       0\n",
              "1       0        0      0             0  ...      1         0             0       0\n",
              "2       0        0      0             0  ...      0         0             1       0\n",
              "3       0        0      1             0  ...      0         0             0       1\n",
              "4       0        1      0             0  ...      0         1             0       0\n",
              "5       1        0      0             0  ...      0         0             0       0\n",
              "\n",
              "[6 rows x 11 columns]"
            ]
          },
          "metadata": {
            "tags": []
          },
          "execution_count": 23
        }
      ]
    },
    {
      "cell_type": "markdown",
      "metadata": {
        "id": "ZVCoUFII6WIx"
      },
      "source": [
        "## Working with Time Series"
      ]
    },
    {
      "cell_type": "code",
      "metadata": {
        "id": "iY0jkXUw5kXH",
        "outputId": "bbb0723e-ebc4-41cd-8acc-7f5414a96196",
        "colab": {
          "base_uri": "https://localhost:8080/",
          "height": 35
        }
      },
      "source": [
        "from datetime import datetime\n",
        "import pandas as pd\n",
        "date = datetime(year = 2020, month = 11, day = 1)\n",
        "date"
      ],
      "execution_count": 24,
      "outputs": [
        {
          "output_type": "execute_result",
          "data": {
            "text/plain": [
              "datetime.datetime(2020, 11, 1, 0, 0)"
            ]
          },
          "metadata": {
            "tags": []
          },
          "execution_count": 24
        }
      ]
    },
    {
      "cell_type": "code",
      "metadata": {
        "id": "TXXE3Heb7B2m",
        "outputId": "0a6a6560-c39f-4f43-94ae-3aff7090ddba",
        "colab": {
          "base_uri": "https://localhost:8080/",
          "height": 35
        }
      },
      "source": [
        "date.strftime('%A')"
      ],
      "execution_count": 25,
      "outputs": [
        {
          "output_type": "execute_result",
          "data": {
            "application/vnd.google.colaboratory.intrinsic+json": {
              "type": "string"
            },
            "text/plain": [
              "'Sunday'"
            ]
          },
          "metadata": {
            "tags": []
          },
          "execution_count": 25
        }
      ]
    },
    {
      "cell_type": "code",
      "metadata": {
        "id": "ZkGRbWHv7Sis",
        "outputId": "61b34720-3999-49d1-9da1-b3d64044dc52",
        "colab": {
          "base_uri": "https://localhost:8080/",
          "height": 35
        }
      },
      "source": [
        "import numpy as np\n",
        "date = np.array('2020-11-01', dtype = np.datetime64)\n",
        "date"
      ],
      "execution_count": 26,
      "outputs": [
        {
          "output_type": "execute_result",
          "data": {
            "text/plain": [
              "array('2020-11-01', dtype='datetime64[D]')"
            ]
          },
          "metadata": {
            "tags": []
          },
          "execution_count": 26
        }
      ]
    },
    {
      "cell_type": "code",
      "metadata": {
        "id": "ltdxN8NJ9I5B",
        "outputId": "0b479753-93ff-4e7f-d118-56136fa5b784",
        "colab": {
          "base_uri": "https://localhost:8080/",
          "height": 90
        }
      },
      "source": [
        "#vectorized operations\n",
        "date + np.arange(12)"
      ],
      "execution_count": 27,
      "outputs": [
        {
          "output_type": "execute_result",
          "data": {
            "text/plain": [
              "array(['2020-11-01', '2020-11-02', '2020-11-03', '2020-11-04',\n",
              "       '2020-11-05', '2020-11-06', '2020-11-07', '2020-11-08',\n",
              "       '2020-11-09', '2020-11-10', '2020-11-11', '2020-11-12'],\n",
              "      dtype='datetime64[D]')"
            ]
          },
          "metadata": {
            "tags": []
          },
          "execution_count": 27
        }
      ]
    },
    {
      "cell_type": "code",
      "metadata": {
        "id": "KCGHBnia-a3t",
        "outputId": "7383ad64-4ddf-45d2-b4f4-1e1b6282cce0",
        "colab": {
          "base_uri": "https://localhost:8080/",
          "height": 35
        }
      },
      "source": [
        "np.datetime64('2015-07-04 12:00')"
      ],
      "execution_count": 28,
      "outputs": [
        {
          "output_type": "execute_result",
          "data": {
            "text/plain": [
              "numpy.datetime64('2015-07-04T12:00')"
            ]
          },
          "metadata": {
            "tags": []
          },
          "execution_count": 28
        }
      ]
    },
    {
      "cell_type": "code",
      "metadata": {
        "id": "vLcvJdd5H4Gy",
        "outputId": "abe1e3ef-92bb-4647-e2ba-06d586b20603",
        "colab": {
          "base_uri": "https://localhost:8080/",
          "height": 35
        }
      },
      "source": [
        "np.datetime64('2015-07-04 12:00', 'ns')"
      ],
      "execution_count": 29,
      "outputs": [
        {
          "output_type": "execute_result",
          "data": {
            "text/plain": [
              "numpy.datetime64('2015-07-04T12:00:00.000000000')"
            ]
          },
          "metadata": {
            "tags": []
          },
          "execution_count": 29
        }
      ]
    },
    {
      "cell_type": "code",
      "metadata": {
        "id": "ZPp7gnn_UAan",
        "outputId": "ce8e8d2d-2544-48c2-be9b-e78eaa54bc48",
        "colab": {
          "base_uri": "https://localhost:8080/",
          "height": 108
        }
      },
      "source": [
        "#Pandas Time Series: Indexing by Time\n",
        "import pandas as pd\n",
        "index = pd.DatetimeIndex(['2015-09-11', '2015-10-12',\n",
        "                          '2015-07-04', '2015-08-04'])\n",
        "data = pd.Series([0,1,2,3], index = index)\n",
        "data"
      ],
      "execution_count": 30,
      "outputs": [
        {
          "output_type": "execute_result",
          "data": {
            "text/plain": [
              "2015-09-11    0\n",
              "2015-10-12    1\n",
              "2015-07-04    2\n",
              "2015-08-04    3\n",
              "dtype: int64"
            ]
          },
          "metadata": {
            "tags": []
          },
          "execution_count": 30
        }
      ]
    },
    {
      "cell_type": "code",
      "metadata": {
        "id": "SIpdTENLVr35",
        "outputId": "1895a690-8c7c-4417-d65f-bda28994bb87",
        "colab": {
          "base_uri": "https://localhost:8080/",
          "height": 35
        }
      },
      "source": [
        "data['2015-09-11' : '2015-07-04']"
      ],
      "execution_count": 31,
      "outputs": [
        {
          "output_type": "execute_result",
          "data": {
            "text/plain": [
              "Series([], dtype: int64)"
            ]
          },
          "metadata": {
            "tags": []
          },
          "execution_count": 31
        }
      ]
    },
    {
      "cell_type": "code",
      "metadata": {
        "id": "jEW6ezsfWXzv",
        "outputId": "9eb9a35c-78cc-4e23-8800-44079bccae21",
        "colab": {
          "base_uri": "https://localhost:8080/",
          "height": 108
        }
      },
      "source": [
        "data['2015']"
      ],
      "execution_count": 32,
      "outputs": [
        {
          "output_type": "execute_result",
          "data": {
            "text/plain": [
              "2015-09-11    0\n",
              "2015-10-12    1\n",
              "2015-07-04    2\n",
              "2015-08-04    3\n",
              "dtype: int64"
            ]
          },
          "metadata": {
            "tags": []
          },
          "execution_count": 32
        }
      ]
    },
    {
      "cell_type": "code",
      "metadata": {
        "id": "SZXGY-2pW9cl",
        "outputId": "58ffba37-5a0d-41c9-c155-d909a4703d32",
        "colab": {
          "base_uri": "https://localhost:8080/",
          "height": 72
        }
      },
      "source": [
        "dates = pd.to_datetime([datetime(2015,7,3), '4 of July, 2015',\n",
        "                        '2015-Jul-6', '07-07-2015', '20150708'])\n",
        "dates"
      ],
      "execution_count": 33,
      "outputs": [
        {
          "output_type": "execute_result",
          "data": {
            "text/plain": [
              "DatetimeIndex(['2015-07-03', '2015-07-04', '2015-07-06', '2015-07-07',\n",
              "               '2015-07-08'],\n",
              "              dtype='datetime64[ns]', freq=None)"
            ]
          },
          "metadata": {
            "tags": []
          },
          "execution_count": 33
        }
      ]
    },
    {
      "cell_type": "code",
      "metadata": {
        "id": "Ew8WGD-8X_F9",
        "outputId": "8351126c-85ef-4ea3-83df-f801217d6264",
        "colab": {
          "base_uri": "https://localhost:8080/",
          "height": 72
        }
      },
      "source": [
        "#indicate daily frequency\n",
        "\n",
        "dates.to_period('D')"
      ],
      "execution_count": 34,
      "outputs": [
        {
          "output_type": "execute_result",
          "data": {
            "text/plain": [
              "PeriodIndex(['2015-07-03', '2015-07-04', '2015-07-06', '2015-07-07',\n",
              "             '2015-07-08'],\n",
              "            dtype='period[D]', freq='D')"
            ]
          },
          "metadata": {
            "tags": []
          },
          "execution_count": 34
        }
      ]
    },
    {
      "cell_type": "code",
      "metadata": {
        "id": "FdtSuzxRafbw",
        "outputId": "5aa8d680-aa0b-4b26-b110-e0ce6e9c0536",
        "colab": {
          "base_uri": "https://localhost:8080/",
          "height": 35
        }
      },
      "source": [
        "dates - dates[0]"
      ],
      "execution_count": 35,
      "outputs": [
        {
          "output_type": "execute_result",
          "data": {
            "text/plain": [
              "TimedeltaIndex(['0 days', '1 days', '3 days', '4 days', '5 days'], dtype='timedelta64[ns]', freq=None)"
            ]
          },
          "metadata": {
            "tags": []
          },
          "execution_count": 35
        }
      ]
    },
    {
      "cell_type": "code",
      "metadata": {
        "id": "NvfHcJCCarM8",
        "outputId": "2befbf56-b9b5-4a82-996d-69af490f9341",
        "colab": {
          "base_uri": "https://localhost:8080/",
          "height": 108
        }
      },
      "source": [
        "#pd.date_range() accepts a start date, an end date\n",
        "pd.date_range('2015-07-03', '2015-07-15')"
      ],
      "execution_count": 36,
      "outputs": [
        {
          "output_type": "execute_result",
          "data": {
            "text/plain": [
              "DatetimeIndex(['2015-07-03', '2015-07-04', '2015-07-05', '2015-07-06',\n",
              "               '2015-07-07', '2015-07-08', '2015-07-09', '2015-07-10',\n",
              "               '2015-07-11', '2015-07-12', '2015-07-13', '2015-07-14',\n",
              "               '2015-07-15'],\n",
              "              dtype='datetime64[ns]', freq='D')"
            ]
          },
          "metadata": {
            "tags": []
          },
          "execution_count": 36
        }
      ]
    },
    {
      "cell_type": "code",
      "metadata": {
        "id": "ZM0Joz3nbJuV",
        "outputId": "3d9183a0-cfdd-4f70-db1b-9adf9b51eef1",
        "colab": {
          "base_uri": "https://localhost:8080/",
          "height": 90
        }
      },
      "source": [
        "pd.date_range('2015-07-03', periods = 10)"
      ],
      "execution_count": 37,
      "outputs": [
        {
          "output_type": "execute_result",
          "data": {
            "text/plain": [
              "DatetimeIndex(['2015-07-03', '2015-07-04', '2015-07-05', '2015-07-06',\n",
              "               '2015-07-07', '2015-07-08', '2015-07-09', '2015-07-10',\n",
              "               '2015-07-11', '2015-07-12'],\n",
              "              dtype='datetime64[ns]', freq='D')"
            ]
          },
          "metadata": {
            "tags": []
          },
          "execution_count": 37
        }
      ]
    },
    {
      "cell_type": "code",
      "metadata": {
        "id": "c3us1Woebhgl",
        "outputId": "5a7381ce-001f-4e34-99e6-e9fdaae76a16",
        "colab": {
          "base_uri": "https://localhost:8080/",
          "height": 145
        }
      },
      "source": [
        "#freque in hours \n",
        "pd.date_range('2015-07-03', periods = 12, freq='H')"
      ],
      "execution_count": 38,
      "outputs": [
        {
          "output_type": "execute_result",
          "data": {
            "text/plain": [
              "DatetimeIndex(['2015-07-03 00:00:00', '2015-07-03 01:00:00',\n",
              "               '2015-07-03 02:00:00', '2015-07-03 03:00:00',\n",
              "               '2015-07-03 04:00:00', '2015-07-03 05:00:00',\n",
              "               '2015-07-03 06:00:00', '2015-07-03 07:00:00',\n",
              "               '2015-07-03 08:00:00', '2015-07-03 09:00:00',\n",
              "               '2015-07-03 10:00:00', '2015-07-03 11:00:00'],\n",
              "              dtype='datetime64[ns]', freq='H')"
            ]
          },
          "metadata": {
            "tags": []
          },
          "execution_count": 38
        }
      ]
    },
    {
      "cell_type": "code",
      "metadata": {
        "id": "l_Ondxv6bxW0",
        "outputId": "1803ae4e-1ac2-4cdb-9ce0-786298c16c42",
        "colab": {
          "base_uri": "https://localhost:8080/",
          "height": 72
        }
      },
      "source": [
        "#months\n",
        "pd.date_range('2015-07-03', periods = 6, freq= 'M' )"
      ],
      "execution_count": 39,
      "outputs": [
        {
          "output_type": "execute_result",
          "data": {
            "text/plain": [
              "DatetimeIndex(['2015-07-31', '2015-08-31', '2015-09-30', '2015-10-31',\n",
              "               '2015-11-30', '2015-12-31'],\n",
              "              dtype='datetime64[ns]', freq='M')"
            ]
          },
          "metadata": {
            "tags": []
          },
          "execution_count": 39
        }
      ]
    },
    {
      "cell_type": "code",
      "metadata": {
        "id": "dycVhBzkcflH",
        "outputId": "e2e6328b-3640-4370-94a5-964170f6faf7",
        "colab": {
          "base_uri": "https://localhost:8080/",
          "height": 108
        }
      },
      "source": [
        "#in hours using delta\n",
        "pd.timedelta_range(0, periods = 12, freq= 'H')"
      ],
      "execution_count": 40,
      "outputs": [
        {
          "output_type": "execute_result",
          "data": {
            "text/plain": [
              "TimedeltaIndex(['0 days 00:00:00', '0 days 01:00:00', '0 days 02:00:00',\n",
              "                '0 days 03:00:00', '0 days 04:00:00', '0 days 05:00:00',\n",
              "                '0 days 06:00:00', '0 days 07:00:00', '0 days 08:00:00',\n",
              "                '0 days 09:00:00', '0 days 10:00:00', '0 days 11:00:00'],\n",
              "               dtype='timedelta64[ns]', freq='H')"
            ]
          },
          "metadata": {
            "tags": []
          },
          "execution_count": 40
        }
      ]
    },
    {
      "cell_type": "code",
      "metadata": {
        "id": "I6wVM8nvdBq1",
        "outputId": "1b3d536a-e485-4b34-ea5e-5a295214bd3d",
        "colab": {
          "base_uri": "https://localhost:8080/",
          "height": 90
        }
      },
      "source": [
        "pd.timedelta_range(0, periods=9, freq=\"2H30T\")"
      ],
      "execution_count": 41,
      "outputs": [
        {
          "output_type": "execute_result",
          "data": {
            "text/plain": [
              "TimedeltaIndex(['0 days 00:00:00', '0 days 02:30:00', '0 days 05:00:00',\n",
              "                '0 days 07:30:00', '0 days 10:00:00', '0 days 12:30:00',\n",
              "                '0 days 15:00:00', '0 days 17:30:00', '0 days 20:00:00'],\n",
              "               dtype='timedelta64[ns]', freq='150T')"
            ]
          },
          "metadata": {
            "tags": []
          },
          "execution_count": 41
        }
      ]
    },
    {
      "cell_type": "code",
      "metadata": {
        "id": "aHz_9eID1Kpp",
        "outputId": "ecf1f24a-cd92-4b68-9a9c-4a8ca5f8c802",
        "colab": {
          "base_uri": "https://localhost:8080/",
          "height": 228
        }
      },
      "source": [
        "from pandas_datareader import data\n",
        "yah = data.DataReader('GOOG', start='2004', end='2020', data_source='yahoo')\n",
        "yah.head()"
      ],
      "execution_count": 42,
      "outputs": [
        {
          "output_type": "execute_result",
          "data": {
            "text/html": [
              "<div>\n",
              "<style scoped>\n",
              "    .dataframe tbody tr th:only-of-type {\n",
              "        vertical-align: middle;\n",
              "    }\n",
              "\n",
              "    .dataframe tbody tr th {\n",
              "        vertical-align: top;\n",
              "    }\n",
              "\n",
              "    .dataframe thead th {\n",
              "        text-align: right;\n",
              "    }\n",
              "</style>\n",
              "<table border=\"1\" class=\"dataframe\">\n",
              "  <thead>\n",
              "    <tr style=\"text-align: right;\">\n",
              "      <th></th>\n",
              "      <th>High</th>\n",
              "      <th>Low</th>\n",
              "      <th>Open</th>\n",
              "      <th>Close</th>\n",
              "      <th>Volume</th>\n",
              "      <th>Adj Close</th>\n",
              "    </tr>\n",
              "    <tr>\n",
              "      <th>Date</th>\n",
              "      <th></th>\n",
              "      <th></th>\n",
              "      <th></th>\n",
              "      <th></th>\n",
              "      <th></th>\n",
              "      <th></th>\n",
              "    </tr>\n",
              "  </thead>\n",
              "  <tbody>\n",
              "    <tr>\n",
              "      <th>2004-08-19</th>\n",
              "      <td>51.835709</td>\n",
              "      <td>47.800831</td>\n",
              "      <td>49.813286</td>\n",
              "      <td>49.982655</td>\n",
              "      <td>44871300.0</td>\n",
              "      <td>49.982655</td>\n",
              "    </tr>\n",
              "    <tr>\n",
              "      <th>2004-08-20</th>\n",
              "      <td>54.336334</td>\n",
              "      <td>50.062355</td>\n",
              "      <td>50.316402</td>\n",
              "      <td>53.952770</td>\n",
              "      <td>22942800.0</td>\n",
              "      <td>53.952770</td>\n",
              "    </tr>\n",
              "    <tr>\n",
              "      <th>2004-08-23</th>\n",
              "      <td>56.528118</td>\n",
              "      <td>54.321388</td>\n",
              "      <td>55.168217</td>\n",
              "      <td>54.495735</td>\n",
              "      <td>18342800.0</td>\n",
              "      <td>54.495735</td>\n",
              "    </tr>\n",
              "    <tr>\n",
              "      <th>2004-08-24</th>\n",
              "      <td>55.591629</td>\n",
              "      <td>51.591621</td>\n",
              "      <td>55.412300</td>\n",
              "      <td>52.239193</td>\n",
              "      <td>15319700.0</td>\n",
              "      <td>52.239193</td>\n",
              "    </tr>\n",
              "    <tr>\n",
              "      <th>2004-08-25</th>\n",
              "      <td>53.798351</td>\n",
              "      <td>51.746044</td>\n",
              "      <td>52.284027</td>\n",
              "      <td>52.802086</td>\n",
              "      <td>9232100.0</td>\n",
              "      <td>52.802086</td>\n",
              "    </tr>\n",
              "  </tbody>\n",
              "</table>\n",
              "</div>"
            ],
            "text/plain": [
              "                 High        Low       Open      Close      Volume  Adj Close\n",
              "Date                                                                         \n",
              "2004-08-19  51.835709  47.800831  49.813286  49.982655  44871300.0  49.982655\n",
              "2004-08-20  54.336334  50.062355  50.316402  53.952770  22942800.0  53.952770\n",
              "2004-08-23  56.528118  54.321388  55.168217  54.495735  18342800.0  54.495735\n",
              "2004-08-24  55.591629  51.591621  55.412300  52.239193  15319700.0  52.239193\n",
              "2004-08-25  53.798351  51.746044  52.284027  52.802086   9232100.0  52.802086"
            ]
          },
          "metadata": {
            "tags": []
          },
          "execution_count": 42
        }
      ]
    },
    {
      "cell_type": "code",
      "metadata": {
        "id": "o2p6l5BoKYdm"
      },
      "source": [
        "yah = yah['Close']"
      ],
      "execution_count": 43,
      "outputs": []
    },
    {
      "cell_type": "code",
      "metadata": {
        "id": "BEYLOAMESOYx",
        "outputId": "16ba125b-a837-4516-ecff-d4f9aead51ec",
        "colab": {
          "base_uri": "https://localhost:8080/",
          "height": 374
        }
      },
      "source": [
        "%matplotlib inline\n",
        "import matplotlib.pyplot as plt\n",
        "import seaborn; seaborn.set()\n",
        "yah.plot(figsize = (10,6));\n"
      ],
      "execution_count": 44,
      "outputs": [
        {
          "output_type": "display_data",
          "data": {
            "image/png": "[encoded data removed]",
            "text/plain": [
              "<Figure size 720x432 with 1 Axes>"
            ]
          },
          "metadata": {
            "tags": []
          }
        }
      ]
    },
    {
      "cell_type": "code",
      "metadata": {
        "id": "YoCKEzp8SlNq",
        "outputId": "ba86130c-8b66-4fb6-8d30-393e88bb0acd",
        "colab": {
          "base_uri": "https://localhost:8080/",
          "height": 472
        }
      },
      "source": [
        "#Resampling and converting frequencies\n",
        "yah.plot(alpha = 0.5, style = '-', figsize= (17,8))\n",
        "yah.resample('BA').mean().plot(style = ':', figsize= (17,8))\n",
        "yah.asfreq('BA').plot(style = '--', figsize= (17,8))\n",
        "plt.legend(['imput','resample', 'asfreq'],\n",
        "           loc = 'upper left');"
      ],
      "execution_count": 45,
      "outputs": [
        {
          "output_type": "display_data",
          "data": {
            "image/png": "[encoded data removed]",
            "text/plain": [
              "<Figure size 1224x576 with 1 Axes>"
            ]
          },
          "metadata": {
            "tags": []
          }
        }
      ]
    },
    {
      "cell_type": "code",
      "metadata": {
        "id": "yRa8kNj2Y_am",
        "outputId": "b31b76c7-b763-4f0f-e4eb-7a3ec9b625a9",
        "colab": {
          "base_uri": "https://localhost:8080/",
          "height": 417
        }
      },
      "source": [
        "#resample the business day\n",
        "fig, ax = plt.subplots(2, sharex=True)\n",
        "data = yah.iloc[:10]\n",
        "\n",
        "data.asfreq('D').plot(ax = ax[0], marker = 'o')\n",
        "\n",
        "data.asfreq('D', method = 'bfill').plot(ax = ax[1], style = '-o', figsize= (12,6))\n",
        "data.asfreq('D', method = 'ffill').plot(ax = ax[1], style = '--o', figsize= (12,6))\n",
        "ax[1].legend(['back-fill', 'forward-fill']);"
      ],
      "execution_count": 46,
      "outputs": [
        {
          "output_type": "display_data",
          "data": {
            "image/png": "[encoded data removed]",
            "text/plain": [
              "<Figure size 864x432 with 2 Axes>"
            ]
          },
          "metadata": {
            "tags": []
          }
        }
      ]
    },
    {
      "cell_type": "code",
      "metadata": {
        "id": "LgB7dbDAboa0",
        "outputId": "93a6f78b-c2d1-4f7d-fe2a-9e6c52fc8a0c",
        "colab": {
          "base_uri": "https://localhost:8080/",
          "height": 667
        }
      },
      "source": [
        "#Time-shifts\n",
        "#In short,the difference between them is that shift() shifts the data, while tshift() shifts the index. In both cases,\n",
        "\n",
        "fig, ax = plt.subplots(3, sharey=True)\n",
        "# apply a frequency to the data\n",
        "yah = yah.asfreq('D', method='pad')\n",
        "yah.plot(ax=ax[0])\n",
        "yah.shift(900).plot(ax=ax[1], figsize=(18,10))\n",
        "yah.tshift(900).plot(ax=ax[2])\n",
        "# legends and annotations\n",
        "local_max = pd.to_datetime('2007-11-05')\n",
        "\n",
        "offset = pd.Timedelta(900, 'D', )\n",
        "ax[0].legend(['input'], loc=2)\n",
        "ax[0].get_xticklabels()[4].set(weight='heavy', color='red')\n",
        "ax[0].axvline(local_max, alpha=0.3, color='red', )\n",
        "ax[1].legend(['shift(900)'], loc=2)\n",
        "ax[1].get_xticklabels()[4].set(weight='heavy', color='red')\n",
        "ax[1].axvline(local_max + offset, alpha=0.3, color='red')\n",
        "ax[2].legend(['tshift(900)'], loc=2)\n",
        "ax[2].get_xticklabels()[1].set(weight='heavy', color='red')\n",
        "ax[2].axvline(local_max + offset, alpha=0.3, color='red');\n"
      ],
      "execution_count": 60,
      "outputs": [
        {
          "output_type": "stream",
          "text": [
            "/usr/local/lib/python3.6/dist-packages/ipykernel_launcher.py:8: FutureWarning: tshift is deprecated and will be removed in a future version. Please use shift instead.\n",
            "  \n"
          ],
          "name": "stderr"
        },
        {
          "output_type": "display_data",
          "data": {
            "image/png": "[encoded data removed]",
            "text/plain": [
              "<Figure size 1296x720 with 3 Axes>"
            ]
          },
          "metadata": {
            "tags": []
          }
        }
      ]
    },
    {
      "cell_type": "code",
      "metadata": {
        "id": "FOWdkHVadmCJ",
        "outputId": "69d01e48-c956-4a68-d6f0-cd8fa0798b51",
        "colab": {
          "base_uri": "https://localhost:8080/",
          "height": 394
        }
      },
      "source": [
        "#computing differences over time\n",
        "plt.figure(figsize = (12,6))\n",
        "ROI = 100 * (yah.shift(-365) / yah - 1)\n",
        "ROI.plot()\n",
        "plt.ylabel('% Return on Investment');"
      ],
      "execution_count": 63,
      "outputs": [
        {
          "output_type": "display_data",
          "data": {
            "image/png": "[encoded data removed]",
            "text/plain": [
              "<Figure size 864x432 with 1 Axes>"
            ]
          },
          "metadata": {
            "tags": []
          }
        }
      ]
    },
    {
      "cell_type": "code",
      "metadata": {
        "id": "UsKSnVFhLVRj",
        "outputId": "16028f90-33ed-4d96-bf94-3bfcf2604a86",
        "colab": {
          "base_uri": "https://localhost:8080/",
          "height": 448
        }
      },
      "source": [
        "#Rolling windows\n",
        "# one-year centered rolling mean and standard deviation of the Yahoo stock prices\n",
        "\n",
        "rolling = yah.rolling(365, center=True)\n",
        "\n",
        "data = pd.DataFrame({'imput': yah, 'one-year rolling mean': rolling.mean(),'one-year rolling_std': rolling.std()})\n",
        "\n",
        "ax = data.plot(style = ['--', '_', '.'], figsize=(14,7))\n",
        "ax.lines[0].set_alpha(0.3);"
      ],
      "execution_count": 85,
      "outputs": [
        {
          "output_type": "display_data",
          "data": {
            "image/png": "[encoded data removed]",
            "text/plain": [
              "<Figure size 1008x504 with 1 Axes>"
            ]
          },
          "metadata": {
            "tags": []
          }
        }
      ]
    }
  ]
}