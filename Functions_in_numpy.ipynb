{
  "nbformat": 4,
  "nbformat_minor": 0,
  "metadata": {
    "colab": {
      "name": "Studying_numpy.ipynb",
      "provenance": [],
      "collapsed_sections": [
        "7TpLgO_CXM7y"
      ],
      "authorship_tag": "ABX9TyM8D3iGomFdLGUR1xtg2aSS"
    },
    "kernelspec": {
      "name": "python3",
      "display_name": "Python 3"
    }
  },
  "cells": [
    {
      "cell_type": "markdown",
      "metadata": {
        "id": "zJfuvLh6Y_QW"
      },
      "source": [
        "# Lessons about functions of Numpy\n",
        "\n",
        "\n",
        "\n",
        "### Source book : Python Data Science HandBook By: Jaker VanderPlas"
      ]
    },
    {
      "cell_type": "code",
      "metadata": {
        "id": "JC7eW4NuS95Q",
        "outputId": "6ce38d30-b3bf-466f-93ee-c3b9e25756ad",
        "colab": {
          "base_uri": "https://localhost:8080/"
        }
      },
      "source": [
        "L = list(range(10))\n",
        "L"
      ],
      "execution_count": 96,
      "outputs": [
        {
          "output_type": "execute_result",
          "data": {
            "text/plain": [
              "[0, 1, 2, 3, 4, 5, 6, 7, 8, 9]"
            ]
          },
          "metadata": {
            "tags": []
          },
          "execution_count": 96
        }
      ]
    },
    {
      "cell_type": "code",
      "metadata": {
        "id": "xT_QC2i3VgFj",
        "outputId": "c1c0b57a-cdec-4e4a-992c-f6ad32118e02",
        "colab": {
          "base_uri": "https://localhost:8080/"
        }
      },
      "source": [
        "type(L)"
      ],
      "execution_count": 97,
      "outputs": [
        {
          "output_type": "execute_result",
          "data": {
            "text/plain": [
              "list"
            ]
          },
          "metadata": {
            "tags": []
          },
          "execution_count": 97
        }
      ]
    },
    {
      "cell_type": "code",
      "metadata": {
        "id": "vmdwR4rxVq1D",
        "outputId": "af930124-3d94-4840-ca40-bd70ac65cf64",
        "colab": {
          "base_uri": "https://localhost:8080/"
        }
      },
      "source": [
        "#how to create a list\n",
        "\n",
        "L2 = [str(z) for z in L]\n",
        "L2"
      ],
      "execution_count": 98,
      "outputs": [
        {
          "output_type": "execute_result",
          "data": {
            "text/plain": [
              "['0', '1', '2', '3', '4', '5', '6', '7', '8', '9']"
            ]
          },
          "metadata": {
            "tags": []
          },
          "execution_count": 98
        }
      ]
    },
    {
      "cell_type": "code",
      "metadata": {
        "id": "_oyl5sJNWSSb",
        "outputId": "53405b3a-c909-4db0-eeab-6f53c13eeb08",
        "colab": {
          "base_uri": "https://localhost:8080/"
        }
      },
      "source": [
        "type(L2)"
      ],
      "execution_count": 99,
      "outputs": [
        {
          "output_type": "execute_result",
          "data": {
            "text/plain": [
              "list"
            ]
          },
          "metadata": {
            "tags": []
          },
          "execution_count": 99
        }
      ]
    },
    {
      "cell_type": "code",
      "metadata": {
        "id": "qvY-pLICWZ0O",
        "outputId": "804f825b-9d01-4986-f047-e8a62156123a",
        "colab": {
          "base_uri": "https://localhost:8080/"
        }
      },
      "source": [
        "#use () to create a list\n",
        "for value in range(1,5):    \n",
        "  print(value)"
      ],
      "execution_count": 100,
      "outputs": [
        {
          "output_type": "stream",
          "text": [
            "1\n",
            "2\n",
            "3\n",
            "4\n"
          ],
          "name": "stdout"
        }
      ]
    },
    {
      "cell_type": "code",
      "metadata": {
        "id": "o8DWiX_HYf8y",
        "outputId": "b48f8731-f5a7-4b4c-ca43-f6017410226f",
        "colab": {
          "base_uri": "https://localhost:8080/"
        }
      },
      "source": [
        "import array\n",
        "\n",
        "L3 = list(range(10))\n",
        "A = array.array('i', L)\n",
        "A"
      ],
      "execution_count": 101,
      "outputs": [
        {
          "output_type": "execute_result",
          "data": {
            "text/plain": [
              "array('i', [0, 1, 2, 3, 4, 5, 6, 7, 8, 9])"
            ]
          },
          "metadata": {
            "tags": []
          },
          "execution_count": 101
        }
      ]
    },
    {
      "cell_type": "code",
      "metadata": {
        "id": "JzWo7GbiZ7RJ"
      },
      "source": [
        "import numpy as np"
      ],
      "execution_count": 102,
      "outputs": []
    },
    {
      "cell_type": "code",
      "metadata": {
        "id": "ckP2jZfPfkDt",
        "outputId": "cef25601-0fa4-445f-99da-925fcfa7dc92",
        "colab": {
          "base_uri": "https://localhost:8080/"
        }
      },
      "source": [
        "np.array([1, 3, 4, 6, 11, 95, 46, 23])"
      ],
      "execution_count": 103,
      "outputs": [
        {
          "output_type": "execute_result",
          "data": {
            "text/plain": [
              "array([ 1,  3,  4,  6, 11, 95, 46, 23])"
            ]
          },
          "metadata": {
            "tags": []
          },
          "execution_count": 103
        }
      ]
    },
    {
      "cell_type": "code",
      "metadata": {
        "id": "4tq6kEyif0mg",
        "outputId": "9a287a1e-a39a-4c49-ef81-1785aa99de11",
        "colab": {
          "base_uri": "https://localhost:8080/"
        }
      },
      "source": [
        "np.arange(0,40,4)"
      ],
      "execution_count": 104,
      "outputs": [
        {
          "output_type": "execute_result",
          "data": {
            "text/plain": [
              "array([ 0,  4,  8, 12, 16, 20, 24, 28, 32, 36])"
            ]
          },
          "metadata": {
            "tags": []
          },
          "execution_count": 104
        }
      ]
    },
    {
      "cell_type": "code",
      "metadata": {
        "id": "ZOQ7n21VGBgu",
        "outputId": "a5be4974-82a9-40fe-e346-c3854c2a7a94",
        "colab": {
          "base_uri": "https://localhost:8080/"
        }
      },
      "source": [
        "np.linspace(0, 1, 5)  # Create an array of five values evenly spaced between 0 and 1"
      ],
      "execution_count": 105,
      "outputs": [
        {
          "output_type": "execute_result",
          "data": {
            "text/plain": [
              "array([0.  , 0.25, 0.5 , 0.75, 1.  ])"
            ]
          },
          "metadata": {
            "tags": []
          },
          "execution_count": 105
        }
      ]
    },
    {
      "cell_type": "code",
      "metadata": {
        "id": "LxaOMXG2GSJT",
        "outputId": "19643222-294c-4fc1-9019-cc54a3323980",
        "colab": {
          "base_uri": "https://localhost:8080/"
        }
      },
      "source": [
        "np.random.random((5,5))"
      ],
      "execution_count": 106,
      "outputs": [
        {
          "output_type": "execute_result",
          "data": {
            "text/plain": [
              "array([[0.61785601, 0.40297491, 0.43481653, 0.98403179, 0.52236689],\n",
              "       [0.67915227, 0.43879544, 0.48288683, 0.66542187, 0.13209955],\n",
              "       [0.8171501 , 0.62646272, 0.37618941, 0.62616374, 0.9897257 ],\n",
              "       [0.82785915, 0.8430057 , 0.11882973, 0.78231263, 0.83799328],\n",
              "       [0.42604735, 0.51089362, 0.96132588, 0.63089036, 0.89086967]])"
            ]
          },
          "metadata": {
            "tags": []
          },
          "execution_count": 106
        }
      ]
    },
    {
      "cell_type": "code",
      "metadata": {
        "id": "c9H_j3y6GdeC",
        "outputId": "5710b6b8-dce9-433a-b9b8-0b11dadeb951",
        "colab": {
          "base_uri": "https://localhost:8080/"
        }
      },
      "source": [
        "np.random.randint(0, 20,( 4,4))   #array of random integers in the interval"
      ],
      "execution_count": 107,
      "outputs": [
        {
          "output_type": "execute_result",
          "data": {
            "text/plain": [
              "array([[17,  4, 14,  8],\n",
              "       [ 9, 11, 14,  7],\n",
              "       [ 9,  7, 17,  8],\n",
              "       [ 1,  8, 18,  0]])"
            ]
          },
          "metadata": {
            "tags": []
          },
          "execution_count": 107
        }
      ]
    },
    {
      "cell_type": "code",
      "metadata": {
        "id": "I2X3PaHTHSnb",
        "outputId": "44a8ebbb-f831-4373-856c-cb6202f04bef",
        "colab": {
          "base_uri": "https://localhost:8080/"
        }
      },
      "source": [
        "## Create a 3x3 identity matrix\n",
        "np.eye(3)"
      ],
      "execution_count": 108,
      "outputs": [
        {
          "output_type": "execute_result",
          "data": {
            "text/plain": [
              "array([[1., 0., 0.],\n",
              "       [0., 1., 0.],\n",
              "       [0., 0., 1.]])"
            ]
          },
          "metadata": {
            "tags": []
          },
          "execution_count": 108
        }
      ]
    },
    {
      "cell_type": "code",
      "metadata": {
        "id": "r2R0q4zPHzDq",
        "outputId": "a9f79bcd-0a9f-4bea-d753-bab4e085a470",
        "colab": {
          "base_uri": "https://localhost:8080/"
        }
      },
      "source": [
        "import array\n",
        "L = list(range(10))\n",
        "A = array.array('i', L)\n",
        "A"
      ],
      "execution_count": 109,
      "outputs": [
        {
          "output_type": "execute_result",
          "data": {
            "text/plain": [
              "array('i', [0, 1, 2, 3, 4, 5, 6, 7, 8, 9])"
            ]
          },
          "metadata": {
            "tags": []
          },
          "execution_count": 109
        }
      ]
    },
    {
      "cell_type": "code",
      "metadata": {
        "id": "x42csSP0VZ9M"
      },
      "source": [
        "np.random.seed()\n"
      ],
      "execution_count": 110,
      "outputs": []
    },
    {
      "cell_type": "code",
      "metadata": {
        "id": "k8rPj79ndoDW",
        "outputId": "263571be-ede2-4269-a183-ea6358e5d40b",
        "colab": {
          "base_uri": "https://localhost:8080/"
        }
      },
      "source": [
        "# One-dimensional array\n",
        "x1 = np.random.randint(10, size= 6)  \n",
        "x1"
      ],
      "execution_count": 111,
      "outputs": [
        {
          "output_type": "execute_result",
          "data": {
            "text/plain": [
              "array([0, 4, 0, 2, 9, 8])"
            ]
          },
          "metadata": {
            "tags": []
          },
          "execution_count": 111
        }
      ]
    },
    {
      "cell_type": "code",
      "metadata": {
        "id": "0fLSqAmgd_DC",
        "outputId": "569e02ea-a0ae-4ace-fede-1039f3581236",
        "colab": {
          "base_uri": "https://localhost:8080/"
        }
      },
      "source": [
        "# Two-dimensional array\n",
        "x2 = np.random.randint(10, size = (3, 6))\n",
        "x2"
      ],
      "execution_count": 112,
      "outputs": [
        {
          "output_type": "execute_result",
          "data": {
            "text/plain": [
              "array([[9, 7, 1, 0, 6, 9],\n",
              "       [1, 9, 9, 3, 3, 8],\n",
              "       [6, 5, 7, 0, 5, 5]])"
            ]
          },
          "metadata": {
            "tags": []
          },
          "execution_count": 112
        }
      ]
    },
    {
      "cell_type": "code",
      "metadata": {
        "id": "9PHNr8a-efNi",
        "outputId": "ba24a382-f642-46ca-b6df-04cb9fd4b90b",
        "colab": {
          "base_uri": "https://localhost:8080/"
        }
      },
      "source": [
        "# Three-dimensional array\n",
        "x3 = np.random.randint(10, size=(3,4,5))      # 3 array with colums 4x5 in random numbers of 0 to 9\n",
        "x3"
      ],
      "execution_count": 113,
      "outputs": [
        {
          "output_type": "execute_result",
          "data": {
            "text/plain": [
              "array([[[3, 7, 9, 8, 5],\n",
              "        [6, 3, 2, 2, 1],\n",
              "        [2, 4, 5, 2, 2],\n",
              "        [8, 8, 1, 2, 6]],\n",
              "\n",
              "       [[9, 9, 8, 9, 0],\n",
              "        [9, 7, 7, 7, 1],\n",
              "        [2, 9, 1, 8, 8],\n",
              "        [1, 1, 7, 5, 8]],\n",
              "\n",
              "       [[6, 5, 3, 9, 5],\n",
              "        [7, 1, 3, 6, 9],\n",
              "        [6, 9, 4, 0, 5],\n",
              "        [7, 5, 3, 9, 6]]])"
            ]
          },
          "metadata": {
            "tags": []
          },
          "execution_count": 113
        }
      ]
    },
    {
      "cell_type": "code",
      "metadata": {
        "id": "piJxy4ghfm2x",
        "outputId": "991960d0-8cab-4679-96ef-fa3f98095b6e",
        "colab": {
          "base_uri": "https://localhost:8080/"
        }
      },
      "source": [
        "print('x3 ndim:' , x3.ndim)     #dimensions\n",
        "print('x3 shape' , x3.shape)    #size of each dimension\n",
        "print('x3 size', x3.size)       #total size of the array  \n",
        "print('x3 dtype:', x3.dtype)   #type of array\n",
        "print('x3 itemsize:', x3.itemsize)  #size in bytes of each list\n",
        "print('x3 nbytes', x3.nbytes)       #total size in bytes of the array"
      ],
      "execution_count": 114,
      "outputs": [
        {
          "output_type": "stream",
          "text": [
            "x3 ndim: 3\n",
            "x3 shape (3, 4, 5)\n",
            "x3 size 60\n",
            "x3 dtype: int64\n",
            "x3 itemsize: 8\n",
            "x3 nbytes 480\n"
          ],
          "name": "stdout"
        }
      ]
    },
    {
      "cell_type": "code",
      "metadata": {
        "id": "aysFzK0Lg4gs",
        "outputId": "e8e16c48-85a2-4739-a0a6-dad3ec59ba91",
        "colab": {
          "base_uri": "https://localhost:8080/"
        }
      },
      "source": [
        "x3 = np.arange(10)\n",
        "x3"
      ],
      "execution_count": 115,
      "outputs": [
        {
          "output_type": "execute_result",
          "data": {
            "text/plain": [
              "array([0, 1, 2, 3, 4, 5, 6, 7, 8, 9])"
            ]
          },
          "metadata": {
            "tags": []
          },
          "execution_count": 115
        }
      ]
    },
    {
      "cell_type": "code",
      "metadata": {
        "id": "hkJiPn8EQad3",
        "outputId": "0528b895-e4fa-4401-fa9c-8496f439be9e",
        "colab": {
          "base_uri": "https://localhost:8080/"
        }
      },
      "source": [
        "# first five elements\n",
        "x3[:5]"
      ],
      "execution_count": 116,
      "outputs": [
        {
          "output_type": "execute_result",
          "data": {
            "text/plain": [
              "array([0, 1, 2, 3, 4])"
            ]
          },
          "metadata": {
            "tags": []
          },
          "execution_count": 116
        }
      ]
    },
    {
      "cell_type": "code",
      "metadata": {
        "id": "-r2EqQxWQp4Q",
        "outputId": "946c076f-42c7-4fd4-b9fa-d10ec69273d9",
        "colab": {
          "base_uri": "https://localhost:8080/"
        }
      },
      "source": [
        "# elements after index 5\n",
        "x3[5:]"
      ],
      "execution_count": 117,
      "outputs": [
        {
          "output_type": "execute_result",
          "data": {
            "text/plain": [
              "array([5, 6, 7, 8, 9])"
            ]
          },
          "metadata": {
            "tags": []
          },
          "execution_count": 117
        }
      ]
    },
    {
      "cell_type": "code",
      "metadata": {
        "id": "md26JfZfQ6ri",
        "outputId": "31876c04-c227-457f-f41d-3e2384925942",
        "colab": {
          "base_uri": "https://localhost:8080/"
        }
      },
      "source": [
        "# middle subarray\n",
        "x3[3:7]"
      ],
      "execution_count": 118,
      "outputs": [
        {
          "output_type": "execute_result",
          "data": {
            "text/plain": [
              "array([3, 4, 5, 6])"
            ]
          },
          "metadata": {
            "tags": []
          },
          "execution_count": 118
        }
      ]
    },
    {
      "cell_type": "code",
      "metadata": {
        "id": "DeaNV6uvRFkR",
        "outputId": "36083b7d-1e03-4354-e3b4-0ef6c90b2d00",
        "colab": {
          "base_uri": "https://localhost:8080/"
        }
      },
      "source": [
        "#2 in 2\n",
        "x3[::2]"
      ],
      "execution_count": 119,
      "outputs": [
        {
          "output_type": "execute_result",
          "data": {
            "text/plain": [
              "array([0, 2, 4, 6, 8])"
            ]
          },
          "metadata": {
            "tags": []
          },
          "execution_count": 119
        }
      ]
    },
    {
      "cell_type": "code",
      "metadata": {
        "id": "B6ohD5KRRSrL",
        "outputId": "194dbe27-3a4f-41a4-d91b-425069d9e8c5",
        "colab": {
          "base_uri": "https://localhost:8080/"
        }
      },
      "source": [
        "x3[2::]  #2 until the end"
      ],
      "execution_count": 120,
      "outputs": [
        {
          "output_type": "execute_result",
          "data": {
            "text/plain": [
              "array([2, 3, 4, 5, 6, 7, 8, 9])"
            ]
          },
          "metadata": {
            "tags": []
          },
          "execution_count": 120
        }
      ]
    },
    {
      "cell_type": "code",
      "metadata": {
        "id": "qZort5j3RWCQ",
        "outputId": "6b88fc28-24db-4a29-cf20-9beb56450345",
        "colab": {
          "base_uri": "https://localhost:8080/"
        }
      },
      "source": [
        "#starting at index 1 , 2 in 2\n",
        "x3[1::2]"
      ],
      "execution_count": 121,
      "outputs": [
        {
          "output_type": "execute_result",
          "data": {
            "text/plain": [
              "array([1, 3, 5, 7, 9])"
            ]
          },
          "metadata": {
            "tags": []
          },
          "execution_count": 121
        }
      ]
    },
    {
      "cell_type": "code",
      "metadata": {
        "id": "GjbSr6z7SHaa",
        "outputId": "f561c7ae-6fe0-4c99-be3a-fd558a51c50e",
        "colab": {
          "base_uri": "https://localhost:8080/"
        }
      },
      "source": [
        "x3[2::1]"
      ],
      "execution_count": 122,
      "outputs": [
        {
          "output_type": "execute_result",
          "data": {
            "text/plain": [
              "array([2, 3, 4, 5, 6, 7, 8, 9])"
            ]
          },
          "metadata": {
            "tags": []
          },
          "execution_count": 122
        }
      ]
    },
    {
      "cell_type": "code",
      "metadata": {
        "id": "347qki6YSOUx",
        "outputId": "78ad5160-7df4-4aea-c624-83dd5cd5b933",
        "colab": {
          "base_uri": "https://localhost:8080/"
        }
      },
      "source": [
        "# all elements, reversed\n",
        "x3[::-1]"
      ],
      "execution_count": 123,
      "outputs": [
        {
          "output_type": "execute_result",
          "data": {
            "text/plain": [
              "array([9, 8, 7, 6, 5, 4, 3, 2, 1, 0])"
            ]
          },
          "metadata": {
            "tags": []
          },
          "execution_count": 123
        }
      ]
    },
    {
      "cell_type": "code",
      "metadata": {
        "id": "CTYagzOXSV3j",
        "outputId": "12aaf044-68e0-4f20-fbc7-e280340c1104",
        "colab": {
          "base_uri": "https://localhost:8080/"
        }
      },
      "source": [
        "x3[:-5]"
      ],
      "execution_count": 124,
      "outputs": [
        {
          "output_type": "execute_result",
          "data": {
            "text/plain": [
              "array([0, 1, 2, 3, 4])"
            ]
          },
          "metadata": {
            "tags": []
          },
          "execution_count": 124
        }
      ]
    },
    {
      "cell_type": "code",
      "metadata": {
        "id": "BbO-JD90SYR5",
        "outputId": "0e3b12e2-63fc-4a9c-c814-09a3483008d0",
        "colab": {
          "base_uri": "https://localhost:8080/"
        }
      },
      "source": [
        "# reversed every other from index 5\n",
        "x3[5::-1]"
      ],
      "execution_count": 125,
      "outputs": [
        {
          "output_type": "execute_result",
          "data": {
            "text/plain": [
              "array([5, 4, 3, 2, 1, 0])"
            ]
          },
          "metadata": {
            "tags": []
          },
          "execution_count": 125
        }
      ]
    },
    {
      "cell_type": "code",
      "metadata": {
        "id": "oN1D6ZrVSkIA",
        "outputId": "9780d022-edba-42c1-aa5b-9422b33b06fa",
        "colab": {
          "base_uri": "https://localhost:8080/"
        }
      },
      "source": [
        "x2"
      ],
      "execution_count": 126,
      "outputs": [
        {
          "output_type": "execute_result",
          "data": {
            "text/plain": [
              "array([[9, 7, 1, 0, 6, 9],\n",
              "       [1, 9, 9, 3, 3, 8],\n",
              "       [6, 5, 7, 0, 5, 5]])"
            ]
          },
          "metadata": {
            "tags": []
          },
          "execution_count": 126
        }
      ]
    },
    {
      "cell_type": "code",
      "metadata": {
        "id": "oPfvb8ZvTI5N",
        "outputId": "bae2a74d-ed79-419f-f03a-8a5b86da7119",
        "colab": {
          "base_uri": "https://localhost:8080/"
        }
      },
      "source": [
        "# two rows, three columns\n",
        "x2[:2, :3]"
      ],
      "execution_count": 127,
      "outputs": [
        {
          "output_type": "execute_result",
          "data": {
            "text/plain": [
              "array([[9, 7, 1],\n",
              "       [1, 9, 9]])"
            ]
          },
          "metadata": {
            "tags": []
          },
          "execution_count": 127
        }
      ]
    },
    {
      "cell_type": "code",
      "metadata": {
        "id": "Cs8IPHd-TR6Z",
        "outputId": "c7973543-17fb-452c-9218-c72780d13f5e",
        "colab": {
          "base_uri": "https://localhost:8080/"
        }
      },
      "source": [
        "# first column of x2\n",
        "x2[:, 0]"
      ],
      "execution_count": 128,
      "outputs": [
        {
          "output_type": "execute_result",
          "data": {
            "text/plain": [
              "array([9, 1, 6])"
            ]
          },
          "metadata": {
            "tags": []
          },
          "execution_count": 128
        }
      ]
    },
    {
      "cell_type": "code",
      "metadata": {
        "id": "7kerFpPoTw1h",
        "outputId": "07ef994f-7ee1-4131-e414-c18cc0c20dc5",
        "colab": {
          "base_uri": "https://localhost:8080/"
        }
      },
      "source": [
        "# first row of x2\n",
        "x2[0, :]"
      ],
      "execution_count": 129,
      "outputs": [
        {
          "output_type": "execute_result",
          "data": {
            "text/plain": [
              "array([9, 7, 1, 0, 6, 9])"
            ]
          },
          "metadata": {
            "tags": []
          },
          "execution_count": 129
        }
      ]
    },
    {
      "cell_type": "code",
      "metadata": {
        "id": "aK4X9Qx1T9zo",
        "outputId": "fae67dd3-6642-44bb-ca77-45f9be76e262",
        "colab": {
          "base_uri": "https://localhost:8080/"
        }
      },
      "source": [
        "#extract a 2×2 subarray\n",
        "x2_sub = x2[:2 , :2]\n",
        "x2_sub"
      ],
      "execution_count": 130,
      "outputs": [
        {
          "output_type": "execute_result",
          "data": {
            "text/plain": [
              "array([[9, 7],\n",
              "       [1, 9]])"
            ]
          },
          "metadata": {
            "tags": []
          },
          "execution_count": 130
        }
      ]
    },
    {
      "cell_type": "code",
      "metadata": {
        "id": "YFHHDf8NWyjp",
        "outputId": "a1030862-ba17-499d-f6f2-2c43bdecedc6",
        "colab": {
          "base_uri": "https://localhost:8080/"
        }
      },
      "source": [
        "#modify this subarray , the \"8\" to 99\n",
        "x2_sub[0, 0] = 99\n",
        "x2"
      ],
      "execution_count": 131,
      "outputs": [
        {
          "output_type": "execute_result",
          "data": {
            "text/plain": [
              "array([[99,  7,  1,  0,  6,  9],\n",
              "       [ 1,  9,  9,  3,  3,  8],\n",
              "       [ 6,  5,  7,  0,  5,  5]])"
            ]
          },
          "metadata": {
            "tags": []
          },
          "execution_count": 131
        }
      ]
    },
    {
      "cell_type": "code",
      "metadata": {
        "id": "y9fQHdNEXC3h",
        "outputId": "dd797c98-fe36-4f36-a087-a1286a93a348",
        "colab": {
          "base_uri": "https://localhost:8080/"
        }
      },
      "source": [
        "#using reshape\n",
        "b1 = np.arange(1,10).reshape((3, 3))\n",
        "b1"
      ],
      "execution_count": 132,
      "outputs": [
        {
          "output_type": "execute_result",
          "data": {
            "text/plain": [
              "array([[1, 2, 3],\n",
              "       [4, 5, 6],\n",
              "       [7, 8, 9]])"
            ]
          },
          "metadata": {
            "tags": []
          },
          "execution_count": 132
        }
      ]
    },
    {
      "cell_type": "code",
      "metadata": {
        "id": "3WUIfldxY9qE",
        "outputId": "ebfebcfb-cfe2-46a6-dec9-c381fd748231",
        "colab": {
          "base_uri": "https://localhost:8080/"
        }
      },
      "source": [
        "#oncatenation\n",
        "x = np.array([1, 6 , 9])\n",
        "y = np.array([3, 9 , 1])\n",
        "\n",
        "np.concatenate([x, y])"
      ],
      "execution_count": 133,
      "outputs": [
        {
          "output_type": "execute_result",
          "data": {
            "text/plain": [
              "array([1, 6, 9, 3, 9, 1])"
            ]
          },
          "metadata": {
            "tags": []
          },
          "execution_count": 133
        }
      ]
    },
    {
      "cell_type": "code",
      "metadata": {
        "id": "icui53mba45b",
        "outputId": "aaf277d9-345c-43dd-c522-5de08ad3f9a2",
        "colab": {
          "base_uri": "https://localhost:8080/"
        }
      },
      "source": [
        "grid = np.array([[9,8,7],\n",
        "                [6,4,4]])\n",
        "np.concatenate([grid, grid])"
      ],
      "execution_count": 134,
      "outputs": [
        {
          "output_type": "execute_result",
          "data": {
            "text/plain": [
              "array([[9, 8, 7],\n",
              "       [6, 4, 4],\n",
              "       [9, 8, 7],\n",
              "       [6, 4, 4]])"
            ]
          },
          "metadata": {
            "tags": []
          },
          "execution_count": 134
        }
      ]
    },
    {
      "cell_type": "code",
      "metadata": {
        "id": "-BKP-rdxhS39",
        "outputId": "3235ac43-31cf-43be-bef4-1be390603d47",
        "colab": {
          "base_uri": "https://localhost:8080/"
        }
      },
      "source": [
        "#split array\n",
        "d = [1, 5 ,3 ,7, 8 ,9 , 0, 3, 7]\n",
        "g1, g2, g3 = np.split(d, [3,5])\n",
        "print ( g1, g2, g3)"
      ],
      "execution_count": 135,
      "outputs": [
        {
          "output_type": "stream",
          "text": [
            "[1 5 3] [7 8] [9 0 3 7]\n"
          ],
          "name": "stdout"
        }
      ]
    },
    {
      "cell_type": "code",
      "metadata": {
        "id": "jt3xx-DVimLJ",
        "outputId": "d7857af1-301f-4981-8bba-34e048ca8cee",
        "colab": {
          "base_uri": "https://localhost:8080/"
        }
      },
      "source": [
        "grid = np.arange(16).reshape((4, 4))\n",
        "grid"
      ],
      "execution_count": 136,
      "outputs": [
        {
          "output_type": "execute_result",
          "data": {
            "text/plain": [
              "array([[ 0,  1,  2,  3],\n",
              "       [ 4,  5,  6,  7],\n",
              "       [ 8,  9, 10, 11],\n",
              "       [12, 13, 14, 15]])"
            ]
          },
          "metadata": {
            "tags": []
          },
          "execution_count": 136
        }
      ]
    },
    {
      "cell_type": "code",
      "metadata": {
        "id": "b2TPD-y0kMdK",
        "outputId": "6dfd9c69-4c95-4387-b668-17b793670e92",
        "colab": {
          "base_uri": "https://localhost:8080/"
        }
      },
      "source": [
        "#getting 2 rooms\n",
        "upper, lower = np.vsplit(grid, [2])\n",
        "print (upper)\n"
      ],
      "execution_count": 137,
      "outputs": [
        {
          "output_type": "stream",
          "text": [
            "[[0 1 2 3]\n",
            " [4 5 6 7]]\n"
          ],
          "name": "stdout"
        }
      ]
    },
    {
      "cell_type": "code",
      "metadata": {
        "id": "wyCeLNaGliFB",
        "outputId": "4dd2d1bc-3c1e-452c-de35-874d4957d370",
        "colab": {
          "base_uri": "https://localhost:8080/"
        }
      },
      "source": [
        "print(lower)"
      ],
      "execution_count": 138,
      "outputs": [
        {
          "output_type": "stream",
          "text": [
            "[[ 8  9 10 11]\n",
            " [12 13 14 15]]\n"
          ],
          "name": "stdout"
        }
      ]
    },
    {
      "cell_type": "code",
      "metadata": {
        "id": "btu1nSWFlwXh",
        "outputId": "51274384-f460-4719-940a-8b8d81bc94bb",
        "colab": {
          "base_uri": "https://localhost:8080/"
        }
      },
      "source": [
        "x =np.arange(4)\n",
        "print(\"x  =\", x)\n"
      ],
      "execution_count": 139,
      "outputs": [
        {
          "output_type": "stream",
          "text": [
            "x  = [0 1 2 3]\n"
          ],
          "name": "stdout"
        }
      ]
    },
    {
      "cell_type": "code",
      "metadata": {
        "id": "HFrrL6DamARx",
        "outputId": "ed4fe566-6254-44fb-b1e8-be362930092e",
        "colab": {
          "base_uri": "https://localhost:8080/"
        }
      },
      "source": [
        "print(\"x + 5 =\", x + 5)"
      ],
      "execution_count": 140,
      "outputs": [
        {
          "output_type": "stream",
          "text": [
            "x + 5 = [5 6 7 8]\n"
          ],
          "name": "stdout"
        }
      ]
    },
    {
      "cell_type": "code",
      "metadata": {
        "id": "AOQRav6cp835",
        "outputId": "63018843-29eb-42dd-8738-1ca868872acf",
        "colab": {
          "base_uri": "https://localhost:8080/"
        }
      },
      "source": [
        "print(\"x - 5 =\", x - 5)"
      ],
      "execution_count": 141,
      "outputs": [
        {
          "output_type": "stream",
          "text": [
            "x - 5 = [-5 -4 -3 -2]\n"
          ],
          "name": "stdout"
        }
      ]
    },
    {
      "cell_type": "code",
      "metadata": {
        "id": "XEtmG36yqOSX",
        "outputId": "09f109ba-24f4-4efc-dbce-26f4512cb7d9",
        "colab": {
          "base_uri": "https://localhost:8080/"
        }
      },
      "source": [
        "print(\"x * 2 = \", x * 2)"
      ],
      "execution_count": 142,
      "outputs": [
        {
          "output_type": "stream",
          "text": [
            "x * 2 =  [0 2 4 6]\n"
          ],
          "name": "stdout"
        }
      ]
    },
    {
      "cell_type": "code",
      "metadata": {
        "id": "XFdnJl0OqcRP",
        "outputId": "942f6029-865e-4525-a3fd-154a5bc050bd",
        "colab": {
          "base_uri": "https://localhost:8080/"
        }
      },
      "source": [
        "print(\"x / 2 = \", x / 2)"
      ],
      "execution_count": 143,
      "outputs": [
        {
          "output_type": "stream",
          "text": [
            "x / 2 =  [0.  0.5 1.  1.5]\n"
          ],
          "name": "stdout"
        }
      ]
    },
    {
      "cell_type": "code",
      "metadata": {
        "id": "YOyOdxo5qmPv",
        "outputId": "554616c3-0982-4210-aaef-29a8bb4256ba",
        "colab": {
          "base_uri": "https://localhost:8080/"
        }
      },
      "source": [
        "np.add(x , 2)"
      ],
      "execution_count": 144,
      "outputs": [
        {
          "output_type": "execute_result",
          "data": {
            "text/plain": [
              "array([2, 3, 4, 5])"
            ]
          },
          "metadata": {
            "tags": []
          },
          "execution_count": 144
        }
      ]
    },
    {
      "cell_type": "markdown",
      "metadata": {
        "id": "7TpLgO_CXM7y"
      },
      "source": [
        "## #Trigonometric functions \n"
      ]
    },
    {
      "cell_type": "code",
      "metadata": {
        "id": "aNR1CTwbuY1k",
        "outputId": "ee157a37-9256-4898-d8ac-db30a5610326",
        "colab": {
          "base_uri": "https://localhost:8080/"
        }
      },
      "source": [
        "theta = np.linspace(0,np.pi, 3 )\n",
        "theta"
      ],
      "execution_count": 145,
      "outputs": [
        {
          "output_type": "execute_result",
          "data": {
            "text/plain": [
              "array([0.        , 1.57079633, 3.14159265])"
            ]
          },
          "metadata": {
            "tags": []
          },
          "execution_count": 145
        }
      ]
    },
    {
      "cell_type": "code",
      "metadata": {
        "id": "tncZhm10YtIS",
        "outputId": "3c1a4282-eddc-4c76-ec10-8d372db2eaba",
        "colab": {
          "base_uri": "https://localhost:8080/"
        }
      },
      "source": [
        "print(\"sin (theta) = \", np.sin(theta))"
      ],
      "execution_count": 146,
      "outputs": [
        {
          "output_type": "stream",
          "text": [
            "sin (theta) =  [0.0000000e+00 1.0000000e+00 1.2246468e-16]\n"
          ],
          "name": "stdout"
        }
      ]
    },
    {
      "cell_type": "code",
      "metadata": {
        "id": "Uri2xqQ8Zj26",
        "outputId": "cc3a04ea-5f2b-445c-f550-c4e341fcad43",
        "colab": {
          "base_uri": "https://localhost:8080/"
        }
      },
      "source": [
        "print(\"cos(theta) = \", np.cos(theta))"
      ],
      "execution_count": 147,
      "outputs": [
        {
          "output_type": "stream",
          "text": [
            "cos(theta) =  [ 1.000000e+00  6.123234e-17 -1.000000e+00]\n"
          ],
          "name": "stdout"
        }
      ]
    },
    {
      "cell_type": "code",
      "metadata": {
        "id": "2yXyjHc_Z49B",
        "outputId": "20cd9f17-571c-49c2-fcf8-6b430b6108a5",
        "colab": {
          "base_uri": "https://localhost:8080/"
        }
      },
      "source": [
        "print(\"tan(theta) = \", np.tan(theta))"
      ],
      "execution_count": 148,
      "outputs": [
        {
          "output_type": "stream",
          "text": [
            "tan(theta) =  [ 0.00000000e+00  1.63312394e+16 -1.22464680e-16]\n"
          ],
          "name": "stdout"
        }
      ]
    },
    {
      "cell_type": "code",
      "metadata": {
        "id": "rz4rT2adaJDK",
        "outputId": "3f4ea3d2-ddb7-4b75-c56e-cba2ac2e368f",
        "colab": {
          "base_uri": "https://localhost:8080/"
        }
      },
      "source": [
        "m = [1, 2, 3]\n",
        "m"
      ],
      "execution_count": 149,
      "outputs": [
        {
          "output_type": "execute_result",
          "data": {
            "text/plain": [
              "[1, 2, 3]"
            ]
          },
          "metadata": {
            "tags": []
          },
          "execution_count": 149
        }
      ]
    },
    {
      "cell_type": "code",
      "metadata": {
        "id": "D0rMI3fls7FP",
        "outputId": "cd2a7017-0ff5-4711-ec42-efe3b4e8298a",
        "colab": {
          "base_uri": "https://localhost:8080/"
        }
      },
      "source": [
        "print(\"e^m = \", np.exp(m))"
      ],
      "execution_count": 150,
      "outputs": [
        {
          "output_type": "stream",
          "text": [
            "e^m =  [ 2.71828183  7.3890561  20.08553692]\n"
          ],
          "name": "stdout"
        }
      ]
    },
    {
      "cell_type": "code",
      "metadata": {
        "id": "EkSdz6UBtM6y",
        "outputId": "a2200fb2-66ae-444b-dc8f-e1069797a4ac",
        "colab": {
          "base_uri": "https://localhost:8080/"
        }
      },
      "source": [
        "print(\"2^m = \", np.exp2(m))"
      ],
      "execution_count": 151,
      "outputs": [
        {
          "output_type": "stream",
          "text": [
            "2^m =  [2. 4. 8.]\n"
          ],
          "name": "stdout"
        }
      ]
    },
    {
      "cell_type": "code",
      "metadata": {
        "id": "lwoCmtRbwpnI",
        "outputId": "1ff12646-7f83-4b58-8fb2-15faaa214c18",
        "colab": {
          "base_uri": "https://localhost:8080/"
        }
      },
      "source": [
        "print(\"3^m =\", np.power(3, m))"
      ],
      "execution_count": 152,
      "outputs": [
        {
          "output_type": "stream",
          "text": [
            "3^m = [ 3  9 27]\n"
          ],
          "name": "stdout"
        }
      ]
    },
    {
      "cell_type": "code",
      "metadata": {
        "id": "_1LjJ39Bw00T",
        "outputId": "0deae003-1fc3-4b90-e64e-24407e48e532",
        "colab": {
          "base_uri": "https://localhost:8080/"
        }
      },
      "source": [
        "print(\"ln(m) = \", np.log(m))"
      ],
      "execution_count": 153,
      "outputs": [
        {
          "output_type": "stream",
          "text": [
            "ln(m) =  [0.         0.69314718 1.09861229]\n"
          ],
          "name": "stdout"
        }
      ]
    },
    {
      "cell_type": "code",
      "metadata": {
        "id": "kXf5xrYCxUIy",
        "outputId": "cfaa7f0f-f6fa-4de6-fa89-657fb173a72d",
        "colab": {
          "base_uri": "https://localhost:8080/"
        }
      },
      "source": [
        "print(\"log10(m)\", np.log(10))"
      ],
      "execution_count": 154,
      "outputs": [
        {
          "output_type": "stream",
          "text": [
            "log10(m) 2.302585092994046\n"
          ],
          "name": "stdout"
        }
      ]
    },
    {
      "cell_type": "code",
      "metadata": {
        "id": "zzdltRMXxu9b",
        "outputId": "a5066994-dc1f-4e0f-e6bf-23b01b6a9536",
        "colab": {
          "base_uri": "https://localhost:8080/"
        }
      },
      "source": [
        "print(\"exp(m) - 1 \", np.expm1(m) )"
      ],
      "execution_count": 155,
      "outputs": [
        {
          "output_type": "stream",
          "text": [
            "exp(m) - 1  [ 1.71828183  6.3890561  19.08553692]\n"
          ],
          "name": "stdout"
        }
      ]
    },
    {
      "cell_type": "code",
      "metadata": {
        "id": "Wvu0BNizyHET",
        "outputId": "519ff3bb-5a1c-4001-b3e3-b9a138ae7c5b",
        "colab": {
          "base_uri": "https://localhost:8080/"
        }
      },
      "source": [
        "print(\"log(1 + x) =\", np.log1p(x))"
      ],
      "execution_count": 156,
      "outputs": [
        {
          "output_type": "stream",
          "text": [
            "log(1 + x) = [0.         0.69314718 1.09861229 1.38629436]\n"
          ],
          "name": "stdout"
        }
      ]
    },
    {
      "cell_type": "code",
      "metadata": {
        "id": "GDhGGqwMzNcf",
        "outputId": "b7bf0a70-f39a-4685-850b-ec829f4e896c",
        "colab": {
          "base_uri": "https://localhost:8080/"
        }
      },
      "source": [
        "from scipy import special      #more functions\n",
        "m"
      ],
      "execution_count": 157,
      "outputs": [
        {
          "output_type": "execute_result",
          "data": {
            "text/plain": [
              "[1, 2, 3]"
            ]
          },
          "metadata": {
            "tags": []
          },
          "execution_count": 157
        }
      ]
    },
    {
      "cell_type": "code",
      "metadata": {
        "id": "Eijbq9de2NHQ",
        "outputId": "64b84ea3-b6f7-4b08-b722-f7416617308b",
        "colab": {
          "base_uri": "https://localhost:8080/"
        }
      },
      "source": [
        "print(\"gamma(m) =\", special.gamma(m))"
      ],
      "execution_count": 158,
      "outputs": [
        {
          "output_type": "stream",
          "text": [
            "gamma(m) = [1. 1. 2.]\n"
          ],
          "name": "stdout"
        }
      ]
    },
    {
      "cell_type": "code",
      "metadata": {
        "id": "cLaj936q2dST",
        "outputId": "2e8f02d3-6b19-4255-e596-90b6c0e0f55e",
        "colab": {
          "base_uri": "https://localhost:8080/"
        }
      },
      "source": [
        "#integral of Gaussian)\n",
        "print('erf(m) =', special.erf(m))"
      ],
      "execution_count": 159,
      "outputs": [
        {
          "output_type": "stream",
          "text": [
            "erf(m) = [0.84270079 0.99532227 0.99997791]\n"
          ],
          "name": "stdout"
        }
      ]
    },
    {
      "cell_type": "code",
      "metadata": {
        "id": "PmGHI0J_3KCN",
        "outputId": "7228ddf0-777a-4e66-ab20-ef5a6ee0627b",
        "colab": {
          "base_uri": "https://localhost:8080/"
        }
      },
      "source": [
        "#unfunc\n",
        "q = np.arange(5)\n",
        "o = np.empty(5)\n",
        "np.multiply(q , 10, out = o)\n"
      ],
      "execution_count": 160,
      "outputs": [
        {
          "output_type": "execute_result",
          "data": {
            "text/plain": [
              "array([ 0., 10., 20., 30., 40.])"
            ]
          },
          "metadata": {
            "tags": []
          },
          "execution_count": 160
        }
      ]
    },
    {
      "cell_type": "code",
      "metadata": {
        "id": "I2tPNgRW6g1X",
        "outputId": "18b1625d-8e9b-4a07-d82f-9ea8a04bed75",
        "colab": {
          "base_uri": "https://localhost:8080/"
        }
      },
      "source": [
        "#agregate to reduce it's like +1+2+3+4.... = x\n",
        "q = np.arange(1,6)\n",
        "np.add.reduce(q)\n"
      ],
      "execution_count": 161,
      "outputs": [
        {
          "output_type": "execute_result",
          "data": {
            "text/plain": [
              "15"
            ]
          },
          "metadata": {
            "tags": []
          },
          "execution_count": 161
        }
      ]
    },
    {
      "cell_type": "code",
      "metadata": {
        "id": "Fsah_Eu08LcE",
        "outputId": "7c05caa6-56eb-4447-cbae-732da2920fb9",
        "colab": {
          "base_uri": "https://localhost:8080/"
        }
      },
      "source": [
        "#multiply 5x4x3x2x1....\n",
        "np.multiply.reduce(q)"
      ],
      "execution_count": 162,
      "outputs": [
        {
          "output_type": "execute_result",
          "data": {
            "text/plain": [
              "120"
            ]
          },
          "metadata": {
            "tags": []
          },
          "execution_count": 162
        }
      ]
    },
    {
      "cell_type": "code",
      "metadata": {
        "id": "VuPhoSiG9vDU",
        "outputId": "199ee218-dfef-4c44-f9fc-9ff72e70aaf0",
        "colab": {
          "base_uri": "https://localhost:8080/"
        }
      },
      "source": [
        "np.add.accumulate(q)"
      ],
      "execution_count": 163,
      "outputs": [
        {
          "output_type": "execute_result",
          "data": {
            "text/plain": [
              "array([ 1,  3,  6, 10, 15])"
            ]
          },
          "metadata": {
            "tags": []
          },
          "execution_count": 163
        }
      ]
    },
    {
      "cell_type": "code",
      "metadata": {
        "id": "wp_1b7NL-Kub",
        "outputId": "6b88a074-5218-403c-cf9f-e2abd177f350",
        "colab": {
          "base_uri": "https://localhost:8080/"
        }
      },
      "source": [
        "np.multiply.accumulate(q)"
      ],
      "execution_count": 164,
      "outputs": [
        {
          "output_type": "execute_result",
          "data": {
            "text/plain": [
              "array([  1,   2,   6,  24, 120])"
            ]
          },
          "metadata": {
            "tags": []
          },
          "execution_count": 164
        }
      ]
    },
    {
      "cell_type": "code",
      "metadata": {
        "id": "SySplfzb-Tor",
        "outputId": "d0330e65-af1a-4926-a544-89dc8d4cb5fc",
        "colab": {
          "base_uri": "https://localhost:8080/"
        }
      },
      "source": [
        "q"
      ],
      "execution_count": 165,
      "outputs": [
        {
          "output_type": "execute_result",
          "data": {
            "text/plain": [
              "array([1, 2, 3, 4, 5])"
            ]
          },
          "metadata": {
            "tags": []
          },
          "execution_count": 165
        }
      ]
    },
    {
      "cell_type": "code",
      "metadata": {
        "id": "2XZxaDltBKE3",
        "outputId": "32e427d9-f186-400e-a009-fada14de0cf5",
        "colab": {
          "base_uri": "https://localhost:8080/"
        }
      },
      "source": [
        "np.multiply.outer(q, q)"
      ],
      "execution_count": 166,
      "outputs": [
        {
          "output_type": "execute_result",
          "data": {
            "text/plain": [
              "array([[ 1,  2,  3,  4,  5],\n",
              "       [ 2,  4,  6,  8, 10],\n",
              "       [ 3,  6,  9, 12, 15],\n",
              "       [ 4,  8, 12, 16, 20],\n",
              "       [ 5, 10, 15, 20, 25]])"
            ]
          },
          "metadata": {
            "tags": []
          },
          "execution_count": 166
        }
      ]
    },
    {
      "cell_type": "markdown",
      "metadata": {
        "id": "rqqheH-TCUPm"
      },
      "source": [
        "##Summing the Values in an Array"
      ]
    },
    {
      "cell_type": "code",
      "metadata": {
        "id": "JLh0Uo9OCZOr",
        "outputId": "2ca0ead8-78db-4917-f865-b3ca986d4e64",
        "colab": {
          "base_uri": "https://localhost:8080/"
        }
      },
      "source": [
        "L = np.random.random(100)\n",
        "sum(L)"
      ],
      "execution_count": 167,
      "outputs": [
        {
          "output_type": "execute_result",
          "data": {
            "text/plain": [
              "48.115446511086645"
            ]
          },
          "metadata": {
            "tags": []
          },
          "execution_count": 167
        }
      ]
    },
    {
      "cell_type": "code",
      "metadata": {
        "id": "blKTbhwFCr6l",
        "outputId": "3ddcb99b-d32b-4ac2-bd2f-32e10b3395cb",
        "colab": {
          "base_uri": "https://localhost:8080/"
        }
      },
      "source": [
        "np.sum(L)"
      ],
      "execution_count": 168,
      "outputs": [
        {
          "output_type": "execute_result",
          "data": {
            "text/plain": [
              "48.11544651108663"
            ]
          },
          "metadata": {
            "tags": []
          },
          "execution_count": 168
        }
      ]
    },
    {
      "cell_type": "code",
      "metadata": {
        "id": "mAq5mAHmC-yF",
        "outputId": "c03c65d6-6d09-4c67-e734-e09688126cb3",
        "colab": {
          "base_uri": "https://localhost:8080/"
        }
      },
      "source": [
        "big_array = np.random.rand(1000000)\n",
        "%timeit sum(big_array)\n",
        "%timeit np.sum(big_array) #np.sum is aware of multiple array dimensions"
      ],
      "execution_count": 169,
      "outputs": [
        {
          "output_type": "stream",
          "text": [
            "1 loop, best of 3: 148 ms per loop\n",
            "1000 loops, best of 3: 359 µs per loop\n"
          ],
          "name": "stdout"
        }
      ]
    },
    {
      "cell_type": "code",
      "metadata": {
        "id": "U4qWoUE0DX4z",
        "outputId": "04b54ea8-6849-4709-da47-1335715a56df",
        "colab": {
          "base_uri": "https://localhost:8080/"
        }
      },
      "source": [
        "min(big_array)\n"
      ],
      "execution_count": 170,
      "outputs": [
        {
          "output_type": "execute_result",
          "data": {
            "text/plain": [
              "1.3394481724882112e-06"
            ]
          },
          "metadata": {
            "tags": []
          },
          "execution_count": 170
        }
      ]
    },
    {
      "cell_type": "code",
      "metadata": {
        "id": "e5ZlQ1hvFMb7",
        "outputId": "6602c249-ced3-408b-8f81-0338ba5c09af",
        "colab": {
          "base_uri": "https://localhost:8080/"
        }
      },
      "source": [
        "max(big_array)"
      ],
      "execution_count": 171,
      "outputs": [
        {
          "output_type": "execute_result",
          "data": {
            "text/plain": [
              "0.9999985384372744"
            ]
          },
          "metadata": {
            "tags": []
          },
          "execution_count": 171
        }
      ]
    },
    {
      "cell_type": "code",
      "metadata": {
        "id": "sJ3blGvqFP_j",
        "outputId": "eded52a2-4f3c-47b1-b3c5-2b14e8686e49",
        "colab": {
          "base_uri": "https://localhost:8080/"
        }
      },
      "source": [
        "%timeit min(big_array)\n",
        "%timeit np.min(big_array)"
      ],
      "execution_count": 172,
      "outputs": [
        {
          "output_type": "stream",
          "text": [
            "10 loops, best of 3: 95.1 ms per loop\n",
            "1000 loops, best of 3: 427 µs per loop\n"
          ],
          "name": "stdout"
        }
      ]
    },
    {
      "cell_type": "code",
      "metadata": {
        "id": "SVNytA8wFt-j"
      },
      "source": [
        ""
      ],
      "execution_count": 172,
      "outputs": []
    }
  ]
}