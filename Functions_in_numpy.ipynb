{
  "nbformat": 4,
  "nbformat_minor": 0,
  "metadata": {
    "colab": {
      "name": "Functions_in_numpy.ipynb",
      "provenance": [],
      "collapsed_sections": [
        "7TpLgO_CXM7y"
      ],
      "authorship_tag": "ABX9TyOTUFUjJe+HpcUVkombG/vS",
      "include_colab_link": true
    },
    "kernelspec": {
      "name": "python3",
      "display_name": "Python 3"
    }
  },
  "cells": [
    {
      "cell_type": "markdown",
      "metadata": {
        "id": "view-in-github",
        "colab_type": "text"
      },
      "source": [
        "<a href=\"https://colab.research.google.com/github/KazumaShachou/DataScience/blob/master/Functions_in_numpy.ipynb\" target=\"_parent\"><img src=\"https://colab.research.google.com/assets/colab-badge.svg\" alt=\"Open In Colab\"/></a>"
      ]
    },
    {
      "cell_type": "markdown",
      "metadata": {
        "id": "zJfuvLh6Y_QW"
      },
      "source": [
        "# Lessons about functions of Numpy\n",
        "\n",
        "\n",
        "\n",
        "### Source book : Python Data Science HandBook By: Jaker VanderPlas"
      ]
    },
    {
      "cell_type": "code",
      "metadata": {
        "id": "JC7eW4NuS95Q",
        "outputId": "bc9279ae-f1b9-430f-b9c6-497e350cca28",
        "colab": {
          "base_uri": "https://localhost:8080/"
        }
      },
      "source": [
        "L = list(range(10))\n",
        "L"
      ],
      "execution_count": 93,
      "outputs": [
        {
          "output_type": "execute_result",
          "data": {
            "text/plain": [
              "[0, 1, 2, 3, 4, 5, 6, 7, 8, 9]"
            ]
          },
          "metadata": {
            "tags": []
          },
          "execution_count": 93
        }
      ]
    },
    {
      "cell_type": "code",
      "metadata": {
        "id": "xT_QC2i3VgFj",
        "outputId": "3b2b5054-6a49-465a-dc07-5862207136a1",
        "colab": {
          "base_uri": "https://localhost:8080/"
        }
      },
      "source": [
        "type(L)"
      ],
      "execution_count": 94,
      "outputs": [
        {
          "output_type": "execute_result",
          "data": {
            "text/plain": [
              "list"
            ]
          },
          "metadata": {
            "tags": []
          },
          "execution_count": 94
        }
      ]
    },
    {
      "cell_type": "code",
      "metadata": {
        "id": "vmdwR4rxVq1D",
        "outputId": "c0d4c878-1c9f-43a2-bfd4-709c78d4e4ac",
        "colab": {
          "base_uri": "https://localhost:8080/"
        }
      },
      "source": [
        "#how to create a list\n",
        "\n",
        "L2 = [str(z) for z in L]\n",
        "L2"
      ],
      "execution_count": 95,
      "outputs": [
        {
          "output_type": "execute_result",
          "data": {
            "text/plain": [
              "['0', '1', '2', '3', '4', '5', '6', '7', '8', '9']"
            ]
          },
          "metadata": {
            "tags": []
          },
          "execution_count": 95
        }
      ]
    },
    {
      "cell_type": "code",
      "metadata": {
        "id": "_oyl5sJNWSSb",
        "outputId": "65a2ebb9-73b6-43af-8269-2aa56512e61b",
        "colab": {
          "base_uri": "https://localhost:8080/"
        }
      },
      "source": [
        "type(L2)"
      ],
      "execution_count": 96,
      "outputs": [
        {
          "output_type": "execute_result",
          "data": {
            "text/plain": [
              "list"
            ]
          },
          "metadata": {
            "tags": []
          },
          "execution_count": 96
        }
      ]
    },
    {
      "cell_type": "code",
      "metadata": {
        "id": "qvY-pLICWZ0O",
        "outputId": "11b00326-8dd4-43f6-f5e6-7de7badb5f79",
        "colab": {
          "base_uri": "https://localhost:8080/"
        }
      },
      "source": [
        "#use () to create a list\n",
        "for value in range(1,5):    \n",
        "  print(value)"
      ],
      "execution_count": 97,
      "outputs": [
        {
          "output_type": "stream",
          "text": [
            "1\n",
            "2\n",
            "3\n",
            "4\n"
          ],
          "name": "stdout"
        }
      ]
    },
    {
      "cell_type": "code",
      "metadata": {
        "id": "o8DWiX_HYf8y",
        "outputId": "82fabaac-8620-4b95-f351-3acb12decdc3",
        "colab": {
          "base_uri": "https://localhost:8080/"
        }
      },
      "source": [
        "import array\n",
        "\n",
        "L3 = list(range(10))\n",
        "A = array.array('i', L)\n",
        "A"
      ],
      "execution_count": 98,
      "outputs": [
        {
          "output_type": "execute_result",
          "data": {
            "text/plain": [
              "array('i', [0, 1, 2, 3, 4, 5, 6, 7, 8, 9])"
            ]
          },
          "metadata": {
            "tags": []
          },
          "execution_count": 98
        }
      ]
    },
    {
      "cell_type": "code",
      "metadata": {
        "id": "JzWo7GbiZ7RJ"
      },
      "source": [
        "import numpy as np"
      ],
      "execution_count": 99,
      "outputs": []
    },
    {
      "cell_type": "code",
      "metadata": {
        "id": "ckP2jZfPfkDt",
        "outputId": "ce508828-ca17-42cb-fb02-4e85293bd60e",
        "colab": {
          "base_uri": "https://localhost:8080/"
        }
      },
      "source": [
        "np.array([1, 3, 4, 6, 11, 95, 46, 23])"
      ],
      "execution_count": 100,
      "outputs": [
        {
          "output_type": "execute_result",
          "data": {
            "text/plain": [
              "array([ 1,  3,  4,  6, 11, 95, 46, 23])"
            ]
          },
          "metadata": {
            "tags": []
          },
          "execution_count": 100
        }
      ]
    },
    {
      "cell_type": "code",
      "metadata": {
        "id": "4tq6kEyif0mg",
        "outputId": "695d99e0-d80f-4293-e916-56f8738bf53b",
        "colab": {
          "base_uri": "https://localhost:8080/"
        }
      },
      "source": [
        "np.arange(0,40,4)"
      ],
      "execution_count": 101,
      "outputs": [
        {
          "output_type": "execute_result",
          "data": {
            "text/plain": [
              "array([ 0,  4,  8, 12, 16, 20, 24, 28, 32, 36])"
            ]
          },
          "metadata": {
            "tags": []
          },
          "execution_count": 101
        }
      ]
    },
    {
      "cell_type": "code",
      "metadata": {
        "id": "ZOQ7n21VGBgu",
        "outputId": "07bfab51-f7f5-44dc-ae69-57dc76d5b983",
        "colab": {
          "base_uri": "https://localhost:8080/"
        }
      },
      "source": [
        "np.linspace(0, 1, 5)  # Create an array of five values evenly spaced between 0 and 1"
      ],
      "execution_count": 102,
      "outputs": [
        {
          "output_type": "execute_result",
          "data": {
            "text/plain": [
              "array([0.  , 0.25, 0.5 , 0.75, 1.  ])"
            ]
          },
          "metadata": {
            "tags": []
          },
          "execution_count": 102
        }
      ]
    },
    {
      "cell_type": "code",
      "metadata": {
        "id": "LxaOMXG2GSJT",
        "outputId": "d2fa78d2-eb0e-4635-bdf0-9704f6421da7",
        "colab": {
          "base_uri": "https://localhost:8080/"
        }
      },
      "source": [
        "np.random.random((5,5))"
      ],
      "execution_count": 103,
      "outputs": [
        {
          "output_type": "execute_result",
          "data": {
            "text/plain": [
              "array([[0.38774338, 0.93320229, 0.58186058, 0.58824864, 0.99157571],\n",
              "       [0.08682615, 0.03734763, 0.37125113, 0.37688716, 0.91945668],\n",
              "       [0.35828979, 0.33167493, 0.35592996, 0.1016139 , 0.92090042],\n",
              "       [0.78032756, 0.60997167, 0.65844877, 0.23341529, 0.36827342],\n",
              "       [0.11469503, 0.83729485, 0.41041568, 0.85131977, 0.61648949]])"
            ]
          },
          "metadata": {
            "tags": []
          },
          "execution_count": 103
        }
      ]
    },
    {
      "cell_type": "code",
      "metadata": {
        "id": "c9H_j3y6GdeC",
        "outputId": "c7b37f6b-7bbd-4705-efda-d4d2bee5785d",
        "colab": {
          "base_uri": "https://localhost:8080/"
        }
      },
      "source": [
        "np.random.randint(0, 20,( 4,4))   #array of random integers in the interval"
      ],
      "execution_count": 104,
      "outputs": [
        {
          "output_type": "execute_result",
          "data": {
            "text/plain": [
              "array([[13,  8,  5,  5],\n",
              "       [18, 10,  8,  3],\n",
              "       [13,  2,  5,  7],\n",
              "       [ 8, 17,  4,  1]])"
            ]
          },
          "metadata": {
            "tags": []
          },
          "execution_count": 104
        }
      ]
    },
    {
      "cell_type": "code",
      "metadata": {
        "id": "I2X3PaHTHSnb",
        "outputId": "f7d6f291-6824-4d0c-f8d8-4d88851672fb",
        "colab": {
          "base_uri": "https://localhost:8080/"
        }
      },
      "source": [
        "## Create a 3x3 identity matrix\n",
        "np.eye(3)"
      ],
      "execution_count": 105,
      "outputs": [
        {
          "output_type": "execute_result",
          "data": {
            "text/plain": [
              "array([[1., 0., 0.],\n",
              "       [0., 1., 0.],\n",
              "       [0., 0., 1.]])"
            ]
          },
          "metadata": {
            "tags": []
          },
          "execution_count": 105
        }
      ]
    },
    {
      "cell_type": "code",
      "metadata": {
        "id": "r2R0q4zPHzDq",
        "outputId": "e1bc873b-7700-4fef-d865-7c8ffe25e9fe",
        "colab": {
          "base_uri": "https://localhost:8080/"
        }
      },
      "source": [
        "import array\n",
        "L = list(range(10))\n",
        "A = array.array('i', L)\n",
        "A"
      ],
      "execution_count": 106,
      "outputs": [
        {
          "output_type": "execute_result",
          "data": {
            "text/plain": [
              "array('i', [0, 1, 2, 3, 4, 5, 6, 7, 8, 9])"
            ]
          },
          "metadata": {
            "tags": []
          },
          "execution_count": 106
        }
      ]
    },
    {
      "cell_type": "code",
      "metadata": {
        "id": "x42csSP0VZ9M"
      },
      "source": [
        "np.random.seed()\n"
      ],
      "execution_count": 107,
      "outputs": []
    },
    {
      "cell_type": "code",
      "metadata": {
        "id": "k8rPj79ndoDW",
        "outputId": "5efe28e1-5144-4acb-a694-13294ec73a71",
        "colab": {
          "base_uri": "https://localhost:8080/"
        }
      },
      "source": [
        "# One-dimensional array\n",
        "x1 = np.random.randint(10, size= 6)  \n",
        "x1"
      ],
      "execution_count": 108,
      "outputs": [
        {
          "output_type": "execute_result",
          "data": {
            "text/plain": [
              "array([1, 8, 0, 6, 3, 3])"
            ]
          },
          "metadata": {
            "tags": []
          },
          "execution_count": 108
        }
      ]
    },
    {
      "cell_type": "code",
      "metadata": {
        "id": "0fLSqAmgd_DC",
        "outputId": "0439e8f9-8af9-42e2-aad9-4264cdee0fa3",
        "colab": {
          "base_uri": "https://localhost:8080/"
        }
      },
      "source": [
        "# Two-dimensional array\n",
        "x2 = np.random.randint(10, size = (3, 6))\n",
        "x2"
      ],
      "execution_count": 109,
      "outputs": [
        {
          "output_type": "execute_result",
          "data": {
            "text/plain": [
              "array([[2, 5, 6, 4, 8, 2],\n",
              "       [6, 7, 0, 5, 5, 5],\n",
              "       [2, 2, 0, 4, 2, 0]])"
            ]
          },
          "metadata": {
            "tags": []
          },
          "execution_count": 109
        }
      ]
    },
    {
      "cell_type": "code",
      "metadata": {
        "id": "9PHNr8a-efNi",
        "outputId": "e1ceeeaa-bda1-46d8-d688-27f7d2b8c64e",
        "colab": {
          "base_uri": "https://localhost:8080/"
        }
      },
      "source": [
        "# Three-dimensional array\n",
        "x3 = np.random.randint(10, size=(3,4,5))      # 3 array with colums 4x5 in random numbers of 0 to 9\n",
        "x3"
      ],
      "execution_count": 110,
      "outputs": [
        {
          "output_type": "execute_result",
          "data": {
            "text/plain": [
              "array([[[0, 6, 8, 3, 6],\n",
              "        [8, 7, 5, 5, 9],\n",
              "        [7, 5, 7, 6, 9],\n",
              "        [3, 8, 4, 4, 7]],\n",
              "\n",
              "       [[2, 1, 7, 1, 8],\n",
              "        [1, 1, 2, 2, 3],\n",
              "        [5, 6, 2, 9, 4],\n",
              "        [4, 4, 0, 7, 1]],\n",
              "\n",
              "       [[4, 5, 9, 9, 0],\n",
              "        [8, 2, 2, 3, 1],\n",
              "        [6, 5, 9, 6, 7],\n",
              "        [8, 4, 2, 5, 3]]])"
            ]
          },
          "metadata": {
            "tags": []
          },
          "execution_count": 110
        }
      ]
    },
    {
      "cell_type": "code",
      "metadata": {
        "id": "piJxy4ghfm2x",
        "outputId": "fafbca57-fa4e-489c-8e13-815d7c5949da",
        "colab": {
          "base_uri": "https://localhost:8080/"
        }
      },
      "source": [
        "print('x3 ndim:' , x3.ndim)     #dimensions\n",
        "print('x3 shape' , x3.shape)    #size of each dimension\n",
        "print('x3 size', x3.size)       #total size of the array  \n",
        "print('x3 dtype:', x3.dtype)   #type of array\n",
        "print('x3 itemsize:', x3.itemsize)  #size in bytes of each list\n",
        "print('x3 nbytes', x3.nbytes)       #total size in bytes of the array"
      ],
      "execution_count": 111,
      "outputs": [
        {
          "output_type": "stream",
          "text": [
            "x3 ndim: 3\n",
            "x3 shape (3, 4, 5)\n",
            "x3 size 60\n",
            "x3 dtype: int64\n",
            "x3 itemsize: 8\n",
            "x3 nbytes 480\n"
          ],
          "name": "stdout"
        }
      ]
    },
    {
      "cell_type": "code",
      "metadata": {
        "id": "aysFzK0Lg4gs",
        "outputId": "ac54a888-adc9-4397-915b-9b16a4d17d94",
        "colab": {
          "base_uri": "https://localhost:8080/"
        }
      },
      "source": [
        "x3 = np.arange(10)\n",
        "x3"
      ],
      "execution_count": 112,
      "outputs": [
        {
          "output_type": "execute_result",
          "data": {
            "text/plain": [
              "array([0, 1, 2, 3, 4, 5, 6, 7, 8, 9])"
            ]
          },
          "metadata": {
            "tags": []
          },
          "execution_count": 112
        }
      ]
    },
    {
      "cell_type": "code",
      "metadata": {
        "id": "hkJiPn8EQad3",
        "outputId": "ed19b758-0d2b-431f-849b-de809c2b03c3",
        "colab": {
          "base_uri": "https://localhost:8080/"
        }
      },
      "source": [
        "# first five elements\n",
        "x3[:5]"
      ],
      "execution_count": 113,
      "outputs": [
        {
          "output_type": "execute_result",
          "data": {
            "text/plain": [
              "array([0, 1, 2, 3, 4])"
            ]
          },
          "metadata": {
            "tags": []
          },
          "execution_count": 113
        }
      ]
    },
    {
      "cell_type": "code",
      "metadata": {
        "id": "-r2EqQxWQp4Q",
        "outputId": "4c13a1d4-8de3-4d33-88e5-7ee41b03cc26",
        "colab": {
          "base_uri": "https://localhost:8080/"
        }
      },
      "source": [
        "# elements after index 5\n",
        "x3[5:]"
      ],
      "execution_count": 114,
      "outputs": [
        {
          "output_type": "execute_result",
          "data": {
            "text/plain": [
              "array([5, 6, 7, 8, 9])"
            ]
          },
          "metadata": {
            "tags": []
          },
          "execution_count": 114
        }
      ]
    },
    {
      "cell_type": "code",
      "metadata": {
        "id": "md26JfZfQ6ri",
        "outputId": "86595079-387d-4d63-c0b0-09abe0ad1de9",
        "colab": {
          "base_uri": "https://localhost:8080/"
        }
      },
      "source": [
        "# middle subarray\n",
        "x3[3:7]"
      ],
      "execution_count": 115,
      "outputs": [
        {
          "output_type": "execute_result",
          "data": {
            "text/plain": [
              "array([3, 4, 5, 6])"
            ]
          },
          "metadata": {
            "tags": []
          },
          "execution_count": 115
        }
      ]
    },
    {
      "cell_type": "code",
      "metadata": {
        "id": "DeaNV6uvRFkR",
        "outputId": "86e060fb-ddca-4844-887e-f6e3ef108630",
        "colab": {
          "base_uri": "https://localhost:8080/"
        }
      },
      "source": [
        "#2 in 2\n",
        "x3[::2]"
      ],
      "execution_count": 116,
      "outputs": [
        {
          "output_type": "execute_result",
          "data": {
            "text/plain": [
              "array([0, 2, 4, 6, 8])"
            ]
          },
          "metadata": {
            "tags": []
          },
          "execution_count": 116
        }
      ]
    },
    {
      "cell_type": "code",
      "metadata": {
        "id": "B6ohD5KRRSrL",
        "outputId": "b766dc23-4197-4923-afe6-955b1109eccf",
        "colab": {
          "base_uri": "https://localhost:8080/"
        }
      },
      "source": [
        "x3[2::]  #2 until the end"
      ],
      "execution_count": 117,
      "outputs": [
        {
          "output_type": "execute_result",
          "data": {
            "text/plain": [
              "array([2, 3, 4, 5, 6, 7, 8, 9])"
            ]
          },
          "metadata": {
            "tags": []
          },
          "execution_count": 117
        }
      ]
    },
    {
      "cell_type": "code",
      "metadata": {
        "id": "qZort5j3RWCQ",
        "outputId": "6524b9ce-2703-4aed-9837-0a2d16043f2b",
        "colab": {
          "base_uri": "https://localhost:8080/"
        }
      },
      "source": [
        "#starting at index 1 , 2 in 2\n",
        "x3[1::2]"
      ],
      "execution_count": 118,
      "outputs": [
        {
          "output_type": "execute_result",
          "data": {
            "text/plain": [
              "array([1, 3, 5, 7, 9])"
            ]
          },
          "metadata": {
            "tags": []
          },
          "execution_count": 118
        }
      ]
    },
    {
      "cell_type": "code",
      "metadata": {
        "id": "GjbSr6z7SHaa",
        "outputId": "e88e2283-0c35-4293-b758-7a13252c3eb6",
        "colab": {
          "base_uri": "https://localhost:8080/"
        }
      },
      "source": [
        "x3[2::1]"
      ],
      "execution_count": 119,
      "outputs": [
        {
          "output_type": "execute_result",
          "data": {
            "text/plain": [
              "array([2, 3, 4, 5, 6, 7, 8, 9])"
            ]
          },
          "metadata": {
            "tags": []
          },
          "execution_count": 119
        }
      ]
    },
    {
      "cell_type": "code",
      "metadata": {
        "id": "347qki6YSOUx",
        "outputId": "010bec88-1842-4ff6-cf72-bfcf83c722a7",
        "colab": {
          "base_uri": "https://localhost:8080/"
        }
      },
      "source": [
        "# all elements, reversed\n",
        "x3[::-1]"
      ],
      "execution_count": 120,
      "outputs": [
        {
          "output_type": "execute_result",
          "data": {
            "text/plain": [
              "array([9, 8, 7, 6, 5, 4, 3, 2, 1, 0])"
            ]
          },
          "metadata": {
            "tags": []
          },
          "execution_count": 120
        }
      ]
    },
    {
      "cell_type": "code",
      "metadata": {
        "id": "CTYagzOXSV3j",
        "outputId": "b7cb8779-5692-405c-8ce8-5461194d2a72",
        "colab": {
          "base_uri": "https://localhost:8080/"
        }
      },
      "source": [
        "x3[:-5]"
      ],
      "execution_count": 121,
      "outputs": [
        {
          "output_type": "execute_result",
          "data": {
            "text/plain": [
              "array([0, 1, 2, 3, 4])"
            ]
          },
          "metadata": {
            "tags": []
          },
          "execution_count": 121
        }
      ]
    },
    {
      "cell_type": "code",
      "metadata": {
        "id": "BbO-JD90SYR5",
        "outputId": "b613b414-db6c-4a90-eeed-74fc142a00d8",
        "colab": {
          "base_uri": "https://localhost:8080/"
        }
      },
      "source": [
        "# reversed every other from index 5\n",
        "x3[5::-1]"
      ],
      "execution_count": 122,
      "outputs": [
        {
          "output_type": "execute_result",
          "data": {
            "text/plain": [
              "array([5, 4, 3, 2, 1, 0])"
            ]
          },
          "metadata": {
            "tags": []
          },
          "execution_count": 122
        }
      ]
    },
    {
      "cell_type": "code",
      "metadata": {
        "id": "oN1D6ZrVSkIA",
        "outputId": "895e2a96-b55f-4e0d-d710-36846737cbf7",
        "colab": {
          "base_uri": "https://localhost:8080/"
        }
      },
      "source": [
        "x2"
      ],
      "execution_count": 123,
      "outputs": [
        {
          "output_type": "execute_result",
          "data": {
            "text/plain": [
              "array([[2, 5, 6, 4, 8, 2],\n",
              "       [6, 7, 0, 5, 5, 5],\n",
              "       [2, 2, 0, 4, 2, 0]])"
            ]
          },
          "metadata": {
            "tags": []
          },
          "execution_count": 123
        }
      ]
    },
    {
      "cell_type": "code",
      "metadata": {
        "id": "oPfvb8ZvTI5N",
        "outputId": "6c02bce4-3b28-41cb-a057-7907f49b141f",
        "colab": {
          "base_uri": "https://localhost:8080/"
        }
      },
      "source": [
        "# two rows, three columns\n",
        "x2[:2, :3]"
      ],
      "execution_count": 124,
      "outputs": [
        {
          "output_type": "execute_result",
          "data": {
            "text/plain": [
              "array([[2, 5, 6],\n",
              "       [6, 7, 0]])"
            ]
          },
          "metadata": {
            "tags": []
          },
          "execution_count": 124
        }
      ]
    },
    {
      "cell_type": "code",
      "metadata": {
        "id": "Cs8IPHd-TR6Z",
        "outputId": "8c0881ee-7e00-44e3-e99e-dbf7f0c48556",
        "colab": {
          "base_uri": "https://localhost:8080/"
        }
      },
      "source": [
        "# first column of x2\n",
        "x2[:, 0]"
      ],
      "execution_count": 125,
      "outputs": [
        {
          "output_type": "execute_result",
          "data": {
            "text/plain": [
              "array([2, 6, 2])"
            ]
          },
          "metadata": {
            "tags": []
          },
          "execution_count": 125
        }
      ]
    },
    {
      "cell_type": "code",
      "metadata": {
        "id": "7kerFpPoTw1h",
        "outputId": "7aee26ad-8166-476a-ba47-e49aec112162",
        "colab": {
          "base_uri": "https://localhost:8080/"
        }
      },
      "source": [
        "# first row of x2\n",
        "x2[0, :]"
      ],
      "execution_count": 126,
      "outputs": [
        {
          "output_type": "execute_result",
          "data": {
            "text/plain": [
              "array([2, 5, 6, 4, 8, 2])"
            ]
          },
          "metadata": {
            "tags": []
          },
          "execution_count": 126
        }
      ]
    },
    {
      "cell_type": "code",
      "metadata": {
        "id": "aK4X9Qx1T9zo",
        "outputId": "210d88f6-4541-4dfe-8dd9-7e41a8084c50",
        "colab": {
          "base_uri": "https://localhost:8080/"
        }
      },
      "source": [
        "#extract a 2×2 subarray\n",
        "x2_sub = x2[:2 , :2]\n",
        "x2_sub"
      ],
      "execution_count": 127,
      "outputs": [
        {
          "output_type": "execute_result",
          "data": {
            "text/plain": [
              "array([[2, 5],\n",
              "       [6, 7]])"
            ]
          },
          "metadata": {
            "tags": []
          },
          "execution_count": 127
        }
      ]
    },
    {
      "cell_type": "code",
      "metadata": {
        "id": "YFHHDf8NWyjp",
        "outputId": "a1696a1e-4f93-47d1-d17b-7706a03ab4ef",
        "colab": {
          "base_uri": "https://localhost:8080/"
        }
      },
      "source": [
        "#modify this subarray , the \"8\" to 99\n",
        "x2_sub[0, 0] = 99\n",
        "x2"
      ],
      "execution_count": 128,
      "outputs": [
        {
          "output_type": "execute_result",
          "data": {
            "text/plain": [
              "array([[99,  5,  6,  4,  8,  2],\n",
              "       [ 6,  7,  0,  5,  5,  5],\n",
              "       [ 2,  2,  0,  4,  2,  0]])"
            ]
          },
          "metadata": {
            "tags": []
          },
          "execution_count": 128
        }
      ]
    },
    {
      "cell_type": "code",
      "metadata": {
        "id": "y9fQHdNEXC3h",
        "outputId": "1798a0c3-091a-4120-9e1a-0923927cb64c",
        "colab": {
          "base_uri": "https://localhost:8080/"
        }
      },
      "source": [
        "#using reshape\n",
        "b1 = np.arange(1,10).reshape((3, 3))\n",
        "b1"
      ],
      "execution_count": 129,
      "outputs": [
        {
          "output_type": "execute_result",
          "data": {
            "text/plain": [
              "array([[1, 2, 3],\n",
              "       [4, 5, 6],\n",
              "       [7, 8, 9]])"
            ]
          },
          "metadata": {
            "tags": []
          },
          "execution_count": 129
        }
      ]
    },
    {
      "cell_type": "code",
      "metadata": {
        "id": "3WUIfldxY9qE",
        "outputId": "f2a21719-c5be-4311-937f-26b56d72b99a",
        "colab": {
          "base_uri": "https://localhost:8080/"
        }
      },
      "source": [
        "#oncatenation\n",
        "x = np.array([1, 6 , 9])\n",
        "y = np.array([3, 9 , 1])\n",
        "\n",
        "np.concatenate([x, y])"
      ],
      "execution_count": 130,
      "outputs": [
        {
          "output_type": "execute_result",
          "data": {
            "text/plain": [
              "array([1, 6, 9, 3, 9, 1])"
            ]
          },
          "metadata": {
            "tags": []
          },
          "execution_count": 130
        }
      ]
    },
    {
      "cell_type": "code",
      "metadata": {
        "id": "icui53mba45b",
        "outputId": "70924c6e-946e-410c-c0ed-392c0e4511be",
        "colab": {
          "base_uri": "https://localhost:8080/"
        }
      },
      "source": [
        "grid = np.array([[9,8,7],\n",
        "                [6,4,4]])\n",
        "np.concatenate([grid, grid])"
      ],
      "execution_count": 131,
      "outputs": [
        {
          "output_type": "execute_result",
          "data": {
            "text/plain": [
              "array([[9, 8, 7],\n",
              "       [6, 4, 4],\n",
              "       [9, 8, 7],\n",
              "       [6, 4, 4]])"
            ]
          },
          "metadata": {
            "tags": []
          },
          "execution_count": 131
        }
      ]
    },
    {
      "cell_type": "code",
      "metadata": {
        "id": "-BKP-rdxhS39",
        "outputId": "b3f3cdb1-4ab1-4e9c-d085-7a0ea5af0602",
        "colab": {
          "base_uri": "https://localhost:8080/"
        }
      },
      "source": [
        "#split array\n",
        "d = [1, 5 ,3 ,7, 8 ,9 , 0, 3, 7]\n",
        "g1, g2, g3 = np.split(d, [3,5])\n",
        "print ( g1, g2, g3)"
      ],
      "execution_count": 132,
      "outputs": [
        {
          "output_type": "stream",
          "text": [
            "[1 5 3] [7 8] [9 0 3 7]\n"
          ],
          "name": "stdout"
        }
      ]
    },
    {
      "cell_type": "code",
      "metadata": {
        "id": "jt3xx-DVimLJ",
        "outputId": "b2ab2342-eb56-44e7-cec2-80665b75ec24",
        "colab": {
          "base_uri": "https://localhost:8080/"
        }
      },
      "source": [
        "grid = np.arange(16).reshape((4, 4))\n",
        "grid"
      ],
      "execution_count": 133,
      "outputs": [
        {
          "output_type": "execute_result",
          "data": {
            "text/plain": [
              "array([[ 0,  1,  2,  3],\n",
              "       [ 4,  5,  6,  7],\n",
              "       [ 8,  9, 10, 11],\n",
              "       [12, 13, 14, 15]])"
            ]
          },
          "metadata": {
            "tags": []
          },
          "execution_count": 133
        }
      ]
    },
    {
      "cell_type": "code",
      "metadata": {
        "id": "b2TPD-y0kMdK",
        "outputId": "490b70a5-4189-4e09-df4a-caf8c1cdbda9",
        "colab": {
          "base_uri": "https://localhost:8080/"
        }
      },
      "source": [
        "#getting 2 rooms\n",
        "upper, lower = np.vsplit(grid, [2])\n",
        "print (upper)\n"
      ],
      "execution_count": 134,
      "outputs": [
        {
          "output_type": "stream",
          "text": [
            "[[0 1 2 3]\n",
            " [4 5 6 7]]\n"
          ],
          "name": "stdout"
        }
      ]
    },
    {
      "cell_type": "code",
      "metadata": {
        "id": "wyCeLNaGliFB",
        "outputId": "f4612264-a4cc-4998-a432-a9de5c5f74d3",
        "colab": {
          "base_uri": "https://localhost:8080/"
        }
      },
      "source": [
        "print(lower)"
      ],
      "execution_count": 135,
      "outputs": [
        {
          "output_type": "stream",
          "text": [
            "[[ 8  9 10 11]\n",
            " [12 13 14 15]]\n"
          ],
          "name": "stdout"
        }
      ]
    },
    {
      "cell_type": "code",
      "metadata": {
        "id": "btu1nSWFlwXh",
        "outputId": "f6ee5556-907a-4309-f310-f825b17f92ee",
        "colab": {
          "base_uri": "https://localhost:8080/"
        }
      },
      "source": [
        "x =np.arange(4)\n",
        "print(\"x  =\", x)\n"
      ],
      "execution_count": 136,
      "outputs": [
        {
          "output_type": "stream",
          "text": [
            "x  = [0 1 2 3]\n"
          ],
          "name": "stdout"
        }
      ]
    },
    {
      "cell_type": "code",
      "metadata": {
        "id": "HFrrL6DamARx",
        "outputId": "1a3f8d73-089b-4db8-b257-4d0781eaf581",
        "colab": {
          "base_uri": "https://localhost:8080/"
        }
      },
      "source": [
        "print(\"x + 5 =\", x + 5)"
      ],
      "execution_count": 137,
      "outputs": [
        {
          "output_type": "stream",
          "text": [
            "x + 5 = [5 6 7 8]\n"
          ],
          "name": "stdout"
        }
      ]
    },
    {
      "cell_type": "code",
      "metadata": {
        "id": "AOQRav6cp835",
        "outputId": "2564ba66-4e0b-4a5b-ca62-cb58960afaaf",
        "colab": {
          "base_uri": "https://localhost:8080/"
        }
      },
      "source": [
        "print(\"x - 5 =\", x - 5)"
      ],
      "execution_count": 138,
      "outputs": [
        {
          "output_type": "stream",
          "text": [
            "x - 5 = [-5 -4 -3 -2]\n"
          ],
          "name": "stdout"
        }
      ]
    },
    {
      "cell_type": "code",
      "metadata": {
        "id": "XEtmG36yqOSX",
        "outputId": "b69c8098-d6a4-4035-dada-9a3effbca075",
        "colab": {
          "base_uri": "https://localhost:8080/"
        }
      },
      "source": [
        "print(\"x * 2 = \", x * 2)"
      ],
      "execution_count": 139,
      "outputs": [
        {
          "output_type": "stream",
          "text": [
            "x * 2 =  [0 2 4 6]\n"
          ],
          "name": "stdout"
        }
      ]
    },
    {
      "cell_type": "code",
      "metadata": {
        "id": "XFdnJl0OqcRP",
        "outputId": "4c4fe4b9-28b6-4a19-c491-70d83fe67eab",
        "colab": {
          "base_uri": "https://localhost:8080/"
        }
      },
      "source": [
        "print(\"x / 2 = \", x / 2)"
      ],
      "execution_count": 140,
      "outputs": [
        {
          "output_type": "stream",
          "text": [
            "x / 2 =  [0.  0.5 1.  1.5]\n"
          ],
          "name": "stdout"
        }
      ]
    },
    {
      "cell_type": "code",
      "metadata": {
        "id": "YOyOdxo5qmPv",
        "outputId": "3bcd5ac0-0c72-48cc-f49a-d631128cb22b",
        "colab": {
          "base_uri": "https://localhost:8080/"
        }
      },
      "source": [
        "np.add(x , 2)"
      ],
      "execution_count": 141,
      "outputs": [
        {
          "output_type": "execute_result",
          "data": {
            "text/plain": [
              "array([2, 3, 4, 5])"
            ]
          },
          "metadata": {
            "tags": []
          },
          "execution_count": 141
        }
      ]
    },
    {
      "cell_type": "markdown",
      "metadata": {
        "id": "7TpLgO_CXM7y"
      },
      "source": [
        "## #Trigonometric functions \n"
      ]
    },
    {
      "cell_type": "code",
      "metadata": {
        "id": "aNR1CTwbuY1k",
        "outputId": "75ec3885-f0dc-47e7-91f9-2fdc352ebe06",
        "colab": {
          "base_uri": "https://localhost:8080/"
        }
      },
      "source": [
        "theta = np.linspace(0,np.pi, 3 )\n",
        "theta"
      ],
      "execution_count": 142,
      "outputs": [
        {
          "output_type": "execute_result",
          "data": {
            "text/plain": [
              "array([0.        , 1.57079633, 3.14159265])"
            ]
          },
          "metadata": {
            "tags": []
          },
          "execution_count": 142
        }
      ]
    },
    {
      "cell_type": "code",
      "metadata": {
        "id": "tncZhm10YtIS",
        "outputId": "cbbbe816-43a3-4230-b1d6-e86497432622",
        "colab": {
          "base_uri": "https://localhost:8080/"
        }
      },
      "source": [
        "print(\"sin (theta) = \", np.sin(theta))"
      ],
      "execution_count": 143,
      "outputs": [
        {
          "output_type": "stream",
          "text": [
            "sin (theta) =  [0.0000000e+00 1.0000000e+00 1.2246468e-16]\n"
          ],
          "name": "stdout"
        }
      ]
    },
    {
      "cell_type": "code",
      "metadata": {
        "id": "Uri2xqQ8Zj26",
        "outputId": "ba67291f-d6d3-4c77-848a-85790b38d467",
        "colab": {
          "base_uri": "https://localhost:8080/"
        }
      },
      "source": [
        "print(\"cos(theta) = \", np.cos(theta))"
      ],
      "execution_count": 144,
      "outputs": [
        {
          "output_type": "stream",
          "text": [
            "cos(theta) =  [ 1.000000e+00  6.123234e-17 -1.000000e+00]\n"
          ],
          "name": "stdout"
        }
      ]
    },
    {
      "cell_type": "code",
      "metadata": {
        "id": "2yXyjHc_Z49B",
        "outputId": "d324cfc3-726f-4400-b64b-00192023204b",
        "colab": {
          "base_uri": "https://localhost:8080/"
        }
      },
      "source": [
        "print(\"tan(theta) = \", np.tan(theta))"
      ],
      "execution_count": 145,
      "outputs": [
        {
          "output_type": "stream",
          "text": [
            "tan(theta) =  [ 0.00000000e+00  1.63312394e+16 -1.22464680e-16]\n"
          ],
          "name": "stdout"
        }
      ]
    },
    {
      "cell_type": "code",
      "metadata": {
        "id": "rz4rT2adaJDK",
        "outputId": "5f8ce6c8-1436-42ab-e2ed-2562b6f6c4f5",
        "colab": {
          "base_uri": "https://localhost:8080/"
        }
      },
      "source": [
        "m = [1, 2, 3]\n",
        "m"
      ],
      "execution_count": 146,
      "outputs": [
        {
          "output_type": "execute_result",
          "data": {
            "text/plain": [
              "[1, 2, 3]"
            ]
          },
          "metadata": {
            "tags": []
          },
          "execution_count": 146
        }
      ]
    },
    {
      "cell_type": "code",
      "metadata": {
        "id": "D0rMI3fls7FP",
        "outputId": "8c7ea6e1-49ea-49bd-c8c4-b6d64c92849e",
        "colab": {
          "base_uri": "https://localhost:8080/"
        }
      },
      "source": [
        "print(\"e^m = \", np.exp(m))"
      ],
      "execution_count": 147,
      "outputs": [
        {
          "output_type": "stream",
          "text": [
            "e^m =  [ 2.71828183  7.3890561  20.08553692]\n"
          ],
          "name": "stdout"
        }
      ]
    },
    {
      "cell_type": "code",
      "metadata": {
        "id": "EkSdz6UBtM6y",
        "outputId": "408a310c-46f1-45b1-fc69-103a9f402736",
        "colab": {
          "base_uri": "https://localhost:8080/"
        }
      },
      "source": [
        "print(\"2^m = \", np.exp2(m))"
      ],
      "execution_count": 148,
      "outputs": [
        {
          "output_type": "stream",
          "text": [
            "2^m =  [2. 4. 8.]\n"
          ],
          "name": "stdout"
        }
      ]
    },
    {
      "cell_type": "code",
      "metadata": {
        "id": "lwoCmtRbwpnI",
        "outputId": "749cb29a-6554-47af-e87f-c860717771ef",
        "colab": {
          "base_uri": "https://localhost:8080/"
        }
      },
      "source": [
        "print(\"3^m =\", np.power(3, m))"
      ],
      "execution_count": 149,
      "outputs": [
        {
          "output_type": "stream",
          "text": [
            "3^m = [ 3  9 27]\n"
          ],
          "name": "stdout"
        }
      ]
    },
    {
      "cell_type": "code",
      "metadata": {
        "id": "_1LjJ39Bw00T",
        "outputId": "5a861acf-0be7-48ab-babe-18f6150cc4b6",
        "colab": {
          "base_uri": "https://localhost:8080/"
        }
      },
      "source": [
        "print(\"ln(m) = \", np.log(m))"
      ],
      "execution_count": 150,
      "outputs": [
        {
          "output_type": "stream",
          "text": [
            "ln(m) =  [0.         0.69314718 1.09861229]\n"
          ],
          "name": "stdout"
        }
      ]
    },
    {
      "cell_type": "code",
      "metadata": {
        "id": "kXf5xrYCxUIy",
        "outputId": "4490d244-962a-46dc-bed4-25f477a38051",
        "colab": {
          "base_uri": "https://localhost:8080/"
        }
      },
      "source": [
        "print(\"log10(m)\", np.log(10))"
      ],
      "execution_count": 151,
      "outputs": [
        {
          "output_type": "stream",
          "text": [
            "log10(m) 2.302585092994046\n"
          ],
          "name": "stdout"
        }
      ]
    },
    {
      "cell_type": "code",
      "metadata": {
        "id": "zzdltRMXxu9b",
        "outputId": "f26382ac-233a-4ad3-dfe3-eedac8110824",
        "colab": {
          "base_uri": "https://localhost:8080/"
        }
      },
      "source": [
        "print(\"exp(m) - 1 \", np.expm1(m) )"
      ],
      "execution_count": 152,
      "outputs": [
        {
          "output_type": "stream",
          "text": [
            "exp(m) - 1  [ 1.71828183  6.3890561  19.08553692]\n"
          ],
          "name": "stdout"
        }
      ]
    },
    {
      "cell_type": "code",
      "metadata": {
        "id": "Wvu0BNizyHET",
        "outputId": "bc0ebf2b-79e0-42cf-dd05-460d3f4664d6",
        "colab": {
          "base_uri": "https://localhost:8080/"
        }
      },
      "source": [
        "print(\"log(1 + x) =\", np.log1p(x))"
      ],
      "execution_count": 153,
      "outputs": [
        {
          "output_type": "stream",
          "text": [
            "log(1 + x) = [0.         0.69314718 1.09861229 1.38629436]\n"
          ],
          "name": "stdout"
        }
      ]
    },
    {
      "cell_type": "code",
      "metadata": {
        "id": "GDhGGqwMzNcf",
        "outputId": "733990d3-97e8-4d72-a148-d396bd4c1e5f",
        "colab": {
          "base_uri": "https://localhost:8080/"
        }
      },
      "source": [
        "from scipy import special      #more functions\n",
        "m"
      ],
      "execution_count": 154,
      "outputs": [
        {
          "output_type": "execute_result",
          "data": {
            "text/plain": [
              "[1, 2, 3]"
            ]
          },
          "metadata": {
            "tags": []
          },
          "execution_count": 154
        }
      ]
    },
    {
      "cell_type": "code",
      "metadata": {
        "id": "Eijbq9de2NHQ",
        "outputId": "1fea9353-afec-4334-f565-9035c79a52ae",
        "colab": {
          "base_uri": "https://localhost:8080/"
        }
      },
      "source": [
        "print(\"gamma(m) =\", special.gamma(m))"
      ],
      "execution_count": 155,
      "outputs": [
        {
          "output_type": "stream",
          "text": [
            "gamma(m) = [1. 1. 2.]\n"
          ],
          "name": "stdout"
        }
      ]
    },
    {
      "cell_type": "code",
      "metadata": {
        "id": "cLaj936q2dST",
        "outputId": "2fb377e5-4c52-470c-f0b4-94e593ef861e",
        "colab": {
          "base_uri": "https://localhost:8080/"
        }
      },
      "source": [
        "#integral of Gaussian)\n",
        "print('erf(m) =', special.erf(m))"
      ],
      "execution_count": 156,
      "outputs": [
        {
          "output_type": "stream",
          "text": [
            "erf(m) = [0.84270079 0.99532227 0.99997791]\n"
          ],
          "name": "stdout"
        }
      ]
    },
    {
      "cell_type": "code",
      "metadata": {
        "id": "PmGHI0J_3KCN",
        "outputId": "b8b6c0f2-2381-41ff-d610-44d6fd149c02",
        "colab": {
          "base_uri": "https://localhost:8080/"
        }
      },
      "source": [
        "#unfunc\n",
        "q = np.arange(5)\n",
        "o = np.empty(5)\n",
        "np.multiply(q , 10, out = o)\n"
      ],
      "execution_count": 157,
      "outputs": [
        {
          "output_type": "execute_result",
          "data": {
            "text/plain": [
              "array([ 0., 10., 20., 30., 40.])"
            ]
          },
          "metadata": {
            "tags": []
          },
          "execution_count": 157
        }
      ]
    },
    {
      "cell_type": "code",
      "metadata": {
        "id": "I2tPNgRW6g1X",
        "outputId": "4e3c89a5-8522-42e0-e9c0-75a3da8a7e2c",
        "colab": {
          "base_uri": "https://localhost:8080/"
        }
      },
      "source": [
        "#agregate to reduce it's like +1+2+3+4.... = x\n",
        "q = np.arange(1,6)\n",
        "np.add.reduce(q)\n"
      ],
      "execution_count": 158,
      "outputs": [
        {
          "output_type": "execute_result",
          "data": {
            "text/plain": [
              "15"
            ]
          },
          "metadata": {
            "tags": []
          },
          "execution_count": 158
        }
      ]
    },
    {
      "cell_type": "code",
      "metadata": {
        "id": "Fsah_Eu08LcE",
        "outputId": "9248331f-574f-4de4-a94a-e6deb89dd2cb",
        "colab": {
          "base_uri": "https://localhost:8080/"
        }
      },
      "source": [
        "#multiply 5x4x3x2x1....\n",
        "np.multiply.reduce(q)"
      ],
      "execution_count": 159,
      "outputs": [
        {
          "output_type": "execute_result",
          "data": {
            "text/plain": [
              "120"
            ]
          },
          "metadata": {
            "tags": []
          },
          "execution_count": 159
        }
      ]
    },
    {
      "cell_type": "code",
      "metadata": {
        "id": "VuPhoSiG9vDU",
        "outputId": "e43685d7-e9da-4985-f266-6943fa69b9e8",
        "colab": {
          "base_uri": "https://localhost:8080/"
        }
      },
      "source": [
        "np.add.accumulate(q)"
      ],
      "execution_count": 160,
      "outputs": [
        {
          "output_type": "execute_result",
          "data": {
            "text/plain": [
              "array([ 1,  3,  6, 10, 15])"
            ]
          },
          "metadata": {
            "tags": []
          },
          "execution_count": 160
        }
      ]
    },
    {
      "cell_type": "code",
      "metadata": {
        "id": "wp_1b7NL-Kub",
        "outputId": "62a672b7-6fa8-4ef6-8047-a5153bc7c42d",
        "colab": {
          "base_uri": "https://localhost:8080/"
        }
      },
      "source": [
        "np.multiply.accumulate(q)"
      ],
      "execution_count": 161,
      "outputs": [
        {
          "output_type": "execute_result",
          "data": {
            "text/plain": [
              "array([  1,   2,   6,  24, 120])"
            ]
          },
          "metadata": {
            "tags": []
          },
          "execution_count": 161
        }
      ]
    },
    {
      "cell_type": "code",
      "metadata": {
        "id": "SySplfzb-Tor",
        "outputId": "84923162-73fb-4ec1-ff59-886b46d4394a",
        "colab": {
          "base_uri": "https://localhost:8080/"
        }
      },
      "source": [
        "q"
      ],
      "execution_count": 162,
      "outputs": [
        {
          "output_type": "execute_result",
          "data": {
            "text/plain": [
              "array([1, 2, 3, 4, 5])"
            ]
          },
          "metadata": {
            "tags": []
          },
          "execution_count": 162
        }
      ]
    },
    {
      "cell_type": "code",
      "metadata": {
        "id": "2XZxaDltBKE3",
        "outputId": "bd7deb01-e78c-4db1-dc7b-a7bac1b44fdc",
        "colab": {
          "base_uri": "https://localhost:8080/"
        }
      },
      "source": [
        "np.multiply.outer(q, q)"
      ],
      "execution_count": 163,
      "outputs": [
        {
          "output_type": "execute_result",
          "data": {
            "text/plain": [
              "array([[ 1,  2,  3,  4,  5],\n",
              "       [ 2,  4,  6,  8, 10],\n",
              "       [ 3,  6,  9, 12, 15],\n",
              "       [ 4,  8, 12, 16, 20],\n",
              "       [ 5, 10, 15, 20, 25]])"
            ]
          },
          "metadata": {
            "tags": []
          },
          "execution_count": 163
        }
      ]
    },
    {
      "cell_type": "markdown",
      "metadata": {
        "id": "rqqheH-TCUPm"
      },
      "source": [
        "##Summing the Values in an Array"
      ]
    },
    {
      "cell_type": "code",
      "metadata": {
        "id": "JLh0Uo9OCZOr",
        "outputId": "eab5753d-74fd-439b-9ab7-dff89ad43e94",
        "colab": {
          "base_uri": "https://localhost:8080/"
        }
      },
      "source": [
        "L = np.random.random(100)\n",
        "sum(L)"
      ],
      "execution_count": 164,
      "outputs": [
        {
          "output_type": "execute_result",
          "data": {
            "text/plain": [
              "46.770659289006645"
            ]
          },
          "metadata": {
            "tags": []
          },
          "execution_count": 164
        }
      ]
    },
    {
      "cell_type": "code",
      "metadata": {
        "id": "blKTbhwFCr6l",
        "outputId": "46b67bc7-8e81-4322-df42-4a845d229c4b",
        "colab": {
          "base_uri": "https://localhost:8080/"
        }
      },
      "source": [
        "np.sum(L)"
      ],
      "execution_count": 165,
      "outputs": [
        {
          "output_type": "execute_result",
          "data": {
            "text/plain": [
              "46.77065928900665"
            ]
          },
          "metadata": {
            "tags": []
          },
          "execution_count": 165
        }
      ]
    },
    {
      "cell_type": "code",
      "metadata": {
        "id": "mAq5mAHmC-yF",
        "outputId": "e66fc715-21b9-42b1-cf4e-6033a1441d37",
        "colab": {
          "base_uri": "https://localhost:8080/"
        }
      },
      "source": [
        "big_array = np.random.rand(1000000)\n",
        "%timeit sum(big_array)\n",
        "%timeit np.sum(big_array) #np.sum is aware of multiple array dimensions"
      ],
      "execution_count": 166,
      "outputs": [
        {
          "output_type": "stream",
          "text": [
            "10 loops, best of 3: 174 ms per loop\n",
            "1000 loops, best of 3: 382 µs per loop\n"
          ],
          "name": "stdout"
        }
      ]
    },
    {
      "cell_type": "code",
      "metadata": {
        "id": "U4qWoUE0DX4z",
        "outputId": "90f48fcb-8a0f-4a42-d7d3-c98a5adcaf00",
        "colab": {
          "base_uri": "https://localhost:8080/"
        }
      },
      "source": [
        "min(big_array)\n"
      ],
      "execution_count": 167,
      "outputs": [
        {
          "output_type": "execute_result",
          "data": {
            "text/plain": [
              "3.3555827250175696e-07"
            ]
          },
          "metadata": {
            "tags": []
          },
          "execution_count": 167
        }
      ]
    },
    {
      "cell_type": "code",
      "metadata": {
        "id": "e5ZlQ1hvFMb7",
        "outputId": "eedbc34e-9c1e-4687-a936-a6835003cb20",
        "colab": {
          "base_uri": "https://localhost:8080/"
        }
      },
      "source": [
        "max(big_array)"
      ],
      "execution_count": 168,
      "outputs": [
        {
          "output_type": "execute_result",
          "data": {
            "text/plain": [
              "0.9999993995364286"
            ]
          },
          "metadata": {
            "tags": []
          },
          "execution_count": 168
        }
      ]
    },
    {
      "cell_type": "code",
      "metadata": {
        "id": "sJ3blGvqFP_j",
        "outputId": "7be26c07-2a28-4eaa-b52d-cb1d0a07bda3",
        "colab": {
          "base_uri": "https://localhost:8080/"
        }
      },
      "source": [
        "%timeit min(big_array)\n",
        "%timeit np.min(big_array)"
      ],
      "execution_count": 169,
      "outputs": [
        {
          "output_type": "stream",
          "text": [
            "10 loops, best of 3: 104 ms per loop\n",
            "1000 loops, best of 3: 454 µs per loop\n"
          ],
          "name": "stdout"
        }
      ]
    },
    {
      "cell_type": "code",
      "metadata": {
        "id": "SVNytA8wFt-j",
        "outputId": "3996f5a5-a268-421c-a10f-13aeb410861c",
        "colab": {
          "base_uri": "https://localhost:8080/"
        }
      },
      "source": [
        "x =np.random.random((3, 4))\n",
        "print(x)"
      ],
      "execution_count": 170,
      "outputs": [
        {
          "output_type": "stream",
          "text": [
            "[[0.19280311 0.73009588 0.38985691 0.46258028]\n",
            " [0.01769857 0.44242143 0.37991067 0.1646694 ]\n",
            " [0.60804813 0.69715482 0.15065326 0.622119  ]]\n"
          ],
          "name": "stdout"
        }
      ]
    },
    {
      "cell_type": "code",
      "metadata": {
        "id": "xorLbhLidNqs",
        "outputId": "3b1fb39a-06fb-4daa-88d1-3f06f643e77f",
        "colab": {
          "base_uri": "https://localhost:8080/"
        }
      },
      "source": [
        "x.sum()"
      ],
      "execution_count": 171,
      "outputs": [
        {
          "output_type": "execute_result",
          "data": {
            "text/plain": [
              "4.858011468406771"
            ]
          },
          "metadata": {
            "tags": []
          },
          "execution_count": 171
        }
      ]
    },
    {
      "cell_type": "code",
      "metadata": {
        "id": "D4hcskaedfcC",
        "outputId": "f98d28fe-65ac-4db6-f197-a72a946fac2e",
        "colab": {
          "base_uri": "https://localhost:8080/"
        }
      },
      "source": [
        "x.min(axis = 0)"
      ],
      "execution_count": 172,
      "outputs": [
        {
          "output_type": "execute_result",
          "data": {
            "text/plain": [
              "array([0.01769857, 0.44242143, 0.15065326, 0.1646694 ])"
            ]
          },
          "metadata": {
            "tags": []
          },
          "execution_count": 172
        }
      ]
    },
    {
      "cell_type": "code",
      "metadata": {
        "id": "Vz0awEdUedCP",
        "outputId": "69ced548-5d18-4528-dd01-3b7101c4e642",
        "colab": {
          "base_uri": "https://localhost:8080/"
        }
      },
      "source": [
        "x.max(axis= 1)  #values more near of 1"
      ],
      "execution_count": 173,
      "outputs": [
        {
          "output_type": "execute_result",
          "data": {
            "text/plain": [
              "array([0.73009588, 0.44242143, 0.69715482])"
            ]
          },
          "metadata": {
            "tags": []
          },
          "execution_count": 173
        }
      ]
    },
    {
      "cell_type": "code",
      "metadata": {
        "id": "84uI4-YEemDX",
        "outputId": "f2e26e28-a36f-4e53-a7f3-9bf8b468fb34",
        "colab": {
          "base_uri": "https://localhost:8080/"
        }
      },
      "source": [
        "x.max(axis = 0) "
      ],
      "execution_count": 174,
      "outputs": [
        {
          "output_type": "execute_result",
          "data": {
            "text/plain": [
              "array([0.60804813, 0.73009588, 0.38985691, 0.622119  ])"
            ]
          },
          "metadata": {
            "tags": []
          },
          "execution_count": 174
        }
      ]
    },
    {
      "cell_type": "code",
      "metadata": {
        "id": "ve-A7eZiewT_",
        "outputId": "f1f9a7ae-a031-4a68-8e83-2551dfdae4e2",
        "colab": {
          "base_uri": "https://localhost:8080/"
        }
      },
      "source": [
        "!head -4 data/president_heights.csv"
      ],
      "execution_count": 175,
      "outputs": [
        {
          "output_type": "stream",
          "text": [
            "head: cannot open 'data/president_heights.csv' for reading: No such file or directory\n"
          ],
          "name": "stdout"
        }
      ]
    },
    {
      "cell_type": "code",
      "metadata": {
        "id": "6J82nMA_fv9_",
        "outputId": "95da53f8-ae06-48d2-cdc3-fd38f6a8efc7",
        "colab": {
          "base_uri": "https://localhost:8080/"
        }
      },
      "source": [
        "a = np.array([5, 9 , 12])\n",
        "b = np.array([5, 9 , 12])\n",
        "a+ b"
      ],
      "execution_count": 176,
      "outputs": [
        {
          "output_type": "execute_result",
          "data": {
            "text/plain": [
              "array([10, 18, 24])"
            ]
          },
          "metadata": {
            "tags": []
          },
          "execution_count": 176
        }
      ]
    },
    {
      "cell_type": "code",
      "metadata": {
        "id": "JSUXqxRfhZ6I",
        "outputId": "1664e7c5-e1e2-4f49-ae2b-1910558623ae",
        "colab": {
          "base_uri": "https://localhost:8080/"
        }
      },
      "source": [
        "a + 5"
      ],
      "execution_count": 177,
      "outputs": [
        {
          "output_type": "execute_result",
          "data": {
            "text/plain": [
              "array([10, 14, 17])"
            ]
          },
          "metadata": {
            "tags": []
          },
          "execution_count": 177
        }
      ]
    },
    {
      "cell_type": "code",
      "metadata": {
        "id": "EBYSHHzDi4bB",
        "outputId": "6cb37f69-ee8f-405c-ce9e-d5656b455fa2",
        "colab": {
          "base_uri": "https://localhost:8080/"
        }
      },
      "source": [
        "a = np.arange(3)\n",
        "b = np.arange(3)[:, np.newaxis]\n",
        "print(a)\n",
        "print(b)\n"
      ],
      "execution_count": 178,
      "outputs": [
        {
          "output_type": "stream",
          "text": [
            "[0 1 2]\n",
            "[[0]\n",
            " [1]\n",
            " [2]]\n"
          ],
          "name": "stdout"
        }
      ]
    },
    {
      "cell_type": "code",
      "metadata": {
        "id": "8vo8aisgIad8",
        "outputId": "d1fa7f9f-c7e9-4435-937f-00d992066236",
        "colab": {
          "base_uri": "https://localhost:8080/"
        }
      },
      "source": [
        "a+b"
      ],
      "execution_count": 179,
      "outputs": [
        {
          "output_type": "execute_result",
          "data": {
            "text/plain": [
              "array([[0, 1, 2],\n",
              "       [1, 2, 3],\n",
              "       [2, 3, 4]])"
            ]
          },
          "metadata": {
            "tags": []
          },
          "execution_count": 179
        }
      ]
    },
    {
      "cell_type": "markdown",
      "metadata": {
        "id": "ZU0g_HRSQS-g"
      },
      "source": [
        "# Rules of broadcasting\n"
      ]
    },
    {
      "cell_type": "code",
      "metadata": {
        "id": "sdLm9WkAIg5w"
      },
      "source": [
        "#explain this function\n",
        "x = np.ones((2, 3))\n",
        "y = np.arange(3)"
      ],
      "execution_count": 180,
      "outputs": []
    },
    {
      "cell_type": "code",
      "metadata": {
        "id": "VMqN95czPG_F",
        "outputId": "9d0256a0-1938-420f-ab3a-ca668c2fe907",
        "colab": {
          "base_uri": "https://localhost:8080/"
        }
      },
      "source": [
        "x"
      ],
      "execution_count": 181,
      "outputs": [
        {
          "output_type": "execute_result",
          "data": {
            "text/plain": [
              "array([[1., 1., 1.],\n",
              "       [1., 1., 1.]])"
            ]
          },
          "metadata": {
            "tags": []
          },
          "execution_count": 181
        }
      ]
    },
    {
      "cell_type": "code",
      "metadata": {
        "id": "tkIrQPoEPK55",
        "outputId": "21b5b2d4-4d2f-4e14-be93-c90129eda70e",
        "colab": {
          "base_uri": "https://localhost:8080/"
        }
      },
      "source": [
        "y"
      ],
      "execution_count": 182,
      "outputs": [
        {
          "output_type": "execute_result",
          "data": {
            "text/plain": [
              "array([0, 1, 2])"
            ]
          },
          "metadata": {
            "tags": []
          },
          "execution_count": 182
        }
      ]
    },
    {
      "cell_type": "code",
      "metadata": {
        "id": "S9berpe2PU9Y"
      },
      "source": [
        "# Rule 1: If the two arrays differ in their number of dimensions, the shape of the\n",
        "#one with fewer dimensions is padded with ones on its leading (left) side.\n",
        "#•  Rule 2: If the shape of the two arrays does not match in any dimension, the array\n",
        "#with shape equal to 1 in that dimension is stretched to match the other shape.\n",
        "#•  Rule 3: If in any dimension the sizes disagree and neither is equal to 1, an error is\n",
        "#raised"
      ],
      "execution_count": 183,
      "outputs": []
    },
    {
      "cell_type": "code",
      "metadata": {
        "id": "zR9FTx4eQslU"
      },
      "source": [
        "#Using the rule 1 , so we add 1 on left one\n",
        "#X.shape -> (2, 3)\n",
        "#y.shape -> (1, 3)"
      ],
      "execution_count": 184,
      "outputs": []
    },
    {
      "cell_type": "code",
      "metadata": {
        "id": "sjwXwfseRC4K"
      },
      "source": [
        "#use the rule 2 for stretch this dimension\n",
        "\n",
        "#X.shape - > (2, 3)\n",
        "#y.shape -> (2 , 3)"
      ],
      "execution_count": 185,
      "outputs": []
    },
    {
      "cell_type": "code",
      "metadata": {
        "id": "T-nAWWgiRs06",
        "outputId": "5231ef43-b292-42b0-9535-28c8595e83d3",
        "colab": {
          "base_uri": "https://localhost:8080/"
        }
      },
      "source": [
        "#the final shape will be(2,3 )\n",
        "x = np.ones((2, 3))\n",
        "y = np.arange(3)\n",
        "x + y"
      ],
      "execution_count": 186,
      "outputs": [
        {
          "output_type": "execute_result",
          "data": {
            "text/plain": [
              "array([[1., 2., 3.],\n",
              "       [1., 2., 3.]])"
            ]
          },
          "metadata": {
            "tags": []
          },
          "execution_count": 186
        }
      ]
    },
    {
      "cell_type": "code",
      "metadata": {
        "id": "n-Z_4sK1R37i",
        "outputId": "8159348e-dae6-434b-b6ed-ed5f9b64fecd",
        "colab": {
          "base_uri": "https://localhost:8080/"
        }
      },
      "source": [
        "a = np.arange(3).reshape((3, 1))\n",
        "b = np.arange(3)\n",
        "a + b"
      ],
      "execution_count": 187,
      "outputs": [
        {
          "output_type": "execute_result",
          "data": {
            "text/plain": [
              "array([[0, 1, 2],\n",
              "       [1, 2, 3],\n",
              "       [2, 3, 4]])"
            ]
          },
          "metadata": {
            "tags": []
          },
          "execution_count": 187
        }
      ]
    },
    {
      "cell_type": "code",
      "metadata": {
        "id": "fHZYhumlTRX7"
      },
      "source": [
        "#but if the rows are different, so , we can get error\n",
        "x = np.ones((3, 2))\n",
        "y = np.arange(3)\n"
      ],
      "execution_count": 188,
      "outputs": []
    },
    {
      "cell_type": "code",
      "metadata": {
        "id": "NQKi-zS-UaiR",
        "outputId": "122f9590-fb6f-467f-b3cb-57b0d847f0df",
        "colab": {
          "base_uri": "https://localhost:8080/"
        }
      },
      "source": [
        "y[:, np.newaxis].shape\n",
        "\n"
      ],
      "execution_count": 189,
      "outputs": [
        {
          "output_type": "execute_result",
          "data": {
            "text/plain": [
              "(3, 1)"
            ]
          },
          "metadata": {
            "tags": []
          },
          "execution_count": 189
        }
      ]
    },
    {
      "cell_type": "code",
      "metadata": {
        "id": "ZxceXfYaVm_i",
        "outputId": "7c3f7897-965b-49e0-c2f1-f09fecfab2db",
        "colab": {
          "base_uri": "https://localhost:8080/"
        }
      },
      "source": [
        "x + y[:, np.newaxis]"
      ],
      "execution_count": 190,
      "outputs": [
        {
          "output_type": "execute_result",
          "data": {
            "text/plain": [
              "array([[1., 1.],\n",
              "       [2., 2.],\n",
              "       [3., 3.]])"
            ]
          },
          "metadata": {
            "tags": []
          },
          "execution_count": 190
        }
      ]
    },
    {
      "cell_type": "code",
      "metadata": {
        "id": "ZFyOMkO4V08a",
        "outputId": "1b13e787-f15e-4164-c524-91f6ae1b8062",
        "colab": {
          "base_uri": "https://localhost:8080/"
        }
      },
      "source": [
        "np.logaddexp(x, y[: , np.newaxis])  "
      ],
      "execution_count": 191,
      "outputs": [
        {
          "output_type": "execute_result",
          "data": {
            "text/plain": [
              "array([[1.31326169, 1.31326169],\n",
              "       [1.69314718, 1.69314718],\n",
              "       [2.31326169, 2.31326169]])"
            ]
          },
          "metadata": {
            "tags": []
          },
          "execution_count": 191
        }
      ]
    },
    {
      "cell_type": "code",
      "metadata": {
        "id": "n4wWbMx8hDNu",
        "outputId": "fbef6087-29e7-49b1-ee59-995c3ec7dc29",
        "colab": {
          "base_uri": "https://localhost:8080/"
        }
      },
      "source": [
        "b = np.random.random((10, 3))\n",
        "b"
      ],
      "execution_count": 192,
      "outputs": [
        {
          "output_type": "execute_result",
          "data": {
            "text/plain": [
              "array([[0.84872597, 0.50133396, 0.70813395],\n",
              "       [0.53621072, 0.4837703 , 0.55371317],\n",
              "       [0.34689914, 0.94367848, 0.34362917],\n",
              "       [0.89530257, 0.44139825, 0.16338246],\n",
              "       [0.89823474, 0.9246059 , 0.65862692],\n",
              "       [0.96237913, 0.0027933 , 0.34605987],\n",
              "       [0.08917694, 0.60332841, 0.22301518],\n",
              "       [0.75994117, 0.1280959 , 0.96883248],\n",
              "       [0.7388676 , 0.13165048, 0.31773183],\n",
              "       [0.11701877, 0.08274244, 0.09775942]])"
            ]
          },
          "metadata": {
            "tags": []
          },
          "execution_count": 192
        }
      ]
    },
    {
      "cell_type": "code",
      "metadata": {
        "id": "oezYC7Z1jlQy",
        "outputId": "68bf1a1c-a78b-454a-d5fb-765acc8cd626",
        "colab": {
          "base_uri": "https://localhost:8080/"
        }
      },
      "source": [
        "bmean = b.mean(0)\n",
        "bmean"
      ],
      "execution_count": 193,
      "outputs": [
        {
          "output_type": "execute_result",
          "data": {
            "text/plain": [
              "array([0.61927568, 0.42433974, 0.43808844])"
            ]
          },
          "metadata": {
            "tags": []
          },
          "execution_count": 193
        }
      ]
    },
    {
      "cell_type": "code",
      "metadata": {
        "id": "YSXqxhfCj8CS",
        "outputId": "f071054d-2003-41c6-8eb4-88e2d28d429a",
        "colab": {
          "base_uri": "https://localhost:8080/"
        }
      },
      "source": [
        "b_centered = b - bmean\n",
        "b_centered"
      ],
      "execution_count": 194,
      "outputs": [
        {
          "output_type": "execute_result",
          "data": {
            "text/plain": [
              "array([[ 0.2294503 ,  0.07699422,  0.27004551],\n",
              "       [-0.08306495,  0.05943056,  0.11562472],\n",
              "       [-0.27237654,  0.51933874, -0.09445928],\n",
              "       [ 0.2760269 ,  0.01705851, -0.27470598],\n",
              "       [ 0.27895907,  0.50026616,  0.22053848],\n",
              "       [ 0.34310346, -0.42154645, -0.09202857],\n",
              "       [-0.53009874,  0.17898867, -0.21507326],\n",
              "       [ 0.14066549, -0.29624385,  0.53074404],\n",
              "       [ 0.11959192, -0.29268926, -0.12035661],\n",
              "       [-0.50225691, -0.3415973 , -0.34032903]])"
            ]
          },
          "metadata": {
            "tags": []
          },
          "execution_count": 194
        }
      ]
    },
    {
      "cell_type": "code",
      "metadata": {
        "id": "fMVi2EPQlRFC",
        "outputId": "56277456-f2b5-429d-ee6a-ac39eb32cd34",
        "colab": {
          "base_uri": "https://localhost:8080/"
        }
      },
      "source": [
        "b_centered.mean(0)"
      ],
      "execution_count": 195,
      "outputs": [
        {
          "output_type": "execute_result",
          "data": {
            "text/plain": [
              "array([ 7.77156117e-17, -5.55111512e-17, -7.21644966e-17])"
            ]
          },
          "metadata": {
            "tags": []
          },
          "execution_count": 195
        }
      ]
    },
    {
      "cell_type": "code",
      "metadata": {
        "id": "ljigel8tlpX7",
        "outputId": "09c0e043-dcbf-4d0a-fab4-dfc08e297d1e",
        "colab": {
          "base_uri": "https://localhost:8080/"
        }
      },
      "source": [
        "#Plotting a two-dimensional function   -  images based on twodimensional function\n",
        "# x and y have 50 steps from 0 to 5\n",
        "\n",
        "x = np.linspace(0, 5, 50)\n",
        "y = np.linspace(0, 5, 50)[:, np.newaxis]\n",
        "z = np.sin(x)**10 + np.cos(10 + y*x )*np.cos(x)\n",
        "z\n",
        "\n"
      ],
      "execution_count": 196,
      "outputs": [
        {
          "output_type": "execute_result",
          "data": {
            "text/plain": [
              "array([[-0.83907153, -0.83470697, -0.8216586 , ...,  0.8956708 ,\n",
              "         0.68617261,  0.41940746],\n",
              "       [-0.83907153, -0.82902677, -0.8103873 , ...,  0.92522407,\n",
              "         0.75321348,  0.52508175],\n",
              "       [-0.83907153, -0.82325668, -0.79876457, ...,  0.96427357,\n",
              "         0.84172689,  0.66446403],\n",
              "       ...,\n",
              "       [-0.83907153, -0.48233077, -0.01646558, ...,  0.96449925,\n",
              "         0.75196531,  0.41982581],\n",
              "       [-0.83907153, -0.47324558,  0.00392612, ...,  0.92542163,\n",
              "         0.68540362,  0.37440839],\n",
              "       [-0.83907153, -0.46410908,  0.02431613, ...,  0.89579384,\n",
              "         0.65690314,  0.40107702]])"
            ]
          },
          "metadata": {
            "tags": []
          },
          "execution_count": 196
        }
      ]
    },
    {
      "cell_type": "code",
      "metadata": {
        "id": "KXSgnizXm5-b",
        "outputId": "c80f4760-c0b9-4a2d-fb09-d85ce4e583d1",
        "colab": {
          "base_uri": "https://localhost:8080/",
          "height": 269
        }
      },
      "source": [
        "  %matplotlib inline\n",
        "  import matplotlib.pyplot as plt\n",
        "\n",
        "  plt.imshow(z, origin = 'lower', extent = [0, 5 , 0 , 5],\n",
        "             cmap = 'viridis')\n",
        "  plt.colorbar();"
      ],
      "execution_count": 197,
      "outputs": [
        {
          "output_type": "display_data",
          "data": {
            "image/png": "[encoded data removed]",
            "text/plain": [
              "<Figure size 432x288 with 2 Axes>"
            ]
          },
          "metadata": {
            "tags": [],
            "needs_background": "light"
          }
        }
      ]
    },
    {
      "cell_type": "code",
      "metadata": {
        "id": "kldq4Pc9pWwt",
        "outputId": "1a2beac6-d765-49fd-ff24-c062b64e1641",
        "colab": {
          "base_uri": "https://localhost:8080/"
        }
      },
      "source": [
        "x = np.array([1, 2, 3, 5, 6, 7, 9, ])\n",
        "x>3"
      ],
      "execution_count": 211,
      "outputs": [
        {
          "output_type": "execute_result",
          "data": {
            "text/plain": [
              "array([False, False, False,  True,  True,  True,  True])"
            ]
          },
          "metadata": {
            "tags": []
          },
          "execution_count": 211
        }
      ]
    },
    {
      "cell_type": "code",
      "metadata": {
        "id": "6XPFf6aDZv4F",
        "outputId": "0fdca125-2496-4168-d59a-025e99669f81",
        "colab": {
          "base_uri": "https://localhost:8080/"
        }
      },
      "source": [
        "x<3"
      ],
      "execution_count": 212,
      "outputs": [
        {
          "output_type": "execute_result",
          "data": {
            "text/plain": [
              "array([ True,  True, False, False, False, False, False])"
            ]
          },
          "metadata": {
            "tags": []
          },
          "execution_count": 212
        }
      ]
    },
    {
      "cell_type": "code",
      "metadata": {
        "id": "gHE64kcYZz4z",
        "outputId": "dc2a9c94-aa31-4602-c8ee-eed065e68ab5",
        "colab": {
          "base_uri": "https://localhost:8080/"
        }
      },
      "source": [
        "x != 3"
      ],
      "execution_count": 214,
      "outputs": [
        {
          "output_type": "execute_result",
          "data": {
            "text/plain": [
              "array([ True,  True, False,  True,  True,  True,  True])"
            ]
          },
          "metadata": {
            "tags": []
          },
          "execution_count": 214
        }
      ]
    },
    {
      "cell_type": "code",
      "metadata": {
        "id": "M0EoPmqlZ6-6",
        "outputId": "92765252-3c9f-4966-c7ce-0b1f8a2e1b7c",
        "colab": {
          "base_uri": "https://localhost:8080/"
        }
      },
      "source": [
        "x == 3"
      ],
      "execution_count": 215,
      "outputs": [
        {
          "output_type": "execute_result",
          "data": {
            "text/plain": [
              "array([False, False,  True, False, False, False, False])"
            ]
          },
          "metadata": {
            "tags": []
          },
          "execution_count": 215
        }
      ]
    },
    {
      "cell_type": "code",
      "metadata": {
        "id": "QS73fOEcdFGE",
        "outputId": "a1bad187-46c9-4a08-f2f7-7d103524b1e1",
        "colab": {
          "base_uri": "https://localhost:8080/"
        }
      },
      "source": [
        "rng = np.random.RandomState(0)\n",
        "x = rng.randint(10, size = (3, 5))\n",
        "x"
      ],
      "execution_count": 218,
      "outputs": [
        {
          "output_type": "execute_result",
          "data": {
            "text/plain": [
              "array([[5, 0, 3, 3, 7],\n",
              "       [9, 3, 5, 2, 4],\n",
              "       [7, 6, 8, 8, 1]])"
            ]
          },
          "metadata": {
            "tags": []
          },
          "execution_count": 218
        }
      ]
    },
    {
      "cell_type": "code",
      "metadata": {
        "id": "u0k_NAchhTHd",
        "outputId": "b914b7ec-74e0-4373-e464-ca299806d78d",
        "colab": {
          "base_uri": "https://localhost:8080/"
        }
      },
      "source": [
        "x > 5"
      ],
      "execution_count": 219,
      "outputs": [
        {
          "output_type": "execute_result",
          "data": {
            "text/plain": [
              "array([[False, False, False, False,  True],\n",
              "       [ True, False, False, False, False],\n",
              "       [ True,  True,  True,  True, False]])"
            ]
          },
          "metadata": {
            "tags": []
          },
          "execution_count": 219
        }
      ]
    },
    {
      "cell_type": "code",
      "metadata": {
        "id": "hEfcgbtbhk8b",
        "outputId": "baeae5ea-fda4-48de-b802-df76cdfddc9a",
        "colab": {
          "base_uri": "https://localhost:8080/"
        }
      },
      "source": [
        "# how many values less than 6? and more than 6 ? \n",
        "np.count_nonzero(x > 6)"
      ],
      "execution_count": 220,
      "outputs": [
        {
          "output_type": "execute_result",
          "data": {
            "text/plain": [
              "5"
            ]
          },
          "metadata": {
            "tags": []
          },
          "execution_count": 220
        }
      ]
    },
    {
      "cell_type": "code",
      "metadata": {
        "id": "XXcGe3ihiRM6",
        "outputId": "e9cf83b0-c312-41df-be6a-69765dcca8ac",
        "colab": {
          "base_uri": "https://localhost:8080/"
        }
      },
      "source": [
        "np.count_nonzero(x < 6 )"
      ],
      "execution_count": 221,
      "outputs": [
        {
          "output_type": "execute_result",
          "data": {
            "text/plain": [
              "9"
            ]
          },
          "metadata": {
            "tags": []
          },
          "execution_count": 221
        }
      ]
    },
    {
      "cell_type": "code",
      "metadata": {
        "id": "D0NP5PkJiZfa",
        "outputId": "fca0a759-21c4-4597-a3e7-b99e57ab2dd5",
        "colab": {
          "base_uri": "https://localhost:8080/"
        }
      },
      "source": [
        "# how many values less than 6 in each row?\n",
        "np.sum( x < 6, axis = 1)"
      ],
      "execution_count": 222,
      "outputs": [
        {
          "output_type": "execute_result",
          "data": {
            "text/plain": [
              "array([4, 4, 1])"
            ]
          },
          "metadata": {
            "tags": []
          },
          "execution_count": 222
        }
      ]
    },
    {
      "cell_type": "code",
      "metadata": {
        "id": "7_UJClLxiuYj",
        "outputId": "57f6ab95-884c-4d8f-daf8-b4e02fdf875e",
        "colab": {
          "base_uri": "https://localhost:8080/"
        }
      },
      "source": [
        "x < 5"
      ],
      "execution_count": 226,
      "outputs": [
        {
          "output_type": "execute_result",
          "data": {
            "text/plain": [
              "array([[False,  True,  True,  True, False],\n",
              "       [False,  True, False,  True,  True],\n",
              "       [False, False, False, False,  True]])"
            ]
          },
          "metadata": {
            "tags": []
          },
          "execution_count": 226
        }
      ]
    },
    {
      "cell_type": "code",
      "metadata": {
        "id": "B9rbJCKIjuAq",
        "outputId": "66520b73-399c-475b-b52e-dfabfd18041d",
        "colab": {
          "base_uri": "https://localhost:8080/"
        }
      },
      "source": [
        "x[x < 5]"
      ],
      "execution_count": 229,
      "outputs": [
        {
          "output_type": "execute_result",
          "data": {
            "text/plain": [
              "array([0, 3, 3, 3, 2, 4, 1])"
            ]
          },
          "metadata": {
            "tags": []
          },
          "execution_count": 229
        }
      ]
    },
    {
      "cell_type": "code",
      "metadata": {
        "id": "L0F2IQO8qIfL",
        "outputId": "d469747c-31d4-4657-f6ea-340b41640c4c",
        "colab": {
          "base_uri": "https://localhost:8080/"
        }
      },
      "source": [
        "#When you use and or or, it’s equivalent to asking Python to treat the object as a singleBoolean entity. In Python, all nonzero integers will evaluate as True.\n",
        "bool(20), bool(0)"
      ],
      "execution_count": 234,
      "outputs": [
        {
          "output_type": "execute_result",
          "data": {
            "text/plain": [
              "(True, False)"
            ]
          },
          "metadata": {
            "tags": []
          },
          "execution_count": 234
        }
      ]
    },
    {
      "cell_type": "code",
      "metadata": {
        "id": "MzXzxKaDqlbT",
        "outputId": "c851565d-c658-4fb7-f7ab-f1376dbf01e3",
        "colab": {
          "base_uri": "https://localhost:8080/"
        }
      },
      "source": [
        "A = np.array([1, 0, 1 , 0 , 1, 0], dtype = bool)\n",
        "B = np.array([1, 1, 1, 0, 1, 1], dtype = bool)\n",
        "A|B"
      ],
      "execution_count": 236,
      "outputs": [
        {
          "output_type": "execute_result",
          "data": {
            "text/plain": [
              "array([ True,  True,  True, False,  True,  True])"
            ]
          },
          "metadata": {
            "tags": []
          },
          "execution_count": 236
        }
      ]
    },
    {
      "cell_type": "code",
      "metadata": {
        "id": "HVaLlNPXymcr",
        "outputId": "9c4812b6-4862-4c3e-a017-eab615872f60",
        "colab": {
          "base_uri": "https://localhost:8080/"
        }
      },
      "source": [
        "x = np.arange(10)\n",
        "(x>5) & (x<5)"
      ],
      "execution_count": 238,
      "outputs": [
        {
          "output_type": "execute_result",
          "data": {
            "text/plain": [
              "array([False, False, False, False, False, False, False, False, False,\n",
              "       False])"
            ]
          },
          "metadata": {
            "tags": []
          },
          "execution_count": 238
        }
      ]
    },
    {
      "cell_type": "markdown",
      "metadata": {
        "id": "hnTxlN7p0Q4N"
      },
      "source": [
        "# Fancy Indexing"
      ]
    },
    {
      "cell_type": "code",
      "metadata": {
        "id": "0S3nKQKky9s7",
        "outputId": "688b5756-6356-4887-b2d8-53dd3e4083cc",
        "colab": {
          "base_uri": "https://localhost:8080/"
        }
      },
      "source": [
        "import numpy as np\n",
        "rand = np.random.RandomState(12)\n",
        "\n",
        "x = rand.randint(100, size = 10)\n",
        "print(x)"
      ],
      "execution_count": 246,
      "outputs": [
        {
          "output_type": "stream",
          "text": [
            "[75 27  6  2  3 67 76 48 22 49]\n"
          ],
          "name": "stdout"
        }
      ]
    },
    {
      "cell_type": "code",
      "metadata": {
        "id": "gConditQ1ndd",
        "outputId": "4c175ac5-b1c5-4261-a2a5-592eaa592578",
        "colab": {
          "base_uri": "https://localhost:8080/"
        }
      },
      "source": [
        "ind = [2, 5, 9]\n",
        "x[ind]"
      ],
      "execution_count": 247,
      "outputs": [
        {
          "output_type": "execute_result",
          "data": {
            "text/plain": [
              "array([ 6, 67, 49])"
            ]
          },
          "metadata": {
            "tags": []
          },
          "execution_count": 247
        }
      ]
    },
    {
      "cell_type": "code",
      "metadata": {
        "id": "r3qMehpc2TFT",
        "outputId": "6078cac1-eebd-4f55-8020-afbbf964ad16",
        "colab": {
          "base_uri": "https://localhost:8080/"
        }
      },
      "source": [
        "#array being indexed\n",
        "ind = np.array([[0, 8],\n",
        "                [4, 3]])\n",
        "x[ind]"
      ],
      "execution_count": 248,
      "outputs": [
        {
          "output_type": "execute_result",
          "data": {
            "text/plain": [
              "array([[75, 22],\n",
              "       [ 3,  2]])"
            ]
          },
          "metadata": {
            "tags": []
          },
          "execution_count": 248
        }
      ]
    },
    {
      "cell_type": "code",
      "metadata": {
        "id": "4rw2ZUR_20zr",
        "outputId": "529c00ad-e943-4fcc-e7ac-b99a78129da0",
        "colab": {
          "base_uri": "https://localhost:8080/"
        }
      },
      "source": [
        "x = np.arange(12).reshape((3,4))\n",
        "x"
      ],
      "execution_count": 250,
      "outputs": [
        {
          "output_type": "execute_result",
          "data": {
            "text/plain": [
              "array([[ 0,  1,  2,  3],\n",
              "       [ 4,  5,  6,  7],\n",
              "       [ 8,  9, 10, 11]])"
            ]
          },
          "metadata": {
            "tags": []
          },
          "execution_count": 250
        }
      ]
    },
    {
      "cell_type": "code",
      "metadata": {
        "id": "r9xGY9_2452D",
        "outputId": "7dd1918e-825f-478d-91b2-81a6d51d43e5",
        "colab": {
          "base_uri": "https://localhost:8080/"
        }
      },
      "source": [
        "row = np.array([0, 1, 2])\n",
        "col = np.array([2, 1, 3])\n",
        "x[row, col]"
      ],
      "execution_count": 252,
      "outputs": [
        {
          "output_type": "execute_result",
          "data": {
            "text/plain": [
              "array([ 2,  5, 11])"
            ]
          },
          "metadata": {
            "tags": []
          },
          "execution_count": 252
        }
      ]
    },
    {
      "cell_type": "code",
      "metadata": {
        "id": "4X2W94JT5d5q",
        "outputId": "7d86fe8b-8bf1-4a3c-bf5f-08db184c6037",
        "colab": {
          "base_uri": "https://localhost:8080/"
        }
      },
      "source": [
        "x[row[: , np.newaxis],col]\n"
      ],
      "execution_count": 253,
      "outputs": [
        {
          "output_type": "execute_result",
          "data": {
            "text/plain": [
              "array([[ 2,  1,  3],\n",
              "       [ 6,  5,  7],\n",
              "       [10,  9, 11]])"
            ]
          },
          "metadata": {
            "tags": []
          },
          "execution_count": 253
        }
      ]
    },
    {
      "cell_type": "code",
      "metadata": {
        "id": "Ly74oWKl6h-7",
        "outputId": "064011bd-6d9d-494e-da85-6a27221989be",
        "colab": {
          "base_uri": "https://localhost:8080/"
        }
      },
      "source": [
        "row[:, np.newaxis]*col"
      ],
      "execution_count": 254,
      "outputs": [
        {
          "output_type": "execute_result",
          "data": {
            "text/plain": [
              "array([[0, 0, 0],\n",
              "       [2, 1, 3],\n",
              "       [4, 2, 6]])"
            ]
          },
          "metadata": {
            "tags": []
          },
          "execution_count": 254
        }
      ]
    },
    {
      "cell_type": "code",
      "metadata": {
        "id": "8O4nugy57J_8"
      },
      "source": [
        ""
      ],
      "execution_count": null,
      "outputs": []
    }
  ]
}