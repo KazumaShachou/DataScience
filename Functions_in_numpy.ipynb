{
  "nbformat": 4,
  "nbformat_minor": 0,
  "metadata": {
    "colab": {
      "name": "Functions_in_numpy.ipynb",
      "provenance": [],
      "collapsed_sections": [
        "7TpLgO_CXM7y"
      ],
      "authorship_tag": "ABX9TyMWVMk93dgIsb1I4IdyZsjL",
      "include_colab_link": true
    },
    "kernelspec": {
      "name": "python3",
      "display_name": "Python 3"
    }
  },
  "cells": [
    {
      "cell_type": "markdown",
      "metadata": {
        "id": "view-in-github",
        "colab_type": "text"
      },
      "source": [
        "<a href=\"https://colab.research.google.com/github/KazumaShachou/DataScience/blob/master/Functions_in_numpy.ipynb\" target=\"_parent\"><img src=\"https://colab.research.google.com/assets/colab-badge.svg\" alt=\"Open In Colab\"/></a>"
      ]
    },
    {
      "cell_type": "markdown",
      "metadata": {
        "id": "zJfuvLh6Y_QW"
      },
      "source": [
        "# Lessons about functions of Numpy\n",
        "\n",
        "\n",
        "\n",
        "### Source book : Python Data Science HandBook By: Jaker VanderPlas"
      ]
    },
    {
      "cell_type": "code",
      "metadata": {
        "id": "JC7eW4NuS95Q",
        "outputId": "ada0b118-9253-42db-92ef-6a216eb5316a",
        "colab": {
          "base_uri": "https://localhost:8080/"
        }
      },
      "source": [
        "L = list(range(10))\n",
        "L"
      ],
      "execution_count": null,
      "outputs": [
        {
          "output_type": "execute_result",
          "data": {
            "text/plain": [
              "[0, 1, 2, 3, 4, 5, 6, 7, 8, 9]"
            ]
          },
          "metadata": {
            "tags": []
          },
          "execution_count": 1
        }
      ]
    },
    {
      "cell_type": "code",
      "metadata": {
        "id": "xT_QC2i3VgFj",
        "outputId": "f55dae45-b3d3-4c98-c517-408c661f18ac",
        "colab": {
          "base_uri": "https://localhost:8080/"
        }
      },
      "source": [
        "type(L)"
      ],
      "execution_count": null,
      "outputs": [
        {
          "output_type": "execute_result",
          "data": {
            "text/plain": [
              "list"
            ]
          },
          "metadata": {
            "tags": []
          },
          "execution_count": 2
        }
      ]
    },
    {
      "cell_type": "code",
      "metadata": {
        "id": "vmdwR4rxVq1D",
        "outputId": "cd534065-6b6c-4dbd-aae4-95440bd294e3",
        "colab": {
          "base_uri": "https://localhost:8080/"
        }
      },
      "source": [
        "#how to create a list\n",
        "\n",
        "L2 = [str(z) for z in L]\n",
        "L2"
      ],
      "execution_count": null,
      "outputs": [
        {
          "output_type": "execute_result",
          "data": {
            "text/plain": [
              "['0', '1', '2', '3', '4', '5', '6', '7', '8', '9']"
            ]
          },
          "metadata": {
            "tags": []
          },
          "execution_count": 3
        }
      ]
    },
    {
      "cell_type": "code",
      "metadata": {
        "id": "_oyl5sJNWSSb",
        "outputId": "0da2888b-0852-435b-a84c-418a07f17d6e",
        "colab": {
          "base_uri": "https://localhost:8080/"
        }
      },
      "source": [
        "type(L2)"
      ],
      "execution_count": null,
      "outputs": [
        {
          "output_type": "execute_result",
          "data": {
            "text/plain": [
              "list"
            ]
          },
          "metadata": {
            "tags": []
          },
          "execution_count": 4
        }
      ]
    },
    {
      "cell_type": "code",
      "metadata": {
        "id": "qvY-pLICWZ0O",
        "outputId": "396b46e3-2687-4b50-b3c0-79ce16b43585",
        "colab": {
          "base_uri": "https://localhost:8080/"
        }
      },
      "source": [
        "#use () to create a list\n",
        "for value in range(1,5):    \n",
        "  print(value)"
      ],
      "execution_count": null,
      "outputs": [
        {
          "output_type": "stream",
          "text": [
            "1\n",
            "2\n",
            "3\n",
            "4\n"
          ],
          "name": "stdout"
        }
      ]
    },
    {
      "cell_type": "code",
      "metadata": {
        "id": "o8DWiX_HYf8y",
        "outputId": "2f951cf2-ecfd-42f7-c891-0a2875bcd6bb",
        "colab": {
          "base_uri": "https://localhost:8080/"
        }
      },
      "source": [
        "import array\n",
        "\n",
        "L3 = list(range(10))\n",
        "A = array.array('i', L)\n",
        "A"
      ],
      "execution_count": null,
      "outputs": [
        {
          "output_type": "execute_result",
          "data": {
            "text/plain": [
              "array('i', [0, 1, 2, 3, 4, 5, 6, 7, 8, 9])"
            ]
          },
          "metadata": {
            "tags": []
          },
          "execution_count": 6
        }
      ]
    },
    {
      "cell_type": "code",
      "metadata": {
        "id": "JzWo7GbiZ7RJ"
      },
      "source": [
        "import numpy as np"
      ],
      "execution_count": null,
      "outputs": []
    },
    {
      "cell_type": "code",
      "metadata": {
        "id": "ckP2jZfPfkDt",
        "outputId": "0d1b4c46-e94b-4df3-c9c9-395b94377054",
        "colab": {
          "base_uri": "https://localhost:8080/"
        }
      },
      "source": [
        "np.array([1, 3, 4, 6, 11, 95, 46, 23])"
      ],
      "execution_count": null,
      "outputs": [
        {
          "output_type": "execute_result",
          "data": {
            "text/plain": [
              "array([ 1,  3,  4,  6, 11, 95, 46, 23])"
            ]
          },
          "metadata": {
            "tags": []
          },
          "execution_count": 8
        }
      ]
    },
    {
      "cell_type": "code",
      "metadata": {
        "id": "4tq6kEyif0mg",
        "outputId": "f77cafa5-b801-4784-8bbc-ef0b681f5338",
        "colab": {
          "base_uri": "https://localhost:8080/"
        }
      },
      "source": [
        "np.arange(0,40,4)"
      ],
      "execution_count": null,
      "outputs": [
        {
          "output_type": "execute_result",
          "data": {
            "text/plain": [
              "array([ 0,  4,  8, 12, 16, 20, 24, 28, 32, 36])"
            ]
          },
          "metadata": {
            "tags": []
          },
          "execution_count": 9
        }
      ]
    },
    {
      "cell_type": "code",
      "metadata": {
        "id": "ZOQ7n21VGBgu",
        "outputId": "904507f3-6f5b-453c-f49b-ba9720a1c3a1",
        "colab": {
          "base_uri": "https://localhost:8080/"
        }
      },
      "source": [
        "np.linspace(0, 1, 5)  # Create an array of five values evenly spaced between 0 and 1"
      ],
      "execution_count": null,
      "outputs": [
        {
          "output_type": "execute_result",
          "data": {
            "text/plain": [
              "array([0.  , 0.25, 0.5 , 0.75, 1.  ])"
            ]
          },
          "metadata": {
            "tags": []
          },
          "execution_count": 10
        }
      ]
    },
    {
      "cell_type": "code",
      "metadata": {
        "id": "LxaOMXG2GSJT",
        "outputId": "12a2fbf6-0863-4bac-f51d-a5b1ea4da649",
        "colab": {
          "base_uri": "https://localhost:8080/"
        }
      },
      "source": [
        "np.random.random((5,5))"
      ],
      "execution_count": null,
      "outputs": [
        {
          "output_type": "execute_result",
          "data": {
            "text/plain": [
              "array([[0.40333978, 0.99678266, 0.43461421, 0.5124306 , 0.77882608],\n",
              "       [0.1928567 , 0.6979612 , 0.11281413, 0.21314618, 0.30941128],\n",
              "       [0.04635132, 0.50672755, 0.33424117, 0.84079886, 0.53704888],\n",
              "       [0.48331982, 0.75890989, 0.58394903, 0.30426834, 0.3428131 ],\n",
              "       [0.97897693, 0.70720047, 0.51250996, 0.80673038, 0.84401094]])"
            ]
          },
          "metadata": {
            "tags": []
          },
          "execution_count": 11
        }
      ]
    },
    {
      "cell_type": "code",
      "metadata": {
        "id": "c9H_j3y6GdeC",
        "outputId": "506ce194-a47d-4895-ea6e-2054d92b4e8c",
        "colab": {
          "base_uri": "https://localhost:8080/"
        }
      },
      "source": [
        "np.random.randint(0, 20,( 4,4))   #array of random integers in the interval"
      ],
      "execution_count": null,
      "outputs": [
        {
          "output_type": "execute_result",
          "data": {
            "text/plain": [
              "array([[12,  9,  9, 11],\n",
              "       [ 8, 16, 14, 17],\n",
              "       [11,  1,  5,  8],\n",
              "       [ 1,  8,  4,  3]])"
            ]
          },
          "metadata": {
            "tags": []
          },
          "execution_count": 12
        }
      ]
    },
    {
      "cell_type": "code",
      "metadata": {
        "id": "I2X3PaHTHSnb",
        "outputId": "09af0dd2-7c07-4b7c-9f09-17299ceb8905",
        "colab": {
          "base_uri": "https://localhost:8080/"
        }
      },
      "source": [
        "## Create a 3x3 identity matrix\n",
        "np.eye(3)"
      ],
      "execution_count": null,
      "outputs": [
        {
          "output_type": "execute_result",
          "data": {
            "text/plain": [
              "array([[1., 0., 0.],\n",
              "       [0., 1., 0.],\n",
              "       [0., 0., 1.]])"
            ]
          },
          "metadata": {
            "tags": []
          },
          "execution_count": 13
        }
      ]
    },
    {
      "cell_type": "code",
      "metadata": {
        "id": "r2R0q4zPHzDq",
        "outputId": "3b5ea9eb-e491-4239-e718-0d9f7c04efa1",
        "colab": {
          "base_uri": "https://localhost:8080/"
        }
      },
      "source": [
        "import array\n",
        "L = list(range(10))\n",
        "A = array.array('i', L)\n",
        "A"
      ],
      "execution_count": null,
      "outputs": [
        {
          "output_type": "execute_result",
          "data": {
            "text/plain": [
              "array('i', [0, 1, 2, 3, 4, 5, 6, 7, 8, 9])"
            ]
          },
          "metadata": {
            "tags": []
          },
          "execution_count": 14
        }
      ]
    },
    {
      "cell_type": "code",
      "metadata": {
        "id": "x42csSP0VZ9M"
      },
      "source": [
        "np.random.seed()\n"
      ],
      "execution_count": null,
      "outputs": []
    },
    {
      "cell_type": "code",
      "metadata": {
        "id": "k8rPj79ndoDW",
        "outputId": "8ba02436-bdae-4e0d-f4f3-23c8f8539fea",
        "colab": {
          "base_uri": "https://localhost:8080/"
        }
      },
      "source": [
        "# One-dimensional array\n",
        "x1 = np.random.randint(10, size= 6)  \n",
        "x1"
      ],
      "execution_count": null,
      "outputs": [
        {
          "output_type": "execute_result",
          "data": {
            "text/plain": [
              "array([9, 2, 1, 0, 1, 0])"
            ]
          },
          "metadata": {
            "tags": []
          },
          "execution_count": 16
        }
      ]
    },
    {
      "cell_type": "code",
      "metadata": {
        "id": "0fLSqAmgd_DC",
        "outputId": "c7ae1b36-9ad0-4996-cec3-6faa2a3ef390",
        "colab": {
          "base_uri": "https://localhost:8080/"
        }
      },
      "source": [
        "# Two-dimensional array\n",
        "x2 = np.random.randint(10, size = (3, 6))\n",
        "x2"
      ],
      "execution_count": null,
      "outputs": [
        {
          "output_type": "execute_result",
          "data": {
            "text/plain": [
              "array([[3, 4, 5, 7, 1, 0],\n",
              "       [0, 3, 2, 6, 0, 4],\n",
              "       [7, 9, 5, 9, 7, 2]])"
            ]
          },
          "metadata": {
            "tags": []
          },
          "execution_count": 17
        }
      ]
    },
    {
      "cell_type": "code",
      "metadata": {
        "id": "9PHNr8a-efNi",
        "outputId": "ed5af738-48c0-4f22-bc8c-1706e0e554e6",
        "colab": {
          "base_uri": "https://localhost:8080/"
        }
      },
      "source": [
        "# Three-dimensional array\n",
        "x3 = np.random.randint(10, size=(3,4,5))      # 3 array with colums 4x5 in random numbers of 0 to 9\n",
        "x3"
      ],
      "execution_count": null,
      "outputs": [
        {
          "output_type": "execute_result",
          "data": {
            "text/plain": [
              "array([[[9, 0, 0, 3, 5],\n",
              "        [8, 5, 3, 7, 1],\n",
              "        [8, 3, 1, 1, 2],\n",
              "        [6, 4, 7, 1, 5]],\n",
              "\n",
              "       [[6, 5, 1, 2, 4],\n",
              "        [8, 6, 1, 8, 9],\n",
              "        [7, 2, 2, 0, 5],\n",
              "        [8, 8, 7, 4, 1]],\n",
              "\n",
              "       [[8, 3, 4, 0, 4],\n",
              "        [3, 3, 1, 8, 4],\n",
              "        [6, 2, 8, 4, 1],\n",
              "        [2, 9, 6, 7, 0]]])"
            ]
          },
          "metadata": {
            "tags": []
          },
          "execution_count": 18
        }
      ]
    },
    {
      "cell_type": "code",
      "metadata": {
        "id": "piJxy4ghfm2x",
        "outputId": "fec5712a-ebb1-469a-967f-ead1ad67cca2",
        "colab": {
          "base_uri": "https://localhost:8080/"
        }
      },
      "source": [
        "print('x3 ndim:' , x3.ndim)     #dimensions\n",
        "print('x3 shape' , x3.shape)    #size of each dimension\n",
        "print('x3 size', x3.size)       #total size of the array  \n",
        "print('x3 dtype:', x3.dtype)   #type of array\n",
        "print('x3 itemsize:', x3.itemsize)  #size in bytes of each list\n",
        "print('x3 nbytes', x3.nbytes)       #total size in bytes of the array"
      ],
      "execution_count": null,
      "outputs": [
        {
          "output_type": "stream",
          "text": [
            "x3 ndim: 3\n",
            "x3 shape (3, 4, 5)\n",
            "x3 size 60\n",
            "x3 dtype: int64\n",
            "x3 itemsize: 8\n",
            "x3 nbytes 480\n"
          ],
          "name": "stdout"
        }
      ]
    },
    {
      "cell_type": "code",
      "metadata": {
        "id": "aysFzK0Lg4gs",
        "outputId": "1366b7f0-390f-4a01-a67f-a8621f220c5d",
        "colab": {
          "base_uri": "https://localhost:8080/"
        }
      },
      "source": [
        "x3 = np.arange(10)\n",
        "x3"
      ],
      "execution_count": null,
      "outputs": [
        {
          "output_type": "execute_result",
          "data": {
            "text/plain": [
              "array([0, 1, 2, 3, 4, 5, 6, 7, 8, 9])"
            ]
          },
          "metadata": {
            "tags": []
          },
          "execution_count": 20
        }
      ]
    },
    {
      "cell_type": "code",
      "metadata": {
        "id": "hkJiPn8EQad3",
        "outputId": "941ac2c3-8e16-4c70-fcd2-dfd9b5da0426",
        "colab": {
          "base_uri": "https://localhost:8080/"
        }
      },
      "source": [
        "# first five elements\n",
        "x3[:5]"
      ],
      "execution_count": null,
      "outputs": [
        {
          "output_type": "execute_result",
          "data": {
            "text/plain": [
              "array([0, 1, 2, 3, 4])"
            ]
          },
          "metadata": {
            "tags": []
          },
          "execution_count": 21
        }
      ]
    },
    {
      "cell_type": "code",
      "metadata": {
        "id": "-r2EqQxWQp4Q",
        "outputId": "5f81b786-17bf-4cf4-9824-90ae838aff28",
        "colab": {
          "base_uri": "https://localhost:8080/"
        }
      },
      "source": [
        "# elements after index 5\n",
        "x3[5:]"
      ],
      "execution_count": null,
      "outputs": [
        {
          "output_type": "execute_result",
          "data": {
            "text/plain": [
              "array([5, 6, 7, 8, 9])"
            ]
          },
          "metadata": {
            "tags": []
          },
          "execution_count": 22
        }
      ]
    },
    {
      "cell_type": "code",
      "metadata": {
        "id": "md26JfZfQ6ri",
        "outputId": "da89a6bf-d74d-4c3b-de47-6b2cf920fe04",
        "colab": {
          "base_uri": "https://localhost:8080/"
        }
      },
      "source": [
        "# middle subarray\n",
        "x3[3:7]"
      ],
      "execution_count": null,
      "outputs": [
        {
          "output_type": "execute_result",
          "data": {
            "text/plain": [
              "array([3, 4, 5, 6])"
            ]
          },
          "metadata": {
            "tags": []
          },
          "execution_count": 23
        }
      ]
    },
    {
      "cell_type": "code",
      "metadata": {
        "id": "DeaNV6uvRFkR",
        "outputId": "37a2c08d-ebbd-478d-e1c4-20ffd4626897",
        "colab": {
          "base_uri": "https://localhost:8080/"
        }
      },
      "source": [
        "#2 in 2\n",
        "x3[::2]"
      ],
      "execution_count": null,
      "outputs": [
        {
          "output_type": "execute_result",
          "data": {
            "text/plain": [
              "array([0, 2, 4, 6, 8])"
            ]
          },
          "metadata": {
            "tags": []
          },
          "execution_count": 24
        }
      ]
    },
    {
      "cell_type": "code",
      "metadata": {
        "id": "B6ohD5KRRSrL",
        "outputId": "14a9f1c4-822e-4949-f660-c4eb5e921581",
        "colab": {
          "base_uri": "https://localhost:8080/"
        }
      },
      "source": [
        "x3[2::]  #2 until the end"
      ],
      "execution_count": null,
      "outputs": [
        {
          "output_type": "execute_result",
          "data": {
            "text/plain": [
              "array([2, 3, 4, 5, 6, 7, 8, 9])"
            ]
          },
          "metadata": {
            "tags": []
          },
          "execution_count": 25
        }
      ]
    },
    {
      "cell_type": "code",
      "metadata": {
        "id": "qZort5j3RWCQ",
        "outputId": "ce93438a-c2f7-43ad-8684-ebb6233fe147",
        "colab": {
          "base_uri": "https://localhost:8080/"
        }
      },
      "source": [
        "#starting at index 1 , 2 in 2\n",
        "x3[1::2]"
      ],
      "execution_count": null,
      "outputs": [
        {
          "output_type": "execute_result",
          "data": {
            "text/plain": [
              "array([1, 3, 5, 7, 9])"
            ]
          },
          "metadata": {
            "tags": []
          },
          "execution_count": 26
        }
      ]
    },
    {
      "cell_type": "code",
      "metadata": {
        "id": "GjbSr6z7SHaa",
        "outputId": "4881a9ff-beb4-418e-eae6-3b1d524960c9",
        "colab": {
          "base_uri": "https://localhost:8080/"
        }
      },
      "source": [
        "x3[2::1]"
      ],
      "execution_count": null,
      "outputs": [
        {
          "output_type": "execute_result",
          "data": {
            "text/plain": [
              "array([2, 3, 4, 5, 6, 7, 8, 9])"
            ]
          },
          "metadata": {
            "tags": []
          },
          "execution_count": 27
        }
      ]
    },
    {
      "cell_type": "code",
      "metadata": {
        "id": "347qki6YSOUx",
        "outputId": "79709f29-894d-4061-dbe5-9df00a5d0761",
        "colab": {
          "base_uri": "https://localhost:8080/"
        }
      },
      "source": [
        "# all elements, reversed\n",
        "x3[::-1]"
      ],
      "execution_count": null,
      "outputs": [
        {
          "output_type": "execute_result",
          "data": {
            "text/plain": [
              "array([9, 8, 7, 6, 5, 4, 3, 2, 1, 0])"
            ]
          },
          "metadata": {
            "tags": []
          },
          "execution_count": 28
        }
      ]
    },
    {
      "cell_type": "code",
      "metadata": {
        "id": "CTYagzOXSV3j",
        "outputId": "fc245cab-4ba7-4d34-a9d6-c6561ed5fe14",
        "colab": {
          "base_uri": "https://localhost:8080/"
        }
      },
      "source": [
        "x3[:-5]"
      ],
      "execution_count": null,
      "outputs": [
        {
          "output_type": "execute_result",
          "data": {
            "text/plain": [
              "array([0, 1, 2, 3, 4])"
            ]
          },
          "metadata": {
            "tags": []
          },
          "execution_count": 29
        }
      ]
    },
    {
      "cell_type": "code",
      "metadata": {
        "id": "BbO-JD90SYR5",
        "outputId": "f3805c3c-fb07-4607-9abd-ad0909ede6a1",
        "colab": {
          "base_uri": "https://localhost:8080/"
        }
      },
      "source": [
        "# reversed every other from index 5\n",
        "x3[5::-1]"
      ],
      "execution_count": null,
      "outputs": [
        {
          "output_type": "execute_result",
          "data": {
            "text/plain": [
              "array([5, 4, 3, 2, 1, 0])"
            ]
          },
          "metadata": {
            "tags": []
          },
          "execution_count": 30
        }
      ]
    },
    {
      "cell_type": "code",
      "metadata": {
        "id": "oN1D6ZrVSkIA",
        "outputId": "baae6ca3-ce63-45b9-ab2d-6d61b84f3615",
        "colab": {
          "base_uri": "https://localhost:8080/"
        }
      },
      "source": [
        "x2"
      ],
      "execution_count": null,
      "outputs": [
        {
          "output_type": "execute_result",
          "data": {
            "text/plain": [
              "array([[3, 4, 5, 7, 1, 0],\n",
              "       [0, 3, 2, 6, 0, 4],\n",
              "       [7, 9, 5, 9, 7, 2]])"
            ]
          },
          "metadata": {
            "tags": []
          },
          "execution_count": 31
        }
      ]
    },
    {
      "cell_type": "code",
      "metadata": {
        "id": "oPfvb8ZvTI5N",
        "outputId": "34f44f03-4a17-4d3a-defb-fd95622e6f1a",
        "colab": {
          "base_uri": "https://localhost:8080/"
        }
      },
      "source": [
        "# two rows, three columns\n",
        "x2[:2, :3]"
      ],
      "execution_count": null,
      "outputs": [
        {
          "output_type": "execute_result",
          "data": {
            "text/plain": [
              "array([[3, 4, 5],\n",
              "       [0, 3, 2]])"
            ]
          },
          "metadata": {
            "tags": []
          },
          "execution_count": 32
        }
      ]
    },
    {
      "cell_type": "code",
      "metadata": {
        "id": "Cs8IPHd-TR6Z",
        "outputId": "e5ac5191-d894-409c-e367-ff06ca3531d2",
        "colab": {
          "base_uri": "https://localhost:8080/"
        }
      },
      "source": [
        "# first column of x2\n",
        "x2[:, 0]"
      ],
      "execution_count": null,
      "outputs": [
        {
          "output_type": "execute_result",
          "data": {
            "text/plain": [
              "array([3, 0, 7])"
            ]
          },
          "metadata": {
            "tags": []
          },
          "execution_count": 33
        }
      ]
    },
    {
      "cell_type": "code",
      "metadata": {
        "id": "7kerFpPoTw1h",
        "outputId": "f58dc634-5b93-415c-cc99-0bee08a4ccd7",
        "colab": {
          "base_uri": "https://localhost:8080/"
        }
      },
      "source": [
        "# first row of x2\n",
        "x2[0, :]"
      ],
      "execution_count": null,
      "outputs": [
        {
          "output_type": "execute_result",
          "data": {
            "text/plain": [
              "array([3, 4, 5, 7, 1, 0])"
            ]
          },
          "metadata": {
            "tags": []
          },
          "execution_count": 34
        }
      ]
    },
    {
      "cell_type": "code",
      "metadata": {
        "id": "aK4X9Qx1T9zo",
        "outputId": "c3b7d3c3-c8f0-423c-8bac-c5ae6f06233f",
        "colab": {
          "base_uri": "https://localhost:8080/"
        }
      },
      "source": [
        "#extract a 2×2 subarray\n",
        "x2_sub = x2[:2 , :2]\n",
        "x2_sub"
      ],
      "execution_count": null,
      "outputs": [
        {
          "output_type": "execute_result",
          "data": {
            "text/plain": [
              "array([[3, 4],\n",
              "       [0, 3]])"
            ]
          },
          "metadata": {
            "tags": []
          },
          "execution_count": 35
        }
      ]
    },
    {
      "cell_type": "code",
      "metadata": {
        "id": "YFHHDf8NWyjp",
        "outputId": "67789dbb-8c66-4018-809c-458bb54ea682",
        "colab": {
          "base_uri": "https://localhost:8080/"
        }
      },
      "source": [
        "#modify this subarray , the \"8\" to 99\n",
        "x2_sub[0, 0] = 99\n",
        "x2"
      ],
      "execution_count": null,
      "outputs": [
        {
          "output_type": "execute_result",
          "data": {
            "text/plain": [
              "array([[99,  4,  5,  7,  1,  0],\n",
              "       [ 0,  3,  2,  6,  0,  4],\n",
              "       [ 7,  9,  5,  9,  7,  2]])"
            ]
          },
          "metadata": {
            "tags": []
          },
          "execution_count": 36
        }
      ]
    },
    {
      "cell_type": "code",
      "metadata": {
        "id": "y9fQHdNEXC3h",
        "outputId": "0ae5e8a2-53a9-4ce1-960a-4c5294215593",
        "colab": {
          "base_uri": "https://localhost:8080/"
        }
      },
      "source": [
        "#using reshape\n",
        "b1 = np.arange(1,10).reshape((3, 3))\n",
        "b1"
      ],
      "execution_count": null,
      "outputs": [
        {
          "output_type": "execute_result",
          "data": {
            "text/plain": [
              "array([[1, 2, 3],\n",
              "       [4, 5, 6],\n",
              "       [7, 8, 9]])"
            ]
          },
          "metadata": {
            "tags": []
          },
          "execution_count": 37
        }
      ]
    },
    {
      "cell_type": "code",
      "metadata": {
        "id": "3WUIfldxY9qE",
        "outputId": "e660f368-c2e7-4534-f44e-c2b232d4918a",
        "colab": {
          "base_uri": "https://localhost:8080/"
        }
      },
      "source": [
        "#oncatenation\n",
        "x = np.array([1, 6 , 9])\n",
        "y = np.array([3, 9 , 1])\n",
        "\n",
        "np.concatenate([x, y])"
      ],
      "execution_count": null,
      "outputs": [
        {
          "output_type": "execute_result",
          "data": {
            "text/plain": [
              "array([1, 6, 9, 3, 9, 1])"
            ]
          },
          "metadata": {
            "tags": []
          },
          "execution_count": 38
        }
      ]
    },
    {
      "cell_type": "code",
      "metadata": {
        "id": "icui53mba45b",
        "outputId": "88c20abd-acaf-432d-9b44-c61d52a9bd25",
        "colab": {
          "base_uri": "https://localhost:8080/"
        }
      },
      "source": [
        "grid = np.array([[9,8,7],\n",
        "                [6,4,4]])\n",
        "np.concatenate([grid, grid])"
      ],
      "execution_count": null,
      "outputs": [
        {
          "output_type": "execute_result",
          "data": {
            "text/plain": [
              "array([[9, 8, 7],\n",
              "       [6, 4, 4],\n",
              "       [9, 8, 7],\n",
              "       [6, 4, 4]])"
            ]
          },
          "metadata": {
            "tags": []
          },
          "execution_count": 39
        }
      ]
    },
    {
      "cell_type": "code",
      "metadata": {
        "id": "-BKP-rdxhS39",
        "outputId": "c592964b-c30c-47e1-a4b9-b2dabb6df5eb",
        "colab": {
          "base_uri": "https://localhost:8080/"
        }
      },
      "source": [
        "#split array\n",
        "d = [1, 5 ,3 ,7, 8 ,9 , 0, 3, 7]\n",
        "g1, g2, g3 = np.split(d, [3,5])\n",
        "print ( g1, g2, g3)"
      ],
      "execution_count": null,
      "outputs": [
        {
          "output_type": "stream",
          "text": [
            "[1 5 3] [7 8] [9 0 3 7]\n"
          ],
          "name": "stdout"
        }
      ]
    },
    {
      "cell_type": "code",
      "metadata": {
        "id": "jt3xx-DVimLJ",
        "outputId": "01cc33f4-52ed-46ad-a00e-764f47294999",
        "colab": {
          "base_uri": "https://localhost:8080/"
        }
      },
      "source": [
        "grid = np.arange(16).reshape((4, 4))\n",
        "grid"
      ],
      "execution_count": null,
      "outputs": [
        {
          "output_type": "execute_result",
          "data": {
            "text/plain": [
              "array([[ 0,  1,  2,  3],\n",
              "       [ 4,  5,  6,  7],\n",
              "       [ 8,  9, 10, 11],\n",
              "       [12, 13, 14, 15]])"
            ]
          },
          "metadata": {
            "tags": []
          },
          "execution_count": 41
        }
      ]
    },
    {
      "cell_type": "code",
      "metadata": {
        "id": "b2TPD-y0kMdK",
        "outputId": "aac88ba9-6e4b-4795-8e30-a8cf0598c30b",
        "colab": {
          "base_uri": "https://localhost:8080/"
        }
      },
      "source": [
        "#getting 2 rooms\n",
        "upper, lower = np.vsplit(grid, [2])\n",
        "print (upper)\n"
      ],
      "execution_count": null,
      "outputs": [
        {
          "output_type": "stream",
          "text": [
            "[[0 1 2 3]\n",
            " [4 5 6 7]]\n"
          ],
          "name": "stdout"
        }
      ]
    },
    {
      "cell_type": "code",
      "metadata": {
        "id": "wyCeLNaGliFB",
        "outputId": "75534d0c-7ec1-4c67-ba47-32a7854696dc",
        "colab": {
          "base_uri": "https://localhost:8080/"
        }
      },
      "source": [
        "print(lower)"
      ],
      "execution_count": null,
      "outputs": [
        {
          "output_type": "stream",
          "text": [
            "[[ 8  9 10 11]\n",
            " [12 13 14 15]]\n"
          ],
          "name": "stdout"
        }
      ]
    },
    {
      "cell_type": "code",
      "metadata": {
        "id": "btu1nSWFlwXh",
        "outputId": "a9a72792-e3a0-497e-adb5-16893433f675",
        "colab": {
          "base_uri": "https://localhost:8080/"
        }
      },
      "source": [
        "x =np.arange(4)\n",
        "print(\"x  =\", x)\n"
      ],
      "execution_count": null,
      "outputs": [
        {
          "output_type": "stream",
          "text": [
            "x  = [0 1 2 3]\n"
          ],
          "name": "stdout"
        }
      ]
    },
    {
      "cell_type": "code",
      "metadata": {
        "id": "HFrrL6DamARx",
        "outputId": "bf1567c1-4520-4a4b-e989-347123f9ef5e",
        "colab": {
          "base_uri": "https://localhost:8080/"
        }
      },
      "source": [
        "print(\"x + 5 =\", x + 5)"
      ],
      "execution_count": null,
      "outputs": [
        {
          "output_type": "stream",
          "text": [
            "x + 5 = [5 6 7 8]\n"
          ],
          "name": "stdout"
        }
      ]
    },
    {
      "cell_type": "code",
      "metadata": {
        "id": "AOQRav6cp835",
        "outputId": "155ea658-acb3-42df-9847-0d66caa2511d",
        "colab": {
          "base_uri": "https://localhost:8080/"
        }
      },
      "source": [
        "print(\"x - 5 =\", x - 5)"
      ],
      "execution_count": null,
      "outputs": [
        {
          "output_type": "stream",
          "text": [
            "x - 5 = [-5 -4 -3 -2]\n"
          ],
          "name": "stdout"
        }
      ]
    },
    {
      "cell_type": "code",
      "metadata": {
        "id": "XEtmG36yqOSX",
        "outputId": "71f2a178-0bd6-4b22-ec97-d32a46dfe867",
        "colab": {
          "base_uri": "https://localhost:8080/"
        }
      },
      "source": [
        "print(\"x * 2 = \", x * 2)"
      ],
      "execution_count": null,
      "outputs": [
        {
          "output_type": "stream",
          "text": [
            "x * 2 =  [0 2 4 6]\n"
          ],
          "name": "stdout"
        }
      ]
    },
    {
      "cell_type": "code",
      "metadata": {
        "id": "XFdnJl0OqcRP",
        "outputId": "df37e1b3-7210-4e63-8edd-43563a28c548",
        "colab": {
          "base_uri": "https://localhost:8080/"
        }
      },
      "source": [
        "print(\"x / 2 = \", x / 2)"
      ],
      "execution_count": null,
      "outputs": [
        {
          "output_type": "stream",
          "text": [
            "x / 2 =  [0.  0.5 1.  1.5]\n"
          ],
          "name": "stdout"
        }
      ]
    },
    {
      "cell_type": "code",
      "metadata": {
        "id": "YOyOdxo5qmPv",
        "outputId": "9f4aea48-2e43-4eb2-822d-c502d1dfc689",
        "colab": {
          "base_uri": "https://localhost:8080/"
        }
      },
      "source": [
        "np.add(x , 2)"
      ],
      "execution_count": null,
      "outputs": [
        {
          "output_type": "execute_result",
          "data": {
            "text/plain": [
              "array([2, 3, 4, 5])"
            ]
          },
          "metadata": {
            "tags": []
          },
          "execution_count": 49
        }
      ]
    },
    {
      "cell_type": "markdown",
      "metadata": {
        "id": "7TpLgO_CXM7y"
      },
      "source": [
        "## #Trigonometric functions \n"
      ]
    },
    {
      "cell_type": "code",
      "metadata": {
        "id": "aNR1CTwbuY1k",
        "outputId": "330cb3d8-38c9-49d5-fa9b-72b389d3a4e3",
        "colab": {
          "base_uri": "https://localhost:8080/"
        }
      },
      "source": [
        "theta = np.linspace(0,np.pi, 3 )\n",
        "theta"
      ],
      "execution_count": null,
      "outputs": [
        {
          "output_type": "execute_result",
          "data": {
            "text/plain": [
              "array([0.        , 1.57079633, 3.14159265])"
            ]
          },
          "metadata": {
            "tags": []
          },
          "execution_count": 50
        }
      ]
    },
    {
      "cell_type": "code",
      "metadata": {
        "id": "tncZhm10YtIS",
        "outputId": "43d08312-efaa-4092-eaf8-dff885bbf7c1",
        "colab": {
          "base_uri": "https://localhost:8080/"
        }
      },
      "source": [
        "print(\"sin (theta) = \", np.sin(theta))"
      ],
      "execution_count": null,
      "outputs": [
        {
          "output_type": "stream",
          "text": [
            "sin (theta) =  [0.0000000e+00 1.0000000e+00 1.2246468e-16]\n"
          ],
          "name": "stdout"
        }
      ]
    },
    {
      "cell_type": "code",
      "metadata": {
        "id": "Uri2xqQ8Zj26",
        "outputId": "140ac956-5983-4de5-adfe-2c129f1eb0a2",
        "colab": {
          "base_uri": "https://localhost:8080/"
        }
      },
      "source": [
        "print(\"cos(theta) = \", np.cos(theta))"
      ],
      "execution_count": null,
      "outputs": [
        {
          "output_type": "stream",
          "text": [
            "cos(theta) =  [ 1.000000e+00  6.123234e-17 -1.000000e+00]\n"
          ],
          "name": "stdout"
        }
      ]
    },
    {
      "cell_type": "code",
      "metadata": {
        "id": "2yXyjHc_Z49B",
        "outputId": "246c5c1c-8781-4016-b6da-2c60c08e14ed",
        "colab": {
          "base_uri": "https://localhost:8080/"
        }
      },
      "source": [
        "print(\"tan(theta) = \", np.tan(theta))"
      ],
      "execution_count": null,
      "outputs": [
        {
          "output_type": "stream",
          "text": [
            "tan(theta) =  [ 0.00000000e+00  1.63312394e+16 -1.22464680e-16]\n"
          ],
          "name": "stdout"
        }
      ]
    },
    {
      "cell_type": "code",
      "metadata": {
        "id": "rz4rT2adaJDK",
        "outputId": "bb00938a-e302-4e81-e126-6b25dcedd3c2",
        "colab": {
          "base_uri": "https://localhost:8080/"
        }
      },
      "source": [
        "m = [1, 2, 3]\n",
        "m"
      ],
      "execution_count": null,
      "outputs": [
        {
          "output_type": "execute_result",
          "data": {
            "text/plain": [
              "[1, 2, 3]"
            ]
          },
          "metadata": {
            "tags": []
          },
          "execution_count": 54
        }
      ]
    },
    {
      "cell_type": "code",
      "metadata": {
        "id": "D0rMI3fls7FP",
        "outputId": "699209ff-75ea-492f-f4a3-1d4a808d27ed",
        "colab": {
          "base_uri": "https://localhost:8080/"
        }
      },
      "source": [
        "print(\"e^m = \", np.exp(m))"
      ],
      "execution_count": null,
      "outputs": [
        {
          "output_type": "stream",
          "text": [
            "e^m =  [ 2.71828183  7.3890561  20.08553692]\n"
          ],
          "name": "stdout"
        }
      ]
    },
    {
      "cell_type": "code",
      "metadata": {
        "id": "EkSdz6UBtM6y",
        "outputId": "63b3058e-a8ed-4955-92be-ba6dbfff5ebe",
        "colab": {
          "base_uri": "https://localhost:8080/"
        }
      },
      "source": [
        "print(\"2^m = \", np.exp2(m))"
      ],
      "execution_count": null,
      "outputs": [
        {
          "output_type": "stream",
          "text": [
            "2^m =  [2. 4. 8.]\n"
          ],
          "name": "stdout"
        }
      ]
    },
    {
      "cell_type": "code",
      "metadata": {
        "id": "lwoCmtRbwpnI",
        "outputId": "30258e36-1a3c-4f92-98b1-bfc0bbfe74fb",
        "colab": {
          "base_uri": "https://localhost:8080/"
        }
      },
      "source": [
        "print(\"3^m =\", np.power(3, m))"
      ],
      "execution_count": null,
      "outputs": [
        {
          "output_type": "stream",
          "text": [
            "3^m = [ 3  9 27]\n"
          ],
          "name": "stdout"
        }
      ]
    },
    {
      "cell_type": "code",
      "metadata": {
        "id": "_1LjJ39Bw00T",
        "outputId": "04ada68d-3b13-4023-a6fc-25608cf02504",
        "colab": {
          "base_uri": "https://localhost:8080/"
        }
      },
      "source": [
        "print(\"ln(m) = \", np.log(m))"
      ],
      "execution_count": null,
      "outputs": [
        {
          "output_type": "stream",
          "text": [
            "ln(m) =  [0.         0.69314718 1.09861229]\n"
          ],
          "name": "stdout"
        }
      ]
    },
    {
      "cell_type": "code",
      "metadata": {
        "id": "kXf5xrYCxUIy",
        "outputId": "2bfa8ad2-881d-4096-d01f-a8a383614ba2",
        "colab": {
          "base_uri": "https://localhost:8080/"
        }
      },
      "source": [
        "print(\"log10(m)\", np.log(10))"
      ],
      "execution_count": null,
      "outputs": [
        {
          "output_type": "stream",
          "text": [
            "log10(m) 2.302585092994046\n"
          ],
          "name": "stdout"
        }
      ]
    },
    {
      "cell_type": "code",
      "metadata": {
        "id": "zzdltRMXxu9b",
        "outputId": "9536ec8f-bd4e-41e2-bd5f-d184906571b1",
        "colab": {
          "base_uri": "https://localhost:8080/"
        }
      },
      "source": [
        "print(\"exp(m) - 1 \", np.expm1(m) )"
      ],
      "execution_count": null,
      "outputs": [
        {
          "output_type": "stream",
          "text": [
            "exp(m) - 1  [ 1.71828183  6.3890561  19.08553692]\n"
          ],
          "name": "stdout"
        }
      ]
    },
    {
      "cell_type": "code",
      "metadata": {
        "id": "Wvu0BNizyHET",
        "outputId": "c7a5e4c1-d6c8-476c-9350-97194153a104",
        "colab": {
          "base_uri": "https://localhost:8080/"
        }
      },
      "source": [
        "print(\"log(1 + x) =\", np.log1p(x))"
      ],
      "execution_count": null,
      "outputs": [
        {
          "output_type": "stream",
          "text": [
            "log(1 + x) = [0.         0.69314718 1.09861229 1.38629436]\n"
          ],
          "name": "stdout"
        }
      ]
    },
    {
      "cell_type": "code",
      "metadata": {
        "id": "GDhGGqwMzNcf",
        "outputId": "d276f3c6-f8c6-4982-b4bf-69d21bd3aad6",
        "colab": {
          "base_uri": "https://localhost:8080/"
        }
      },
      "source": [
        "from scipy import special      #more functions\n",
        "m"
      ],
      "execution_count": null,
      "outputs": [
        {
          "output_type": "execute_result",
          "data": {
            "text/plain": [
              "[1, 2, 3]"
            ]
          },
          "metadata": {
            "tags": []
          },
          "execution_count": 62
        }
      ]
    },
    {
      "cell_type": "code",
      "metadata": {
        "id": "Eijbq9de2NHQ",
        "outputId": "203e9599-f4a4-4dcf-9005-32be63c1bc88",
        "colab": {
          "base_uri": "https://localhost:8080/"
        }
      },
      "source": [
        "print(\"gamma(m) =\", special.gamma(m))"
      ],
      "execution_count": null,
      "outputs": [
        {
          "output_type": "stream",
          "text": [
            "gamma(m) = [1. 1. 2.]\n"
          ],
          "name": "stdout"
        }
      ]
    },
    {
      "cell_type": "code",
      "metadata": {
        "id": "cLaj936q2dST",
        "outputId": "a52d2f45-0f3f-4f38-8a8f-464d905b6ca7",
        "colab": {
          "base_uri": "https://localhost:8080/"
        }
      },
      "source": [
        "#integral of Gaussian)\n",
        "print('erf(m) =', special.erf(m))"
      ],
      "execution_count": null,
      "outputs": [
        {
          "output_type": "stream",
          "text": [
            "erf(m) = [0.84270079 0.99532227 0.99997791]\n"
          ],
          "name": "stdout"
        }
      ]
    },
    {
      "cell_type": "code",
      "metadata": {
        "id": "PmGHI0J_3KCN",
        "outputId": "a36173a1-bc37-435c-fd2c-fb5d67a56a81",
        "colab": {
          "base_uri": "https://localhost:8080/"
        }
      },
      "source": [
        "#unfunc\n",
        "q = np.arange(5)\n",
        "o = np.empty(5)\n",
        "np.multiply(q , 10, out = o)\n"
      ],
      "execution_count": null,
      "outputs": [
        {
          "output_type": "execute_result",
          "data": {
            "text/plain": [
              "array([ 0., 10., 20., 30., 40.])"
            ]
          },
          "metadata": {
            "tags": []
          },
          "execution_count": 65
        }
      ]
    },
    {
      "cell_type": "code",
      "metadata": {
        "id": "I2tPNgRW6g1X",
        "outputId": "122086de-96d0-441e-dfc2-2e16da2cc37f",
        "colab": {
          "base_uri": "https://localhost:8080/"
        }
      },
      "source": [
        "#agregate to reduce it's like +1+2+3+4.... = x\n",
        "q = np.arange(1,6)\n",
        "np.add.reduce(q)\n"
      ],
      "execution_count": null,
      "outputs": [
        {
          "output_type": "execute_result",
          "data": {
            "text/plain": [
              "15"
            ]
          },
          "metadata": {
            "tags": []
          },
          "execution_count": 66
        }
      ]
    },
    {
      "cell_type": "code",
      "metadata": {
        "id": "Fsah_Eu08LcE",
        "outputId": "9ef7fb58-87db-4a89-bb01-344fd72b7c43",
        "colab": {
          "base_uri": "https://localhost:8080/"
        }
      },
      "source": [
        "#multiply 5x4x3x2x1....\n",
        "np.multiply.reduce(q)"
      ],
      "execution_count": null,
      "outputs": [
        {
          "output_type": "execute_result",
          "data": {
            "text/plain": [
              "120"
            ]
          },
          "metadata": {
            "tags": []
          },
          "execution_count": 67
        }
      ]
    },
    {
      "cell_type": "code",
      "metadata": {
        "id": "VuPhoSiG9vDU",
        "outputId": "88e001d4-68ac-4a32-92d5-e051fc42d67c",
        "colab": {
          "base_uri": "https://localhost:8080/"
        }
      },
      "source": [
        "np.add.accumulate(q)"
      ],
      "execution_count": null,
      "outputs": [
        {
          "output_type": "execute_result",
          "data": {
            "text/plain": [
              "array([ 1,  3,  6, 10, 15])"
            ]
          },
          "metadata": {
            "tags": []
          },
          "execution_count": 68
        }
      ]
    },
    {
      "cell_type": "code",
      "metadata": {
        "id": "wp_1b7NL-Kub",
        "outputId": "ff21f3bd-1d9b-4e22-d52c-facb2ee70087",
        "colab": {
          "base_uri": "https://localhost:8080/"
        }
      },
      "source": [
        "np.multiply.accumulate(q)"
      ],
      "execution_count": null,
      "outputs": [
        {
          "output_type": "execute_result",
          "data": {
            "text/plain": [
              "array([  1,   2,   6,  24, 120])"
            ]
          },
          "metadata": {
            "tags": []
          },
          "execution_count": 69
        }
      ]
    },
    {
      "cell_type": "code",
      "metadata": {
        "id": "SySplfzb-Tor",
        "outputId": "e72a85fd-6040-4ba6-ff80-b9447027007d",
        "colab": {
          "base_uri": "https://localhost:8080/"
        }
      },
      "source": [
        "q"
      ],
      "execution_count": null,
      "outputs": [
        {
          "output_type": "execute_result",
          "data": {
            "text/plain": [
              "array([1, 2, 3, 4, 5])"
            ]
          },
          "metadata": {
            "tags": []
          },
          "execution_count": 70
        }
      ]
    },
    {
      "cell_type": "code",
      "metadata": {
        "id": "2XZxaDltBKE3",
        "outputId": "428cc0e6-be22-46c6-a46b-dd6f9ff71eab",
        "colab": {
          "base_uri": "https://localhost:8080/"
        }
      },
      "source": [
        "np.multiply.outer(q, q)"
      ],
      "execution_count": null,
      "outputs": [
        {
          "output_type": "execute_result",
          "data": {
            "text/plain": [
              "array([[ 1,  2,  3,  4,  5],\n",
              "       [ 2,  4,  6,  8, 10],\n",
              "       [ 3,  6,  9, 12, 15],\n",
              "       [ 4,  8, 12, 16, 20],\n",
              "       [ 5, 10, 15, 20, 25]])"
            ]
          },
          "metadata": {
            "tags": []
          },
          "execution_count": 71
        }
      ]
    },
    {
      "cell_type": "markdown",
      "metadata": {
        "id": "rqqheH-TCUPm"
      },
      "source": [
        "##Summing the Values in an Array"
      ]
    },
    {
      "cell_type": "code",
      "metadata": {
        "id": "JLh0Uo9OCZOr",
        "outputId": "062020ea-7b33-4d28-d072-849df7808284",
        "colab": {
          "base_uri": "https://localhost:8080/"
        }
      },
      "source": [
        "L = np.random.random(100)\n",
        "sum(L)"
      ],
      "execution_count": null,
      "outputs": [
        {
          "output_type": "execute_result",
          "data": {
            "text/plain": [
              "52.85301102754209"
            ]
          },
          "metadata": {
            "tags": []
          },
          "execution_count": 72
        }
      ]
    },
    {
      "cell_type": "code",
      "metadata": {
        "id": "blKTbhwFCr6l",
        "outputId": "55fae446-69e3-48cc-fd37-d7dc8e05b227",
        "colab": {
          "base_uri": "https://localhost:8080/"
        }
      },
      "source": [
        "np.sum(L)"
      ],
      "execution_count": null,
      "outputs": [
        {
          "output_type": "execute_result",
          "data": {
            "text/plain": [
              "52.8530110275421"
            ]
          },
          "metadata": {
            "tags": []
          },
          "execution_count": 73
        }
      ]
    },
    {
      "cell_type": "code",
      "metadata": {
        "id": "mAq5mAHmC-yF",
        "outputId": "453c3084-3d96-411f-d124-682038900762",
        "colab": {
          "base_uri": "https://localhost:8080/"
        }
      },
      "source": [
        "big_array = np.random.rand(1000000)\n",
        "%timeit sum(big_array)\n",
        "%timeit np.sum(big_array) #np.sum is aware of multiple array dimensions"
      ],
      "execution_count": null,
      "outputs": [
        {
          "output_type": "stream",
          "text": [
            "10 loops, best of 3: 167 ms per loop\n",
            "1000 loops, best of 3: 439 µs per loop\n"
          ],
          "name": "stdout"
        }
      ]
    },
    {
      "cell_type": "code",
      "metadata": {
        "id": "U4qWoUE0DX4z",
        "outputId": "8b9ffb63-f2fc-4480-b2b8-3d525adcbbec",
        "colab": {
          "base_uri": "https://localhost:8080/"
        }
      },
      "source": [
        "min(big_array)\n"
      ],
      "execution_count": null,
      "outputs": [
        {
          "output_type": "execute_result",
          "data": {
            "text/plain": [
              "1.5012508325362717e-06"
            ]
          },
          "metadata": {
            "tags": []
          },
          "execution_count": 75
        }
      ]
    },
    {
      "cell_type": "code",
      "metadata": {
        "id": "e5ZlQ1hvFMb7",
        "outputId": "7636e30e-10cb-4c73-9c5a-13631e89fd27",
        "colab": {
          "base_uri": "https://localhost:8080/"
        }
      },
      "source": [
        "max(big_array)"
      ],
      "execution_count": null,
      "outputs": [
        {
          "output_type": "execute_result",
          "data": {
            "text/plain": [
              "0.9999990698376534"
            ]
          },
          "metadata": {
            "tags": []
          },
          "execution_count": 76
        }
      ]
    },
    {
      "cell_type": "code",
      "metadata": {
        "id": "sJ3blGvqFP_j",
        "outputId": "cff01b53-2f61-4cb7-d752-fa5d714602a0",
        "colab": {
          "base_uri": "https://localhost:8080/"
        }
      },
      "source": [
        "%timeit min(big_array)\n",
        "%timeit np.min(big_array)"
      ],
      "execution_count": null,
      "outputs": [
        {
          "output_type": "stream",
          "text": [
            "10 loops, best of 3: 109 ms per loop\n",
            "1000 loops, best of 3: 347 µs per loop\n"
          ],
          "name": "stdout"
        }
      ]
    },
    {
      "cell_type": "code",
      "metadata": {
        "id": "SVNytA8wFt-j",
        "outputId": "145833bb-eaf3-442f-fdf9-f59725c611fc",
        "colab": {
          "base_uri": "https://localhost:8080/"
        }
      },
      "source": [
        "x =np.random.random((3, 4))\n",
        "print(x)"
      ],
      "execution_count": null,
      "outputs": [
        {
          "output_type": "stream",
          "text": [
            "[[0.59991674 0.21806413 0.08977624 0.36857097]\n",
            " [0.02811579 0.71958047 0.22179754 0.07575928]\n",
            " [0.22125576 0.24954471 0.15759557 0.94095546]]\n"
          ],
          "name": "stdout"
        }
      ]
    },
    {
      "cell_type": "code",
      "metadata": {
        "id": "xorLbhLidNqs",
        "outputId": "d96245b2-45d9-420f-e92f-0bf8a1b98424",
        "colab": {
          "base_uri": "https://localhost:8080/"
        }
      },
      "source": [
        "x.sum()"
      ],
      "execution_count": null,
      "outputs": [
        {
          "output_type": "execute_result",
          "data": {
            "text/plain": [
              "3.8909326495479752"
            ]
          },
          "metadata": {
            "tags": []
          },
          "execution_count": 82
        }
      ]
    },
    {
      "cell_type": "code",
      "metadata": {
        "id": "D4hcskaedfcC",
        "outputId": "c7dfea58-d782-4994-931a-d17c4a3a3497",
        "colab": {
          "base_uri": "https://localhost:8080/"
        }
      },
      "source": [
        "x.min(axis = 0)"
      ],
      "execution_count": null,
      "outputs": [
        {
          "output_type": "execute_result",
          "data": {
            "text/plain": [
              "array([0.02811579, 0.21806413, 0.08977624, 0.07575928])"
            ]
          },
          "metadata": {
            "tags": []
          },
          "execution_count": 83
        }
      ]
    },
    {
      "cell_type": "code",
      "metadata": {
        "id": "Vz0awEdUedCP",
        "outputId": "b7546353-df57-4d9f-8c98-b3fb3bb117ca",
        "colab": {
          "base_uri": "https://localhost:8080/"
        }
      },
      "source": [
        "x.max(axis= 1)  #values more near of 1"
      ],
      "execution_count": null,
      "outputs": [
        {
          "output_type": "execute_result",
          "data": {
            "text/plain": [
              "array([0.59991674, 0.71958047, 0.94095546])"
            ]
          },
          "metadata": {
            "tags": []
          },
          "execution_count": 87
        }
      ]
    },
    {
      "cell_type": "code",
      "metadata": {
        "id": "84uI4-YEemDX",
        "outputId": "85203d45-c7c9-4001-8b62-e19ba328414d",
        "colab": {
          "base_uri": "https://localhost:8080/"
        }
      },
      "source": [
        "x.max(axis = 0) "
      ],
      "execution_count": null,
      "outputs": [
        {
          "output_type": "execute_result",
          "data": {
            "text/plain": [
              "array([0.59991674, 0.71958047, 0.22179754, 0.94095546])"
            ]
          },
          "metadata": {
            "tags": []
          },
          "execution_count": 89
        }
      ]
    },
    {
      "cell_type": "code",
      "metadata": {
        "id": "ve-A7eZiewT_",
        "outputId": "25516373-d5d8-4a41-f387-a04dd4264ad0",
        "colab": {
          "base_uri": "https://localhost:8080/"
        }
      },
      "source": [
        "!head -4 data/president_heights.csv"
      ],
      "execution_count": null,
      "outputs": [
        {
          "output_type": "stream",
          "text": [
            "head: cannot open 'data/president_heights.csv' for reading: No such file or directory\n"
          ],
          "name": "stdout"
        }
      ]
    },
    {
      "cell_type": "code",
      "metadata": {
        "id": "6J82nMA_fv9_",
        "outputId": "e9e32841-124a-41d1-c6cf-42e666f4a844",
        "colab": {
          "base_uri": "https://localhost:8080/"
        }
      },
      "source": [
        "a = np.array([5, 9 , 12])\n",
        "b = np.array([5, 9 , 12])\n",
        "a+ b"
      ],
      "execution_count": null,
      "outputs": [
        {
          "output_type": "execute_result",
          "data": {
            "text/plain": [
              "array([10, 18, 24])"
            ]
          },
          "metadata": {
            "tags": []
          },
          "execution_count": 94
        }
      ]
    },
    {
      "cell_type": "code",
      "metadata": {
        "id": "JSUXqxRfhZ6I",
        "outputId": "30659477-86fb-44ac-e4a1-91287828b30d",
        "colab": {
          "base_uri": "https://localhost:8080/"
        }
      },
      "source": [
        "a + 5"
      ],
      "execution_count": null,
      "outputs": [
        {
          "output_type": "execute_result",
          "data": {
            "text/plain": [
              "array([10, 14, 17])"
            ]
          },
          "metadata": {
            "tags": []
          },
          "execution_count": 95
        }
      ]
    },
    {
      "cell_type": "code",
      "metadata": {
        "id": "EBYSHHzDi4bB",
        "outputId": "8036a9aa-040d-496c-bc0b-8cbce0439a87",
        "colab": {
          "base_uri": "https://localhost:8080/"
        }
      },
      "source": [
        "a = np.arange(3)\n",
        "b = np.arange(3)[:, np.newaxis]\n",
        "print(a)\n",
        "print(b)\n"
      ],
      "execution_count": null,
      "outputs": [
        {
          "output_type": "stream",
          "text": [
            "[0 1 2]\n",
            "[[0]\n",
            " [1]\n",
            " [2]]\n"
          ],
          "name": "stdout"
        }
      ]
    },
    {
      "cell_type": "code",
      "metadata": {
        "id": "8vo8aisgIad8",
        "outputId": "08f4a1da-7f67-49a9-fff5-5db9df73d58c",
        "colab": {
          "base_uri": "https://localhost:8080/"
        }
      },
      "source": [
        "a+b"
      ],
      "execution_count": null,
      "outputs": [
        {
          "output_type": "execute_result",
          "data": {
            "text/plain": [
              "array([[0, 1, 2],\n",
              "       [1, 2, 3],\n",
              "       [2, 3, 4]])"
            ]
          },
          "metadata": {
            "tags": []
          },
          "execution_count": 98
        }
      ]
    },
    {
      "cell_type": "markdown",
      "metadata": {
        "id": "ZU0g_HRSQS-g"
      },
      "source": [
        "# Rules of broadcasting\n"
      ]
    },
    {
      "cell_type": "code",
      "metadata": {
        "id": "sdLm9WkAIg5w"
      },
      "source": [
        "#explain this function\n",
        "x = np.ones((2, 3))\n",
        "y = np.arange(3)"
      ],
      "execution_count": null,
      "outputs": []
    },
    {
      "cell_type": "code",
      "metadata": {
        "id": "VMqN95czPG_F",
        "outputId": "2f78cb7a-af1d-4edf-bbf3-e027642f8100",
        "colab": {
          "base_uri": "https://localhost:8080/"
        }
      },
      "source": [
        "x"
      ],
      "execution_count": null,
      "outputs": [
        {
          "output_type": "execute_result",
          "data": {
            "text/plain": [
              "array([[1., 1., 1.],\n",
              "       [1., 1., 1.]])"
            ]
          },
          "metadata": {
            "tags": []
          },
          "execution_count": 100
        }
      ]
    },
    {
      "cell_type": "code",
      "metadata": {
        "id": "tkIrQPoEPK55",
        "outputId": "deb2aed5-5e4a-4dbd-f584-c2594e2b7c1e",
        "colab": {
          "base_uri": "https://localhost:8080/"
        }
      },
      "source": [
        "y"
      ],
      "execution_count": null,
      "outputs": [
        {
          "output_type": "execute_result",
          "data": {
            "text/plain": [
              "array([0, 1, 2])"
            ]
          },
          "metadata": {
            "tags": []
          },
          "execution_count": 101
        }
      ]
    },
    {
      "cell_type": "code",
      "metadata": {
        "id": "S9berpe2PU9Y"
      },
      "source": [
        "# Rule 1: If the two arrays differ in their number of dimensions, the shape of the\n",
        "#one with fewer dimensions is padded with ones on its leading (left) side.\n",
        "#•  Rule 2: If the shape of the two arrays does not match in any dimension, the array\n",
        "#with shape equal to 1 in that dimension is stretched to match the other shape.\n",
        "#•  Rule 3: If in any dimension the sizes disagree and neither is equal to 1, an error is\n",
        "#raised"
      ],
      "execution_count": null,
      "outputs": []
    },
    {
      "cell_type": "code",
      "metadata": {
        "id": "zR9FTx4eQslU"
      },
      "source": [
        "#Using the rule 1 , so we add 1 on left one\n",
        "X.shape -> (2, 3)\n",
        "y.shape -> (1, 3)"
      ],
      "execution_count": null,
      "outputs": []
    },
    {
      "cell_type": "code",
      "metadata": {
        "id": "sjwXwfseRC4K"
      },
      "source": [
        "#use the rule 2 for stretch this dimension\n",
        "X.shape - > (2, 3)\n",
        "y.shape -> (2 , 3)"
      ],
      "execution_count": null,
      "outputs": []
    },
    {
      "cell_type": "code",
      "metadata": {
        "id": "T-nAWWgiRs06",
        "outputId": "b7e1da11-745e-466f-f30a-a28dd8dc8ca2",
        "colab": {
          "base_uri": "https://localhost:8080/"
        }
      },
      "source": [
        "#the final shape will be(2,3 )\n",
        "x = np.ones((2, 3))\n",
        "y = np.arange(3)\n",
        "x + y"
      ],
      "execution_count": null,
      "outputs": [
        {
          "output_type": "execute_result",
          "data": {
            "text/plain": [
              "array([[1., 2., 3.],\n",
              "       [1., 2., 3.]])"
            ]
          },
          "metadata": {
            "tags": []
          },
          "execution_count": 114
        }
      ]
    },
    {
      "cell_type": "code",
      "metadata": {
        "id": "n-Z_4sK1R37i",
        "outputId": "de936c7a-0638-4cf4-9118-ec41061c9d36",
        "colab": {
          "base_uri": "https://localhost:8080/"
        }
      },
      "source": [
        "a = np.arange(3).reshape((3, 1))\n",
        "b = np.arange(3)\n",
        "a + b"
      ],
      "execution_count": null,
      "outputs": [
        {
          "output_type": "execute_result",
          "data": {
            "text/plain": [
              "array([[0, 1, 2],\n",
              "       [1, 2, 3],\n",
              "       [2, 3, 4]])"
            ]
          },
          "metadata": {
            "tags": []
          },
          "execution_count": 116
        }
      ]
    },
    {
      "cell_type": "code",
      "metadata": {
        "id": "fHZYhumlTRX7"
      },
      "source": [
        "#but if the rows are different, so , we can get error\n",
        "x = np.ones((3, 2))\n",
        "y = np.arange(3)\n"
      ],
      "execution_count": null,
      "outputs": []
    },
    {
      "cell_type": "code",
      "metadata": {
        "id": "NQKi-zS-UaiR",
        "outputId": "346534d8-cd0d-4e80-db41-e372546dfd69",
        "colab": {
          "base_uri": "https://localhost:8080/"
        }
      },
      "source": [
        "y[:, np.newaxis].shape\n",
        "\n"
      ],
      "execution_count": null,
      "outputs": [
        {
          "output_type": "execute_result",
          "data": {
            "text/plain": [
              "(3, 1)"
            ]
          },
          "metadata": {
            "tags": []
          },
          "execution_count": 129
        }
      ]
    },
    {
      "cell_type": "code",
      "metadata": {
        "id": "ZxceXfYaVm_i",
        "outputId": "57ae2557-684f-4e9b-ab15-5f43b84e8d0d",
        "colab": {
          "base_uri": "https://localhost:8080/"
        }
      },
      "source": [
        "x + y[:, np.newaxis]"
      ],
      "execution_count": null,
      "outputs": [
        {
          "output_type": "execute_result",
          "data": {
            "text/plain": [
              "array([[1., 1.],\n",
              "       [2., 2.],\n",
              "       [3., 3.]])"
            ]
          },
          "metadata": {
            "tags": []
          },
          "execution_count": 130
        }
      ]
    },
    {
      "cell_type": "code",
      "metadata": {
        "id": "ZFyOMkO4V08a",
        "outputId": "b050d40d-c065-4131-a8c0-9e89ff527c3e",
        "colab": {
          "base_uri": "https://localhost:8080/"
        }
      },
      "source": [
        "np.logaddexp(x, y[: , np.newaxis])  "
      ],
      "execution_count": null,
      "outputs": [
        {
          "output_type": "execute_result",
          "data": {
            "text/plain": [
              "array([[1.31326169, 1.31326169],\n",
              "       [1.69314718, 1.69314718],\n",
              "       [2.31326169, 2.31326169]])"
            ]
          },
          "metadata": {
            "tags": []
          },
          "execution_count": 131
        }
      ]
    },
    {
      "cell_type": "code",
      "metadata": {
        "id": "n4wWbMx8hDNu",
        "outputId": "c6017565-4967-4f73-f9ce-25a603e22e0d",
        "colab": {
          "base_uri": "https://localhost:8080/"
        }
      },
      "source": [
        "b = np.random.random((10, 3))\n",
        "b"
      ],
      "execution_count": null,
      "outputs": [
        {
          "output_type": "execute_result",
          "data": {
            "text/plain": [
              "array([[0.85228051, 0.99590812, 0.26436395],\n",
              "       [0.72072911, 0.72180306, 0.94185746],\n",
              "       [0.78906112, 0.93311889, 0.41616898],\n",
              "       [0.59408848, 0.68151681, 0.86119968],\n",
              "       [0.76506336, 0.14979272, 0.48298979],\n",
              "       [0.98917057, 0.55345369, 0.50667426],\n",
              "       [0.41100442, 0.26710146, 0.81842504],\n",
              "       [0.6561332 , 0.47908739, 0.83847343],\n",
              "       [0.47361088, 0.05185193, 0.82781486],\n",
              "       [0.04257999, 0.48167972, 0.83143503]])"
            ]
          },
          "metadata": {
            "tags": []
          },
          "execution_count": 134
        }
      ]
    },
    {
      "cell_type": "code",
      "metadata": {
        "id": "oezYC7Z1jlQy",
        "outputId": "8a1986d4-01b0-4bc6-9c7b-53c072f5efbf",
        "colab": {
          "base_uri": "https://localhost:8080/"
        }
      },
      "source": [
        "bmean = b.mean(0)\n",
        "bmean"
      ],
      "execution_count": null,
      "outputs": [
        {
          "output_type": "execute_result",
          "data": {
            "text/plain": [
              "array([0.62937216, 0.53153138, 0.67894025])"
            ]
          },
          "metadata": {
            "tags": []
          },
          "execution_count": 135
        }
      ]
    },
    {
      "cell_type": "code",
      "metadata": {
        "id": "YSXqxhfCj8CS",
        "outputId": "cfb71b53-83c0-424e-8cc1-4711aa0ef623",
        "colab": {
          "base_uri": "https://localhost:8080/"
        }
      },
      "source": [
        "b_centered = b - bmean\n",
        "b_centered"
      ],
      "execution_count": null,
      "outputs": [
        {
          "output_type": "execute_result",
          "data": {
            "text/plain": [
              "array([[ 0.22290835,  0.46437674, -0.4145763 ],\n",
              "       [ 0.09135695,  0.19027168,  0.26291721],\n",
              "       [ 0.15968895,  0.40158751, -0.26277127],\n",
              "       [-0.03528368,  0.14998543,  0.18225944],\n",
              "       [ 0.1356912 , -0.38173866, -0.19595046],\n",
              "       [ 0.3597984 ,  0.02192231, -0.17226599],\n",
              "       [-0.21836774, -0.26442992,  0.13948479],\n",
              "       [ 0.02676103, -0.05244399,  0.15953318],\n",
              "       [-0.15576129, -0.47967945,  0.14887461],\n",
              "       [-0.58679218, -0.04985166,  0.15249478]])"
            ]
          },
          "metadata": {
            "tags": []
          },
          "execution_count": 137
        }
      ]
    },
    {
      "cell_type": "code",
      "metadata": {
        "id": "fMVi2EPQlRFC",
        "outputId": "60381c17-9288-49aa-8ddd-3cd17b02ba97",
        "colab": {
          "base_uri": "https://localhost:8080/"
        }
      },
      "source": [
        "b_centered.mean(0)"
      ],
      "execution_count": null,
      "outputs": [
        {
          "output_type": "execute_result",
          "data": {
            "text/plain": [
              "array([-2.22044605e-17,  3.33066907e-17, -4.44089210e-17])"
            ]
          },
          "metadata": {
            "tags": []
          },
          "execution_count": 138
        }
      ]
    },
    {
      "cell_type": "code",
      "metadata": {
        "id": "ljigel8tlpX7",
        "outputId": "38dedf58-d1e3-4674-f8bc-3fda649a89ef",
        "colab": {
          "base_uri": "https://localhost:8080/"
        }
      },
      "source": [
        "#Plotting a two-dimensional function   -  images based on twodimensional function\n",
        "# x and y have 50 steps from 0 to 5\n",
        "\n",
        "x = np.linspace(0, 5, 50)\n",
        "y = np.linspace(0, 5, 50)[:, np.newaxis]\n",
        "z = np.sin(x)**10 + np.cos(10 + y*x )*np.cos(x)\n",
        "z\n",
        "\n"
      ],
      "execution_count": null,
      "outputs": [
        {
          "output_type": "execute_result",
          "data": {
            "text/plain": [
              "array([[-0.83907153, -0.83470697, -0.8216586 , ...,  0.8956708 ,\n",
              "         0.68617261,  0.41940746],\n",
              "       [-0.83907153, -0.82902677, -0.8103873 , ...,  0.92522407,\n",
              "         0.75321348,  0.52508175],\n",
              "       [-0.83907153, -0.82325668, -0.79876457, ...,  0.96427357,\n",
              "         0.84172689,  0.66446403],\n",
              "       ...,\n",
              "       [-0.83907153, -0.48233077, -0.01646558, ...,  0.96449925,\n",
              "         0.75196531,  0.41982581],\n",
              "       [-0.83907153, -0.47324558,  0.00392612, ...,  0.92542163,\n",
              "         0.68540362,  0.37440839],\n",
              "       [-0.83907153, -0.46410908,  0.02431613, ...,  0.89579384,\n",
              "         0.65690314,  0.40107702]])"
            ]
          },
          "metadata": {
            "tags": []
          },
          "execution_count": 144
        }
      ]
    },
    {
      "cell_type": "code",
      "metadata": {
        "id": "KXSgnizXm5-b",
        "outputId": "82f68cb9-7bb7-4ddb-a350-01d6977c0529",
        "colab": {
          "base_uri": "https://localhost:8080/",
          "height": 269
        }
      },
      "source": [
        "  %matplotlib inline\n",
        "  import matplotlib.pyplot as plt\n",
        "\n",
        "  plt.imshow(z, origin = 'lower', extent = [0, 5 , 0 , 5],\n",
        "             cmap = 'viridis')\n",
        "  plt.colorbar();"
      ],
      "execution_count": null,
      "outputs": [
        {
          "output_type": "display_data",
          "data": {
            "image/png": "[encoded data removed]",
            "text/plain": [
              "<Figure size 432x288 with 2 Axes>"
            ]
          },
          "metadata": {
            "tags": [],
            "needs_background": "light"
          }
        }
      ]
    },
    {
      "cell_type": "code",
      "metadata": {
        "id": "kldq4Pc9pWwt"
      },
      "source": [
        ""
      ],
      "execution_count": null,
      "outputs": []
    }
  ]
}