{
  "nbformat": 4,
  "nbformat_minor": 0,
  "metadata": {
    "colab": {
      "name": "Functions_in_numpy.ipynb",
      "provenance": [],
      "collapsed_sections": [
        "7TpLgO_CXM7y"
      ],
      "authorship_tag": "ABX9TyM6QuA8EqXOgodUgbWO/wba",
      "include_colab_link": true
    },
    "kernelspec": {
      "name": "python3",
      "display_name": "Python 3"
    },
    "accelerator": "GPU"
  },
  "cells": [
    {
      "cell_type": "markdown",
      "metadata": {
        "id": "view-in-github",
        "colab_type": "text"
      },
      "source": [
        "<a href=\"https://colab.research.google.com/github/KazumaShachou/DataScience/blob/master/Functions_in_numpy.ipynb\" target=\"_parent\"><img src=\"https://colab.research.google.com/assets/colab-badge.svg\" alt=\"Open In Colab\"/></a>"
      ]
    },
    {
      "cell_type": "markdown",
      "metadata": {
        "id": "zJfuvLh6Y_QW"
      },
      "source": [
        "# Lessons about functions of Numpy\n",
        "\n",
        "\n",
        "\n",
        "### Source book : Python Data Science HandBook By: Jaker VanderPlas"
      ]
    },
    {
      "cell_type": "code",
      "metadata": {
        "id": "JC7eW4NuS95Q",
        "outputId": "290a1273-b552-42de-a45f-bf2ef068475b",
        "colab": {
          "base_uri": "https://localhost:8080/",
          "height": 35
        }
      },
      "source": [
        "L = list(range(10))\n",
        "L"
      ],
      "execution_count": 1,
      "outputs": [
        {
          "output_type": "execute_result",
          "data": {
            "text/plain": [
              "[0, 1, 2, 3, 4, 5, 6, 7, 8, 9]"
            ]
          },
          "metadata": {
            "tags": []
          },
          "execution_count": 1
        }
      ]
    },
    {
      "cell_type": "code",
      "metadata": {
        "id": "xT_QC2i3VgFj",
        "outputId": "20ebcf01-c1a2-4651-c4ad-c810e9c00eb0",
        "colab": {
          "base_uri": "https://localhost:8080/",
          "height": 35
        }
      },
      "source": [
        "type(L)"
      ],
      "execution_count": 2,
      "outputs": [
        {
          "output_type": "execute_result",
          "data": {
            "text/plain": [
              "list"
            ]
          },
          "metadata": {
            "tags": []
          },
          "execution_count": 2
        }
      ]
    },
    {
      "cell_type": "code",
      "metadata": {
        "id": "vmdwR4rxVq1D",
        "outputId": "1a7021b5-7128-4b85-cf4e-e765550d6c6b",
        "colab": {
          "base_uri": "https://localhost:8080/",
          "height": 35
        }
      },
      "source": [
        "#how to create a list\n",
        "\n",
        "L2 = [str(z) for z in L]\n",
        "L2"
      ],
      "execution_count": 3,
      "outputs": [
        {
          "output_type": "execute_result",
          "data": {
            "text/plain": [
              "['0', '1', '2', '3', '4', '5', '6', '7', '8', '9']"
            ]
          },
          "metadata": {
            "tags": []
          },
          "execution_count": 3
        }
      ]
    },
    {
      "cell_type": "code",
      "metadata": {
        "id": "_oyl5sJNWSSb",
        "outputId": "7b99693a-0af3-433c-ce39-3383b72209c2",
        "colab": {
          "base_uri": "https://localhost:8080/",
          "height": 35
        }
      },
      "source": [
        "type(L2)"
      ],
      "execution_count": 4,
      "outputs": [
        {
          "output_type": "execute_result",
          "data": {
            "text/plain": [
              "list"
            ]
          },
          "metadata": {
            "tags": []
          },
          "execution_count": 4
        }
      ]
    },
    {
      "cell_type": "code",
      "metadata": {
        "id": "qvY-pLICWZ0O",
        "outputId": "91cad05e-80f9-40ff-baac-63e499cf818d",
        "colab": {
          "base_uri": "https://localhost:8080/",
          "height": 90
        }
      },
      "source": [
        "#use () to create a list\n",
        "for value in range(1,5):    \n",
        "  print(value)"
      ],
      "execution_count": 5,
      "outputs": [
        {
          "output_type": "stream",
          "text": [
            "1\n",
            "2\n",
            "3\n",
            "4\n"
          ],
          "name": "stdout"
        }
      ]
    },
    {
      "cell_type": "code",
      "metadata": {
        "id": "o8DWiX_HYf8y",
        "outputId": "f3d23e9b-0dca-400d-9a2e-f3e846803d00",
        "colab": {
          "base_uri": "https://localhost:8080/",
          "height": 35
        }
      },
      "source": [
        "import array\n",
        "\n",
        "L3 = list(range(10))\n",
        "A = array.array('i', L)\n",
        "A"
      ],
      "execution_count": 6,
      "outputs": [
        {
          "output_type": "execute_result",
          "data": {
            "text/plain": [
              "array('i', [0, 1, 2, 3, 4, 5, 6, 7, 8, 9])"
            ]
          },
          "metadata": {
            "tags": []
          },
          "execution_count": 6
        }
      ]
    },
    {
      "cell_type": "code",
      "metadata": {
        "id": "JzWo7GbiZ7RJ"
      },
      "source": [
        "import numpy as np"
      ],
      "execution_count": 7,
      "outputs": []
    },
    {
      "cell_type": "code",
      "metadata": {
        "id": "ckP2jZfPfkDt",
        "outputId": "9ed41759-015b-4740-dc31-ded7b1a26fa6",
        "colab": {
          "base_uri": "https://localhost:8080/",
          "height": 35
        }
      },
      "source": [
        "np.array([1, 3, 4, 6, 11, 95, 46, 23])"
      ],
      "execution_count": 8,
      "outputs": [
        {
          "output_type": "execute_result",
          "data": {
            "text/plain": [
              "array([ 1,  3,  4,  6, 11, 95, 46, 23])"
            ]
          },
          "metadata": {
            "tags": []
          },
          "execution_count": 8
        }
      ]
    },
    {
      "cell_type": "code",
      "metadata": {
        "id": "4tq6kEyif0mg",
        "outputId": "7e80fe69-b11d-49e5-fd41-32d95d81488f",
        "colab": {
          "base_uri": "https://localhost:8080/",
          "height": 35
        }
      },
      "source": [
        "np.arange(0,40,4)"
      ],
      "execution_count": 9,
      "outputs": [
        {
          "output_type": "execute_result",
          "data": {
            "text/plain": [
              "array([ 0,  4,  8, 12, 16, 20, 24, 28, 32, 36])"
            ]
          },
          "metadata": {
            "tags": []
          },
          "execution_count": 9
        }
      ]
    },
    {
      "cell_type": "code",
      "metadata": {
        "id": "ZOQ7n21VGBgu",
        "outputId": "85ba78c2-a526-42e2-c4a9-cd873fa5a642",
        "colab": {
          "base_uri": "https://localhost:8080/",
          "height": 35
        }
      },
      "source": [
        "np.linspace(0, 1, 5)  # Create an array of five values evenly spaced between 0 and 1"
      ],
      "execution_count": 10,
      "outputs": [
        {
          "output_type": "execute_result",
          "data": {
            "text/plain": [
              "array([0.  , 0.25, 0.5 , 0.75, 1.  ])"
            ]
          },
          "metadata": {
            "tags": []
          },
          "execution_count": 10
        }
      ]
    },
    {
      "cell_type": "code",
      "metadata": {
        "id": "LxaOMXG2GSJT",
        "outputId": "cdab7f9f-55ab-444a-b91d-e7371841a70c",
        "colab": {
          "base_uri": "https://localhost:8080/",
          "height": 108
        }
      },
      "source": [
        "np.random.random((5,5))"
      ],
      "execution_count": 11,
      "outputs": [
        {
          "output_type": "execute_result",
          "data": {
            "text/plain": [
              "array([[0.31793399, 0.89603502, 0.08220372, 0.71315346, 0.58810789],\n",
              "       [0.50793381, 0.22159923, 0.16501211, 0.0270233 , 0.53756162],\n",
              "       [0.41737423, 0.62453733, 0.96682389, 0.59217884, 0.44309475],\n",
              "       [0.31907617, 0.37882561, 0.98006476, 0.00785763, 0.34916752],\n",
              "       [0.08642379, 0.569945  , 0.76338426, 0.96910179, 0.1049468 ]])"
            ]
          },
          "metadata": {
            "tags": []
          },
          "execution_count": 11
        }
      ]
    },
    {
      "cell_type": "code",
      "metadata": {
        "id": "c9H_j3y6GdeC",
        "outputId": "a69eaaae-1516-4864-b9ec-ac8bd4e5fb6a",
        "colab": {
          "base_uri": "https://localhost:8080/",
          "height": 90
        }
      },
      "source": [
        "np.random.randint(0, 20,( 4,4))   #array of random integers in the interval"
      ],
      "execution_count": 12,
      "outputs": [
        {
          "output_type": "execute_result",
          "data": {
            "text/plain": [
              "array([[ 0, 11, 18, 12],\n",
              "       [19,  5,  9, 19],\n",
              "       [18, 12, 13, 16],\n",
              "       [19, 12, 16, 10]])"
            ]
          },
          "metadata": {
            "tags": []
          },
          "execution_count": 12
        }
      ]
    },
    {
      "cell_type": "code",
      "metadata": {
        "id": "I2X3PaHTHSnb",
        "outputId": "ba7510de-3149-444e-cd6c-ee99932763ec",
        "colab": {
          "base_uri": "https://localhost:8080/",
          "height": 72
        }
      },
      "source": [
        "## Create a 3x3 identity matrix\n",
        "np.eye(3)"
      ],
      "execution_count": 13,
      "outputs": [
        {
          "output_type": "execute_result",
          "data": {
            "text/plain": [
              "array([[1., 0., 0.],\n",
              "       [0., 1., 0.],\n",
              "       [0., 0., 1.]])"
            ]
          },
          "metadata": {
            "tags": []
          },
          "execution_count": 13
        }
      ]
    },
    {
      "cell_type": "code",
      "metadata": {
        "id": "r2R0q4zPHzDq",
        "outputId": "e901852a-dde7-4561-d4ca-3a2addcc7823",
        "colab": {
          "base_uri": "https://localhost:8080/",
          "height": 35
        }
      },
      "source": [
        "import array\n",
        "L = list(range(10))\n",
        "A = array.array('i', L)\n",
        "A"
      ],
      "execution_count": 14,
      "outputs": [
        {
          "output_type": "execute_result",
          "data": {
            "text/plain": [
              "array('i', [0, 1, 2, 3, 4, 5, 6, 7, 8, 9])"
            ]
          },
          "metadata": {
            "tags": []
          },
          "execution_count": 14
        }
      ]
    },
    {
      "cell_type": "code",
      "metadata": {
        "id": "x42csSP0VZ9M"
      },
      "source": [
        "np.random.seed()\n"
      ],
      "execution_count": 15,
      "outputs": []
    },
    {
      "cell_type": "code",
      "metadata": {
        "id": "k8rPj79ndoDW",
        "outputId": "f750a343-f762-4a46-f9d0-0947788c204d",
        "colab": {
          "base_uri": "https://localhost:8080/",
          "height": 35
        }
      },
      "source": [
        "# One-dimensional array\n",
        "x1 = np.random.randint(10, size= 6)  \n",
        "x1"
      ],
      "execution_count": 16,
      "outputs": [
        {
          "output_type": "execute_result",
          "data": {
            "text/plain": [
              "array([0, 4, 9, 8, 5, 4])"
            ]
          },
          "metadata": {
            "tags": []
          },
          "execution_count": 16
        }
      ]
    },
    {
      "cell_type": "code",
      "metadata": {
        "id": "0fLSqAmgd_DC",
        "outputId": "15f63464-6798-4fca-ec6b-af723e9644c1",
        "colab": {
          "base_uri": "https://localhost:8080/",
          "height": 72
        }
      },
      "source": [
        "# Two-dimensional array\n",
        "x2 = np.random.randint(10, size = (3, 6))\n",
        "x2"
      ],
      "execution_count": 17,
      "outputs": [
        {
          "output_type": "execute_result",
          "data": {
            "text/plain": [
              "array([[1, 8, 7, 5, 6, 0],\n",
              "       [4, 4, 8, 5, 1, 2],\n",
              "       [2, 3, 3, 2, 4, 9]])"
            ]
          },
          "metadata": {
            "tags": []
          },
          "execution_count": 17
        }
      ]
    },
    {
      "cell_type": "code",
      "metadata": {
        "id": "9PHNr8a-efNi",
        "outputId": "936dfff6-64a3-4e0a-c85f-4978c57138c0",
        "colab": {
          "base_uri": "https://localhost:8080/",
          "height": 272
        }
      },
      "source": [
        "# Three-dimensional array\n",
        "x3 = np.random.randint(10, size=(3,4,5))      # 3 array with colums 4x5 in random numbers of 0 to 9\n",
        "x3"
      ],
      "execution_count": 18,
      "outputs": [
        {
          "output_type": "execute_result",
          "data": {
            "text/plain": [
              "array([[[3, 2, 4, 2, 5],\n",
              "        [2, 9, 4, 9, 6],\n",
              "        [6, 5, 3, 2, 8],\n",
              "        [1, 1, 8, 6, 4]],\n",
              "\n",
              "       [[7, 5, 7, 9, 7],\n",
              "        [1, 9, 5, 6, 4],\n",
              "        [2, 6, 5, 8, 6],\n",
              "        [7, 6, 9, 2, 2]],\n",
              "\n",
              "       [[2, 9, 0, 3, 9],\n",
              "        [0, 4, 7, 5, 1],\n",
              "        [3, 4, 0, 3, 5],\n",
              "        [9, 7, 1, 7, 4]]])"
            ]
          },
          "metadata": {
            "tags": []
          },
          "execution_count": 18
        }
      ]
    },
    {
      "cell_type": "code",
      "metadata": {
        "id": "piJxy4ghfm2x",
        "outputId": "04b63795-6c77-4f4d-c859-24e3c0d31f15",
        "colab": {
          "base_uri": "https://localhost:8080/",
          "height": 126
        }
      },
      "source": [
        "print('x3 ndim:' , x3.ndim)     #dimensions\n",
        "print('x3 shape' , x3.shape)    #size of each dimension\n",
        "print('x3 size', x3.size)       #total size of the array  \n",
        "print('x3 dtype:', x3.dtype)   #type of array\n",
        "print('x3 itemsize:', x3.itemsize)  #size in bytes of each list\n",
        "print('x3 nbytes', x3.nbytes)       #total size in bytes of the array"
      ],
      "execution_count": 19,
      "outputs": [
        {
          "output_type": "stream",
          "text": [
            "x3 ndim: 3\n",
            "x3 shape (3, 4, 5)\n",
            "x3 size 60\n",
            "x3 dtype: int64\n",
            "x3 itemsize: 8\n",
            "x3 nbytes 480\n"
          ],
          "name": "stdout"
        }
      ]
    },
    {
      "cell_type": "code",
      "metadata": {
        "id": "aysFzK0Lg4gs",
        "outputId": "c9cddcd7-0fb1-499f-f8c7-b2cb0423a1f3",
        "colab": {
          "base_uri": "https://localhost:8080/",
          "height": 35
        }
      },
      "source": [
        "x3 = np.arange(10)\n",
        "x3"
      ],
      "execution_count": 20,
      "outputs": [
        {
          "output_type": "execute_result",
          "data": {
            "text/plain": [
              "array([0, 1, 2, 3, 4, 5, 6, 7, 8, 9])"
            ]
          },
          "metadata": {
            "tags": []
          },
          "execution_count": 20
        }
      ]
    },
    {
      "cell_type": "code",
      "metadata": {
        "id": "hkJiPn8EQad3",
        "outputId": "41ae47a0-c4e9-4ddc-90d2-92b145358fe2",
        "colab": {
          "base_uri": "https://localhost:8080/",
          "height": 35
        }
      },
      "source": [
        "# first five elements\n",
        "x3[:5]"
      ],
      "execution_count": 21,
      "outputs": [
        {
          "output_type": "execute_result",
          "data": {
            "text/plain": [
              "array([0, 1, 2, 3, 4])"
            ]
          },
          "metadata": {
            "tags": []
          },
          "execution_count": 21
        }
      ]
    },
    {
      "cell_type": "code",
      "metadata": {
        "id": "-r2EqQxWQp4Q",
        "outputId": "908990aa-7de1-4adf-9c75-07fa53b85b9d",
        "colab": {
          "base_uri": "https://localhost:8080/",
          "height": 35
        }
      },
      "source": [
        "# elements after index 5\n",
        "x3[5:]"
      ],
      "execution_count": 22,
      "outputs": [
        {
          "output_type": "execute_result",
          "data": {
            "text/plain": [
              "array([5, 6, 7, 8, 9])"
            ]
          },
          "metadata": {
            "tags": []
          },
          "execution_count": 22
        }
      ]
    },
    {
      "cell_type": "code",
      "metadata": {
        "id": "md26JfZfQ6ri",
        "outputId": "94429c11-340d-434b-8c6d-b65da2e8c4c8",
        "colab": {
          "base_uri": "https://localhost:8080/",
          "height": 35
        }
      },
      "source": [
        "# middle subarray\n",
        "x3[3:7]"
      ],
      "execution_count": 23,
      "outputs": [
        {
          "output_type": "execute_result",
          "data": {
            "text/plain": [
              "array([3, 4, 5, 6])"
            ]
          },
          "metadata": {
            "tags": []
          },
          "execution_count": 23
        }
      ]
    },
    {
      "cell_type": "code",
      "metadata": {
        "id": "DeaNV6uvRFkR",
        "outputId": "7463f30a-b8a9-48fe-ea90-fda5d21a7176",
        "colab": {
          "base_uri": "https://localhost:8080/",
          "height": 35
        }
      },
      "source": [
        "#2 in 2\n",
        "x3[::2]"
      ],
      "execution_count": 24,
      "outputs": [
        {
          "output_type": "execute_result",
          "data": {
            "text/plain": [
              "array([0, 2, 4, 6, 8])"
            ]
          },
          "metadata": {
            "tags": []
          },
          "execution_count": 24
        }
      ]
    },
    {
      "cell_type": "code",
      "metadata": {
        "id": "B6ohD5KRRSrL",
        "outputId": "51026a19-3f42-4b08-8f02-bd329c8f2327",
        "colab": {
          "base_uri": "https://localhost:8080/",
          "height": 35
        }
      },
      "source": [
        "x3[2::]  #2 until the end"
      ],
      "execution_count": 25,
      "outputs": [
        {
          "output_type": "execute_result",
          "data": {
            "text/plain": [
              "array([2, 3, 4, 5, 6, 7, 8, 9])"
            ]
          },
          "metadata": {
            "tags": []
          },
          "execution_count": 25
        }
      ]
    },
    {
      "cell_type": "code",
      "metadata": {
        "id": "qZort5j3RWCQ",
        "outputId": "1a9544d1-3410-4e9d-c23d-9b6ba3cc9509",
        "colab": {
          "base_uri": "https://localhost:8080/",
          "height": 35
        }
      },
      "source": [
        "#starting at index 1 , 2 in 2\n",
        "x3[1::2]"
      ],
      "execution_count": 26,
      "outputs": [
        {
          "output_type": "execute_result",
          "data": {
            "text/plain": [
              "array([1, 3, 5, 7, 9])"
            ]
          },
          "metadata": {
            "tags": []
          },
          "execution_count": 26
        }
      ]
    },
    {
      "cell_type": "code",
      "metadata": {
        "id": "GjbSr6z7SHaa",
        "outputId": "e3d80e75-3755-431d-a6a0-37cb791f1508",
        "colab": {
          "base_uri": "https://localhost:8080/",
          "height": 35
        }
      },
      "source": [
        "x3[2::1]"
      ],
      "execution_count": 27,
      "outputs": [
        {
          "output_type": "execute_result",
          "data": {
            "text/plain": [
              "array([2, 3, 4, 5, 6, 7, 8, 9])"
            ]
          },
          "metadata": {
            "tags": []
          },
          "execution_count": 27
        }
      ]
    },
    {
      "cell_type": "code",
      "metadata": {
        "id": "347qki6YSOUx",
        "outputId": "9c09a2bc-045c-43c6-9b82-b874681bf326",
        "colab": {
          "base_uri": "https://localhost:8080/",
          "height": 35
        }
      },
      "source": [
        "# all elements, reversed\n",
        "x3[::-1]"
      ],
      "execution_count": 28,
      "outputs": [
        {
          "output_type": "execute_result",
          "data": {
            "text/plain": [
              "array([9, 8, 7, 6, 5, 4, 3, 2, 1, 0])"
            ]
          },
          "metadata": {
            "tags": []
          },
          "execution_count": 28
        }
      ]
    },
    {
      "cell_type": "code",
      "metadata": {
        "id": "CTYagzOXSV3j",
        "outputId": "ca3eab06-e154-4c71-dbfb-2093ea9551fd",
        "colab": {
          "base_uri": "https://localhost:8080/",
          "height": 35
        }
      },
      "source": [
        "x3[:-5]"
      ],
      "execution_count": 29,
      "outputs": [
        {
          "output_type": "execute_result",
          "data": {
            "text/plain": [
              "array([0, 1, 2, 3, 4])"
            ]
          },
          "metadata": {
            "tags": []
          },
          "execution_count": 29
        }
      ]
    },
    {
      "cell_type": "code",
      "metadata": {
        "id": "BbO-JD90SYR5",
        "outputId": "9abe6228-892d-4b34-ff9a-44aaf1a30f9c",
        "colab": {
          "base_uri": "https://localhost:8080/",
          "height": 35
        }
      },
      "source": [
        "# reversed every other from index 5\n",
        "x3[5::-1]"
      ],
      "execution_count": 30,
      "outputs": [
        {
          "output_type": "execute_result",
          "data": {
            "text/plain": [
              "array([5, 4, 3, 2, 1, 0])"
            ]
          },
          "metadata": {
            "tags": []
          },
          "execution_count": 30
        }
      ]
    },
    {
      "cell_type": "code",
      "metadata": {
        "id": "oN1D6ZrVSkIA",
        "outputId": "6b047eb6-1407-4cea-c681-c479f9358468",
        "colab": {
          "base_uri": "https://localhost:8080/",
          "height": 72
        }
      },
      "source": [
        "x2"
      ],
      "execution_count": 31,
      "outputs": [
        {
          "output_type": "execute_result",
          "data": {
            "text/plain": [
              "array([[1, 8, 7, 5, 6, 0],\n",
              "       [4, 4, 8, 5, 1, 2],\n",
              "       [2, 3, 3, 2, 4, 9]])"
            ]
          },
          "metadata": {
            "tags": []
          },
          "execution_count": 31
        }
      ]
    },
    {
      "cell_type": "code",
      "metadata": {
        "id": "oPfvb8ZvTI5N",
        "outputId": "5af4e8f1-9929-4013-9886-01a36213dfeb",
        "colab": {
          "base_uri": "https://localhost:8080/",
          "height": 54
        }
      },
      "source": [
        "# two rows, three columns\n",
        "x2[:2, :3]"
      ],
      "execution_count": 32,
      "outputs": [
        {
          "output_type": "execute_result",
          "data": {
            "text/plain": [
              "array([[1, 8, 7],\n",
              "       [4, 4, 8]])"
            ]
          },
          "metadata": {
            "tags": []
          },
          "execution_count": 32
        }
      ]
    },
    {
      "cell_type": "code",
      "metadata": {
        "id": "Cs8IPHd-TR6Z",
        "outputId": "0f741d01-d111-499b-826d-86a2918747e7",
        "colab": {
          "base_uri": "https://localhost:8080/",
          "height": 35
        }
      },
      "source": [
        "# first column of x2\n",
        "x2[:, 0]"
      ],
      "execution_count": 33,
      "outputs": [
        {
          "output_type": "execute_result",
          "data": {
            "text/plain": [
              "array([1, 4, 2])"
            ]
          },
          "metadata": {
            "tags": []
          },
          "execution_count": 33
        }
      ]
    },
    {
      "cell_type": "code",
      "metadata": {
        "id": "7kerFpPoTw1h",
        "outputId": "2b00b046-372f-4c7a-e5bd-5e87bdfbe184",
        "colab": {
          "base_uri": "https://localhost:8080/",
          "height": 35
        }
      },
      "source": [
        "# first row of x2\n",
        "x2[0, :]"
      ],
      "execution_count": 34,
      "outputs": [
        {
          "output_type": "execute_result",
          "data": {
            "text/plain": [
              "array([1, 8, 7, 5, 6, 0])"
            ]
          },
          "metadata": {
            "tags": []
          },
          "execution_count": 34
        }
      ]
    },
    {
      "cell_type": "code",
      "metadata": {
        "id": "aK4X9Qx1T9zo",
        "outputId": "f2e6e857-ff09-44c9-eb3d-bd5fcf6aa4df",
        "colab": {
          "base_uri": "https://localhost:8080/",
          "height": 54
        }
      },
      "source": [
        "#extract a 2×2 subarray\n",
        "x2_sub = x2[:2 , :2]\n",
        "x2_sub"
      ],
      "execution_count": 35,
      "outputs": [
        {
          "output_type": "execute_result",
          "data": {
            "text/plain": [
              "array([[1, 8],\n",
              "       [4, 4]])"
            ]
          },
          "metadata": {
            "tags": []
          },
          "execution_count": 35
        }
      ]
    },
    {
      "cell_type": "code",
      "metadata": {
        "id": "YFHHDf8NWyjp",
        "outputId": "52e747ef-57ea-4015-a979-1c0eac4b4398",
        "colab": {
          "base_uri": "https://localhost:8080/",
          "height": 72
        }
      },
      "source": [
        "#modify this subarray , the \"8\" to 99\n",
        "x2_sub[0, 0] = 99\n",
        "x2"
      ],
      "execution_count": 36,
      "outputs": [
        {
          "output_type": "execute_result",
          "data": {
            "text/plain": [
              "array([[99,  8,  7,  5,  6,  0],\n",
              "       [ 4,  4,  8,  5,  1,  2],\n",
              "       [ 2,  3,  3,  2,  4,  9]])"
            ]
          },
          "metadata": {
            "tags": []
          },
          "execution_count": 36
        }
      ]
    },
    {
      "cell_type": "code",
      "metadata": {
        "id": "y9fQHdNEXC3h",
        "outputId": "6a2307f3-5e60-4e3f-d88c-b4c86fd068b3",
        "colab": {
          "base_uri": "https://localhost:8080/",
          "height": 72
        }
      },
      "source": [
        "#using reshape\n",
        "b1 = np.arange(1,10).reshape((3, 3))\n",
        "b1"
      ],
      "execution_count": 37,
      "outputs": [
        {
          "output_type": "execute_result",
          "data": {
            "text/plain": [
              "array([[1, 2, 3],\n",
              "       [4, 5, 6],\n",
              "       [7, 8, 9]])"
            ]
          },
          "metadata": {
            "tags": []
          },
          "execution_count": 37
        }
      ]
    },
    {
      "cell_type": "code",
      "metadata": {
        "id": "3WUIfldxY9qE",
        "outputId": "2456981d-16da-4499-a4c3-5da2bdcb35fb",
        "colab": {
          "base_uri": "https://localhost:8080/",
          "height": 35
        }
      },
      "source": [
        "#oncatenation\n",
        "x = np.array([1, 6 , 9])\n",
        "y = np.array([3, 9 , 1])\n",
        "\n",
        "np.concatenate([x, y])"
      ],
      "execution_count": 38,
      "outputs": [
        {
          "output_type": "execute_result",
          "data": {
            "text/plain": [
              "array([1, 6, 9, 3, 9, 1])"
            ]
          },
          "metadata": {
            "tags": []
          },
          "execution_count": 38
        }
      ]
    },
    {
      "cell_type": "code",
      "metadata": {
        "id": "icui53mba45b",
        "outputId": "0f9adffb-9adb-41d1-cf96-967ff1bb6a45",
        "colab": {
          "base_uri": "https://localhost:8080/",
          "height": 90
        }
      },
      "source": [
        "grid = np.array([[9,8,7],\n",
        "                [6,4,4]])\n",
        "np.concatenate([grid, grid])"
      ],
      "execution_count": 39,
      "outputs": [
        {
          "output_type": "execute_result",
          "data": {
            "text/plain": [
              "array([[9, 8, 7],\n",
              "       [6, 4, 4],\n",
              "       [9, 8, 7],\n",
              "       [6, 4, 4]])"
            ]
          },
          "metadata": {
            "tags": []
          },
          "execution_count": 39
        }
      ]
    },
    {
      "cell_type": "code",
      "metadata": {
        "id": "-BKP-rdxhS39",
        "outputId": "289958f9-4a19-4728-8ea6-7e49f15f1925",
        "colab": {
          "base_uri": "https://localhost:8080/",
          "height": 35
        }
      },
      "source": [
        "#split array\n",
        "d = [1, 5 ,3 ,7, 8 ,9 , 0, 3, 7]\n",
        "g1, g2, g3 = np.split(d, [3,5])\n",
        "print ( g1, g2, g3)"
      ],
      "execution_count": 40,
      "outputs": [
        {
          "output_type": "stream",
          "text": [
            "[1 5 3] [7 8] [9 0 3 7]\n"
          ],
          "name": "stdout"
        }
      ]
    },
    {
      "cell_type": "code",
      "metadata": {
        "id": "jt3xx-DVimLJ",
        "outputId": "690afd29-5c21-494b-f8f7-846aae853fa5",
        "colab": {
          "base_uri": "https://localhost:8080/",
          "height": 90
        }
      },
      "source": [
        "grid = np.arange(16).reshape((4, 4))\n",
        "grid"
      ],
      "execution_count": 41,
      "outputs": [
        {
          "output_type": "execute_result",
          "data": {
            "text/plain": [
              "array([[ 0,  1,  2,  3],\n",
              "       [ 4,  5,  6,  7],\n",
              "       [ 8,  9, 10, 11],\n",
              "       [12, 13, 14, 15]])"
            ]
          },
          "metadata": {
            "tags": []
          },
          "execution_count": 41
        }
      ]
    },
    {
      "cell_type": "code",
      "metadata": {
        "id": "b2TPD-y0kMdK",
        "outputId": "42a11ac3-9523-49a0-e4f1-6e75c63c2221",
        "colab": {
          "base_uri": "https://localhost:8080/",
          "height": 54
        }
      },
      "source": [
        "#getting 2 rooms\n",
        "upper, lower = np.vsplit(grid, [2])\n",
        "print (upper)\n"
      ],
      "execution_count": 42,
      "outputs": [
        {
          "output_type": "stream",
          "text": [
            "[[0 1 2 3]\n",
            " [4 5 6 7]]\n"
          ],
          "name": "stdout"
        }
      ]
    },
    {
      "cell_type": "code",
      "metadata": {
        "id": "wyCeLNaGliFB",
        "outputId": "775cce01-17f2-4a71-bdd8-1539e83096bb",
        "colab": {
          "base_uri": "https://localhost:8080/",
          "height": 54
        }
      },
      "source": [
        "print(lower)"
      ],
      "execution_count": 43,
      "outputs": [
        {
          "output_type": "stream",
          "text": [
            "[[ 8  9 10 11]\n",
            " [12 13 14 15]]\n"
          ],
          "name": "stdout"
        }
      ]
    },
    {
      "cell_type": "code",
      "metadata": {
        "id": "btu1nSWFlwXh",
        "outputId": "33ffd0b6-da34-44b8-8538-8e7ddedd6b52",
        "colab": {
          "base_uri": "https://localhost:8080/",
          "height": 35
        }
      },
      "source": [
        "x =np.arange(4)\n",
        "print(\"x  =\", x)\n"
      ],
      "execution_count": 44,
      "outputs": [
        {
          "output_type": "stream",
          "text": [
            "x  = [0 1 2 3]\n"
          ],
          "name": "stdout"
        }
      ]
    },
    {
      "cell_type": "code",
      "metadata": {
        "id": "HFrrL6DamARx",
        "outputId": "61208051-9ab8-4326-e9f0-ceffe7160ef5",
        "colab": {
          "base_uri": "https://localhost:8080/",
          "height": 35
        }
      },
      "source": [
        "print(\"x + 5 =\", x + 5)"
      ],
      "execution_count": 45,
      "outputs": [
        {
          "output_type": "stream",
          "text": [
            "x + 5 = [5 6 7 8]\n"
          ],
          "name": "stdout"
        }
      ]
    },
    {
      "cell_type": "code",
      "metadata": {
        "id": "AOQRav6cp835",
        "outputId": "e593659a-d378-4846-b410-557f387b3e27",
        "colab": {
          "base_uri": "https://localhost:8080/",
          "height": 35
        }
      },
      "source": [
        "print(\"x - 5 =\", x - 5)"
      ],
      "execution_count": 46,
      "outputs": [
        {
          "output_type": "stream",
          "text": [
            "x - 5 = [-5 -4 -3 -2]\n"
          ],
          "name": "stdout"
        }
      ]
    },
    {
      "cell_type": "code",
      "metadata": {
        "id": "XEtmG36yqOSX",
        "outputId": "2b84b887-35e4-41e4-a599-630be49a32fe",
        "colab": {
          "base_uri": "https://localhost:8080/",
          "height": 35
        }
      },
      "source": [
        "print(\"x * 2 = \", x * 2)"
      ],
      "execution_count": 47,
      "outputs": [
        {
          "output_type": "stream",
          "text": [
            "x * 2 =  [0 2 4 6]\n"
          ],
          "name": "stdout"
        }
      ]
    },
    {
      "cell_type": "code",
      "metadata": {
        "id": "XFdnJl0OqcRP",
        "outputId": "3daa6433-bb97-4179-f373-43c56766ede2",
        "colab": {
          "base_uri": "https://localhost:8080/",
          "height": 35
        }
      },
      "source": [
        "print(\"x / 2 = \", x / 2)"
      ],
      "execution_count": 48,
      "outputs": [
        {
          "output_type": "stream",
          "text": [
            "x / 2 =  [0.  0.5 1.  1.5]\n"
          ],
          "name": "stdout"
        }
      ]
    },
    {
      "cell_type": "code",
      "metadata": {
        "id": "YOyOdxo5qmPv",
        "outputId": "d5b8ffa2-efc4-4ad4-f48d-2a5299fb8e80",
        "colab": {
          "base_uri": "https://localhost:8080/",
          "height": 35
        }
      },
      "source": [
        "np.add(x , 2)"
      ],
      "execution_count": 49,
      "outputs": [
        {
          "output_type": "execute_result",
          "data": {
            "text/plain": [
              "array([2, 3, 4, 5])"
            ]
          },
          "metadata": {
            "tags": []
          },
          "execution_count": 49
        }
      ]
    },
    {
      "cell_type": "markdown",
      "metadata": {
        "id": "7TpLgO_CXM7y"
      },
      "source": [
        "## #Trigonometric functions \n"
      ]
    },
    {
      "cell_type": "code",
      "metadata": {
        "id": "aNR1CTwbuY1k",
        "outputId": "e1763993-d292-47b5-89ab-fbf0e6e5e233",
        "colab": {
          "base_uri": "https://localhost:8080/",
          "height": 0
        }
      },
      "source": [
        "theta = np.linspace(0,np.pi, 3 )\n",
        "theta"
      ],
      "execution_count": 50,
      "outputs": [
        {
          "output_type": "execute_result",
          "data": {
            "text/plain": [
              "array([0.        , 1.57079633, 3.14159265])"
            ]
          },
          "metadata": {
            "tags": []
          },
          "execution_count": 50
        }
      ]
    },
    {
      "cell_type": "code",
      "metadata": {
        "id": "tncZhm10YtIS",
        "outputId": "e8eb30c0-24a0-4338-f46f-44520ad0f4b1",
        "colab": {
          "base_uri": "https://localhost:8080/",
          "height": 0
        }
      },
      "source": [
        "print(\"sin (theta) = \", np.sin(theta))"
      ],
      "execution_count": 51,
      "outputs": [
        {
          "output_type": "stream",
          "text": [
            "sin (theta) =  [0.0000000e+00 1.0000000e+00 1.2246468e-16]\n"
          ],
          "name": "stdout"
        }
      ]
    },
    {
      "cell_type": "code",
      "metadata": {
        "id": "Uri2xqQ8Zj26",
        "outputId": "f621ba0f-7c0d-40eb-f0b8-5cf6ec0c2294",
        "colab": {
          "base_uri": "https://localhost:8080/",
          "height": 0
        }
      },
      "source": [
        "print(\"cos(theta) = \", np.cos(theta))"
      ],
      "execution_count": 52,
      "outputs": [
        {
          "output_type": "stream",
          "text": [
            "cos(theta) =  [ 1.000000e+00  6.123234e-17 -1.000000e+00]\n"
          ],
          "name": "stdout"
        }
      ]
    },
    {
      "cell_type": "code",
      "metadata": {
        "id": "2yXyjHc_Z49B",
        "outputId": "6b33676d-17db-4a17-b611-50e6ba555c15",
        "colab": {
          "base_uri": "https://localhost:8080/",
          "height": 0
        }
      },
      "source": [
        "print(\"tan(theta) = \", np.tan(theta))"
      ],
      "execution_count": 53,
      "outputs": [
        {
          "output_type": "stream",
          "text": [
            "tan(theta) =  [ 0.00000000e+00  1.63312394e+16 -1.22464680e-16]\n"
          ],
          "name": "stdout"
        }
      ]
    },
    {
      "cell_type": "code",
      "metadata": {
        "id": "rz4rT2adaJDK",
        "outputId": "938543b4-4ad8-4e76-b9ca-e6550d438d5d",
        "colab": {
          "base_uri": "https://localhost:8080/",
          "height": 0
        }
      },
      "source": [
        "m = [1, 2, 3]\n",
        "m"
      ],
      "execution_count": 54,
      "outputs": [
        {
          "output_type": "execute_result",
          "data": {
            "text/plain": [
              "[1, 2, 3]"
            ]
          },
          "metadata": {
            "tags": []
          },
          "execution_count": 54
        }
      ]
    },
    {
      "cell_type": "code",
      "metadata": {
        "id": "D0rMI3fls7FP",
        "outputId": "0083c8a7-447d-48a7-d09f-f98b5181726d",
        "colab": {
          "base_uri": "https://localhost:8080/",
          "height": 0
        }
      },
      "source": [
        "print(\"e^m = \", np.exp(m))"
      ],
      "execution_count": 55,
      "outputs": [
        {
          "output_type": "stream",
          "text": [
            "e^m =  [ 2.71828183  7.3890561  20.08553692]\n"
          ],
          "name": "stdout"
        }
      ]
    },
    {
      "cell_type": "code",
      "metadata": {
        "id": "EkSdz6UBtM6y",
        "outputId": "0d744a17-291e-4a74-bef7-412906e74af6",
        "colab": {
          "base_uri": "https://localhost:8080/",
          "height": 0
        }
      },
      "source": [
        "print(\"2^m = \", np.exp2(m))"
      ],
      "execution_count": 56,
      "outputs": [
        {
          "output_type": "stream",
          "text": [
            "2^m =  [2. 4. 8.]\n"
          ],
          "name": "stdout"
        }
      ]
    },
    {
      "cell_type": "code",
      "metadata": {
        "id": "lwoCmtRbwpnI",
        "outputId": "474e6997-9494-467a-d1f4-1a2bf41158ec",
        "colab": {
          "base_uri": "https://localhost:8080/",
          "height": 0
        }
      },
      "source": [
        "print(\"3^m =\", np.power(3, m))"
      ],
      "execution_count": 57,
      "outputs": [
        {
          "output_type": "stream",
          "text": [
            "3^m = [ 3  9 27]\n"
          ],
          "name": "stdout"
        }
      ]
    },
    {
      "cell_type": "code",
      "metadata": {
        "id": "_1LjJ39Bw00T",
        "outputId": "51a0a781-52b0-4731-ba10-660d6909eb96",
        "colab": {
          "base_uri": "https://localhost:8080/",
          "height": 0
        }
      },
      "source": [
        "print(\"ln(m) = \", np.log(m))"
      ],
      "execution_count": 58,
      "outputs": [
        {
          "output_type": "stream",
          "text": [
            "ln(m) =  [0.         0.69314718 1.09861229]\n"
          ],
          "name": "stdout"
        }
      ]
    },
    {
      "cell_type": "code",
      "metadata": {
        "id": "kXf5xrYCxUIy",
        "outputId": "8ba13ab6-b5df-4ef1-8f0f-cb579dc28776",
        "colab": {
          "base_uri": "https://localhost:8080/",
          "height": 0
        }
      },
      "source": [
        "print(\"log10(m)\", np.log(10))"
      ],
      "execution_count": 59,
      "outputs": [
        {
          "output_type": "stream",
          "text": [
            "log10(m) 2.302585092994046\n"
          ],
          "name": "stdout"
        }
      ]
    },
    {
      "cell_type": "code",
      "metadata": {
        "id": "zzdltRMXxu9b",
        "outputId": "33a4fe7c-7505-45a7-852e-ad32546f8ac8",
        "colab": {
          "base_uri": "https://localhost:8080/",
          "height": 0
        }
      },
      "source": [
        "print(\"exp(m) - 1 \", np.expm1(m) )"
      ],
      "execution_count": 60,
      "outputs": [
        {
          "output_type": "stream",
          "text": [
            "exp(m) - 1  [ 1.71828183  6.3890561  19.08553692]\n"
          ],
          "name": "stdout"
        }
      ]
    },
    {
      "cell_type": "code",
      "metadata": {
        "id": "Wvu0BNizyHET",
        "outputId": "5b66d8a6-5166-4c46-fc9e-b379635d4552",
        "colab": {
          "base_uri": "https://localhost:8080/",
          "height": 0
        }
      },
      "source": [
        "print(\"log(1 + x) =\", np.log1p(x))"
      ],
      "execution_count": 61,
      "outputs": [
        {
          "output_type": "stream",
          "text": [
            "log(1 + x) = [0.         0.69314718 1.09861229 1.38629436]\n"
          ],
          "name": "stdout"
        }
      ]
    },
    {
      "cell_type": "code",
      "metadata": {
        "id": "GDhGGqwMzNcf",
        "outputId": "e0a8a3f3-c24f-4676-9340-7ce7eca805ee",
        "colab": {
          "base_uri": "https://localhost:8080/",
          "height": 0
        }
      },
      "source": [
        "from scipy import special      #more functions\n",
        "m"
      ],
      "execution_count": 62,
      "outputs": [
        {
          "output_type": "execute_result",
          "data": {
            "text/plain": [
              "[1, 2, 3]"
            ]
          },
          "metadata": {
            "tags": []
          },
          "execution_count": 62
        }
      ]
    },
    {
      "cell_type": "code",
      "metadata": {
        "id": "Eijbq9de2NHQ",
        "outputId": "45e54b81-966d-4fa5-aef0-c883772b1ce2",
        "colab": {
          "base_uri": "https://localhost:8080/",
          "height": 0
        }
      },
      "source": [
        "print(\"gamma(m) =\", special.gamma(m))"
      ],
      "execution_count": 63,
      "outputs": [
        {
          "output_type": "stream",
          "text": [
            "gamma(m) = [1. 1. 2.]\n"
          ],
          "name": "stdout"
        }
      ]
    },
    {
      "cell_type": "code",
      "metadata": {
        "id": "cLaj936q2dST",
        "outputId": "fb62fb1c-dd30-4772-8639-952449c82114",
        "colab": {
          "base_uri": "https://localhost:8080/",
          "height": 0
        }
      },
      "source": [
        "#integral of Gaussian)\n",
        "print('erf(m) =', special.erf(m))"
      ],
      "execution_count": 64,
      "outputs": [
        {
          "output_type": "stream",
          "text": [
            "erf(m) = [0.84270079 0.99532227 0.99997791]\n"
          ],
          "name": "stdout"
        }
      ]
    },
    {
      "cell_type": "code",
      "metadata": {
        "id": "PmGHI0J_3KCN",
        "outputId": "54ae84c9-7b76-4560-897c-97a3fcffc4c7",
        "colab": {
          "base_uri": "https://localhost:8080/",
          "height": 0
        }
      },
      "source": [
        "#unfunc\n",
        "q = np.arange(5)\n",
        "o = np.empty(5)\n",
        "np.multiply(q , 10, out = o)\n"
      ],
      "execution_count": 65,
      "outputs": [
        {
          "output_type": "execute_result",
          "data": {
            "text/plain": [
              "array([ 0., 10., 20., 30., 40.])"
            ]
          },
          "metadata": {
            "tags": []
          },
          "execution_count": 65
        }
      ]
    },
    {
      "cell_type": "code",
      "metadata": {
        "id": "I2tPNgRW6g1X",
        "outputId": "4351a5ca-2fc9-465e-f260-858919f9e539",
        "colab": {
          "base_uri": "https://localhost:8080/",
          "height": 0
        }
      },
      "source": [
        "#agregate to reduce it's like +1+2+3+4.... = x\n",
        "q = np.arange(1,6)\n",
        "np.add.reduce(q)\n"
      ],
      "execution_count": 66,
      "outputs": [
        {
          "output_type": "execute_result",
          "data": {
            "text/plain": [
              "15"
            ]
          },
          "metadata": {
            "tags": []
          },
          "execution_count": 66
        }
      ]
    },
    {
      "cell_type": "code",
      "metadata": {
        "id": "Fsah_Eu08LcE",
        "outputId": "445d96d5-38ec-49f2-8312-cdc6216b44aa",
        "colab": {
          "base_uri": "https://localhost:8080/",
          "height": 0
        }
      },
      "source": [
        "#multiply 5x4x3x2x1....\n",
        "np.multiply.reduce(q)"
      ],
      "execution_count": 67,
      "outputs": [
        {
          "output_type": "execute_result",
          "data": {
            "text/plain": [
              "120"
            ]
          },
          "metadata": {
            "tags": []
          },
          "execution_count": 67
        }
      ]
    },
    {
      "cell_type": "code",
      "metadata": {
        "id": "VuPhoSiG9vDU",
        "outputId": "dc9e5cf0-796b-4524-a738-655038858a72",
        "colab": {
          "base_uri": "https://localhost:8080/",
          "height": 0
        }
      },
      "source": [
        "np.add.accumulate(q)"
      ],
      "execution_count": 68,
      "outputs": [
        {
          "output_type": "execute_result",
          "data": {
            "text/plain": [
              "array([ 1,  3,  6, 10, 15])"
            ]
          },
          "metadata": {
            "tags": []
          },
          "execution_count": 68
        }
      ]
    },
    {
      "cell_type": "code",
      "metadata": {
        "id": "wp_1b7NL-Kub",
        "outputId": "afa58ab6-afd8-471a-8021-fac14b855cc0",
        "colab": {
          "base_uri": "https://localhost:8080/",
          "height": 0
        }
      },
      "source": [
        "np.multiply.accumulate(q)"
      ],
      "execution_count": 69,
      "outputs": [
        {
          "output_type": "execute_result",
          "data": {
            "text/plain": [
              "array([  1,   2,   6,  24, 120])"
            ]
          },
          "metadata": {
            "tags": []
          },
          "execution_count": 69
        }
      ]
    },
    {
      "cell_type": "code",
      "metadata": {
        "id": "SySplfzb-Tor",
        "outputId": "62e699a0-300a-4c2a-919d-fe4d4f2c4ce3",
        "colab": {
          "base_uri": "https://localhost:8080/",
          "height": 0
        }
      },
      "source": [
        "q"
      ],
      "execution_count": 70,
      "outputs": [
        {
          "output_type": "execute_result",
          "data": {
            "text/plain": [
              "array([1, 2, 3, 4, 5])"
            ]
          },
          "metadata": {
            "tags": []
          },
          "execution_count": 70
        }
      ]
    },
    {
      "cell_type": "code",
      "metadata": {
        "id": "2XZxaDltBKE3",
        "outputId": "56dc987a-cde7-4c18-bede-c83005d7564f",
        "colab": {
          "base_uri": "https://localhost:8080/",
          "height": 0
        }
      },
      "source": [
        "np.multiply.outer(q, q)"
      ],
      "execution_count": 71,
      "outputs": [
        {
          "output_type": "execute_result",
          "data": {
            "text/plain": [
              "array([[ 1,  2,  3,  4,  5],\n",
              "       [ 2,  4,  6,  8, 10],\n",
              "       [ 3,  6,  9, 12, 15],\n",
              "       [ 4,  8, 12, 16, 20],\n",
              "       [ 5, 10, 15, 20, 25]])"
            ]
          },
          "metadata": {
            "tags": []
          },
          "execution_count": 71
        }
      ]
    },
    {
      "cell_type": "markdown",
      "metadata": {
        "id": "rqqheH-TCUPm"
      },
      "source": [
        "##Summing the Values in an Array"
      ]
    },
    {
      "cell_type": "code",
      "metadata": {
        "id": "JLh0Uo9OCZOr",
        "outputId": "a19748a8-d79d-4d57-93f6-6362f0552a58",
        "colab": {
          "base_uri": "https://localhost:8080/",
          "height": 35
        }
      },
      "source": [
        "L = np.random.random(100)\n",
        "sum(L)"
      ],
      "execution_count": 72,
      "outputs": [
        {
          "output_type": "execute_result",
          "data": {
            "text/plain": [
              "49.03740204671139"
            ]
          },
          "metadata": {
            "tags": []
          },
          "execution_count": 72
        }
      ]
    },
    {
      "cell_type": "code",
      "metadata": {
        "id": "blKTbhwFCr6l",
        "outputId": "50b43bd5-cdb7-48b4-f9dd-059d2ebac6b5",
        "colab": {
          "base_uri": "https://localhost:8080/",
          "height": 35
        }
      },
      "source": [
        "np.sum(L)"
      ],
      "execution_count": 73,
      "outputs": [
        {
          "output_type": "execute_result",
          "data": {
            "text/plain": [
              "49.03740204671142"
            ]
          },
          "metadata": {
            "tags": []
          },
          "execution_count": 73
        }
      ]
    },
    {
      "cell_type": "code",
      "metadata": {
        "id": "mAq5mAHmC-yF",
        "outputId": "a206d5f7-407f-4732-da88-72cc96c990ac",
        "colab": {
          "base_uri": "https://localhost:8080/",
          "height": 54
        }
      },
      "source": [
        "big_array = np.random.rand(1000000)\n",
        "%timeit sum(big_array)\n",
        "%timeit np.sum(big_array) #np.sum is aware of multiple array dimensions"
      ],
      "execution_count": 74,
      "outputs": [
        {
          "output_type": "stream",
          "text": [
            "10 loops, best of 3: 156 ms per loop\n",
            "1000 loops, best of 3: 355 µs per loop\n"
          ],
          "name": "stdout"
        }
      ]
    },
    {
      "cell_type": "code",
      "metadata": {
        "id": "U4qWoUE0DX4z",
        "outputId": "912f9ec4-99e9-4857-a165-b927e37f1f4d",
        "colab": {
          "base_uri": "https://localhost:8080/",
          "height": 35
        }
      },
      "source": [
        "min(big_array)\n"
      ],
      "execution_count": 75,
      "outputs": [
        {
          "output_type": "execute_result",
          "data": {
            "text/plain": [
              "3.983647394179002e-07"
            ]
          },
          "metadata": {
            "tags": []
          },
          "execution_count": 75
        }
      ]
    },
    {
      "cell_type": "code",
      "metadata": {
        "id": "e5ZlQ1hvFMb7",
        "outputId": "a2203954-81f7-4a5d-e260-dcaea65eca2e",
        "colab": {
          "base_uri": "https://localhost:8080/",
          "height": 35
        }
      },
      "source": [
        "max(big_array)"
      ],
      "execution_count": 76,
      "outputs": [
        {
          "output_type": "execute_result",
          "data": {
            "text/plain": [
              "0.9999987114788803"
            ]
          },
          "metadata": {
            "tags": []
          },
          "execution_count": 76
        }
      ]
    },
    {
      "cell_type": "code",
      "metadata": {
        "id": "sJ3blGvqFP_j",
        "outputId": "97125112-e0f6-4197-b326-9fdd3b1e9866",
        "colab": {
          "base_uri": "https://localhost:8080/",
          "height": 54
        }
      },
      "source": [
        "%timeit min(big_array)\n",
        "%timeit np.min(big_array)"
      ],
      "execution_count": 77,
      "outputs": [
        {
          "output_type": "stream",
          "text": [
            "10 loops, best of 3: 94.9 ms per loop\n",
            "1000 loops, best of 3: 390 µs per loop\n"
          ],
          "name": "stdout"
        }
      ]
    },
    {
      "cell_type": "code",
      "metadata": {
        "id": "SVNytA8wFt-j",
        "outputId": "b9d99cd4-e4f6-4dad-f3d4-357e1135bc1e",
        "colab": {
          "base_uri": "https://localhost:8080/",
          "height": 72
        }
      },
      "source": [
        "x =np.random.random((3, 4))\n",
        "print(x)"
      ],
      "execution_count": 78,
      "outputs": [
        {
          "output_type": "stream",
          "text": [
            "[[0.4700744  0.65355811 0.92566669 0.65774987]\n",
            " [0.21084788 0.82891479 0.77101267 0.73482525]\n",
            " [0.82601438 0.75548414 0.66510392 0.45238767]]\n"
          ],
          "name": "stdout"
        }
      ]
    },
    {
      "cell_type": "code",
      "metadata": {
        "id": "xorLbhLidNqs",
        "outputId": "2a7d3509-837d-4341-f4bd-4f2141d3302d",
        "colab": {
          "base_uri": "https://localhost:8080/",
          "height": 35
        }
      },
      "source": [
        "x.sum()"
      ],
      "execution_count": 79,
      "outputs": [
        {
          "output_type": "execute_result",
          "data": {
            "text/plain": [
              "7.951639759805292"
            ]
          },
          "metadata": {
            "tags": []
          },
          "execution_count": 79
        }
      ]
    },
    {
      "cell_type": "code",
      "metadata": {
        "id": "D4hcskaedfcC",
        "outputId": "ec073bdc-bc0f-422b-a60b-d7a5d86d0b12",
        "colab": {
          "base_uri": "https://localhost:8080/",
          "height": 35
        }
      },
      "source": [
        "x.min(axis = 0)"
      ],
      "execution_count": 80,
      "outputs": [
        {
          "output_type": "execute_result",
          "data": {
            "text/plain": [
              "array([0.21084788, 0.65355811, 0.66510392, 0.45238767])"
            ]
          },
          "metadata": {
            "tags": []
          },
          "execution_count": 80
        }
      ]
    },
    {
      "cell_type": "code",
      "metadata": {
        "id": "Vz0awEdUedCP",
        "outputId": "8a746274-e5af-4bfc-dd8e-14b43514abd3",
        "colab": {
          "base_uri": "https://localhost:8080/",
          "height": 35
        }
      },
      "source": [
        "x.max(axis= 1)  #values more near of 1"
      ],
      "execution_count": 81,
      "outputs": [
        {
          "output_type": "execute_result",
          "data": {
            "text/plain": [
              "array([0.92566669, 0.82891479, 0.82601438])"
            ]
          },
          "metadata": {
            "tags": []
          },
          "execution_count": 81
        }
      ]
    },
    {
      "cell_type": "code",
      "metadata": {
        "id": "84uI4-YEemDX",
        "outputId": "bb9ecd21-f10d-4349-8e2c-a5be6fc511a3",
        "colab": {
          "base_uri": "https://localhost:8080/",
          "height": 35
        }
      },
      "source": [
        "x.max(axis = 0) "
      ],
      "execution_count": 82,
      "outputs": [
        {
          "output_type": "execute_result",
          "data": {
            "text/plain": [
              "array([0.82601438, 0.82891479, 0.92566669, 0.73482525])"
            ]
          },
          "metadata": {
            "tags": []
          },
          "execution_count": 82
        }
      ]
    },
    {
      "cell_type": "code",
      "metadata": {
        "id": "ve-A7eZiewT_",
        "outputId": "83995b6a-049a-449c-8844-e00266f16247",
        "colab": {
          "base_uri": "https://localhost:8080/",
          "height": 35
        }
      },
      "source": [
        "!head -4 data/president_heights.csv"
      ],
      "execution_count": 83,
      "outputs": [
        {
          "output_type": "stream",
          "text": [
            "head: cannot open 'data/president_heights.csv' for reading: No such file or directory\n"
          ],
          "name": "stdout"
        }
      ]
    },
    {
      "cell_type": "code",
      "metadata": {
        "id": "6J82nMA_fv9_",
        "outputId": "a3c6348a-5482-4864-9e91-0f72dd11d7de",
        "colab": {
          "base_uri": "https://localhost:8080/",
          "height": 35
        }
      },
      "source": [
        "a = np.array([5, 9 , 12])\n",
        "b = np.array([5, 9 , 12])\n",
        "a+ b"
      ],
      "execution_count": 84,
      "outputs": [
        {
          "output_type": "execute_result",
          "data": {
            "text/plain": [
              "array([10, 18, 24])"
            ]
          },
          "metadata": {
            "tags": []
          },
          "execution_count": 84
        }
      ]
    },
    {
      "cell_type": "code",
      "metadata": {
        "id": "JSUXqxRfhZ6I",
        "outputId": "cf17e4ce-6cd3-4bf9-d2aa-ae503d7efcb7",
        "colab": {
          "base_uri": "https://localhost:8080/",
          "height": 35
        }
      },
      "source": [
        "a + 5"
      ],
      "execution_count": 85,
      "outputs": [
        {
          "output_type": "execute_result",
          "data": {
            "text/plain": [
              "array([10, 14, 17])"
            ]
          },
          "metadata": {
            "tags": []
          },
          "execution_count": 85
        }
      ]
    },
    {
      "cell_type": "code",
      "metadata": {
        "id": "EBYSHHzDi4bB",
        "outputId": "1ba2f0a3-ff0f-465e-b47d-52012b50fbc5",
        "colab": {
          "base_uri": "https://localhost:8080/",
          "height": 90
        }
      },
      "source": [
        "a = np.arange(3)\n",
        "b = np.arange(3)[:, np.newaxis]\n",
        "print(a)\n",
        "print(b)\n"
      ],
      "execution_count": 86,
      "outputs": [
        {
          "output_type": "stream",
          "text": [
            "[0 1 2]\n",
            "[[0]\n",
            " [1]\n",
            " [2]]\n"
          ],
          "name": "stdout"
        }
      ]
    },
    {
      "cell_type": "code",
      "metadata": {
        "id": "8vo8aisgIad8",
        "outputId": "fafadfc9-ed0c-469c-8a23-43f895a4957f",
        "colab": {
          "base_uri": "https://localhost:8080/",
          "height": 72
        }
      },
      "source": [
        "a+b"
      ],
      "execution_count": 87,
      "outputs": [
        {
          "output_type": "execute_result",
          "data": {
            "text/plain": [
              "array([[0, 1, 2],\n",
              "       [1, 2, 3],\n",
              "       [2, 3, 4]])"
            ]
          },
          "metadata": {
            "tags": []
          },
          "execution_count": 87
        }
      ]
    },
    {
      "cell_type": "markdown",
      "metadata": {
        "id": "ZU0g_HRSQS-g"
      },
      "source": [
        "# Rules of broadcasting\n"
      ]
    },
    {
      "cell_type": "code",
      "metadata": {
        "id": "sdLm9WkAIg5w"
      },
      "source": [
        "#explain this function\n",
        "x = np.ones((2, 3))\n",
        "y = np.arange(3)"
      ],
      "execution_count": 88,
      "outputs": []
    },
    {
      "cell_type": "code",
      "metadata": {
        "id": "VMqN95czPG_F",
        "outputId": "149cc131-00af-440c-c38f-0d9bfe50827b",
        "colab": {
          "base_uri": "https://localhost:8080/",
          "height": 54
        }
      },
      "source": [
        "x"
      ],
      "execution_count": 89,
      "outputs": [
        {
          "output_type": "execute_result",
          "data": {
            "text/plain": [
              "array([[1., 1., 1.],\n",
              "       [1., 1., 1.]])"
            ]
          },
          "metadata": {
            "tags": []
          },
          "execution_count": 89
        }
      ]
    },
    {
      "cell_type": "code",
      "metadata": {
        "id": "tkIrQPoEPK55",
        "outputId": "b79d810c-1dd7-4140-b613-716288f65c20",
        "colab": {
          "base_uri": "https://localhost:8080/",
          "height": 35
        }
      },
      "source": [
        "y"
      ],
      "execution_count": 90,
      "outputs": [
        {
          "output_type": "execute_result",
          "data": {
            "text/plain": [
              "array([0, 1, 2])"
            ]
          },
          "metadata": {
            "tags": []
          },
          "execution_count": 90
        }
      ]
    },
    {
      "cell_type": "code",
      "metadata": {
        "id": "S9berpe2PU9Y"
      },
      "source": [
        "# Rule 1: If the two arrays differ in their number of dimensions, the shape of the\n",
        "#one with fewer dimensions is padded with ones on its leading (left) side.\n",
        "#•  Rule 2: If the shape of the two arrays does not match in any dimension, the array\n",
        "#with shape equal to 1 in that dimension is stretched to match the other shape.\n",
        "#•  Rule 3: If in any dimension the sizes disagree and neither is equal to 1, an error is\n",
        "#raised"
      ],
      "execution_count": 91,
      "outputs": []
    },
    {
      "cell_type": "code",
      "metadata": {
        "id": "zR9FTx4eQslU"
      },
      "source": [
        "#Using the rule 1 , so we add 1 on left one\n",
        "#X.shape -> (2, 3)\n",
        "#y.shape -> (1, 3)"
      ],
      "execution_count": 92,
      "outputs": []
    },
    {
      "cell_type": "code",
      "metadata": {
        "id": "sjwXwfseRC4K"
      },
      "source": [
        "#use the rule 2 for stretch this dimension\n",
        "\n",
        "#X.shape - > (2, 3)\n",
        "#y.shape -> (2 , 3)"
      ],
      "execution_count": 93,
      "outputs": []
    },
    {
      "cell_type": "code",
      "metadata": {
        "id": "T-nAWWgiRs06",
        "outputId": "e578327d-87db-41d1-a69f-ffad147a6bd1",
        "colab": {
          "base_uri": "https://localhost:8080/",
          "height": 54
        }
      },
      "source": [
        "#the final shape will be(2,3 )\n",
        "x = np.ones((2, 3))\n",
        "y = np.arange(3)\n",
        "x + y"
      ],
      "execution_count": 94,
      "outputs": [
        {
          "output_type": "execute_result",
          "data": {
            "text/plain": [
              "array([[1., 2., 3.],\n",
              "       [1., 2., 3.]])"
            ]
          },
          "metadata": {
            "tags": []
          },
          "execution_count": 94
        }
      ]
    },
    {
      "cell_type": "code",
      "metadata": {
        "id": "n-Z_4sK1R37i",
        "outputId": "63915b46-019c-4e1f-eb51-7c1b6dcdb680",
        "colab": {
          "base_uri": "https://localhost:8080/",
          "height": 72
        }
      },
      "source": [
        "a = np.arange(3).reshape((3, 1))\n",
        "b = np.arange(3)\n",
        "a + b"
      ],
      "execution_count": 95,
      "outputs": [
        {
          "output_type": "execute_result",
          "data": {
            "text/plain": [
              "array([[0, 1, 2],\n",
              "       [1, 2, 3],\n",
              "       [2, 3, 4]])"
            ]
          },
          "metadata": {
            "tags": []
          },
          "execution_count": 95
        }
      ]
    },
    {
      "cell_type": "code",
      "metadata": {
        "id": "fHZYhumlTRX7"
      },
      "source": [
        "#but if the rows are different, so , we can get error\n",
        "x = np.ones((3, 2))\n",
        "y = np.arange(3)\n"
      ],
      "execution_count": 96,
      "outputs": []
    },
    {
      "cell_type": "code",
      "metadata": {
        "id": "NQKi-zS-UaiR",
        "outputId": "f12d7ee7-ea25-416c-f2eb-b75d275901b0",
        "colab": {
          "base_uri": "https://localhost:8080/",
          "height": 35
        }
      },
      "source": [
        "y[:, np.newaxis].shape\n",
        "\n"
      ],
      "execution_count": 97,
      "outputs": [
        {
          "output_type": "execute_result",
          "data": {
            "text/plain": [
              "(3, 1)"
            ]
          },
          "metadata": {
            "tags": []
          },
          "execution_count": 97
        }
      ]
    },
    {
      "cell_type": "code",
      "metadata": {
        "id": "ZxceXfYaVm_i",
        "outputId": "432d735a-c9fa-4bcf-f8bb-a757b75be733",
        "colab": {
          "base_uri": "https://localhost:8080/",
          "height": 72
        }
      },
      "source": [
        "x + y[:, np.newaxis]"
      ],
      "execution_count": 98,
      "outputs": [
        {
          "output_type": "execute_result",
          "data": {
            "text/plain": [
              "array([[1., 1.],\n",
              "       [2., 2.],\n",
              "       [3., 3.]])"
            ]
          },
          "metadata": {
            "tags": []
          },
          "execution_count": 98
        }
      ]
    },
    {
      "cell_type": "code",
      "metadata": {
        "id": "ZFyOMkO4V08a",
        "outputId": "33485e16-a506-443a-b168-ae2ed89543aa",
        "colab": {
          "base_uri": "https://localhost:8080/",
          "height": 72
        }
      },
      "source": [
        "np.logaddexp(x, y[: , np.newaxis])  "
      ],
      "execution_count": 99,
      "outputs": [
        {
          "output_type": "execute_result",
          "data": {
            "text/plain": [
              "array([[1.31326169, 1.31326169],\n",
              "       [1.69314718, 1.69314718],\n",
              "       [2.31326169, 2.31326169]])"
            ]
          },
          "metadata": {
            "tags": []
          },
          "execution_count": 99
        }
      ]
    },
    {
      "cell_type": "code",
      "metadata": {
        "id": "n4wWbMx8hDNu",
        "outputId": "9e23cb87-ad12-4aa8-c564-7dade5be1014",
        "colab": {
          "base_uri": "https://localhost:8080/",
          "height": 199
        }
      },
      "source": [
        "b = np.random.random((10, 3))\n",
        "b"
      ],
      "execution_count": 100,
      "outputs": [
        {
          "output_type": "execute_result",
          "data": {
            "text/plain": [
              "array([[0.42458112, 0.06927709, 0.04526547],\n",
              "       [0.39446087, 0.89720484, 0.76321665],\n",
              "       [0.92947351, 0.5779228 , 0.29221038],\n",
              "       [0.65525826, 0.01245496, 0.43858226],\n",
              "       [0.14037588, 0.11818725, 0.33153681],\n",
              "       [0.41121242, 0.94670108, 0.38876059],\n",
              "       [0.20182188, 0.57926842, 0.14267472],\n",
              "       [0.82547435, 0.8516924 , 0.86953761],\n",
              "       [0.32148526, 0.70524973, 0.41859834],\n",
              "       [0.59623748, 0.45308079, 0.19345984]])"
            ]
          },
          "metadata": {
            "tags": []
          },
          "execution_count": 100
        }
      ]
    },
    {
      "cell_type": "code",
      "metadata": {
        "id": "oezYC7Z1jlQy",
        "outputId": "354a8da3-85bb-4d65-d008-debab674a26a",
        "colab": {
          "base_uri": "https://localhost:8080/",
          "height": 35
        }
      },
      "source": [
        "bmean = b.mean(0)\n",
        "bmean"
      ],
      "execution_count": 101,
      "outputs": [
        {
          "output_type": "execute_result",
          "data": {
            "text/plain": [
              "array([0.4900381 , 0.52110394, 0.38838427])"
            ]
          },
          "metadata": {
            "tags": []
          },
          "execution_count": 101
        }
      ]
    },
    {
      "cell_type": "code",
      "metadata": {
        "id": "YSXqxhfCj8CS",
        "outputId": "07e09bbe-cb3a-4a15-bc04-e2d2e01be846",
        "colab": {
          "base_uri": "https://localhost:8080/",
          "height": 199
        }
      },
      "source": [
        "b_centered = b - bmean\n",
        "b_centered"
      ],
      "execution_count": 102,
      "outputs": [
        {
          "output_type": "execute_result",
          "data": {
            "text/plain": [
              "array([[-6.54569820e-02, -4.51826846e-01, -3.43118794e-01],\n",
              "       [-9.55772371e-02,  3.76100903e-01,  3.74832378e-01],\n",
              "       [ 4.39435409e-01,  5.68188627e-02, -9.61738907e-02],\n",
              "       [ 1.65220162e-01, -5.08648975e-01,  5.01979964e-02],\n",
              "       [-3.49662227e-01, -4.02916684e-01, -5.68474579e-02],\n",
              "       [-7.88256854e-02,  4.25597140e-01,  3.76327047e-04],\n",
              "       [-2.88216219e-01,  5.81644872e-02, -2.45709549e-01],\n",
              "       [ 3.35436249e-01,  3.30588465e-01,  4.81153345e-01],\n",
              "       [-1.68552846e-01,  1.84145792e-01,  3.02140705e-02],\n",
              "       [ 1.06199376e-01, -6.80231453e-02, -1.94924425e-01]])"
            ]
          },
          "metadata": {
            "tags": []
          },
          "execution_count": 102
        }
      ]
    },
    {
      "cell_type": "code",
      "metadata": {
        "id": "fMVi2EPQlRFC",
        "outputId": "f7f1538b-77ed-48da-cc65-f24ed2183dec",
        "colab": {
          "base_uri": "https://localhost:8080/",
          "height": 35
        }
      },
      "source": [
        "b_centered.mean(0)"
      ],
      "execution_count": 103,
      "outputs": [
        {
          "output_type": "execute_result",
          "data": {
            "text/plain": [
              "array([2.22044605e-17, 2.22044605e-17, 4.44089210e-17])"
            ]
          },
          "metadata": {
            "tags": []
          },
          "execution_count": 103
        }
      ]
    },
    {
      "cell_type": "code",
      "metadata": {
        "id": "ljigel8tlpX7",
        "outputId": "61bc0d51-c60c-440d-b788-86414e3c2b9f",
        "colab": {
          "base_uri": "https://localhost:8080/",
          "height": 254
        }
      },
      "source": [
        "#Plotting a two-dimensional function   -  images based on twodimensional function\n",
        "# x and y have 50 steps from 0 to 5\n",
        "\n",
        "x = np.linspace(0, 5, 50)\n",
        "y = np.linspace(0, 5, 50)[:, np.newaxis]\n",
        "z = np.sin(x)**10 + np.cos(10 + y*x )*np.cos(x)\n",
        "z\n",
        "\n"
      ],
      "execution_count": 104,
      "outputs": [
        {
          "output_type": "execute_result",
          "data": {
            "text/plain": [
              "array([[-0.83907153, -0.83470697, -0.8216586 , ...,  0.8956708 ,\n",
              "         0.68617261,  0.41940746],\n",
              "       [-0.83907153, -0.82902677, -0.8103873 , ...,  0.92522407,\n",
              "         0.75321348,  0.52508175],\n",
              "       [-0.83907153, -0.82325668, -0.79876457, ...,  0.96427357,\n",
              "         0.84172689,  0.66446403],\n",
              "       ...,\n",
              "       [-0.83907153, -0.48233077, -0.01646558, ...,  0.96449925,\n",
              "         0.75196531,  0.41982581],\n",
              "       [-0.83907153, -0.47324558,  0.00392612, ...,  0.92542163,\n",
              "         0.68540362,  0.37440839],\n",
              "       [-0.83907153, -0.46410908,  0.02431613, ...,  0.89579384,\n",
              "         0.65690314,  0.40107702]])"
            ]
          },
          "metadata": {
            "tags": []
          },
          "execution_count": 104
        }
      ]
    },
    {
      "cell_type": "code",
      "metadata": {
        "id": "KXSgnizXm5-b",
        "outputId": "f40acf26-f6d9-4611-bf08-848460616bcc",
        "colab": {
          "base_uri": "https://localhost:8080/",
          "height": 269
        }
      },
      "source": [
        "  %matplotlib inline\n",
        "  import matplotlib.pyplot as plt\n",
        "\n",
        "  plt.imshow(z, origin = 'lower', extent = [0, 5 , 0 , 5],\n",
        "             cmap = 'viridis')\n",
        "  plt.colorbar();"
      ],
      "execution_count": 105,
      "outputs": [
        {
          "output_type": "display_data",
          "data": {
            "image/png": "[encoded data removed]",
            "text/plain": [
              "<Figure size 432x288 with 2 Axes>"
            ]
          },
          "metadata": {
            "tags": [],
            "needs_background": "light"
          }
        }
      ]
    },
    {
      "cell_type": "code",
      "metadata": {
        "id": "kldq4Pc9pWwt",
        "outputId": "4a1314dc-cd69-4b17-a54c-28e8849ac1d4",
        "colab": {
          "base_uri": "https://localhost:8080/",
          "height": 35
        }
      },
      "source": [
        "x = np.array([1, 2, 3, 5, 6, 7, 9, ])\n",
        "x>3"
      ],
      "execution_count": 106,
      "outputs": [
        {
          "output_type": "execute_result",
          "data": {
            "text/plain": [
              "array([False, False, False,  True,  True,  True,  True])"
            ]
          },
          "metadata": {
            "tags": []
          },
          "execution_count": 106
        }
      ]
    },
    {
      "cell_type": "code",
      "metadata": {
        "id": "6XPFf6aDZv4F",
        "outputId": "86a82443-bd4e-4b9f-dca4-7da253e7e636",
        "colab": {
          "base_uri": "https://localhost:8080/",
          "height": 35
        }
      },
      "source": [
        "x<3"
      ],
      "execution_count": 107,
      "outputs": [
        {
          "output_type": "execute_result",
          "data": {
            "text/plain": [
              "array([ True,  True, False, False, False, False, False])"
            ]
          },
          "metadata": {
            "tags": []
          },
          "execution_count": 107
        }
      ]
    },
    {
      "cell_type": "code",
      "metadata": {
        "id": "gHE64kcYZz4z",
        "outputId": "aafd2b15-3cd4-452a-8389-bb8d385cb78e",
        "colab": {
          "base_uri": "https://localhost:8080/",
          "height": 35
        }
      },
      "source": [
        "x != 3"
      ],
      "execution_count": 108,
      "outputs": [
        {
          "output_type": "execute_result",
          "data": {
            "text/plain": [
              "array([ True,  True, False,  True,  True,  True,  True])"
            ]
          },
          "metadata": {
            "tags": []
          },
          "execution_count": 108
        }
      ]
    },
    {
      "cell_type": "code",
      "metadata": {
        "id": "M0EoPmqlZ6-6",
        "outputId": "dd0a344e-a2de-411f-e571-9c523b9d3a29",
        "colab": {
          "base_uri": "https://localhost:8080/",
          "height": 35
        }
      },
      "source": [
        "x == 3"
      ],
      "execution_count": 109,
      "outputs": [
        {
          "output_type": "execute_result",
          "data": {
            "text/plain": [
              "array([False, False,  True, False, False, False, False])"
            ]
          },
          "metadata": {
            "tags": []
          },
          "execution_count": 109
        }
      ]
    },
    {
      "cell_type": "code",
      "metadata": {
        "id": "QS73fOEcdFGE",
        "outputId": "8681cf18-86c5-4eca-b9de-8d96b422ccba",
        "colab": {
          "base_uri": "https://localhost:8080/",
          "height": 72
        }
      },
      "source": [
        "rng = np.random.RandomState(0)\n",
        "x = rng.randint(10, size = (3, 5))\n",
        "x"
      ],
      "execution_count": 110,
      "outputs": [
        {
          "output_type": "execute_result",
          "data": {
            "text/plain": [
              "array([[5, 0, 3, 3, 7],\n",
              "       [9, 3, 5, 2, 4],\n",
              "       [7, 6, 8, 8, 1]])"
            ]
          },
          "metadata": {
            "tags": []
          },
          "execution_count": 110
        }
      ]
    },
    {
      "cell_type": "code",
      "metadata": {
        "id": "u0k_NAchhTHd",
        "outputId": "f47a7c35-dd36-476c-c8fb-f97f93c36f16",
        "colab": {
          "base_uri": "https://localhost:8080/",
          "height": 72
        }
      },
      "source": [
        "x > 5"
      ],
      "execution_count": 111,
      "outputs": [
        {
          "output_type": "execute_result",
          "data": {
            "text/plain": [
              "array([[False, False, False, False,  True],\n",
              "       [ True, False, False, False, False],\n",
              "       [ True,  True,  True,  True, False]])"
            ]
          },
          "metadata": {
            "tags": []
          },
          "execution_count": 111
        }
      ]
    },
    {
      "cell_type": "code",
      "metadata": {
        "id": "hEfcgbtbhk8b",
        "outputId": "2368a938-9400-4a10-f50e-80ea5914eb7a",
        "colab": {
          "base_uri": "https://localhost:8080/",
          "height": 35
        }
      },
      "source": [
        "# how many values less than 6? and more than 6 ? \n",
        "np.count_nonzero(x > 6)"
      ],
      "execution_count": 112,
      "outputs": [
        {
          "output_type": "execute_result",
          "data": {
            "text/plain": [
              "5"
            ]
          },
          "metadata": {
            "tags": []
          },
          "execution_count": 112
        }
      ]
    },
    {
      "cell_type": "code",
      "metadata": {
        "id": "XXcGe3ihiRM6",
        "outputId": "3f29b1af-2b17-4e59-966b-fdb73e1b33e1",
        "colab": {
          "base_uri": "https://localhost:8080/",
          "height": 35
        }
      },
      "source": [
        "np.count_nonzero(x < 6 )"
      ],
      "execution_count": 113,
      "outputs": [
        {
          "output_type": "execute_result",
          "data": {
            "text/plain": [
              "9"
            ]
          },
          "metadata": {
            "tags": []
          },
          "execution_count": 113
        }
      ]
    },
    {
      "cell_type": "code",
      "metadata": {
        "id": "D0NP5PkJiZfa",
        "outputId": "8dbf2720-b618-4ba8-8c85-1ee97a4c251c",
        "colab": {
          "base_uri": "https://localhost:8080/",
          "height": 35
        }
      },
      "source": [
        "# how many values less than 6 in each row?\n",
        "np.sum( x < 6, axis = 1)"
      ],
      "execution_count": 114,
      "outputs": [
        {
          "output_type": "execute_result",
          "data": {
            "text/plain": [
              "array([4, 4, 1])"
            ]
          },
          "metadata": {
            "tags": []
          },
          "execution_count": 114
        }
      ]
    },
    {
      "cell_type": "code",
      "metadata": {
        "id": "7_UJClLxiuYj",
        "outputId": "8996a542-9632-40ae-bcd8-8665edcf3d9d",
        "colab": {
          "base_uri": "https://localhost:8080/",
          "height": 72
        }
      },
      "source": [
        "x < 5"
      ],
      "execution_count": 115,
      "outputs": [
        {
          "output_type": "execute_result",
          "data": {
            "text/plain": [
              "array([[False,  True,  True,  True, False],\n",
              "       [False,  True, False,  True,  True],\n",
              "       [False, False, False, False,  True]])"
            ]
          },
          "metadata": {
            "tags": []
          },
          "execution_count": 115
        }
      ]
    },
    {
      "cell_type": "code",
      "metadata": {
        "id": "B9rbJCKIjuAq",
        "outputId": "2cadcafe-ae38-48b9-f798-844229eb6e70",
        "colab": {
          "base_uri": "https://localhost:8080/",
          "height": 35
        }
      },
      "source": [
        "x[x < 5]"
      ],
      "execution_count": 116,
      "outputs": [
        {
          "output_type": "execute_result",
          "data": {
            "text/plain": [
              "array([0, 3, 3, 3, 2, 4, 1])"
            ]
          },
          "metadata": {
            "tags": []
          },
          "execution_count": 116
        }
      ]
    },
    {
      "cell_type": "code",
      "metadata": {
        "id": "L0F2IQO8qIfL",
        "outputId": "e98724d8-0ac5-43d7-bdfa-58aa36e94232",
        "colab": {
          "base_uri": "https://localhost:8080/",
          "height": 35
        }
      },
      "source": [
        "#When you use and or or, it’s equivalent to asking Python to treat the object as a singleBoolean entity. In Python, all nonzero integers will evaluate as True.\n",
        "bool(20), bool(0)"
      ],
      "execution_count": 117,
      "outputs": [
        {
          "output_type": "execute_result",
          "data": {
            "text/plain": [
              "(True, False)"
            ]
          },
          "metadata": {
            "tags": []
          },
          "execution_count": 117
        }
      ]
    },
    {
      "cell_type": "code",
      "metadata": {
        "id": "MzXzxKaDqlbT",
        "outputId": "248a43d1-7ef5-4a0e-fdeb-12bfd92939b7",
        "colab": {
          "base_uri": "https://localhost:8080/",
          "height": 35
        }
      },
      "source": [
        "A = np.array([1, 0, 1 , 0 , 1, 0], dtype = bool)\n",
        "B = np.array([1, 1, 1, 0, 1, 1], dtype = bool)\n",
        "A|B"
      ],
      "execution_count": 118,
      "outputs": [
        {
          "output_type": "execute_result",
          "data": {
            "text/plain": [
              "array([ True,  True,  True, False,  True,  True])"
            ]
          },
          "metadata": {
            "tags": []
          },
          "execution_count": 118
        }
      ]
    },
    {
      "cell_type": "code",
      "metadata": {
        "id": "HVaLlNPXymcr",
        "outputId": "77a3db3e-0b41-44e3-9f4e-381cf7725a68",
        "colab": {
          "base_uri": "https://localhost:8080/",
          "height": 54
        }
      },
      "source": [
        "x = np.arange(10)\n",
        "(x>5) & (x<5)"
      ],
      "execution_count": 119,
      "outputs": [
        {
          "output_type": "execute_result",
          "data": {
            "text/plain": [
              "array([False, False, False, False, False, False, False, False, False,\n",
              "       False])"
            ]
          },
          "metadata": {
            "tags": []
          },
          "execution_count": 119
        }
      ]
    },
    {
      "cell_type": "markdown",
      "metadata": {
        "id": "hnTxlN7p0Q4N"
      },
      "source": [
        "# Fancy Indexing"
      ]
    },
    {
      "cell_type": "code",
      "metadata": {
        "id": "0S3nKQKky9s7",
        "outputId": "b4905707-34ba-4199-b43d-e952a3291524",
        "colab": {
          "base_uri": "https://localhost:8080/",
          "height": 35
        }
      },
      "source": [
        "import numpy as np\n",
        "rand = np.random.RandomState(12)\n",
        "\n",
        "x = rand.randint(100, size = 10)\n",
        "print(x)"
      ],
      "execution_count": 120,
      "outputs": [
        {
          "output_type": "stream",
          "text": [
            "[75 27  6  2  3 67 76 48 22 49]\n"
          ],
          "name": "stdout"
        }
      ]
    },
    {
      "cell_type": "code",
      "metadata": {
        "id": "gConditQ1ndd",
        "outputId": "fcf8650c-3037-418b-ad92-9d8b99b7ddf6",
        "colab": {
          "base_uri": "https://localhost:8080/",
          "height": 35
        }
      },
      "source": [
        "ind = [2, 5, 9]\n",
        "x[ind]"
      ],
      "execution_count": 121,
      "outputs": [
        {
          "output_type": "execute_result",
          "data": {
            "text/plain": [
              "array([ 6, 67, 49])"
            ]
          },
          "metadata": {
            "tags": []
          },
          "execution_count": 121
        }
      ]
    },
    {
      "cell_type": "code",
      "metadata": {
        "id": "r3qMehpc2TFT",
        "outputId": "577f951d-8303-4a0b-accf-3b9f3c1ac676",
        "colab": {
          "base_uri": "https://localhost:8080/",
          "height": 54
        }
      },
      "source": [
        "#array being indexed\n",
        "ind = np.array([[0, 8],\n",
        "                [4, 3]])\n",
        "x[ind]"
      ],
      "execution_count": 122,
      "outputs": [
        {
          "output_type": "execute_result",
          "data": {
            "text/plain": [
              "array([[75, 22],\n",
              "       [ 3,  2]])"
            ]
          },
          "metadata": {
            "tags": []
          },
          "execution_count": 122
        }
      ]
    },
    {
      "cell_type": "code",
      "metadata": {
        "id": "4rw2ZUR_20zr",
        "outputId": "7d4c3429-11b5-4f8d-bd15-816ed5e50881",
        "colab": {
          "base_uri": "https://localhost:8080/",
          "height": 72
        }
      },
      "source": [
        "x = np.arange(12).reshape((3,4))\n",
        "x"
      ],
      "execution_count": 123,
      "outputs": [
        {
          "output_type": "execute_result",
          "data": {
            "text/plain": [
              "array([[ 0,  1,  2,  3],\n",
              "       [ 4,  5,  6,  7],\n",
              "       [ 8,  9, 10, 11]])"
            ]
          },
          "metadata": {
            "tags": []
          },
          "execution_count": 123
        }
      ]
    },
    {
      "cell_type": "code",
      "metadata": {
        "id": "r9xGY9_2452D",
        "outputId": "98f4395c-32e9-40e3-a5cb-17cb8005223e",
        "colab": {
          "base_uri": "https://localhost:8080/",
          "height": 35
        }
      },
      "source": [
        "row = np.array([0, 1, 2])\n",
        "col = np.array([2, 1, 3])\n",
        "x[row, col]"
      ],
      "execution_count": 124,
      "outputs": [
        {
          "output_type": "execute_result",
          "data": {
            "text/plain": [
              "array([ 2,  5, 11])"
            ]
          },
          "metadata": {
            "tags": []
          },
          "execution_count": 124
        }
      ]
    },
    {
      "cell_type": "code",
      "metadata": {
        "id": "4X2W94JT5d5q",
        "outputId": "4946e90a-6130-4327-d6d2-4fc1bd6aa4ec",
        "colab": {
          "base_uri": "https://localhost:8080/",
          "height": 72
        }
      },
      "source": [
        "x[row[: , np.newaxis],col]\n"
      ],
      "execution_count": 125,
      "outputs": [
        {
          "output_type": "execute_result",
          "data": {
            "text/plain": [
              "array([[ 2,  1,  3],\n",
              "       [ 6,  5,  7],\n",
              "       [10,  9, 11]])"
            ]
          },
          "metadata": {
            "tags": []
          },
          "execution_count": 125
        }
      ]
    },
    {
      "cell_type": "code",
      "metadata": {
        "id": "Ly74oWKl6h-7",
        "outputId": "4615e2c6-3de0-48ff-d987-94c05d756aff",
        "colab": {
          "base_uri": "https://localhost:8080/",
          "height": 72
        }
      },
      "source": [
        "row[:, np.newaxis]*col"
      ],
      "execution_count": 126,
      "outputs": [
        {
          "output_type": "execute_result",
          "data": {
            "text/plain": [
              "array([[0, 0, 0],\n",
              "       [2, 1, 3],\n",
              "       [4, 2, 6]])"
            ]
          },
          "metadata": {
            "tags": []
          },
          "execution_count": 126
        }
      ]
    },
    {
      "cell_type": "code",
      "metadata": {
        "id": "8O4nugy57J_8",
        "outputId": "b36a1ace-e4c3-4bc9-9478-c989507f34cf",
        "colab": {
          "base_uri": "https://localhost:8080/",
          "height": 72
        }
      },
      "source": [
        "x"
      ],
      "execution_count": 127,
      "outputs": [
        {
          "output_type": "execute_result",
          "data": {
            "text/plain": [
              "array([[ 0,  1,  2,  3],\n",
              "       [ 4,  5,  6,  7],\n",
              "       [ 8,  9, 10, 11]])"
            ]
          },
          "metadata": {
            "tags": []
          },
          "execution_count": 127
        }
      ]
    },
    {
      "cell_type": "code",
      "metadata": {
        "id": "2xhVpZQBIGS8",
        "outputId": "4e83878d-2805-46d6-e498-e74c9bfacb9b",
        "colab": {
          "base_uri": "https://localhost:8080/",
          "height": 35
        }
      },
      "source": [
        "x[2, [2, 0, 1]]"
      ],
      "execution_count": 128,
      "outputs": [
        {
          "output_type": "execute_result",
          "data": {
            "text/plain": [
              "array([10,  8,  9])"
            ]
          },
          "metadata": {
            "tags": []
          },
          "execution_count": 128
        }
      ]
    },
    {
      "cell_type": "code",
      "metadata": {
        "id": "M_ZQkdn-Isl3",
        "outputId": "39543e42-5c0c-4ff5-fd24-44b4d543dcf9",
        "colab": {
          "base_uri": "https://localhost:8080/",
          "height": 54
        }
      },
      "source": [
        "x[1:, [2, 0 , 1]]"
      ],
      "execution_count": 129,
      "outputs": [
        {
          "output_type": "execute_result",
          "data": {
            "text/plain": [
              "array([[ 6,  4,  5],\n",
              "       [10,  8,  9]])"
            ]
          },
          "metadata": {
            "tags": []
          },
          "execution_count": 129
        }
      ]
    },
    {
      "cell_type": "code",
      "metadata": {
        "id": "ibg9WxHjI7mx",
        "outputId": "f3d97cbc-e1a4-4570-cfaf-3d706a874f6f",
        "colab": {
          "base_uri": "https://localhost:8080/",
          "height": 35
        }
      },
      "source": [
        "x[:1, [2, 0 , 1]]"
      ],
      "execution_count": 130,
      "outputs": [
        {
          "output_type": "execute_result",
          "data": {
            "text/plain": [
              "array([[2, 0, 1]])"
            ]
          },
          "metadata": {
            "tags": []
          },
          "execution_count": 130
        }
      ]
    },
    {
      "cell_type": "markdown",
      "metadata": {
        "id": "ILr8WTNHJtqS"
      },
      "source": [
        "## Random Points"
      ]
    },
    {
      "cell_type": "code",
      "metadata": {
        "id": "9rLPA-ybJvY_",
        "outputId": "bec0662d-ff82-424e-8f4a-a058a88f1b54",
        "colab": {
          "base_uri": "https://localhost:8080/",
          "height": 35
        }
      },
      "source": [
        "import numpy as np\n",
        "mean = [0, 0]\n",
        "cov = [[1,2],\n",
        "       [2, 5]]\n",
        "x = rand.multivariate_normal(mean, cov, 100)\n",
        "x.shape"
      ],
      "execution_count": 131,
      "outputs": [
        {
          "output_type": "execute_result",
          "data": {
            "text/plain": [
              "(100, 2)"
            ]
          },
          "metadata": {
            "tags": []
          },
          "execution_count": 131
        }
      ]
    },
    {
      "cell_type": "code",
      "metadata": {
        "id": "XjL1hqq-JH6H"
      },
      "source": [
        "%matplotlib inline\n",
        "import matplotlib.pyplot as plt\n",
        "import seaborn; seaborn.set()"
      ],
      "execution_count": 132,
      "outputs": []
    },
    {
      "cell_type": "code",
      "metadata": {
        "id": "hZrtiUjfK1LQ",
        "outputId": "a8c9faac-2a0a-41d1-ba94-4c8e9530198a",
        "colab": {
          "base_uri": "https://localhost:8080/",
          "height": 268
        }
      },
      "source": [
        "plt.scatter(x[:, 0], x[:, 1]);"
      ],
      "execution_count": 133,
      "outputs": [
        {
          "output_type": "display_data",
          "data": {
            "image/png": "[encoded data removed]",
            "text/plain": [
              "<Figure size 432x288 with 1 Axes>"
            ]
          },
          "metadata": {
            "tags": []
          }
        }
      ]
    },
    {
      "cell_type": "code",
      "metadata": {
        "id": "TaeeHqWuLDBg",
        "outputId": "48491ac1-9384-49e2-a063-24d650ddd0d2",
        "colab": {
          "base_uri": "https://localhost:8080/",
          "height": 54
        }
      },
      "source": [
        "#choose 20 ramdons numbers\n",
        "indices = np.random.choice(x.shape[0], 20, replace= False)\n",
        "indices"
      ],
      "execution_count": 134,
      "outputs": [
        {
          "output_type": "execute_result",
          "data": {
            "text/plain": [
              "array([80, 40,  1, 11,  3, 61,  8, 38, 89, 15, 23, 27, 19, 12, 99, 37, 78,\n",
              "       59, 31, 92])"
            ]
          },
          "metadata": {
            "tags": []
          },
          "execution_count": 134
        }
      ]
    },
    {
      "cell_type": "code",
      "metadata": {
        "id": "TqpyRyR7L-Ev",
        "outputId": "e99ee609-1a0e-43ef-c39d-0b7edea66374",
        "colab": {
          "base_uri": "https://localhost:8080/",
          "height": 35
        }
      },
      "source": [
        "selection = x[indices]\n",
        "selection.shape"
      ],
      "execution_count": 135,
      "outputs": [
        {
          "output_type": "execute_result",
          "data": {
            "text/plain": [
              "(20, 2)"
            ]
          },
          "metadata": {
            "tags": []
          },
          "execution_count": 135
        }
      ]
    },
    {
      "cell_type": "code",
      "metadata": {
        "id": "bSDLEghuMXMw",
        "outputId": "b04bef0f-8330-40b4-b605-5e57ec855cc3",
        "colab": {
          "base_uri": "https://localhost:8080/",
          "height": 268
        }
      },
      "source": [
        "plt.scatter(x[:, 0 ], x[:, 1], alpha=0.3,)\n",
        "plt.scatter(selection[:, 0], selection[:, 1],\n",
        "            facecolor = 'none', s= 200,);\n",
        "            \n"
      ],
      "execution_count": 136,
      "outputs": [
        {
          "output_type": "display_data",
          "data": {
            "image/png": "[encoded data removed]",
            "text/plain": [
              "<Figure size 432x288 with 1 Axes>"
            ]
          },
          "metadata": {
            "tags": []
          }
        }
      ]
    },
    {
      "cell_type": "code",
      "metadata": {
        "id": "u3zHgp-1M8KD",
        "outputId": "324d033e-3a31-4489-e21e-308da7543ffe",
        "colab": {
          "base_uri": "https://localhost:8080/",
          "height": 35
        }
      },
      "source": [
        "#Modifying Values with Fancy Indexing\n",
        "\n",
        "x = np.arange(10)\n",
        "i = np.array([2, 1, 8, 4])\n",
        "x[i] = 99\n",
        "print(x)\n"
      ],
      "execution_count": 140,
      "outputs": [
        {
          "output_type": "stream",
          "text": [
            "[ 0 99 99  3 99  5  6  7 99  9]\n"
          ],
          "name": "stdout"
        }
      ]
    },
    {
      "cell_type": "code",
      "metadata": {
        "id": "c81VGz-fQsTo",
        "outputId": "5ad4eed7-6735-4616-bf08-5eda567185c0",
        "colab": {
          "base_uri": "https://localhost:8080/",
          "height": 35
        }
      },
      "source": [
        "x[i] -= 40\n",
        "print(x)"
      ],
      "execution_count": 142,
      "outputs": [
        {
          "output_type": "stream",
          "text": [
            "[ 0 58 58  3 58  5  6  7 58  9]\n"
          ],
          "name": "stdout"
        }
      ]
    },
    {
      "cell_type": "code",
      "metadata": {
        "id": "FsOUIcHeRSgD"
      },
      "source": [
        "np.random.seed(42)\n",
        "x = np.random.randn(100)\n"
      ],
      "execution_count": 143,
      "outputs": []
    },
    {
      "cell_type": "code",
      "metadata": {
        "id": "3TF67i95RLYl"
      },
      "source": [
        "\n",
        "# compute a histogram by hand\n",
        "bins = np.linspace(-5, 5, 20)\n",
        "counts = np.zeros_like(bins)"
      ],
      "execution_count": 144,
      "outputs": []
    },
    {
      "cell_type": "code",
      "metadata": {
        "id": "TFo3wto2RZ0a"
      },
      "source": [
        "# find the appropriate bin for each x\n",
        "i = np.searchsorted(bins, x)"
      ],
      "execution_count": 145,
      "outputs": []
    },
    {
      "cell_type": "code",
      "metadata": {
        "id": "MvJDNreaRc9D",
        "outputId": "5a5b2fa2-cf8a-4075-c0fc-dfdad95ceb76",
        "colab": {
          "base_uri": "https://localhost:8080/",
          "height": 325
        }
      },
      "source": [
        "np.add.at(counts, i, 1)\n",
        "plt.plot(bins, counts, linestyle = 'steps');"
      ],
      "execution_count": 147,
      "outputs": [
        {
          "output_type": "stream",
          "text": [
            "/usr/local/lib/python3.6/dist-packages/ipykernel_launcher.py:2: MatplotlibDeprecationWarning: Passing the drawstyle with the linestyle as a single string is deprecated since Matplotlib 3.1 and support will be removed in 3.3; please pass the drawstyle separately using the drawstyle keyword argument to Line2D or set_drawstyle() method (or ds/set_ds()).\n",
            "  \n"
          ],
          "name": "stderr"
        },
        {
          "output_type": "display_data",
          "data": {
            "image/png": "[encoded data removed]",
            "text/plain": [
              "<Figure size 432x288 with 1 Axes>"
            ]
          },
          "metadata": {
            "tags": []
          }
        }
      ]
    },
    {
      "cell_type": "code",
      "metadata": {
        "id": "wi8VTimDSAWk",
        "outputId": "db63bd24-6c04-42bb-bddf-79d93bb45d64",
        "colab": {
          "base_uri": "https://localhost:8080/",
          "height": 268
        }
      },
      "source": [
        "plt.hist(x, bins, histtype = 'step');  # BETTER WAY"
      ],
      "execution_count": 149,
      "outputs": [
        {
          "output_type": "display_data",
          "data": {
            "image/png": "[encoded data removed]",
            "text/plain": [
              "<Figure size 432x288 with 1 Axes>"
            ]
          },
          "metadata": {
            "tags": []
          }
        }
      ]
    },
    {
      "cell_type": "markdown",
      "metadata": {
        "id": "m0Pt8QUtVocb"
      },
      "source": [
        "## Sorting Arrays"
      ]
    },
    {
      "cell_type": "code",
      "metadata": {
        "id": "joRlP1etSl5M"
      },
      "source": [
        "import numpy as np\n",
        "def selection_sort(x):\n",
        "  for i in range(len(x)):\n",
        "    swap = i + np.argmin(x[i:])\n",
        "    (x[i], x[swap]) = (x[swap], x[i])\n",
        "  return x\n",
        "\n"
      ],
      "execution_count": 2,
      "outputs": []
    },
    {
      "cell_type": "code",
      "metadata": {
        "id": "Pytba_l_Wmdd",
        "outputId": "501206a0-553b-4a32-b905-19b4a7a109b9",
        "colab": {
          "base_uri": "https://localhost:8080/",
          "height": 35
        }
      },
      "source": [
        "x = np.array([2, 1, 4, 3, 5])\n",
        "selection_sort(x)\n"
      ],
      "execution_count": 3,
      "outputs": [
        {
          "output_type": "execute_result",
          "data": {
            "text/plain": [
              "array([1, 2, 3, 4, 5])"
            ]
          },
          "metadata": {
            "tags": []
          },
          "execution_count": 3
        }
      ]
    },
    {
      "cell_type": "code",
      "metadata": {
        "id": "RgQH2JUSbWPk",
        "outputId": "05cf1032-fff5-4482-edc2-01c9d3999b49",
        "colab": {
          "base_uri": "https://localhost:8080/",
          "height": 35
        }
      },
      "source": [
        "x.sort()\n",
        "print(x)"
      ],
      "execution_count": 4,
      "outputs": [
        {
          "output_type": "stream",
          "text": [
            "[1 2 3 4 5]\n"
          ],
          "name": "stdout"
        }
      ]
    },
    {
      "cell_type": "code",
      "metadata": {
        "id": "lriHwhaLuGlQ",
        "outputId": "18da29e7-9268-4f6e-903b-c766dbf2be2c",
        "colab": {
          "base_uri": "https://localhost:8080/",
          "height": 35
        }
      },
      "source": [
        "x = np.array([1, 3, 4, 5, 2])\n",
        "i = np.argsort(x)\n",
        "print(i)"
      ],
      "execution_count": 5,
      "outputs": [
        {
          "output_type": "stream",
          "text": [
            "[0 4 1 2 3]\n"
          ],
          "name": "stdout"
        }
      ]
    },
    {
      "cell_type": "code",
      "metadata": {
        "id": "-DL_m2v0uv1e",
        "outputId": "bf0d2c5e-3f74-48b6-a884-865dde65be9a",
        "colab": {
          "base_uri": "https://localhost:8080/",
          "height": 35
        }
      },
      "source": [
        "x[i]"
      ],
      "execution_count": 7,
      "outputs": [
        {
          "output_type": "execute_result",
          "data": {
            "text/plain": [
              "array([1, 2, 3, 4, 5])"
            ]
          },
          "metadata": {
            "tags": []
          },
          "execution_count": 7
        }
      ]
    },
    {
      "cell_type": "code",
      "metadata": {
        "id": "rNLMXRg8u2GG",
        "outputId": "fe0c16e0-ce41-4280-833c-7bdead3965df",
        "colab": {
          "base_uri": "https://localhost:8080/",
          "height": 90
        }
      },
      "source": [
        "rand = np.random.RandomState(42)\n",
        "x = rand.randint(0, 10, (4, 6))\n",
        "print(x)"
      ],
      "execution_count": 8,
      "outputs": [
        {
          "output_type": "stream",
          "text": [
            "[[6 3 7 4 6 9]\n",
            " [2 6 7 4 3 7]\n",
            " [7 2 5 4 1 7]\n",
            " [5 1 4 0 9 5]]\n"
          ],
          "name": "stdout"
        }
      ]
    },
    {
      "cell_type": "code",
      "metadata": {
        "id": "jGJBtR6Yv2IV",
        "outputId": "b4761624-c6f6-4ec1-be69-df52aa5aceaa",
        "colab": {
          "base_uri": "https://localhost:8080/",
          "height": 90
        }
      },
      "source": [
        "np.sort(x, axis = 0)"
      ],
      "execution_count": 9,
      "outputs": [
        {
          "output_type": "execute_result",
          "data": {
            "text/plain": [
              "array([[2, 1, 4, 0, 1, 5],\n",
              "       [5, 2, 5, 4, 3, 7],\n",
              "       [6, 3, 7, 4, 6, 7],\n",
              "       [7, 6, 7, 4, 9, 9]])"
            ]
          },
          "metadata": {
            "tags": []
          },
          "execution_count": 9
        }
      ]
    },
    {
      "cell_type": "code",
      "metadata": {
        "id": "iv6cQqMfwie2",
        "outputId": "c18d491e-4168-4080-b8cb-2e4c1adbdf82",
        "colab": {
          "base_uri": "https://localhost:8080/",
          "height": 90
        }
      },
      "source": [
        "np.sort(x, axis = 1)"
      ],
      "execution_count": 10,
      "outputs": [
        {
          "output_type": "execute_result",
          "data": {
            "text/plain": [
              "array([[3, 4, 6, 6, 7, 9],\n",
              "       [2, 3, 4, 6, 7, 7],\n",
              "       [1, 2, 4, 5, 7, 7],\n",
              "       [0, 1, 4, 5, 5, 9]])"
            ]
          },
          "metadata": {
            "tags": []
          },
          "execution_count": 10
        }
      ]
    },
    {
      "cell_type": "code",
      "metadata": {
        "id": "fuPZRaaDxI3W"
      },
      "source": [
        "x = rand.rand(10, 2)\n"
      ],
      "execution_count": 11,
      "outputs": []
    },
    {
      "cell_type": "code",
      "metadata": {
        "id": "NK9rnYUQ0NVm",
        "outputId": "ac6450ce-b64b-4a8b-8268-ea0e6414bfd8",
        "colab": {
          "base_uri": "https://localhost:8080/",
          "height": 268
        }
      },
      "source": [
        "%matplotlib inline\n",
        "import matplotlib.pyplot as plt\n",
        "import seaborn; seaborn.set()\n",
        "plt.scatter(x[:, 0], x[:, 1], s=100);"
      ],
      "execution_count": 13,
      "outputs": [
        {
          "output_type": "display_data",
          "data": {
            "image/png": "[encoded data removed]",
            "text/plain": [
              "<Figure size 432x288 with 1 Axes>"
            ]
          },
          "metadata": {
            "tags": []
          }
        }
      ]
    },
    {
      "cell_type": "code",
      "metadata": {
        "id": "8Lhdwdvr0qrV",
        "outputId": "4b0c67b7-8794-416e-b375-912af9d7c797",
        "colab": {
          "base_uri": "https://localhost:8080/",
          "height": 35
        }
      },
      "source": [
        "#distance between pairs\n",
        "difference = x[:, np.newaxis, :] - x[np.newaxis, :, :]\n",
        "difference.shape"
      ],
      "execution_count": 15,
      "outputs": [
        {
          "output_type": "execute_result",
          "data": {
            "text/plain": [
              "(10, 10, 2)"
            ]
          },
          "metadata": {
            "tags": []
          },
          "execution_count": 15
        }
      ]
    },
    {
      "cell_type": "code",
      "metadata": {
        "id": "PVe5DcVv26OW",
        "outputId": "ad8f12d8-4f37-4fce-e8e2-7d8480447ffd",
        "colab": {
          "base_uri": "https://localhost:8080/",
          "height": 35
        }
      },
      "source": [
        "# square the coordinate differences\n",
        "sq_difference = difference ** 2\n",
        "sq_difference.shape"
      ],
      "execution_count": 16,
      "outputs": [
        {
          "output_type": "execute_result",
          "data": {
            "text/plain": [
              "(10, 10, 2)"
            ]
          },
          "metadata": {
            "tags": []
          },
          "execution_count": 16
        }
      ]
    },
    {
      "cell_type": "code",
      "metadata": {
        "id": "iNOuGfMR3tDF",
        "outputId": "c50222f4-e04a-4c80-9c8b-92e4f8c96b54",
        "colab": {
          "base_uri": "https://localhost:8080/",
          "height": 54
        }
      },
      "source": [
        "sq_difference.diagonal()   #diagonal distance"
      ],
      "execution_count": 17,
      "outputs": [
        {
          "output_type": "execute_result",
          "data": {
            "text/plain": [
              "array([[0., 0., 0., 0., 0., 0., 0., 0., 0., 0.],\n",
              "       [0., 0., 0., 0., 0., 0., 0., 0., 0., 0.]])"
            ]
          },
          "metadata": {
            "tags": []
          },
          "execution_count": 17
        }
      ]
    },
    {
      "cell_type": "code",
      "metadata": {
        "id": "B95qJv434G9t",
        "outputId": "187f4146-b675-4bfb-d30a-d09888a880f0",
        "colab": {
          "base_uri": "https://localhost:8080/",
          "height": 1000
        }
      },
      "source": [
        "nearest = np.argsort(sq_difference, axis=1)\n",
        "print(nearest)"
      ],
      "execution_count": 22,
      "outputs": [
        {
          "output_type": "stream",
          "text": [
            "[[[0 0]\n",
            "  [2 9]\n",
            "  [3 7]\n",
            "  [9 3]\n",
            "  [7 4]\n",
            "  [1 1]\n",
            "  [4 5]\n",
            "  [6 8]\n",
            "  [8 6]\n",
            "  [5 2]]\n",
            "\n",
            " [[1 1]\n",
            "  [7 4]\n",
            "  [4 5]\n",
            "  [9 8]\n",
            "  [3 6]\n",
            "  [6 3]\n",
            "  [8 0]\n",
            "  [5 9]\n",
            "  [2 7]\n",
            "  [0 2]]\n",
            "\n",
            " [[2 2]\n",
            "  [0 6]\n",
            "  [3 8]\n",
            "  [9 5]\n",
            "  [7 1]\n",
            "  [1 4]\n",
            "  [4 3]\n",
            "  [6 0]\n",
            "  [8 9]\n",
            "  [5 7]]\n",
            "\n",
            " [[3 3]\n",
            "  [9 0]\n",
            "  [2 9]\n",
            "  [7 7]\n",
            "  [0 4]\n",
            "  [1 1]\n",
            "  [4 5]\n",
            "  [6 8]\n",
            "  [8 6]\n",
            "  [5 2]]\n",
            "\n",
            " [[4 4]\n",
            "  [1 1]\n",
            "  [7 5]\n",
            "  [9 8]\n",
            "  [6 3]\n",
            "  [8 6]\n",
            "  [5 0]\n",
            "  [3 9]\n",
            "  [2 7]\n",
            "  [0 2]]\n",
            "\n",
            " [[5 5]\n",
            "  [8 1]\n",
            "  [6 4]\n",
            "  [4 8]\n",
            "  [1 6]\n",
            "  [7 3]\n",
            "  [9 0]\n",
            "  [3 9]\n",
            "  [2 7]\n",
            "  [0 2]]\n",
            "\n",
            " [[6 6]\n",
            "  [8 8]\n",
            "  [5 5]\n",
            "  [4 1]\n",
            "  [1 2]\n",
            "  [7 4]\n",
            "  [9 3]\n",
            "  [3 0]\n",
            "  [2 9]\n",
            "  [0 7]]\n",
            "\n",
            " [[7 7]\n",
            "  [9 9]\n",
            "  [1 0]\n",
            "  [4 3]\n",
            "  [3 4]\n",
            "  [2 1]\n",
            "  [6 5]\n",
            "  [0 8]\n",
            "  [8 6]\n",
            "  [5 2]]\n",
            "\n",
            " [[8 8]\n",
            "  [5 5]\n",
            "  [6 6]\n",
            "  [4 1]\n",
            "  [1 4]\n",
            "  [7 2]\n",
            "  [9 3]\n",
            "  [3 0]\n",
            "  [2 9]\n",
            "  [0 7]]\n",
            "\n",
            " [[9 9]\n",
            "  [7 7]\n",
            "  [1 0]\n",
            "  [3 3]\n",
            "  [4 4]\n",
            "  [2 1]\n",
            "  [0 5]\n",
            "  [6 8]\n",
            "  [8 6]\n",
            "  [5 2]]]\n"
          ],
          "name": "stdout"
        }
      ]
    },
    {
      "cell_type": "code",
      "metadata": {
        "id": "YnPzbLs64hNh"
      },
      "source": [
        "k = 2\n",
        "nearest_partition = np.argpartition(sq_difference, k + 1, axis=1)"
      ],
      "execution_count": 24,
      "outputs": []
    },
    {
      "cell_type": "code",
      "metadata": {
        "id": "Jem0-44A5ks2",
        "outputId": "36e56d13-4e1d-43da-e672-5e8b752c38c4",
        "colab": {
          "base_uri": "https://localhost:8080/",
          "height": 268
        }
      },
      "source": [
        "plt.scatter(x[:, 0], x[:, 0], s = 100);"
      ],
      "execution_count": 27,
      "outputs": [
        {
          "output_type": "display_data",
          "data": {
            "image/png": "[encoded data removed]",
            "text/plain": [
              "<Figure size 432x288 with 1 Axes>"
            ]
          },
          "metadata": {
            "tags": []
          }
        }
      ]
    },
    {
      "cell_type": "code",
      "metadata": {
        "id": "Q2qnbOQ76qk-"
      },
      "source": [
        "import numpy as np\n",
        "name = [ 'monika', 'Lily', 'Mike', 'Sourtie']\n",
        "age = [24, 19, 87, 35,]\n",
        "weight = [45, 78.5, 129, 65.3]"
      ],
      "execution_count": 23,
      "outputs": []
    },
    {
      "cell_type": "code",
      "metadata": {
        "id": "AgtOKisvc2_h",
        "outputId": "c1181044-b5c1-4724-907d-1029679c6b2c",
        "colab": {
          "base_uri": "https://localhost:8080/",
          "height": 35
        }
      },
      "source": [
        "data = np.zeros(4,dtype = {'names':('name' , 'age', 'weight'),\n",
        "                           'formats' : ('U10', 'i4','f8')})\n",
        "print(data.dtype)"
      ],
      "execution_count": 24,
      "outputs": [
        {
          "output_type": "stream",
          "text": [
            "[('name', '<U10'), ('age', '<i4'), ('weight', '<f8')]\n"
          ],
          "name": "stdout"
        }
      ]
    },
    {
      "cell_type": "code",
      "metadata": {
        "id": "7FAc715vigMy",
        "outputId": "e1df4dbf-6e92-4c55-b779-0a751f7287c7",
        "colab": {
          "base_uri": "https://localhost:8080/",
          "height": 54
        }
      },
      "source": [
        "data['name'] = name\n",
        "data['age'] = age\n",
        "data['weight'] = weight\n",
        "print(data)"
      ],
      "execution_count": 26,
      "outputs": [
        {
          "output_type": "stream",
          "text": [
            "[('monika', 24,  45. ) ('Lily', 19,  78.5) ('Mike', 87, 129. )\n",
            " ('Sourtie', 35,  65.3)]\n"
          ],
          "name": "stdout"
        }
      ]
    },
    {
      "cell_type": "code",
      "metadata": {
        "id": "5HQ-1WHXjWFP",
        "outputId": "b16ecb89-50d5-44e7-bf78-e60b95752cb3",
        "colab": {
          "base_uri": "https://localhost:8080/",
          "height": 35
        }
      },
      "source": [
        "data['name']"
      ],
      "execution_count": 28,
      "outputs": [
        {
          "output_type": "execute_result",
          "data": {
            "text/plain": [
              "array(['monika', 'Lily', 'Mike', 'Sourtie'], dtype='<U10')"
            ]
          },
          "metadata": {
            "tags": []
          },
          "execution_count": 28
        }
      ]
    },
    {
      "cell_type": "code",
      "metadata": {
        "id": "ihS5naS1lhfB",
        "outputId": "50d661f7-840a-4f58-cb3a-acd1ddce092d",
        "colab": {
          "base_uri": "https://localhost:8080/",
          "height": 35
        }
      },
      "source": [
        "data[0]"
      ],
      "execution_count": 29,
      "outputs": [
        {
          "output_type": "execute_result",
          "data": {
            "text/plain": [
              "('monika', 24, 45.)"
            ]
          },
          "metadata": {
            "tags": []
          },
          "execution_count": 29
        }
      ]
    },
    {
      "cell_type": "code",
      "metadata": {
        "id": "hXnjL45Nlnn3",
        "outputId": "284f02e7-63af-412d-e97a-8bddda6652f1",
        "colab": {
          "base_uri": "https://localhost:8080/",
          "height": 35
        }
      },
      "source": [
        "#filtering on age\n",
        "data[data['age']<50]['name']"
      ],
      "execution_count": 30,
      "outputs": [
        {
          "output_type": "execute_result",
          "data": {
            "text/plain": [
              "array(['monika', 'Lily', 'Sourtie'], dtype='<U10')"
            ]
          },
          "metadata": {
            "tags": []
          },
          "execution_count": 30
        }
      ]
    },
    {
      "cell_type": "code",
      "metadata": {
        "id": "iDQ_D4jtmQ_A",
        "outputId": "fab521a2-84e7-41b4-ab15-bd1f8ba52277",
        "colab": {
          "base_uri": "https://localhost:8080/",
          "height": 90
        }
      },
      "source": [
        "import numpy as np\n",
        "zeross = np.dtype([('id', 'i8'), ('mat', 'f8', (3, 3))])\n",
        "x = np.zeros(1, dtype= zeross)\n",
        "print(x[0])\n",
        "print(x['mat'][0])"
      ],
      "execution_count": 41,
      "outputs": [
        {
          "output_type": "stream",
          "text": [
            "(0, [[0., 0., 0.], [0., 0., 0.], [0., 0., 0.]])\n",
            "[[0. 0. 0.]\n",
            " [0. 0. 0.]\n",
            " [0. 0. 0.]]\n"
          ],
          "name": "stdout"
        }
      ]
    },
    {
      "cell_type": "code",
      "metadata": {
        "id": "wBVwRBMJpMNZ",
        "outputId": "16daae04-a9ad-4ab6-b6d3-ba248441264b",
        "colab": {
          "base_uri": "https://localhost:8080/",
          "height": 35
        }
      },
      "source": [
        "data['age']"
      ],
      "execution_count": 42,
      "outputs": [
        {
          "output_type": "execute_result",
          "data": {
            "text/plain": [
              "array([24, 19, 87, 35], dtype=int32)"
            ]
          },
          "metadata": {
            "tags": []
          },
          "execution_count": 42
        }
      ]
    },
    {
      "cell_type": "code",
      "metadata": {
        "id": "hilJAoM7rGA6",
        "outputId": "e6c4e271-4f3e-4c47-ef85-5ec23676e103",
        "colab": {
          "base_uri": "https://localhost:8080/",
          "height": 35
        }
      },
      "source": [
        "data_rec = data.view(np.recarray)\n",
        "data_rec.age"
      ],
      "execution_count": 43,
      "outputs": [
        {
          "output_type": "execute_result",
          "data": {
            "text/plain": [
              "array([24, 19, 87, 35], dtype=int32)"
            ]
          },
          "metadata": {
            "tags": []
          },
          "execution_count": 43
        }
      ]
    },
    {
      "cell_type": "code",
      "metadata": {
        "id": "biaNVEXWrYeY",
        "outputId": "c01aa682-81f0-4e1f-a23b-94839014e5b8",
        "colab": {
          "base_uri": "https://localhost:8080/",
          "height": 126
        }
      },
      "source": [
        "%timeit data['age']\n",
        "%timeit data_rec['age']\n",
        "%timeit data_rec.age"
      ],
      "execution_count": 44,
      "outputs": [
        {
          "output_type": "stream",
          "text": [
            "The slowest run took 85.40 times longer than the fastest. This could mean that an intermediate result is being cached.\n",
            "10000000 loops, best of 3: 125 ns per loop\n",
            "The slowest run took 12.45 times longer than the fastest. This could mean that an intermediate result is being cached.\n",
            "100000 loops, best of 3: 2.52 µs per loop\n",
            "The slowest run took 7.15 times longer than the fastest. This could mean that an intermediate result is being cached.\n",
            "100000 loops, best of 3: 3.35 µs per loop\n"
          ],
          "name": "stdout"
        }
      ]
    },
    {
      "cell_type": "code",
      "metadata": {
        "id": "EPIfkC7mrxvI"
      },
      "source": [
        ""
      ],
      "execution_count": null,
      "outputs": []
    }
  ]
}